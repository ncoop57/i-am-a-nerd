{
  "nbformat": 4,
  "nbformat_minor": 0,
  "metadata": {
    "colab": {
      "name": "How to Create an Automatic Code Comment Generator using Deep Learning.ipynb",
      "provenance": [],
      "collapsed_sections": [],
      "toc_visible": true,
      "machine_shape": "hm"
    },
    "kernelspec": {
      "name": "python3",
      "display_name": "Python 3"
    },
    "accelerator": "GPU"
  },
  "cells": [
    {
      "cell_type": "markdown",
      "metadata": {
        "id": "BP-nRxOCnfZz",
        "colab_type": "text"
      },
      "source": [
        "# How to Create an Automatic Code Comment Generator using Deep Learning!\n",
        "> A tutorial for automatically generate code comments using Deep Learning.\n",
        "\n",
        "- toc: true \n",
        "- badges: true\n",
        "- comments: true\n",
        "- categories: [deep_learning, software_engineering]\n",
        "- image: images/comment_gen_preview.png"
      ]
    },
    {
      "cell_type": "markdown",
      "metadata": {
        "id": "TXumG5Ymn1u1",
        "colab_type": "text"
      },
      "source": [
        "# About"
      ]
    },
    {
      "cell_type": "markdown",
      "metadata": {
        "id": "vDlYPJ0s6gKZ",
        "colab_type": "text"
      },
      "source": [
        "In this post, you will be create a Deep Learning model that given a piece of code, will automatically generate a comment describing (hopefully 🤞) what the piece of code does. This post will focus on Java code, however, the same approach should be able to be applied to other programming languages such as Python or Javascript."
      ]
    },
    {
      "cell_type": "code",
      "metadata": {
        "id": "PIbOjaSlU4HE",
        "colab_type": "code",
        "outputId": "a8b28127-2916-45b9-b3a5-35023152f87e",
        "colab": {
          "base_uri": "https://localhost:8080/",
          "height": 1000
        }
      },
      "source": [
        "#hide\n",
        "# Dependencies\n",
        "! pip install fastai nbdev sentencepiece"
      ],
      "execution_count": 0,
      "outputs": [
        {
          "output_type": "stream",
          "text": [
            "Requirement already satisfied: fastai in /usr/local/lib/python3.6/dist-packages (1.0.60)\n",
            "Collecting nbdev\n",
            "\u001b[?25l  Downloading https://files.pythonhosted.org/packages/34/a5/00807d046fe451bc5c2756fea055f3c24ab02b7c52912ee44a52da320a7d/nbdev-0.2.13-py3-none-any.whl (44kB)\n",
            "\u001b[K     |████████████████████████████████| 51kB 1.7MB/s \n",
            "\u001b[?25hCollecting sentencepiece\n",
            "\u001b[?25l  Downloading https://files.pythonhosted.org/packages/74/f4/2d5214cbf13d06e7cb2c20d84115ca25b53ea76fa1f0ade0e3c9749de214/sentencepiece-0.1.85-cp36-cp36m-manylinux1_x86_64.whl (1.0MB)\n",
            "\u001b[K     |████████████████████████████████| 1.0MB 8.0MB/s \n",
            "\u001b[?25hRequirement already satisfied: packaging in /usr/local/lib/python3.6/dist-packages (from fastai) (20.1)\n",
            "Requirement already satisfied: fastprogress>=0.2.1 in /usr/local/lib/python3.6/dist-packages (from fastai) (0.2.2)\n",
            "Requirement already satisfied: scipy in /usr/local/lib/python3.6/dist-packages (from fastai) (1.4.1)\n",
            "Requirement already satisfied: pyyaml in /usr/local/lib/python3.6/dist-packages (from fastai) (3.13)\n",
            "Requirement already satisfied: torchvision in /usr/local/lib/python3.6/dist-packages (from fastai) (0.5.0)\n",
            "Requirement already satisfied: numexpr in /usr/local/lib/python3.6/dist-packages (from fastai) (2.7.1)\n",
            "Requirement already satisfied: beautifulsoup4 in /usr/local/lib/python3.6/dist-packages (from fastai) (4.6.3)\n",
            "Requirement already satisfied: nvidia-ml-py3 in /usr/local/lib/python3.6/dist-packages (from fastai) (7.352.0)\n",
            "Requirement already satisfied: spacy>=2.0.18 in /usr/local/lib/python3.6/dist-packages (from fastai) (2.1.9)\n",
            "Requirement already satisfied: Pillow in /usr/local/lib/python3.6/dist-packages (from fastai) (6.2.2)\n",
            "Requirement already satisfied: torch>=1.0.0 in /usr/local/lib/python3.6/dist-packages (from fastai) (1.4.0)\n",
            "Requirement already satisfied: dataclasses; python_version < \"3.7\" in /usr/local/lib/python3.6/dist-packages (from fastai) (0.7)\n",
            "Requirement already satisfied: numpy>=1.15 in /usr/local/lib/python3.6/dist-packages (from fastai) (1.17.5)\n",
            "Requirement already satisfied: requests in /usr/local/lib/python3.6/dist-packages (from fastai) (2.21.0)\n",
            "Requirement already satisfied: pandas in /usr/local/lib/python3.6/dist-packages (from fastai) (0.25.3)\n",
            "Requirement already satisfied: bottleneck in /usr/local/lib/python3.6/dist-packages (from fastai) (1.3.1)\n",
            "Requirement already satisfied: matplotlib in /usr/local/lib/python3.6/dist-packages (from fastai) (3.1.3)\n",
            "Requirement already satisfied: nbformat>=4.4.0 in /usr/local/lib/python3.6/dist-packages (from nbdev) (5.0.4)\n",
            "Collecting fastscript\n",
            "  Downloading https://files.pythonhosted.org/packages/55/0e/ecdc0213646bc82986884121109a38b50bbc2cd2c491bbbfdc7ae39228e3/fastscript-0.1.4-py3-none-any.whl\n",
            "Requirement already satisfied: nbconvert>=5.6.1 in /usr/local/lib/python3.6/dist-packages (from nbdev) (5.6.1)\n",
            "Requirement already satisfied: six in /usr/local/lib/python3.6/dist-packages (from packaging->fastai) (1.12.0)\n",
            "Requirement already satisfied: pyparsing>=2.0.2 in /usr/local/lib/python3.6/dist-packages (from packaging->fastai) (2.4.6)\n",
            "Requirement already satisfied: blis<0.3.0,>=0.2.2 in /usr/local/lib/python3.6/dist-packages (from spacy>=2.0.18->fastai) (0.2.4)\n",
            "Requirement already satisfied: cymem<2.1.0,>=2.0.2 in /usr/local/lib/python3.6/dist-packages (from spacy>=2.0.18->fastai) (2.0.3)\n",
            "Requirement already satisfied: wasabi<1.1.0,>=0.2.0 in /usr/local/lib/python3.6/dist-packages (from spacy>=2.0.18->fastai) (0.6.0)\n",
            "Requirement already satisfied: preshed<2.1.0,>=2.0.1 in /usr/local/lib/python3.6/dist-packages (from spacy>=2.0.18->fastai) (2.0.1)\n",
            "Requirement already satisfied: plac<1.0.0,>=0.9.6 in /usr/local/lib/python3.6/dist-packages (from spacy>=2.0.18->fastai) (0.9.6)\n",
            "Requirement already satisfied: murmurhash<1.1.0,>=0.28.0 in /usr/local/lib/python3.6/dist-packages (from spacy>=2.0.18->fastai) (1.0.2)\n",
            "Requirement already satisfied: srsly<1.1.0,>=0.0.6 in /usr/local/lib/python3.6/dist-packages (from spacy>=2.0.18->fastai) (1.0.1)\n",
            "Requirement already satisfied: thinc<7.1.0,>=7.0.8 in /usr/local/lib/python3.6/dist-packages (from spacy>=2.0.18->fastai) (7.0.8)\n",
            "Requirement already satisfied: idna<2.9,>=2.5 in /usr/local/lib/python3.6/dist-packages (from requests->fastai) (2.8)\n",
            "Requirement already satisfied: chardet<3.1.0,>=3.0.2 in /usr/local/lib/python3.6/dist-packages (from requests->fastai) (3.0.4)\n",
            "Requirement already satisfied: certifi>=2017.4.17 in /usr/local/lib/python3.6/dist-packages (from requests->fastai) (2019.11.28)\n",
            "Requirement already satisfied: urllib3<1.25,>=1.21.1 in /usr/local/lib/python3.6/dist-packages (from requests->fastai) (1.24.3)\n",
            "Requirement already satisfied: pytz>=2017.2 in /usr/local/lib/python3.6/dist-packages (from pandas->fastai) (2018.9)\n",
            "Requirement already satisfied: python-dateutil>=2.6.1 in /usr/local/lib/python3.6/dist-packages (from pandas->fastai) (2.6.1)\n",
            "Requirement already satisfied: kiwisolver>=1.0.1 in /usr/local/lib/python3.6/dist-packages (from matplotlib->fastai) (1.1.0)\n",
            "Requirement already satisfied: cycler>=0.10 in /usr/local/lib/python3.6/dist-packages (from matplotlib->fastai) (0.10.0)\n",
            "Requirement already satisfied: jsonschema!=2.5.0,>=2.4 in /usr/local/lib/python3.6/dist-packages (from nbformat>=4.4.0->nbdev) (2.6.0)\n",
            "Requirement already satisfied: ipython-genutils in /usr/local/lib/python3.6/dist-packages (from nbformat>=4.4.0->nbdev) (0.2.0)\n",
            "Requirement already satisfied: traitlets>=4.1 in /usr/local/lib/python3.6/dist-packages (from nbformat>=4.4.0->nbdev) (4.3.3)\n",
            "Requirement already satisfied: jupyter-core in /usr/local/lib/python3.6/dist-packages (from nbformat>=4.4.0->nbdev) (4.6.2)\n",
            "Requirement already satisfied: bleach in /usr/local/lib/python3.6/dist-packages (from nbconvert>=5.6.1->nbdev) (3.1.0)\n",
            "Requirement already satisfied: defusedxml in /usr/local/lib/python3.6/dist-packages (from nbconvert>=5.6.1->nbdev) (0.6.0)\n",
            "Requirement already satisfied: pandocfilters>=1.4.1 in /usr/local/lib/python3.6/dist-packages (from nbconvert>=5.6.1->nbdev) (1.4.2)\n",
            "Requirement already satisfied: entrypoints>=0.2.2 in /usr/local/lib/python3.6/dist-packages (from nbconvert>=5.6.1->nbdev) (0.3)\n",
            "Requirement already satisfied: jinja2>=2.4 in /usr/local/lib/python3.6/dist-packages (from nbconvert>=5.6.1->nbdev) (2.11.1)\n",
            "Requirement already satisfied: pygments in /usr/local/lib/python3.6/dist-packages (from nbconvert>=5.6.1->nbdev) (2.1.3)\n",
            "Requirement already satisfied: testpath in /usr/local/lib/python3.6/dist-packages (from nbconvert>=5.6.1->nbdev) (0.4.4)\n",
            "Requirement already satisfied: mistune<2,>=0.8.1 in /usr/local/lib/python3.6/dist-packages (from nbconvert>=5.6.1->nbdev) (0.8.4)\n",
            "Requirement already satisfied: tqdm<5.0.0,>=4.10.0 in /usr/local/lib/python3.6/dist-packages (from thinc<7.1.0,>=7.0.8->spacy>=2.0.18->fastai) (4.28.1)\n",
            "Requirement already satisfied: setuptools in /usr/local/lib/python3.6/dist-packages (from kiwisolver>=1.0.1->matplotlib->fastai) (45.2.0)\n",
            "Requirement already satisfied: decorator in /usr/local/lib/python3.6/dist-packages (from traitlets>=4.1->nbformat>=4.4.0->nbdev) (4.4.1)\n",
            "Requirement already satisfied: webencodings in /usr/local/lib/python3.6/dist-packages (from bleach->nbconvert>=5.6.1->nbdev) (0.5.1)\n",
            "Requirement already satisfied: MarkupSafe>=0.23 in /usr/local/lib/python3.6/dist-packages (from jinja2>=2.4->nbconvert>=5.6.1->nbdev) (1.1.1)\n",
            "Installing collected packages: fastscript, nbdev, sentencepiece\n",
            "Successfully installed fastscript-0.1.4 nbdev-0.2.13 sentencepiece-0.1.85\n"
          ],
          "name": "stdout"
        }
      ]
    },
    {
      "cell_type": "code",
      "metadata": {
        "id": "QQS5KyqY6mif",
        "colab_type": "code",
        "colab": {}
      },
      "source": [
        "#hide\n",
        "# imports\n",
        "import re\n",
        "\n",
        "import sentencepiece as sp\n",
        "\n",
        "from fastai.text import *\n",
        "\n",
        "import warnings\n",
        "\n",
        "#no UserWarning display\n",
        "warnings.simplefilter(\"ignore\", UserWarning)"
      ],
      "execution_count": 0,
      "outputs": []
    },
    {
      "cell_type": "markdown",
      "metadata": {
        "id": "hUoqWrNO6rsU",
        "colab_type": "text"
      },
      "source": [
        "# Collecting, preparing and exploring the data\n",
        "\n",
        "You will be using the [CodeSearchNet Challenge](https://github.blog/2019-09-26-introducing-the-codesearchnet-challenge/) dataset from GitHub as it provides a large collection of clean code in multiple different languages. They have a really nice [example](https://github.com/github/CodeSearchNet/blob/master/notebooks/ExploreData.ipynb) on how to download and read in the data in their repo that you'll use to get started."
      ]
    },
    {
      "cell_type": "code",
      "metadata": {
        "id": "fY8EOz-_K5rT",
        "colab_type": "code",
        "outputId": "6d0c5d73-1967-423f-da5f-66d2c49201f2",
        "colab": {
          "base_uri": "https://localhost:8080/",
          "height": 663
        }
      },
      "source": [
        "! wget https://s3.amazonaws.com/code-search-net/CodeSearchNet/v2/java.zip\n",
        "! unzip java.zip"
      ],
      "execution_count": 0,
      "outputs": [
        {
          "output_type": "stream",
          "text": [
            "--2020-03-07 16:37:37--  https://s3.amazonaws.com/code-search-net/CodeSearchNet/v2/java.zip\n",
            "Resolving s3.amazonaws.com (s3.amazonaws.com)... 52.216.179.149\n",
            "Connecting to s3.amazonaws.com (s3.amazonaws.com)|52.216.179.149|:443... connected.\n",
            "HTTP request sent, awaiting response... 200 OK\n",
            "Length: 1060569153 (1011M) [application/zip]\n",
            "Saving to: ‘java.zip’\n",
            "\n",
            "java.zip            100%[===================>]   1011M  88.0MB/s    in 12s     \n",
            "\n",
            "2020-03-07 16:37:49 (84.9 MB/s) - ‘java.zip’ saved [1060569153/1060569153]\n",
            "\n",
            "Archive:  java.zip\n",
            "   creating: java/\n",
            "   creating: java/final/\n",
            "   creating: java/final/jsonl/\n",
            "   creating: java/final/jsonl/train/\n",
            "  inflating: java/final/jsonl/train/java_train_12.jsonl.gz  \n",
            "  inflating: java/final/jsonl/train/java_train_9.jsonl.gz  \n",
            "  inflating: java/final/jsonl/train/java_train_3.jsonl.gz  \n",
            "  inflating: java/final/jsonl/train/java_train_5.jsonl.gz  \n",
            "  inflating: java/final/jsonl/train/java_train_7.jsonl.gz  \n",
            "  inflating: java/final/jsonl/train/java_train_1.jsonl.gz  \n",
            "  inflating: java/final/jsonl/train/java_train_10.jsonl.gz  \n",
            "  inflating: java/final/jsonl/train/java_train_14.jsonl.gz  \n",
            "  inflating: java/final/jsonl/train/java_train_0.jsonl.gz  \n",
            "  inflating: java/final/jsonl/train/java_train_6.jsonl.gz  \n",
            "  inflating: java/final/jsonl/train/java_train_8.jsonl.gz  \n",
            "  inflating: java/final/jsonl/train/java_train_15.jsonl.gz  \n",
            "  inflating: java/final/jsonl/train/java_train_2.jsonl.gz  \n",
            "  inflating: java/final/jsonl/train/java_train_4.jsonl.gz  \n",
            "  inflating: java/final/jsonl/train/java_train_13.jsonl.gz  \n",
            "  inflating: java/final/jsonl/train/java_train_11.jsonl.gz  \n",
            "   creating: java/final/jsonl/test/\n",
            "  inflating: java/final/jsonl/test/java_test_0.jsonl.gz  \n",
            "   creating: java/final/jsonl/valid/\n",
            "  inflating: java/final/jsonl/valid/java_valid_0.jsonl.gz  \n",
            "  inflating: java_dedupe_definitions_v2.pkl  \n",
            "  inflating: java_licenses.pkl       \n"
          ],
          "name": "stdout"
        }
      ]
    },
    {
      "cell_type": "markdown",
      "metadata": {
        "id": "Yh5-rUE-7AHK",
        "colab_type": "text"
      },
      "source": [
        "`jsonl_list_to_dataframe` method is directly from the CodeSearchNet Challenge example code and `get_dfs` is just a helper for you to properly grab the data into the correct training, validation, and testing splits. Let's see what your data looks like :D!"
      ]
    },
    {
      "cell_type": "code",
      "metadata": {
        "id": "v_OJH1lmLDD8",
        "colab_type": "code",
        "outputId": "8e806e4b-9939-4d67-83e9-8366a56cf9a5",
        "colab": {
          "base_uri": "https://localhost:8080/",
          "height": 119
        }
      },
      "source": [
        "#hide\n",
        "path = Path('.')\n",
        "path.ls()"
      ],
      "execution_count": 0,
      "outputs": [
        {
          "output_type": "execute_result",
          "data": {
            "text/plain": [
              "[PosixPath('.config'),\n",
              " PosixPath('java.zip'),\n",
              " PosixPath('java_dedupe_definitions_v2.pkl'),\n",
              " PosixPath('java'),\n",
              " PosixPath('java_licenses.pkl'),\n",
              " PosixPath('sample_data')]"
            ]
          },
          "metadata": {
            "tags": []
          },
          "execution_count": 4
        }
      ]
    },
    {
      "cell_type": "code",
      "metadata": {
        "id": "2C4PGnSrL1zO",
        "colab_type": "code",
        "outputId": "ab2b2491-8a37-46bb-82b7-b055cb723140",
        "colab": {
          "base_uri": "https://localhost:8080/",
          "height": 204
        }
      },
      "source": [
        "#collapse_show\n",
        "def jsonl_list_to_dataframe(file_list, columns=None):\n",
        "    \"\"\"Load a list of jsonl.gz files into a pandas DataFrame.\"\"\"\n",
        "    return pd.concat([pd.read_json(f,\n",
        "                                   orient='records', \n",
        "                                   compression='gzip',\n",
        "                                   lines=True)[columns] \n",
        "                      for f in file_list], sort=False)\n",
        "\n",
        "def get_dfs(path):\n",
        "    \"\"\"Grabs the different data splits and converts them into dataframes\"\"\"\n",
        "    dfs = []\n",
        "    for split in [\"train\", \"valid\", \"test\"]:\n",
        "        files = sorted((path/split).glob(\"**/*.gz\"))\n",
        "        df = jsonl_list_to_dataframe(files, [\"code\", \"docstring\"])\n",
        "        dfs.append(df)\n",
        "        \n",
        "    return dfs\n",
        "\n",
        "df_trn, df_val, df_tst = get_dfs(path/\"java/final/jsonl\")\n",
        "df_trn.head()"
      ],
      "execution_count": 0,
      "outputs": [
        {
          "output_type": "execute_result",
          "data": {
            "text/html": [
              "<div>\n",
              "<style scoped>\n",
              "    .dataframe tbody tr th:only-of-type {\n",
              "        vertical-align: middle;\n",
              "    }\n",
              "\n",
              "    .dataframe tbody tr th {\n",
              "        vertical-align: top;\n",
              "    }\n",
              "\n",
              "    .dataframe thead th {\n",
              "        text-align: right;\n",
              "    }\n",
              "</style>\n",
              "<table border=\"1\" class=\"dataframe\">\n",
              "  <thead>\n",
              "    <tr style=\"text-align: right;\">\n",
              "      <th></th>\n",
              "      <th>code</th>\n",
              "      <th>docstring</th>\n",
              "    </tr>\n",
              "  </thead>\n",
              "  <tbody>\n",
              "    <tr>\n",
              "      <th>0</th>\n",
              "      <td>protected final void bindIndexed(Configuration...</td>\n",
              "      <td>Bind indexed elements to the supplied collecti...</td>\n",
              "    </tr>\n",
              "    <tr>\n",
              "      <th>1</th>\n",
              "      <td>public void setServletRegistrationBeans(\\n\\t\\t...</td>\n",
              "      <td>Set {@link ServletRegistrationBean}s that the ...</td>\n",
              "    </tr>\n",
              "    <tr>\n",
              "      <th>2</th>\n",
              "      <td>public void addServletRegistrationBeans(\\n\\t\\t...</td>\n",
              "      <td>Add {@link ServletRegistrationBean}s for the f...</td>\n",
              "    </tr>\n",
              "    <tr>\n",
              "      <th>3</th>\n",
              "      <td>public void setServletNames(Collection&lt;String&gt;...</td>\n",
              "      <td>Set servlet names that the filter will be regi...</td>\n",
              "    </tr>\n",
              "    <tr>\n",
              "      <th>4</th>\n",
              "      <td>public void addServletNames(String... servletN...</td>\n",
              "      <td>Add servlet names for the filter.\\n@param serv...</td>\n",
              "    </tr>\n",
              "  </tbody>\n",
              "</table>\n",
              "</div>"
            ],
            "text/plain": [
              "                                                code                                          docstring\n",
              "0  protected final void bindIndexed(Configuration...  Bind indexed elements to the supplied collecti...\n",
              "1  public void setServletRegistrationBeans(\\n\\t\\t...  Set {@link ServletRegistrationBean}s that the ...\n",
              "2  public void addServletRegistrationBeans(\\n\\t\\t...  Add {@link ServletRegistrationBean}s for the f...\n",
              "3  public void setServletNames(Collection<String>...  Set servlet names that the filter will be regi...\n",
              "4  public void addServletNames(String... servletN...  Add servlet names for the filter.\\n@param serv..."
            ]
          },
          "metadata": {
            "tags": []
          },
          "execution_count": 7
        }
      ]
    },
    {
      "cell_type": "markdown",
      "metadata": {
        "id": "6Qaf5OG0RmxY",
        "colab_type": "text"
      },
      "source": [
        "You are going to only use a small subset of the data in order to train your model in a reasonable time. However, if you want to adjust the amount of data used you can just adjust the sample size."
      ]
    },
    {
      "cell_type": "code",
      "metadata": {
        "id": "zEbfaYTZXHEc",
        "colab_type": "code",
        "colab": {}
      },
      "source": [
        "sample = 0.2\n",
        "df_trn = df_trn.sample(frac = sample)\n",
        "df_val = df_val.sample(frac = sample)\n",
        "df_tst = df_tst.sample(frac = sample)"
      ],
      "execution_count": 0,
      "outputs": []
    },
    {
      "cell_type": "markdown",
      "metadata": {
        "id": "r3sxnOlI7Hg2",
        "colab_type": "text"
      },
      "source": [
        "Awesome! Now that you have the data, there's a few other preprocessing steps you need to perform. First we are going to remove any non-english comments. Next, you will also remove the JavaDocs, i.e., any line with an @ symbol or curly braces, as that will significantlly lessen the amount of learning your model will have to do. This also works out well since the JavaDoc syntax can usually be autogenerated from the method's signature."
      ]
    },
    {
      "cell_type": "code",
      "metadata": {
        "id": "VJQltNwLffP7",
        "colab_type": "code",
        "colab": {}
      },
      "source": [
        "#collapse_show\n",
        "# From https://stackoverflow.com/a/27084708/5768407\n",
        "def isASCII(s):\n",
        "    try:\n",
        "        s.encode(encoding='utf-8').decode('ascii')\n",
        "    except UnicodeDecodeError:\n",
        "        return False\n",
        "    else:\n",
        "        return True\n",
        "\n",
        "df_trn = df_trn[df_trn['docstring'].apply(lambda x: isASCII(x))]\n",
        "df_val = df_val[df_val['docstring'].apply(lambda x: isASCII(x))]\n",
        "df_tst = df_tst[df_tst['docstring'].apply(lambda x: isASCII(x))]"
      ],
      "execution_count": 0,
      "outputs": []
    },
    {
      "cell_type": "code",
      "metadata": {
        "id": "fe1eU1ZAfg7B",
        "colab_type": "code",
        "outputId": "8d68ae9b-0431-4d39-a8f7-b520645354d2",
        "colab": {
          "base_uri": "https://localhost:8080/",
          "height": 77
        }
      },
      "source": [
        "#collapse_show\n",
        "def filter_jdocs(df):\n",
        "    methods = []\n",
        "    comments = []\n",
        "    for i, row in progress_bar(list(df.iterrows())):\n",
        "        comment = row[\"docstring\"]\n",
        "        # Remove {} text in comments from https://stackoverflow.com/questions/14596884/remove-text-between-and-in-python/14598135\n",
        "        comment = re.sub(\"([\\{\\[]).*?([\\)\\}])\", '', comment)\n",
        "        \n",
        "        \n",
        "        cleaned = []\n",
        "        for line in comment.split('\\n'):\n",
        "            if \"@\" in line: break\n",
        "            cleaned.append(line)\n",
        "        comments.append('\\n'.join(cleaned))\n",
        "        methods.append(row[\"code\"])\n",
        "    new_df = pd.DataFrame(zip(methods, comments), columns = [\"code\", \"docstring\"])\n",
        "\n",
        "    return new_df\n",
        "\n",
        "df_trn = filter_jdocs(df_trn);\n",
        "df_val = filter_jdocs(df_val);\n",
        "df_tst = filter_jdocs(df_tst);"
      ],
      "execution_count": 0,
      "outputs": [
        {
          "output_type": "display_data",
          "data": {
            "text/html": [
              "\n",
              "    <div>\n",
              "        <style>\n",
              "            /* Turns off some styling */\n",
              "            progress {\n",
              "                /* gets rid of default border in Firefox and Opera. */\n",
              "                border: none;\n",
              "                /* Needs to be in here for Safari polyfill so background images work as expected. */\n",
              "                background-size: auto;\n",
              "            }\n",
              "            .progress-bar-interrupted, .progress-bar-interrupted::-webkit-progress-bar {\n",
              "                background: #F44336;\n",
              "            }\n",
              "        </style>\n",
              "      <progress value='88221' class='' max='88221', style='width:300px; height:20px; vertical-align: middle;'></progress>\n",
              "      100.00% [88221/88221 00:02<00:00]\n",
              "    </div>\n",
              "    "
            ],
            "text/plain": [
              "<IPython.core.display.HTML object>"
            ]
          },
          "metadata": {
            "tags": []
          }
        },
        {
          "output_type": "display_data",
          "data": {
            "text/html": [
              "\n",
              "    <div>\n",
              "        <style>\n",
              "            /* Turns off some styling */\n",
              "            progress {\n",
              "                /* gets rid of default border in Firefox and Opera. */\n",
              "                border: none;\n",
              "                /* Needs to be in here for Safari polyfill so background images work as expected. */\n",
              "                background-size: auto;\n",
              "            }\n",
              "            .progress-bar-interrupted, .progress-bar-interrupted::-webkit-progress-bar {\n",
              "                background: #F44336;\n",
              "            }\n",
              "        </style>\n",
              "      <progress value='2840' class='' max='2840', style='width:300px; height:20px; vertical-align: middle;'></progress>\n",
              "      100.00% [2840/2840 00:00<00:00]\n",
              "    </div>\n",
              "    "
            ],
            "text/plain": [
              "<IPython.core.display.HTML object>"
            ]
          },
          "metadata": {
            "tags": []
          }
        },
        {
          "output_type": "display_data",
          "data": {
            "text/html": [
              "\n",
              "    <div>\n",
              "        <style>\n",
              "            /* Turns off some styling */\n",
              "            progress {\n",
              "                /* gets rid of default border in Firefox and Opera. */\n",
              "                border: none;\n",
              "                /* Needs to be in here for Safari polyfill so background images work as expected. */\n",
              "                background-size: auto;\n",
              "            }\n",
              "            .progress-bar-interrupted, .progress-bar-interrupted::-webkit-progress-bar {\n",
              "                background: #F44336;\n",
              "            }\n",
              "        </style>\n",
              "      <progress value='5254' class='' max='5254', style='width:300px; height:20px; vertical-align: middle;'></progress>\n",
              "      100.00% [5254/5254 00:00<00:00]\n",
              "    </div>\n",
              "    "
            ],
            "text/plain": [
              "<IPython.core.display.HTML object>"
            ]
          },
          "metadata": {
            "tags": []
          }
        }
      ]
    },
    {
      "cell_type": "markdown",
      "metadata": {
        "id": "qPFZX5XAs1tH",
        "colab_type": "text"
      },
      "source": [
        "Now you are going to remove any empty comments or duplicate comments for your datasets."
      ]
    },
    {
      "cell_type": "code",
      "metadata": {
        "id": "7sPVGcPqg5AA",
        "colab_type": "code",
        "colab": {}
      },
      "source": [
        "df_trn = df_trn[~(df_trn['docstring'] == '')]\n",
        "df_val = df_val[~(df_val['docstring'] == '')]\n",
        "df_tst = df_tst[~(df_tst['docstring'] == '')]"
      ],
      "execution_count": 0,
      "outputs": []
    },
    {
      "cell_type": "code",
      "metadata": {
        "id": "u1la_52mg5ki",
        "colab_type": "code",
        "colab": {}
      },
      "source": [
        "df_trn = df_trn[~df_trn['docstring'].duplicated()]\n",
        "df_val = df_val[~df_val['docstring'].duplicated()]\n",
        "df_tst = df_tst[~df_tst['docstring'].duplicated()]"
      ],
      "execution_count": 0,
      "outputs": []
    },
    {
      "cell_type": "markdown",
      "metadata": {
        "id": "N9BaitfEs8G0",
        "colab_type": "text"
      },
      "source": [
        "Not bad, still leaves you with plenty of data to learn with!"
      ]
    },
    {
      "cell_type": "code",
      "metadata": {
        "id": "whEttI5wbnlx",
        "colab_type": "code",
        "outputId": "2960cc3d-8532-4724-80f6-1d4a76fd4b9e",
        "colab": {
          "base_uri": "https://localhost:8080/",
          "height": 34
        }
      },
      "source": [
        "len(df_trn), len(df_val), len(df_tst)"
      ],
      "execution_count": 0,
      "outputs": [
        {
          "output_type": "execute_result",
          "data": {
            "text/plain": [
              "(73755, 2427, 4615)"
            ]
          },
          "metadata": {
            "tags": []
          },
          "execution_count": 13
        }
      ]
    },
    {
      "cell_type": "markdown",
      "metadata": {
        "id": "Dds1Ucrw9HQo",
        "colab_type": "text"
      },
      "source": [
        "## Exploring your data!\n",
        "As a good machine learning practitioner, it is extremely important to be careful with your data. This includes checking for biases, duplicates, and also describing the data that you have. Not doing so is setting you up for disaster. I have personally experienced such travesty when working on one of my own research projects where I forgot to check for duplicates before splitting my data. Sadly for me and all my restless nights working on the project, the data was full of duplicates and so my test set was contaminated with data points from my training set, which lead to inflated evaluation metrics :(.\n",
        "\n",
        "**Always explore your data!**"
      ]
    },
    {
      "cell_type": "markdown",
      "metadata": {
        "id": "nJc46Yp4-7es",
        "colab_type": "text"
      },
      "source": [
        "You'll be doing some basic descriptive statistics for this Exploratory Data Analysis (EDA), which just means calculating some means, medians, and standard deviations for different views of your data. The first view you will be exploring is the tokens that make up your code and comments. To tokenize your data into these tokens you will use something called Byte Pair Encoding, which has shown great results for tokenizing both natural language and code as shown in Karampatsis and Sutton's paper [\"Maybe Deep Neural Networks are the Best Choice for Modeling Source Code.\"](https://arxiv.org/abs/1903.05734)\n",
        "\n",
        "A great resource on learning more about how Byte Pair Encoding works is this [blog post](https://towardsdatascience.com/byte-pair-encoding-the-dark-horse-of-modern-nlp-eb36c7df4f10) by Akashdeep Singh Jaswal and this [Youtube video](https://youtu.be/9oTHFx0Gg3Q) by Christopher Manning. Specifically, you will be using the awesome library by Google called [sentencepiece](https://github.com/google/sentencepiece)."
      ]
    },
    {
      "cell_type": "code",
      "metadata": {
        "id": "_skpRX--VTy4",
        "colab_type": "code",
        "colab": {}
      },
      "source": [
        "#collapse_show\n",
        "def df_to_txt_file(df, output, col):\n",
        "    \"\"\"Converts a dataframe and converts it into a text file that SentencePiece can use to train a BPE model\"\"\"\n",
        "    with open(output/'text.txt', 'w') as f:\n",
        "        f.write('\\n'.join(list(df[col])))\n",
        "    return output/'text.txt'\n",
        "\n",
        "def gen_sp_model(df, output, tokenizer_name, col):\n",
        "    \"\"\"Trains a SentencePiece BPE model from a pandas dataframe\"\"\"\n",
        "    fname = df_to_txt_file(df, output, col)\n",
        "    sp.SentencePieceTrainer.train(f'--input={fname} --model_prefix={output / tokenizer_name} --hard_vocab_limit=false')"
      ],
      "execution_count": 0,
      "outputs": []
    },
    {
      "cell_type": "markdown",
      "metadata": {
        "id": "1IGym5z04BjU",
        "colab_type": "text"
      },
      "source": [
        "To use Byte Pair Encoding, you have to train the tokenizer on your data. However, no need to train your BPE on all of your data, so you will just be doing it on a subset (10%) of your training data. You are picking to train the BPE model from your training set to not perform any inadvertant data snooping by biasing your BPE model to tokenize more common words in your validation or testing set. This also will help show that you are indeed solving the out of vocabulary problem because you will most likely encounter words in your testing set that were not in your training set."
      ]
    },
    {
      "cell_type": "code",
      "metadata": {
        "id": "Np3-eQnMVSvj",
        "colab_type": "code",
        "colab": {}
      },
      "source": [
        "p_bpe = 0.1\n",
        "method_tokenizer = \"method_bpe\"\n",
        "gen_sp_model(df_trn.sample(frac = p_bpe), path, method_tokenizer, col = \"code\")\n",
        "comment_tokenizer = \"comment_bpe\"\n",
        "gen_sp_model(df_trn.sample(frac = p_bpe), path, comment_tokenizer, col = \"docstring\")"
      ],
      "execution_count": 0,
      "outputs": []
    },
    {
      "cell_type": "code",
      "metadata": {
        "id": "VSCT3OvQAlxL",
        "colab_type": "code",
        "outputId": "8f91f524-a6d5-4290-b78e-bd66e435e46d",
        "colab": {
          "base_uri": "https://localhost:8080/",
          "height": 34
        }
      },
      "source": [
        "#hide\n",
        "method_spm = sp.SentencePieceProcessor()\n",
        "method_spm.Load(str(path / (method_tokenizer + \".model\")))\n",
        "comment_spm = sp.SentencePieceProcessor()\n",
        "comment_spm.Load(str(path / (comment_tokenizer + \".model\")))"
      ],
      "execution_count": 0,
      "outputs": [
        {
          "output_type": "execute_result",
          "data": {
            "text/plain": [
              "True"
            ]
          },
          "metadata": {
            "tags": []
          },
          "execution_count": 16
        }
      ]
    },
    {
      "cell_type": "markdown",
      "metadata": {
        "id": "Xwxepls7t8wh",
        "colab_type": "text"
      },
      "source": [
        "Now that you have the ability to tokenize your text, let us explore! First you will just generate the frequency of each of your tokens and while you are at it, let's collect how long your methods are by via the common software metric Lines of Code (LOC)."
      ]
    },
    {
      "cell_type": "code",
      "metadata": {
        "id": "hK4-mZLC9JLv",
        "colab_type": "code",
        "colab": {}
      },
      "source": [
        "#hide\n",
        "from collections import Counter\n",
        "from statistics import mean, median, stdev"
      ],
      "execution_count": 0,
      "outputs": []
    },
    {
      "cell_type": "code",
      "metadata": {
        "id": "Q4R8NX3__6I-",
        "colab_type": "code",
        "outputId": "795dd0eb-7248-448c-8049-cf0c7395a046",
        "colab": {
          "base_uri": "https://localhost:8080/",
          "height": 97
        }
      },
      "source": [
        "#collapse_show\n",
        "def get_counter_and_lens(df, spm, col):\n",
        "    toks = []\n",
        "    locs = []\n",
        "    for i, row in progress_bar(list(df.iterrows())):\n",
        "        toks.extend(spm.EncodeAsPieces(row[col]))\n",
        "        locs.append(len(row[col].split('\\n')))\n",
        "            \n",
        "    cnt = Counter()\n",
        "    for tok in progress_bar(toks):\n",
        "        cnt[tok] += 1  \n",
        "    return list(map(len, toks)), cnt, locs\n",
        "\n",
        "code_lens, code_cnt, locs = get_counter_and_lens(df_trn, method_spm, 'code')\n",
        "comment_lens, comment_cnt, _ = get_counter_and_lens(df_trn, method_spm, 'docstring')"
      ],
      "execution_count": 0,
      "outputs": [
        {
          "output_type": "display_data",
          "data": {
            "text/html": [
              "\n",
              "    <div>\n",
              "        <style>\n",
              "            /* Turns off some styling */\n",
              "            progress {\n",
              "                /* gets rid of default border in Firefox and Opera. */\n",
              "                border: none;\n",
              "                /* Needs to be in here for Safari polyfill so background images work as expected. */\n",
              "                background-size: auto;\n",
              "            }\n",
              "            .progress-bar-interrupted, .progress-bar-interrupted::-webkit-progress-bar {\n",
              "                background: #F44336;\n",
              "            }\n",
              "        </style>\n",
              "      <progress value='73755' class='' max='73755', style='width:300px; height:20px; vertical-align: middle;'></progress>\n",
              "      100.00% [73755/73755 00:26<00:00]\n",
              "    </div>\n",
              "    "
            ],
            "text/plain": [
              "<IPython.core.display.HTML object>"
            ]
          },
          "metadata": {
            "tags": []
          }
        },
        {
          "output_type": "display_data",
          "data": {
            "text/html": [
              "\n",
              "    <div>\n",
              "        <style>\n",
              "            /* Turns off some styling */\n",
              "            progress {\n",
              "                /* gets rid of default border in Firefox and Opera. */\n",
              "                border: none;\n",
              "                /* Needs to be in here for Safari polyfill so background images work as expected. */\n",
              "                background-size: auto;\n",
              "            }\n",
              "            .progress-bar-interrupted, .progress-bar-interrupted::-webkit-progress-bar {\n",
              "                background: #F44336;\n",
              "            }\n",
              "        </style>\n",
              "      <progress value='12402148' class='' max='12402148', style='width:300px; height:20px; vertical-align: middle;'></progress>\n",
              "      100.00% [12402148/12402148 00:12<00:00]\n",
              "    </div>\n",
              "    "
            ],
            "text/plain": [
              "<IPython.core.display.HTML object>"
            ]
          },
          "metadata": {
            "tags": []
          }
        },
        {
          "output_type": "display_data",
          "data": {
            "text/html": [
              "\n",
              "    <div>\n",
              "        <style>\n",
              "            /* Turns off some styling */\n",
              "            progress {\n",
              "                /* gets rid of default border in Firefox and Opera. */\n",
              "                border: none;\n",
              "                /* Needs to be in here for Safari polyfill so background images work as expected. */\n",
              "                background-size: auto;\n",
              "            }\n",
              "            .progress-bar-interrupted, .progress-bar-interrupted::-webkit-progress-bar {\n",
              "                background: #F44336;\n",
              "            }\n",
              "        </style>\n",
              "      <progress value='73755' class='' max='73755', style='width:300px; height:20px; vertical-align: middle;'></progress>\n",
              "      100.00% [73755/73755 00:07<00:00]\n",
              "    </div>\n",
              "    "
            ],
            "text/plain": [
              "<IPython.core.display.HTML object>"
            ]
          },
          "metadata": {
            "tags": []
          }
        },
        {
          "output_type": "display_data",
          "data": {
            "text/html": [
              "\n",
              "    <div>\n",
              "        <style>\n",
              "            /* Turns off some styling */\n",
              "            progress {\n",
              "                /* gets rid of default border in Firefox and Opera. */\n",
              "                border: none;\n",
              "                /* Needs to be in here for Safari polyfill so background images work as expected. */\n",
              "                background-size: auto;\n",
              "            }\n",
              "            .progress-bar-interrupted, .progress-bar-interrupted::-webkit-progress-bar {\n",
              "                background: #F44336;\n",
              "            }\n",
              "        </style>\n",
              "      <progress value='2530502' class='' max='2530502', style='width:300px; height:20px; vertical-align: middle;'></progress>\n",
              "      100.00% [2530502/2530502 00:02<00:00]\n",
              "    </div>\n",
              "    "
            ],
            "text/plain": [
              "<IPython.core.display.HTML object>"
            ]
          },
          "metadata": {
            "tags": []
          }
        }
      ]
    },
    {
      "cell_type": "code",
      "metadata": {
        "id": "NFVtLdJdAxvE",
        "colab_type": "code",
        "outputId": "50395594-b345-4bdd-a9e3-6512c8004cb8",
        "colab": {
          "base_uri": "https://localhost:8080/",
          "height": 433
        }
      },
      "source": [
        "#collapse_show\n",
        "def plot_counts(counts, top_k = 30):\n",
        "    labels, values = zip(*counts.most_common()[:top_k])\n",
        "\n",
        "    indexes = np.arange(len(labels))\n",
        "    width = 1\n",
        "    plt.figure(num=None, figsize=(22, 4), dpi=60, facecolor='w', edgecolor='k')\n",
        "    plt.bar(indexes, values, width)\n",
        "    plt.xticks(indexes + width * 0.5, labels)\n",
        "    plt.show()\n",
        "\n",
        "plot_counts(code_cnt, top_k = 30)\n",
        "plot_counts(comment_cnt, top_k = 30)"
      ],
      "execution_count": 0,
      "outputs": [
        {
          "output_type": "display_data",
          "data": {
            "image/png": "[encoded data removed]",
            "text/plain": [
              "<Figure size 1320x240 with 1 Axes>"
            ]
          },
          "metadata": {
            "tags": []
          }
        },
        {
          "output_type": "display_data",
          "data": {
            "image/png": "[encoded data removed]",
            "text/plain": [
              "<Figure size 1320x240 with 1 Axes>"
            ]
          },
          "metadata": {
            "tags": []
          }
        }
      ]
    },
    {
      "cell_type": "markdown",
      "metadata": {
        "id": "an5Q1dNIuU6q",
        "colab_type": "text"
      },
      "source": [
        "Plotting your frequencies as a bar chart you start to see a nice picture of your data. Not that suprising, but the most common token happens to be the period and some other common syntactical tokens like curly braces and also key words like *if* and *return*."
      ]
    },
    {
      "cell_type": "code",
      "metadata": {
        "id": "7N56xK19CYPJ",
        "colab_type": "code",
        "outputId": "fadb9f6f-60ad-4eca-8e83-79f26c83d287",
        "colab": {
          "base_uri": "https://localhost:8080/",
          "height": 812
        }
      },
      "source": [
        "#collapse_show\n",
        "def plot_hist(lens, n_bins = 50):\n",
        "    n, bins, patches = plt.hist(lens, n_bins, facecolor='blue', alpha=0.9)\n",
        "    plt.show()\n",
        "\n",
        "print(mean(code_lens), median(code_lens), stdev(code_lens))\n",
        "plot_hist(code_lens)\n",
        "print(mean(locs), median(locs), stdev(locs))\n",
        "plot_hist(locs)\n",
        "print(mean(comment_lens), median(comment_lens), stdev(comment_lens))\n",
        "plot_hist(comment_lens)"
      ],
      "execution_count": 0,
      "outputs": [
        {
          "output_type": "stream",
          "text": [
            "3.4662519750610943 3.0 2.6490695431339177\n"
          ],
          "name": "stdout"
        },
        {
          "output_type": "display_data",
          "data": {
            "image/png": "[encoded data removed]",
            "text/plain": [
              "<Figure size 432x288 with 1 Axes>"
            ]
          },
          "metadata": {
            "tags": []
          }
        },
        {
          "output_type": "stream",
          "text": [
            "18.54957629991187 10 50.99032748692644\n"
          ],
          "name": "stdout"
        },
        {
          "output_type": "display_data",
          "data": {
            "image/png": "[encoded data removed]",
            "text/plain": [
              "<Figure size 432x288 with 1 Axes>"
            ]
          },
          "metadata": {
            "tags": []
          }
        },
        {
          "output_type": "stream",
          "text": [
            "3.57512896650546 3.0 2.605938655784157\n"
          ],
          "name": "stdout"
        },
        {
          "output_type": "display_data",
          "data": {
            "image/png": "[encoded data removed]",
            "text/plain": [
              "<Figure size 432x288 with 1 Axes>"
            ]
          },
          "metadata": {
            "tags": []
          }
        }
      ]
    },
    {
      "cell_type": "markdown",
      "metadata": {
        "id": "SoxdyJtzB94A",
        "colab_type": "text"
      },
      "source": [
        "As you can see, there are HTML elements left with < and > occurring quite often in your comments dataset that may make it harder for your model to learn to generate the comments that contain those elements. Luckily for us, it won't really affect your models accuracy, but exploring your data like this does allow us to see how your data may be influencing your model.\n",
        "\n",
        "**TODO For You:** Perform some further cleaning steps to remove HTML and any other cleaning you deem necessary and see how your performance changes."
      ]
    },
    {
      "cell_type": "markdown",
      "metadata": {
        "id": "h_E41kXU0Adu",
        "colab_type": "text"
      },
      "source": [
        "## Loading the data using FastAI\n",
        "Now that you have the data processed and cleaned you need a way to get it into the format that FastAI uses. To do that you will use some code from Rachel Thomas' awesome [course on NLP](https://github.com/fastai/course-nlp/blob/master/7-seq2seq-translation.ipynb), which allows us to create a Sequence to Sequence (since you are going from the sequence of code to the sequence of the code's docstring) DataBunch (this is just the format FastAI uses for managing loading the data into memory for training and evaluating)."
      ]
    },
    {
      "cell_type": "code",
      "metadata": {
        "id": "nHK-R9ABP8Mk",
        "colab_type": "code",
        "colab": {}
      },
      "source": [
        "#collapse_show\n",
        "def seq2seq_collate(samples, pad_idx=1, pad_first=True, backwards=False):\n",
        "    \"Function that collect samples and adds padding. Flips token order if needed\"\n",
        "    samples = to_data(samples)\n",
        "    max_len_x,max_len_y = max([len(s[0]) for s in samples]),max([len(s[1]) for s in samples])\n",
        "    res_x = torch.zeros(len(samples), max_len_x).long() + pad_idx\n",
        "    res_y = torch.zeros(len(samples), max_len_y).long() + pad_idx\n",
        "    if backwards: pad_first = not pad_first\n",
        "    for i,s in enumerate(samples):\n",
        "        if pad_first: \n",
        "            res_x[i,-len(s[0]):],res_y[i,-len(s[1]):] = LongTensor(s[0]),LongTensor(s[1])\n",
        "        else:         \n",
        "            res_x[i, :len(s[0])],res_y[i, :len(s[1])] = LongTensor(s[0]),LongTensor(s[1])\n",
        "    if backwards: res_x,res_y = res_x.flip(1),res_y.flip(1)\n",
        "    return res_x, res_y\n",
        "\n",
        "class Seq2SeqDataBunch(TextDataBunch):\n",
        "    \"Create a `TextDataBunch` suitable for training an RNN classifier.\"\n",
        "    @classmethod\n",
        "    def create(cls, train_ds, valid_ds, test_ds=None, path='.', bs=32, val_bs=None, pad_idx=1,\n",
        "               dl_tfms=None, pad_first=False, device=None, no_check=False, backwards=False, **dl_kwargs):\n",
        "        \"Function that transform the `datasets` in a `DataBunch` for classification. Passes `**dl_kwargs` on to `DataLoader()`\"\n",
        "        datasets = cls._init_ds(train_ds, valid_ds, test_ds)\n",
        "        val_bs = ifnone(val_bs, bs)\n",
        "        collate_fn = partial(seq2seq_collate, pad_idx=pad_idx, pad_first=pad_first, backwards=backwards)\n",
        "        train_sampler = SortishSampler(datasets[0].x, key=lambda t: len(datasets[0][t][0].data), bs=bs//2)\n",
        "        train_dl = DataLoader(datasets[0], batch_size=bs, sampler=train_sampler, drop_last=True, **dl_kwargs)\n",
        "        dataloaders = [train_dl]\n",
        "        for ds in datasets[1:]:\n",
        "            lengths = [len(t) for t in ds.x.items]\n",
        "            sampler = SortSampler(ds.x, key=lengths.__getitem__)\n",
        "            dataloaders.append(DataLoader(ds, batch_size=val_bs, sampler=sampler, **dl_kwargs))\n",
        "        return cls(*dataloaders, path=path, device=device, collate_fn=collate_fn, no_check=no_check)\n",
        "\n",
        "class Seq2SeqTextList(TextList):\n",
        "    _bunch = Seq2SeqDataBunch\n",
        "    _label_cls = TextList"
      ],
      "execution_count": 0,
      "outputs": []
    },
    {
      "cell_type": "markdown",
      "metadata": {
        "id": "VVuhlIjq4ghe",
        "colab_type": "text"
      },
      "source": [
        "Here is where you are telling FastAI to use your trained BPE models for tokenizing your data. FastAI's tokenizers will also do some additional processing of your text such as lower casing all words, removing repetitions, etc. You can find a full list of the processing FastAI uses [here](https://docs.fast.ai/text.transform.html#Tokenizer)."
      ]
    },
    {
      "cell_type": "code",
      "metadata": {
        "id": "XnfC0fa8YibA",
        "colab_type": "code",
        "colab": {}
      },
      "source": [
        "method_processor = SPProcessor(\n",
        "    sp_model = path / (method_tokenizer + \".model\"),\n",
        "    sp_vocab = path / (method_tokenizer + \".vocab\"),\n",
        "    include_eos = True)\n",
        "comment_processor = SPProcessor(\n",
        "    sp_model = path / (comment_tokenizer + \".model\"),\n",
        "    sp_vocab = path / (comment_tokenizer + \".vocab\"),\n",
        "    include_eos = True)"
      ],
      "execution_count": 0,
      "outputs": []
    },
    {
      "cell_type": "markdown",
      "metadata": {
        "id": "C7QFCQkN0PL6",
        "colab_type": "text"
      },
      "source": [
        "Now that you have your BPE model you will generate the DataBunches suitable for your task, which will be the Seq2Seq DataBunch. You will also filter out sequences that your too long so that you can fit everything onto a Google Colab GPU and to not have your training take too long."
      ]
    },
    {
      "cell_type": "code",
      "metadata": {
        "id": "PbKA_-EP4530",
        "colab_type": "code",
        "outputId": "1ed2031b-e146-44da-df5f-9acf3f4106f6",
        "colab": {
          "base_uri": "https://localhost:8080/",
          "height": 374
        }
      },
      "source": [
        "#collapse_show\n",
        "def gen_dbs(df_trn, df_val, df_tst, method_processor, comment_processor, bs = 96, max_seq = 128):\n",
        "    is_valid = [False] * len(df_trn) + [True] * len(df_val)\n",
        "    df_merged = pd.concat([df_trn, df_val])\n",
        "    df_merged = pd.DataFrame(zip(df_merged[\"code\"].to_list(), df_merged[\"docstring\"].to_list(), is_valid),\n",
        "                                columns = [\"code\", \"docstring\", \"valid\"]\n",
        "    )\n",
        "                             \n",
        "    db_trn = (Seq2SeqTextList\n",
        "              .from_df(df_merged, path = path, cols='code', processor = method_processor)\n",
        "              .split_from_df(col='valid')\n",
        "              .label_from_df(cols='docstring', label_cls=TextList, processor = comment_processor)\n",
        "              .filter_by_func(lambda x, y: len(x) > max_seq or len(y) > max_seq)\n",
        "              .databunch(bs = bs))\n",
        "    \n",
        "    db_tst = (Seq2SeqTextList\n",
        "              .from_df(df_tst, path = path, cols='code', processor = method_processor)\n",
        "              .split_by_rand_pct(valid_pct = 0.01)\n",
        "              .label_from_df(cols='docstring', label_cls=TextList, processor = comment_processor)\n",
        "              .filter_by_func(lambda x, y: len(x) > max_seq or len(y) > max_seq)\n",
        "              .databunch(bs = 16))\n",
        "    \n",
        "    return db_trn, db_tst\n",
        "\n",
        "db_trn, db_tst = gen_dbs(df_trn, df_val, df_tst, method_processor, comment_processor, bs = 96, max_seq = 128)\n",
        "db_trn.show_batch()"
      ],
      "execution_count": 0,
      "outputs": [
        {
          "output_type": "display_data",
          "data": {
            "text/html": [
              ""
            ],
            "text/plain": [
              "<IPython.core.display.HTML object>"
            ]
          },
          "metadata": {
            "tags": []
          }
        },
        {
          "output_type": "display_data",
          "data": {
            "text/html": [
              ""
            ],
            "text/plain": [
              "<IPython.core.display.HTML object>"
            ]
          },
          "metadata": {
            "tags": []
          }
        },
        {
          "output_type": "display_data",
          "data": {
            "text/html": [
              ""
            ],
            "text/plain": [
              "<IPython.core.display.HTML object>"
            ]
          },
          "metadata": {
            "tags": []
          }
        },
        {
          "output_type": "display_data",
          "data": {
            "text/html": [
              ""
            ],
            "text/plain": [
              "<IPython.core.display.HTML object>"
            ]
          },
          "metadata": {
            "tags": []
          }
        },
        {
          "output_type": "display_data",
          "data": {
            "text/html": [
              ""
            ],
            "text/plain": [
              "<IPython.core.display.HTML object>"
            ]
          },
          "metadata": {
            "tags": []
          }
        },
        {
          "output_type": "display_data",
          "data": {
            "text/html": [
              ""
            ],
            "text/plain": [
              "<IPython.core.display.HTML object>"
            ]
          },
          "metadata": {
            "tags": []
          }
        },
        {
          "output_type": "display_data",
          "data": {
            "text/html": [
              ""
            ],
            "text/plain": [
              "<IPython.core.display.HTML object>"
            ]
          },
          "metadata": {
            "tags": []
          }
        },
        {
          "output_type": "display_data",
          "data": {
            "text/html": [
              ""
            ],
            "text/plain": [
              "<IPython.core.display.HTML object>"
            ]
          },
          "metadata": {
            "tags": []
          }
        },
        {
          "output_type": "display_data",
          "data": {
            "text/html": [
              "<table border=\"1\" class=\"dataframe\">\n",
              "  <thead>\n",
              "    <tr style=\"text-align: right;\">\n",
              "      <th>text</th>\n",
              "      <th>target</th>\n",
              "    </tr>\n",
              "  </thead>\n",
              "  <tbody>\n",
              "    <tr>\n",
              "      <td>▁ xx b os ▁boolean ▁res er ve ( int ▁column , ▁int ▁size ) ▁{ ▁if ▁( ( column ▁&lt; ▁0) ▁|| ▁( ( column ▁+ ▁size ) ▁&gt; ▁columns )) ▁throw ▁new ▁index out of bound s exception (\" res er ve ▁- ▁ inc or rec t ▁column ▁/ ▁size \"); ▁for ( int ▁i = column ; ▁i ▁&lt; ▁column ▁+ ▁size ; ▁i ++) ▁{</td>\n",
              "      <td>▁ xx b os ▁ xx ma j ▁re s er ve s ▁a ▁&lt; code &gt; ce ll &lt; ▁/ ▁ xx up ▁code &gt; ▁in ▁the ▁&lt; code &gt; ro w &lt; ▁/ ▁ xx up ▁code &gt; . ▁ xx e os</td>\n",
              "    </tr>\n",
              "    <tr>\n",
              "      <td>▁ xx b os ▁@ help ( ▁ help ▁= ▁\" get ▁all ▁the ▁ virtual network function descriptor ▁ xx m a j ▁dependency ▁of ▁a ▁network service descriptor ▁with ▁specific ▁id \" ▁) ▁public ▁list &lt; v n f d ep end en cy &gt; ▁get v n f dependencies ( final ▁ xx m a j ▁string ▁id ns d ) ▁throws ▁s d k exception ▁{</td>\n",
              "      <td>▁ xx b os ▁ xx ma j ▁return ▁a ▁ xx ma j ▁list ▁with ▁all ▁the ▁v n f de p end en c ies ▁that ▁are ▁contain ed ▁in ▁a ▁specific ▁network service descriptor . ▁ xx e os</td>\n",
              "    </tr>\n",
              "    <tr>\n",
              "      <td>▁ xx b os ▁@ override ▁public ▁void ▁delete as set and attachment s ( final ▁ xx m a j ▁string ▁as set id ) ▁throws ▁ io exception , ▁request failure exception ▁{ ▁ xx m a j ▁as set ▁as s ▁= ▁get un v er ified as set ( as set id ); ▁list &lt; attachment &gt; ▁attachment s ▁= ▁as s . get attachment s</td>\n",
              "      <td>▁ xx b os ▁ xx ma j ▁this ▁will ▁delete ▁an ▁asset ▁and ▁all ▁its ▁attachments ▁ xx e os</td>\n",
              "    </tr>\n",
              "    <tr>\n",
              "      <td>▁ xx b os ▁public ▁list &lt; character book mark fold er s response &gt; ▁get character s character id book mark s fold er s ( integer ▁character id , ▁ xx m a j ▁string ▁data source , ▁ xx m a j ▁string ▁if n one match , ▁ xx m a j ▁ integer ▁page , ▁ xx m a j ▁string ▁token ) ▁throws ▁api</td>\n",
              "      <td>▁ xx b os ▁ xx ma j ▁list ▁ bookmark ▁folders ▁a ▁list ▁of ▁your ▁character &amp; ' s ▁personal ▁ bookmark ▁folders ▁--- ▁ xx ma j ▁this ▁route ▁is ▁cached ▁for ▁up ▁to ▁36 00 ▁seconds ▁ xx up ▁ s so ▁ xx ma j ▁scope : ▁ esi - bookmark s . read _ character _ bookmark s . v 1 ▁ xx e os</td>\n",
              "    </tr>\n",
              "    <tr>\n",
              "      <td>▁ xx b os ▁@ de pre c ated ▁protected ▁final ▁map &lt; db id , ▁k n n list &gt; ▁batch n n ( n ▁node , ▁db id s ▁ids , ▁int ▁k max ) ▁{ ▁map &lt; db id , ▁k n n list &gt; ▁res ▁= ▁new ▁hash map &lt;&gt;( id s . size ()); ▁for ( db id iter ▁iter ▁= ▁ids . iter ();</td>\n",
              "      <td>▁ xx b os ▁ xx ma j ▁perform s ▁a ▁batch ▁k - ne a rest ▁neighbor ▁query ▁for ▁a ▁list ▁of ▁query ▁objects . ▁ xx e os</td>\n",
              "    </tr>\n",
              "  </tbody>\n",
              "</table>"
            ],
            "text/plain": [
              "<IPython.core.display.HTML object>"
            ]
          },
          "metadata": {
            "tags": []
          }
        }
      ]
    },
    {
      "cell_type": "code",
      "metadata": {
        "id": "QagTGWHuvnH4",
        "colab_type": "code",
        "colab": {}
      },
      "source": [
        "#hide\n",
        "db_trn.save(\"method_commenter_db_trn.pkl\")\n",
        "db_tst.save(\"method_commenter_db_tst.pkl\")"
      ],
      "execution_count": 0,
      "outputs": []
    },
    {
      "cell_type": "code",
      "metadata": {
        "id": "AmL6GmYNQEHz",
        "colab_type": "code",
        "colab": {}
      },
      "source": [
        "#collapse_show\n",
        "def shift_tfm(b):\n",
        "    x,y = b\n",
        "    y = F.pad(y, (1, 0), value=1)\n",
        "    return [x,y[:,:-1]], y[:,1:]\n",
        "\n",
        "# Add the necessary shift transformation for training your Transformer model\n",
        "db_trn.add_tfm(shift_tfm)\n",
        "db_tst.add_tfm(shift_tfm)"
      ],
      "execution_count": 0,
      "outputs": []
    },
    {
      "cell_type": "code",
      "metadata": {
        "id": "WXvycFsk5Gkb",
        "colab_type": "code",
        "colab": {}
      },
      "source": [
        "#hide\n",
        "# Run if you already have generated and saved some data\n",
        "# db_trn = load_data(path, 'method_commenter_db_trn.pkl', bs = 96)\n",
        "# db_tst = load_data(path, 'method_commenter_db_tst.pkl', bs = 16)\n",
        "# db_trn.add_tfm(shift_tfm)\n",
        "# db_tst.add_tfm(shift_tfm)"
      ],
      "execution_count": 0,
      "outputs": []
    },
    {
      "cell_type": "markdown",
      "metadata": {
        "id": "W6wb-6uL0V1D",
        "colab_type": "text"
      },
      "source": [
        "# Defining your model\n",
        "\n",
        "In this example, you will be using the Transformer architecture that was developed by [Vaswani et. al.](https://arxiv.org/abs/1706.03762). If you want a better understanding of this model, I highly suggest [The Annotated Transformer](http://nlp.seas.harvard.edu/2018/04/03/attention.html#applications-of-attention-in-our-model) blog post and the [NLP course](https://www.youtube.com/playlist?list=PLtmWHNX-gukKocXQOkQjuVxglSDYWsSh9) by Rachel Thomas, which this model code is copied from."
      ]
    },
    {
      "cell_type": "code",
      "metadata": {
        "id": "_-7BtjIhcIyn",
        "colab_type": "code",
        "colab": {}
      },
      "source": [
        "#collapse\n",
        "class PositionalEncoding(nn.Module):\n",
        "    \"Encode the position with a sinusoid.\"\n",
        "    def __init__(self, d):\n",
        "        super().__init__()\n",
        "        self.register_buffer('freq', 1 / (10000 ** (torch.arange(0., d, 2.)/d)))\n",
        "    \n",
        "    def forward(self, pos):\n",
        "        inp = torch.ger(pos, self.freq)\n",
        "        enc = torch.cat([inp.sin(), inp.cos()], dim=-1)\n",
        "        return enc\n",
        "\n",
        "class TransformerEmbedding(nn.Module):\n",
        "    \"Embedding + positional encoding + dropout\"\n",
        "    def __init__(self, vocab_sz, emb_sz, inp_p=0.):\n",
        "        super().__init__()\n",
        "        self.emb_sz = emb_sz\n",
        "        self.embed = embedding(vocab_sz, emb_sz)\n",
        "        self.pos_enc = PositionalEncoding(emb_sz)\n",
        "        self.drop = nn.Dropout(inp_p)\n",
        "    \n",
        "    def forward(self, inp): \n",
        "        pos = torch.arange(0, inp.size(1), device=inp.device).float()\n",
        "        return self.drop(self.embed(inp) * math.sqrt(self.emb_sz) + self.pos_enc(pos))\n",
        "\n",
        "def feed_forward(d_model, d_ff, ff_p=0., double_drop=True):\n",
        "    layers = [nn.Linear(d_model, d_ff), nn.ReLU()]\n",
        "    if double_drop: layers.append(nn.Dropout(ff_p))\n",
        "    return SequentialEx(*layers, nn.Linear(d_ff, d_model), nn.Dropout(ff_p), MergeLayer(), nn.LayerNorm(d_model))\n",
        "\n",
        "class MultiHeadAttention(nn.Module):\n",
        "    def __init__(self, n_heads, d_model, d_head=None, p=0., bias=True, scale=True):\n",
        "        super().__init__()\n",
        "        d_head = ifnone(d_head, d_model//n_heads)\n",
        "        self.n_heads,self.d_head,self.scale = n_heads,d_head,scale\n",
        "        self.q_wgt,self.k_wgt,self.v_wgt = [nn.Linear(\n",
        "            d_model, n_heads * d_head, bias=bias) for o in range(3)]\n",
        "        self.out = nn.Linear(n_heads * d_head, d_model, bias=bias)\n",
        "        self.drop_att,self.drop_res = nn.Dropout(p),nn.Dropout(p)\n",
        "        self.ln = nn.LayerNorm(d_model)\n",
        "        \n",
        "    def forward(self, q, kv, mask=None):\n",
        "        return self.ln(q + self.drop_res(self.out(self._apply_attention(q, kv, mask=mask))))\n",
        "    \n",
        "    def create_attn_mat(self, x, layer, bs):\n",
        "        return layer(x).view(bs, x.size(1), self.n_heads, self.d_head\n",
        "                            ).permute(0, 2, 1, 3)\n",
        "    \n",
        "    def _apply_attention(self, q, kv, mask=None):\n",
        "        bs,seq_len = q.size(0),q.size(1)\n",
        "        wq,wk,wv = map(lambda o: self.create_attn_mat(*o,bs),\n",
        "                       zip((q,kv,kv),(self.q_wgt,self.k_wgt,self.v_wgt)))\n",
        "        attn_score = wq @ wk.transpose(2,3)\n",
        "        if self.scale: attn_score /= math.sqrt(self.d_head)\n",
        "        if mask is not None: \n",
        "            attn_score = attn_score.float().masked_fill(mask, -float('inf')).type_as(attn_score)\n",
        "        attn_prob = self.drop_att(F.softmax(attn_score, dim=-1))\n",
        "        attn_vec = attn_prob @ wv\n",
        "        return attn_vec.permute(0, 2, 1, 3).contiguous().view(bs, seq_len, -1)\n",
        "\n",
        "def get_output_mask(inp, pad_idx=1):\n",
        "    return torch.triu(inp.new_ones(inp.size(1),inp.size(1)), diagonal=1)[None,None].byte()\n",
        "\n",
        "class EncoderBlock(nn.Module):\n",
        "    \"Encoder block of a Transformer model.\"\n",
        "    #Can't use Sequential directly cause more than one input...\n",
        "    def __init__(self, n_heads, d_model, d_head, d_inner, p=0., bias=True, scale=True, double_drop=True):\n",
        "        super().__init__()\n",
        "        self.mha = MultiHeadAttention(n_heads, d_model, d_head, p=p, bias=bias, scale=scale)\n",
        "        self.ff  = feed_forward(d_model, d_inner, ff_p=p, double_drop=double_drop)\n",
        "    \n",
        "    def forward(self, x, mask=None): return self.ff(self.mha(x, x, mask=mask))\n",
        "\n",
        "class DecoderBlock(nn.Module):\n",
        "    \"Decoder block of a Transformer model.\"\n",
        "    #Can't use Sequential directly cause more than one input...\n",
        "    def __init__(self, n_heads, d_model, d_head, d_inner, p=0., bias=True, scale=True, double_drop=True):\n",
        "        super().__init__()\n",
        "        self.mha1 = MultiHeadAttention(n_heads, d_model, d_head, p=p, bias=bias, scale=scale)\n",
        "        self.mha2 = MultiHeadAttention(n_heads, d_model, d_head, p=p, bias=bias, scale=scale)\n",
        "        self.ff   = feed_forward(d_model, d_inner, ff_p=p, double_drop=double_drop)\n",
        "    \n",
        "    def forward(self, x, enc, mask_out=None): return self.ff(self.mha2(self.mha1(x, x, mask_out), enc))"
      ],
      "execution_count": 0,
      "outputs": []
    },
    {
      "cell_type": "code",
      "metadata": {
        "id": "Mck59t-2cY6x",
        "colab_type": "code",
        "colab": {}
      },
      "source": [
        "#collapse_show\n",
        "class Transformer(Module):\n",
        "    def __init__(self, inp_vsz, out_vsz, n_layers=6, n_heads=8, d_model=256, d_head=32, \n",
        "                 d_inner=1024, p=0.1, bias=True, scale=True, double_drop=True, pad_idx=1):\n",
        "        self.enc_emb = TransformerEmbedding(inp_vsz, d_model, p)\n",
        "        self.dec_emb = TransformerEmbedding(out_vsz, d_model, 0.)\n",
        "        args = (n_heads, d_model, d_head, d_inner, p, bias, scale, double_drop)\n",
        "        self.encoder = nn.ModuleList([EncoderBlock(*args) for _ in range(n_layers)])\n",
        "        self.decoder = nn.ModuleList([DecoderBlock(*args) for _ in range(n_layers)])\n",
        "        self.out = nn.Linear(d_model, out_vsz)\n",
        "        self.out.weight = self.dec_emb.embed.weight\n",
        "        self.pad_idx = pad_idx\n",
        "        \n",
        "    def forward(self, inp, out):\n",
        "        mask_out = get_output_mask(out, self.pad_idx)\n",
        "        enc,out = self.enc_emb(inp),self.dec_emb(out)\n",
        "        enc = compose(self.encoder)(enc)\n",
        "        out = compose(self.decoder)(out, enc, mask_out)\n",
        "        return self.out(out)"
      ],
      "execution_count": 0,
      "outputs": []
    },
    {
      "cell_type": "markdown",
      "metadata": {
        "id": "mfFuKpxH0a9a",
        "colab_type": "text"
      },
      "source": [
        "To evaluate your model you will be using the commonly used BLEU score, which is a measure for determining how closely your model's generated comment is to the real comment of a method. (This code is also copied from the NLP tutorial from Rachel Thomas)"
      ]
    },
    {
      "cell_type": "code",
      "metadata": {
        "id": "rYejBbsnccpi",
        "colab_type": "code",
        "colab": {}
      },
      "source": [
        "#collapse\n",
        "class NGram():\n",
        "    def __init__(self, ngram, max_n=5000): self.ngram,self.max_n = ngram,max_n\n",
        "    def __eq__(self, other):\n",
        "        if len(self.ngram) != len(other.ngram): return False\n",
        "        return np.all(np.array(self.ngram) == np.array(other.ngram))\n",
        "    def __hash__(self): return int(sum([o * self.max_n**i for i,o in enumerate(self.ngram)]))\n",
        "\n",
        "def get_grams(x, n, max_n=5000):\n",
        "    return x if n==1 else [NGram(x[i:i+n], max_n=max_n) for i in range(len(x)-n+1)]\n",
        "\n",
        "def get_correct_ngrams(pred, targ, n, max_n=5000):\n",
        "    pred_grams,targ_grams = get_grams(pred, n, max_n=max_n),get_grams(targ, n, max_n=max_n)\n",
        "    pred_cnt,targ_cnt = Counter(pred_grams),Counter(targ_grams)\n",
        "    return sum([min(c, targ_cnt[g]) for g,c in pred_cnt.items()]),len(pred_grams)\n",
        "\n",
        "class CorpusBLEU(Callback):\n",
        "    def __init__(self, vocab_sz):\n",
        "        self.vocab_sz = vocab_sz\n",
        "        self.name = 'bleu'\n",
        "    \n",
        "    def on_epoch_begin(self, **kwargs):\n",
        "        self.pred_len,self.targ_len,self.corrects,self.counts = 0,0,[0]*4,[0]*4\n",
        "    \n",
        "    def on_batch_end(self, last_output, last_target, **kwargs):\n",
        "        last_output = last_output.argmax(dim=-1)\n",
        "        for pred,targ in zip(last_output.cpu().numpy(),last_target.cpu().numpy()):\n",
        "            self.pred_len += len(pred)\n",
        "            self.targ_len += len(targ)\n",
        "            for i in range(4):\n",
        "                c,t = get_correct_ngrams(pred, targ, i+1, max_n=self.vocab_sz)\n",
        "                self.corrects[i] += c\n",
        "                self.counts[i]   += t\n",
        "    \n",
        "    def on_epoch_end(self, last_metrics, **kwargs):\n",
        "        precs = [c/t for c,t in zip(self.corrects,self.counts)]\n",
        "        len_penalty = exp(1 - self.targ_len/self.pred_len) if self.pred_len < self.targ_len else 1\n",
        "        bleu = len_penalty * ((precs[0]*precs[1]*precs[2]*precs[3]) ** 0.25)\n",
        "        return add_metrics(last_metrics, bleu)"
      ],
      "execution_count": 0,
      "outputs": []
    },
    {
      "cell_type": "code",
      "metadata": {
        "id": "HTlGmcjBcj1O",
        "colab_type": "code",
        "colab": {}
      },
      "source": [
        "n_x_vocab, n_y_vocab = len(db_trn.train_ds.x.vocab.itos), len(db_trn.train_ds.y.vocab.itos)\n",
        "\n",
        "model = Transformer(n_x_vocab, n_y_vocab, d_model=256)\n",
        "learn = Learner(db_trn, model, metrics=[accuracy, CorpusBLEU(n_y_vocab)], loss_func = CrossEntropyFlat())"
      ],
      "execution_count": 0,
      "outputs": []
    },
    {
      "cell_type": "markdown",
      "metadata": {
        "id": "IB92USy2wXy7",
        "colab_type": "text"
      },
      "source": [
        "Now you are going to use the awesome Learning Rate finder provided by FastAI, which is based on the awesome paper from Leslie N. Smith [\"Cyclical Learning Rates for Training Neural Networks\"](https://arxiv.org/abs/1506.01186). This way you don't have to do a bunch of hyperparameter searching to find the perfect fit."
      ]
    },
    {
      "cell_type": "code",
      "metadata": {
        "id": "UXQDrIT_cldl",
        "colab_type": "code",
        "outputId": "41473647-e0a5-4cc9-95fb-0fc010dd1657",
        "colab": {
          "base_uri": "https://localhost:8080/",
          "height": 408
        }
      },
      "source": [
        "learn.lr_find()\n",
        "learn.recorder.plot(suggestion = True)"
      ],
      "execution_count": 0,
      "outputs": [
        {
          "output_type": "display_data",
          "data": {
            "text/html": [
              "\n",
              "    <div>\n",
              "        <style>\n",
              "            /* Turns off some styling */\n",
              "            progress {\n",
              "                /* gets rid of default border in Firefox and Opera. */\n",
              "                border: none;\n",
              "                /* Needs to be in here for Safari polyfill so background images work as expected. */\n",
              "                background-size: auto;\n",
              "            }\n",
              "            .progress-bar-interrupted, .progress-bar-interrupted::-webkit-progress-bar {\n",
              "                background: #F44336;\n",
              "            }\n",
              "        </style>\n",
              "      <progress value='0' class='' max='1', style='width:300px; height:20px; vertical-align: middle;'></progress>\n",
              "      0.00% [0/1 00:00<00:00]\n",
              "    </div>\n",
              "    \n",
              "<table border=\"1\" class=\"dataframe\">\n",
              "  <thead>\n",
              "    <tr style=\"text-align: left;\">\n",
              "      <th>epoch</th>\n",
              "      <th>train_loss</th>\n",
              "      <th>valid_loss</th>\n",
              "      <th>accuracy</th>\n",
              "      <th>bleu</th>\n",
              "      <th>time</th>\n",
              "    </tr>\n",
              "  </thead>\n",
              "  <tbody>\n",
              "  </tbody>\n",
              "</table><p>\n",
              "\n",
              "    <div>\n",
              "        <style>\n",
              "            /* Turns off some styling */\n",
              "            progress {\n",
              "                /* gets rid of default border in Firefox and Opera. */\n",
              "                border: none;\n",
              "                /* Needs to be in here for Safari polyfill so background images work as expected. */\n",
              "                background-size: auto;\n",
              "            }\n",
              "            .progress-bar-interrupted, .progress-bar-interrupted::-webkit-progress-bar {\n",
              "                background: #F44336;\n",
              "            }\n",
              "        </style>\n",
              "      <progress value='92' class='' max='423', style='width:300px; height:20px; vertical-align: middle;'></progress>\n",
              "      21.75% [92/423 01:21<04:53 19.5654]\n",
              "    </div>\n",
              "    "
            ],
            "text/plain": [
              "<IPython.core.display.HTML object>"
            ]
          },
          "metadata": {
            "tags": []
          }
        },
        {
          "output_type": "stream",
          "text": [
            "LR Finder is complete, type {learner_name}.recorder.plot() to see the graph.\n",
            "Min numerical gradient: 3.02E-03\n",
            "Min loss divided by 10: 1.74E-02\n"
          ],
          "name": "stdout"
        },
        {
          "output_type": "display_data",
          "data": {
            "image/png": "[encoded data removed]",
            "text/plain": [
              "<Figure size 432x288 with 1 Axes>"
            ]
          },
          "metadata": {
            "tags": []
          }
        }
      ]
    },
    {
      "cell_type": "markdown",
      "metadata": {
        "id": "oU_FVP8v144R",
        "colab_type": "text"
      },
      "source": [
        "It is common to pick a point a bit before the suggested point."
      ]
    },
    {
      "cell_type": "code",
      "metadata": {
        "id": "Klji7mTCx5gq",
        "colab_type": "code",
        "colab": {}
      },
      "source": [
        "max_lr = 5e-4"
      ],
      "execution_count": 0,
      "outputs": []
    },
    {
      "cell_type": "markdown",
      "metadata": {
        "id": "hbR6ZLKQw0f7",
        "colab_type": "text"
      },
      "source": [
        "**DRUM ROLL PLEASE!!!!!** You are now going to finally start training your model! Specifically for 8 epochs because that was what was in the original code in the NLP course and it also happened to work the best during my training. However, you are also implementing a few call backs, namely automatically saving the best performing model, early stopping, and showing the training and validation loss graph. Since you are using early stopping, feel free to try out a higher epoch number and the training will stop once it starts not improving."
      ]
    },
    {
      "cell_type": "code",
      "metadata": {
        "id": "bn6B-VEUxW68",
        "colab_type": "code",
        "colab": {}
      },
      "source": [
        "def train_model(learn, epochs, model_name, max_lr = 5e-4):\n",
        "    \"\"\"Trains a model using save model, early stopping, and show graph call backs.\"\"\"\n",
        "    callback_fns = [\n",
        "        callbacks.SaveModelCallback(\n",
        "            learn, every='improvement',\n",
        "            monitor='valid_loss', name=f'{model_name}_save_model'\n",
        "        ),\n",
        "        callbacks.EarlyStoppingCallback(\n",
        "            learn, monitor='valid_loss', min_delta = 0.01,\n",
        "            patience = 3\n",
        "        ),\n",
        "        ShowGraph(learn)\n",
        "    ]\n",
        "    \n",
        "    learn.fit_one_cycle(epochs, max_lr, div_factor=5, callbacks = callback_fns)"
      ],
      "execution_count": 0,
      "outputs": []
    },
    {
      "cell_type": "code",
      "metadata": {
        "id": "6xWkTgfMxz45",
        "colab_type": "code",
        "colab": {}
      },
      "source": [
        "epochs = 8\n",
        "model_name = 'comment_gen'"
      ],
      "execution_count": 0,
      "outputs": []
    },
    {
      "cell_type": "markdown",
      "metadata": {
        "id": "vug9103IWzrk",
        "colab_type": "text"
      },
      "source": [
        "Training on Google Colab can take anywhere from ~20 to 60 minutes depending on the type of GPU they give you. So, relax, get an IV caffeine drip going, and let your model cook in peace :)."
      ]
    },
    {
      "cell_type": "code",
      "metadata": {
        "id": "XjkA5AckgvaG",
        "colab_type": "code",
        "outputId": "ac276d38-5fc2-422c-d7c8-bd0dab3a808a",
        "colab": {
          "base_uri": "https://localhost:8080/",
          "height": 681
        }
      },
      "source": [
        "train_model(learn, epochs, model_name, max_lr = max_lr)"
      ],
      "execution_count": 0,
      "outputs": [
        {
          "output_type": "display_data",
          "data": {
            "text/html": [
              "<table border=\"1\" class=\"dataframe\">\n",
              "  <thead>\n",
              "    <tr style=\"text-align: left;\">\n",
              "      <th>epoch</th>\n",
              "      <th>train_loss</th>\n",
              "      <th>valid_loss</th>\n",
              "      <th>accuracy</th>\n",
              "      <th>bleu</th>\n",
              "      <th>time</th>\n",
              "    </tr>\n",
              "  </thead>\n",
              "  <tbody>\n",
              "    <tr>\n",
              "      <td>0</td>\n",
              "      <td>1.182219</td>\n",
              "      <td>1.133453</td>\n",
              "      <td>0.828182</td>\n",
              "      <td>0.791774</td>\n",
              "      <td>06:46</td>\n",
              "    </tr>\n",
              "    <tr>\n",
              "      <td>1</td>\n",
              "      <td>0.920205</td>\n",
              "      <td>0.954264</td>\n",
              "      <td>0.841556</td>\n",
              "      <td>0.799681</td>\n",
              "      <td>06:47</td>\n",
              "    </tr>\n",
              "    <tr>\n",
              "      <td>2</td>\n",
              "      <td>0.812330</td>\n",
              "      <td>0.875513</td>\n",
              "      <td>0.849487</td>\n",
              "      <td>0.804000</td>\n",
              "      <td>06:44</td>\n",
              "    </tr>\n",
              "    <tr>\n",
              "      <td>3</td>\n",
              "      <td>0.752023</td>\n",
              "      <td>0.828835</td>\n",
              "      <td>0.853668</td>\n",
              "      <td>0.807183</td>\n",
              "      <td>06:45</td>\n",
              "    </tr>\n",
              "    <tr>\n",
              "      <td>4</td>\n",
              "      <td>0.679716</td>\n",
              "      <td>0.794862</td>\n",
              "      <td>0.856593</td>\n",
              "      <td>0.809325</td>\n",
              "      <td>06:43</td>\n",
              "    </tr>\n",
              "    <tr>\n",
              "      <td>5</td>\n",
              "      <td>0.653454</td>\n",
              "      <td>0.777795</td>\n",
              "      <td>0.859418</td>\n",
              "      <td>0.811010</td>\n",
              "      <td>06:42</td>\n",
              "    </tr>\n",
              "    <tr>\n",
              "      <td>6</td>\n",
              "      <td>0.611860</td>\n",
              "      <td>0.770059</td>\n",
              "      <td>0.860419</td>\n",
              "      <td>0.812164</td>\n",
              "      <td>06:49</td>\n",
              "    </tr>\n",
              "    <tr>\n",
              "      <td>7</td>\n",
              "      <td>0.605370</td>\n",
              "      <td>0.769881</td>\n",
              "      <td>0.860601</td>\n",
              "      <td>0.812119</td>\n",
              "      <td>06:45</td>\n",
              "    </tr>\n",
              "  </tbody>\n",
              "</table>"
            ],
            "text/plain": [
              "<IPython.core.display.HTML object>"
            ]
          },
          "metadata": {
            "tags": []
          }
        },
        {
          "output_type": "stream",
          "text": [
            "Better model found at epoch 0 with valid_loss value: 1.133453130722046.\n"
          ],
          "name": "stdout"
        },
        {
          "output_type": "display_data",
          "data": {
            "image/png": "[encoded data removed]",
            "text/plain": [
              "<Figure size 432x288 with 1 Axes>"
            ]
          },
          "metadata": {
            "tags": []
          }
        },
        {
          "output_type": "stream",
          "text": [
            "Better model found at epoch 1 with valid_loss value: 0.9542644023895264.\n",
            "Better model found at epoch 2 with valid_loss value: 0.8755126595497131.\n",
            "Better model found at epoch 3 with valid_loss value: 0.8288350701332092.\n",
            "Better model found at epoch 4 with valid_loss value: 0.7948615550994873.\n",
            "Better model found at epoch 5 with valid_loss value: 0.7777946591377258.\n",
            "Better model found at epoch 6 with valid_loss value: 0.7700592279434204.\n",
            "Better model found at epoch 7 with valid_loss value: 0.7698812484741211.\n"
          ],
          "name": "stdout"
        }
      ]
    },
    {
      "cell_type": "markdown",
      "metadata": {
        "id": "L3EoBzOp0jXx",
        "colab_type": "text"
      },
      "source": [
        "# Evaluate your model"
      ]
    },
    {
      "cell_type": "markdown",
      "metadata": {
        "id": "cWZJjVnJ3q5-",
        "colab_type": "text"
      },
      "source": [
        "Let us now evaluated your trained model on some of your validation set so see how well your model is generating comments."
      ]
    },
    {
      "cell_type": "code",
      "metadata": {
        "id": "nKc8vHEic1EV",
        "colab_type": "code",
        "outputId": "ae5dd6d7-118f-45e5-ffd7-30234a7a66d0",
        "colab": {
          "base_uri": "https://localhost:8080/",
          "height": 37
        }
      },
      "source": [
        "#collapse_show\n",
        "def get_predictions(learn, ds_type=DatasetType.Valid):\n",
        "    learn.model.eval()\n",
        "    inputs, targets, outputs = [],[],[]\n",
        "    with torch.no_grad():\n",
        "        for xb,yb in progress_bar(learn.dl(ds_type)):\n",
        "            out = learn.model(*xb)\n",
        "            for x,y,z in zip(xb[0],xb[1],out):\n",
        "                inputs.append(learn.data.train_ds.x.reconstruct(x.cpu()))\n",
        "                targets.append(learn.data.train_ds.y.reconstruct(y.cpu()))\n",
        "                outputs.append(learn.data.train_ds.y.reconstruct(z.cpu().argmax(1)))\n",
        "    return inputs, targets, outputs\n",
        "\n",
        "inputs, targets, outputs = get_predictions(learn)"
      ],
      "execution_count": 0,
      "outputs": [
        {
          "output_type": "display_data",
          "data": {
            "text/html": [
              "\n",
              "    <div>\n",
              "        <style>\n",
              "            /* Turns off some styling */\n",
              "            progress {\n",
              "                /* gets rid of default border in Firefox and Opera. */\n",
              "                border: none;\n",
              "                /* Needs to be in here for Safari polyfill so background images work as expected. */\n",
              "                background-size: auto;\n",
              "            }\n",
              "            .progress-bar-interrupted, .progress-bar-interrupted::-webkit-progress-bar {\n",
              "                background: #F44336;\n",
              "            }\n",
              "        </style>\n",
              "      <progress value='16' class='' max='16', style='width:300px; height:20px; vertical-align: middle;'></progress>\n",
              "      100.00% [16/16 00:08<00:00]\n",
              "    </div>\n",
              "    "
            ],
            "text/plain": [
              "<IPython.core.display.HTML object>"
            ]
          },
          "metadata": {
            "tags": []
          }
        }
      ]
    },
    {
      "cell_type": "code",
      "metadata": {
        "id": "VPuJ22MgYHjC",
        "colab_type": "code",
        "outputId": "bee38ed6-6c49-47fb-bb90-1b50df537957",
        "colab": {
          "base_uri": "https://localhost:8080/",
          "height": 1000
        }
      },
      "source": [
        "#collapse_show\n",
        "def print_results(inputs, targets, outputs, method_spm, comment_spm, n = 10):\n",
        "    \"\"\"Just a little helper function for printing out the results from your model.\"\"\"\n",
        "    for i in range(n):\n",
        "        print(\"Input:\", \" \".join(decode_spec_tokens(method_spm.DecodePieces(str(inputs[i]).split(\" \")).split(\" \"))), \"\\n\")\n",
        "        print(\"Target:\", \" \".join(decode_spec_tokens(comment_spm.DecodePieces(str(targets[i]).split(\" \")).split(\" \"))), \"\\n\")\n",
        "        print(\"Predicted:\", \" \".join(decode_spec_tokens(comment_spm.DecodePieces(str(outputs[i]).split(\" \")).split(\" \"))), \"\\n\")\n",
        "        \n",
        "print_results(inputs, targets, outputs, method_spm, comment_spm)"
      ],
      "execution_count": 0,
      "outputs": [
        {
          "output_type": "stream",
          "text": [
            "Input: xxbos @doesservicerequest private void putrangeinternal(final filerange range, final filerangeoperationtype operationtype, final byte[] data, final long length, final String md5, final accesscondition accesscondition, final filerequestoptions options, final operationcontext opcontext) throws storageexception { executionengine.executewithretry(this.fileserviceclient, this, putrangeimpl(range, operationtype, data, length, md5, accesscondition, options, opcontext), options.getretrypolicyfactory(), opcontext); } xxeos \n",
            "\n",
            "Target: xxbos Used for both uploadrange and clearrange. xxeos \n",
            "\n",
            "Predicted: xxbos Put to creating thes( s( xxeos \n",
            "\n",
            "Input: xxbos public static byte[] encodesequence(byte[]... encodedvalues) { int length = 0; for (byte[] encodedvalue : encodedvalues) { length += encodedvalue.length; } byte[] lengthencoded = encodelength(length); bytearraydataoutput out = bytestreams.newdataoutput(1 + lengthencoded.length + length); out.write(sequence_tag); out.write(lengthencoded); for (byte[] entry : encodedvalues) { out.write(entry); } return out.tobytearray(); } xxeos \n",
            "\n",
            "Target: xxbos Encodes a sequence of encoded values. xxeos \n",
            "\n",
            "Predicted: xxbos Encodes a byte of bytes bytes into xxeos \n",
            "\n",
            "Input: xxbos @override public String dnsresolveex(string host) { stringbuilder result = new stringbuilder(); try { inetaddress[] list = inetaddress.getallbyname(host); for (inetaddress inetaddress : list) { result.append(inetaddress.gethostaddress()); result.append(\"; \"); } } catch (unknownhostexception e) { log.log(level.fine, \"DNS name not resolvable {0}.\", host); } return result.tostring(); } xxeos \n",
            "\n",
            "Target: xxbos *********************************************************************** dnsresolveexdnsresolveexdnsresolveexdnsresolveexdnsresolveexdnsresolveexdnsresolveexdnsresolveexdnsresolveexdnsresolveexdnsresolveexdnsresolveexdnsresolveexdnsresolveexdnsresolveexdnsresolveexdnsresolveexdnsresolveexdnsresolveexdnsresolveexdnsresolveexdnsresolveexdnsresolveexdnsresolveexdnsresolveexdnsresolveexdnsresolveexdnsresolveexdnsresolveexdnsresolveexdnsresolveexdnsresolveexdnsresolveexdnsresolveexdnsresolveexdnsresolveexdnsresolveexdnsresolveexdnsresolveexdnsresolveexdnsresolveexdnsresolveexdnsresolveexdnsresolveexdnsresolveexdnsresolveexdnsresolveexdnsresolveexdnsresolveexdnsresolveexdnsresolveexdnsresolveexdnsresolveexdnsresolveexdnsresolveexdnsresolveexdnsresolveexdnsresolveexdnsresolveexdnsresolveexdnsresolveexdnsresolveexdnsresolveexdnsresolveexdnsresolveexdnsresolveexdnsresolveexdnsresolveexdnsresolveexdnsresolveexdnsresolveex xxeosxxeosxxeosxxeosxxeosxxeosxxeosxxeosxxeosxxeosxxeosxxeosxxeosxxeosxxeosxxeosxxeosxxeosxxeosxxeosxxeosxxeosxxeosxxeosxxeosxxeosxxeosxxeosxxeosxxeosxxeosxxeosxxeosxxeosxxeosxxeosxxeosxxeosxxeosxxeosxxeosxxeosxxeosxxeosxxeosxxeosxxeosxxeosxxeosxxeosxxeosxxeosxxeosxxeosxxeosxxeosxxeosxxeosxxeosxxeosxxeosxxeosxxeosxxeosxxeosxxeosxxeosxxeosxxeosxxeosxxeos \n",
            "\n",
            "Predicted: xxbos xxmap 51 * namepp  =pxxeos \n",
            "\n",
            "Input: xxbos protected void removeallfromattributevalueset() { final collection<abstracthtml5sharedobject> sharedobjects = getsharedobjects(); boolean listenerinvoked = false; final collection<writelock> writelocks = lockandgetwritelocks(); try { getattributevalueset().clear(); setmodified(true); invokevaluechangelisteners(sharedobjects); listenerinvoked = true; } finally { for (final Lock lock : writelocks) { lock.unlock(); } } pushqueues(sharedobjects, listenerinvoked); } xxeos \n",
            "\n",
            "Target: xxbos clears all values from the value set. xxeos \n",
            "\n",
            "Predicted: xxbos s all attribute from the    xxeos \n",
            "\n",
            "Input: xxbos public void registercheckwithnotes(string checkid, String name, String script, long interval, @suppresswarnings(\"sameparametervalue\") String notes) { Check check = new Check(); check.setid(checkid); check.setname(name); check.setscript(script); check.setinterval(string.format(\" ⁇ ss\", interval)); check.setnotes(notes); registercheck(check); } xxeos \n",
            "\n",
            "Target: xxbos Registers a Health Check with the Agent. xxeos \n",
            "\n",
            "Predicted: xxbos Registers a xxupj ealth checkxxmaj  check a givenxxmaj  name xxeos \n",
            "\n",
            "Input: xxbos public void assertequalsignoringcase(@nullable Description description, @nullable String actual, @nullable String expected) { if (!areequalignoringcase(actual, expected)) { String format = \"expecting:< ⁇ s> to be equal to:< ⁇ s>, ignoring case considerations\"; throw failures.failure(description, new basicerrormessagefactory(format, actual, expected)); } } xxeos \n",
            "\n",
            "Target: xxbos Verifies that two s are equal, ignoring case considerations. xxeos \n",
            "\n",
            "Predicted: xxbos Assert that the stringsxx are equal, oring the... xxeos \n",
            "\n",
            "Input: xxbos protected cronschedulebuilder createcronschedulebuilder(string cronexpr) { int i = cronexpr.indexof(\"[\"); int j = cronexpr.indexof(\"]\"); timezone timezone = defaulttimezone; if (i > -1 && j > -1) { timezone = timezone.gettimezone(cronexpr.substring(i+1, j)); cronexpr = cronexpr.substring(0, i).trim(); } return cronschedulebuilder.cronschedule(cronexpr).intimezone(timezone); } xxeos \n",
            "\n",
            "Target: xxbos Allow timezone to be configured on a per-cron basis with [timezonename] appended to the cron format xxeos \n",
            "\n",
            "Predicted: xxbos Create to to create used to the mtimei-s of a0],]. to the givenath.xxeos \n",
            "\n",
            "Input: xxbos private <T> fakeencodeditem readnextitem(class<t> clazz) { fakeencodeditem item = data[dataposition]; if (item == null) { / / While Parcel will treat these as zeros, in tests, this is almost always an error. throw new unreliablebehaviorerror(\"reading uninitialized data at position \" + dataposition); } checkconsistentreadandincrementposition(clazz, item); return item; } xxeos \n",
            "\n",
            "Target: xxbos Reads a complete item in the byte buffer. xxeos \n",
            "\n",
            "Predicted: xxbos Read the   from the given array. xxeos \n",
            "\n",
            "Input: xxbos private void hidesuggestionsifnecessary(final @nonnull querytoken currentquery, final @nonnull tokensource source) { String queryts = currentquery.gettokenstring(); String currentts = source.getcurrenttokenstring(); if (!iswaitingforresults(currentquery) && queryts != null && queryts.equals(currentts)) { msuggestionsvisibilitymanager.displaysuggestions(false); } } xxeos \n",
            "\n",
            "Target: xxbos Hides the suggestions if there are no more incoming queries. xxeos \n",
            "\n",
            "Predicted: xxbos Check the givenion of of the is no more  . xxeos \n",
            "\n",
            "Input: xxbos public list<uirow> getvalues() throws efapsexception { list<uirow> ret = new arraylist<>(); if (isfiltered()) { for (final uirow row : this.values) { boolean filtered = false; for (final tablefilter filter : this.filters.values()) { filtered = filter.filterrow(row); if (filtered) { break; } } if (!filtered) { ret.add(row); } } } else { ret = this.values; } setsize(ret.size()); return ret; } xxeos \n",
            "\n",
            "Target: xxbos This is the getter method for the instance variable . xxeos \n",
            "\n",
            "Predicted: xxbos Returns method a first method for the row of. xxeos \n",
            "\n"
          ],
          "name": "stdout"
        }
      ]
    },
    {
      "cell_type": "markdown",
      "metadata": {
        "id": "i3N0SNzK4Hpf",
        "colab_type": "text"
      },
      "source": [
        "This is great and all. However, you can see the text looks a bit off. Your model sort of starts generating some word and then switches half way through sometimes. This is because the way you are currently trying to generate tokens is using [Teacher Forcing](https://towardsdatascience.com/what-is-teacher-forcing-3da6217fed1c), which means you are giving the model the groundtruth for what it should have produced even if it did not. This is very helpful during training, however, it expects to have both the x and y of an input. In a real world setting, you aren't going to be given the y, obviously! \n",
        "\n",
        "Therefore, I found a hacky way of bypassing this need for the y so that it is no longer needed. This involves using an empty array that fakes being the y, but has only ones and is updated everytime the model makes a prediction and is then fed back into the model so that is knows what it has generated before.\n",
        "\n",
        "**Heads Up** The way I coded this is extremely inefficient and so running it will take a long time to generate predictions. Therefore I recommend only generating a few comments (I set it up to only do 10).\n",
        "\n",
        "**TODO For You:** Come up with a more efficient solution that performs similarly to the Teacher Forcing approach of the above code."
      ]
    },
    {
      "cell_type": "markdown",
      "metadata": {
        "id": "7S1KskGj5xV9",
        "colab_type": "text"
      },
      "source": [
        "P.S.\n",
        "\n",
        "For other [language learners](https://docs.fast.ai/text.learner.html#LanguageLearner.predict) provided by FastAI, you can simply use the `predict` function and pass some text and ask for the model to predict the next set of tokens. However, I have been unsuccessful in implementing this `predict` function for Sequence to Sequence models. So, another **TODO For You** is to see if you can implement a `predict` function for Sequence to Sequence models so that you can easily generate comments for methods that you just pass to the function!\n",
        "\n",
        "If you do figure out a way to do this, I would be extremely interested! So, feel free to leave a comment about it."
      ]
    },
    {
      "cell_type": "code",
      "metadata": {
        "id": "TF8HwJaGdP_X",
        "colab_type": "code",
        "outputId": "fee24585-9c36-480d-c3f3-84b3ae07605b",
        "colab": {
          "base_uri": "https://localhost:8080/",
          "height": 1000
        }
      },
      "source": [
        "#collapse_show\n",
        "def get_preds(learn, db_tst, max_seq = 128, n = 10):\n",
        "    learn.model.eval()\n",
        "    inpts, trgts, preds = [], [], []\n",
        "    for i, (xb,yb) in enumerate(progress_bar(db_tst.dl(DatasetType.Train))):\n",
        "        if i >= n: break\n",
        "        res = torch.zeros(len(xb[0]), max_seq, device = torch.device('cuda')).long() + 1\n",
        "        for i in range(max_seq - 1):\n",
        "            outs = learn.model(xb[0], res)\n",
        "            for j, out in enumerate(outs):\n",
        "                res[j][i + 1] =  out.argmax(1)[i]\n",
        "        for x, y, z in zip(xb[0], yb, res):\n",
        "            inpts.append(str(learn.data.train_ds.x.reconstruct(x.cpu())))\n",
        "            trgts.append(str(db_tst.train_ds.y.reconstruct(y.cpu())))\n",
        "            preds.append(str(learn.data.train_ds.y.reconstruct(z.cpu())))\n",
        "    return inpts, trgts, preds\n",
        "\n",
        "inputs, targets, outputs = get_preds(learn, db_tst)\n",
        "print_results(inputs, targets, outputs, method_spm, comment_spm)"
      ],
      "execution_count": 0,
      "outputs": [
        {
          "output_type": "display_data",
          "data": {
            "text/html": [
              "\n",
              "    <div>\n",
              "        <style>\n",
              "            /* Turns off some styling */\n",
              "            progress {\n",
              "                /* gets rid of default border in Firefox and Opera. */\n",
              "                border: none;\n",
              "                /* Needs to be in here for Safari polyfill so background images work as expected. */\n",
              "                background-size: auto;\n",
              "            }\n",
              "            .progress-bar-interrupted, .progress-bar-interrupted::-webkit-progress-bar {\n",
              "                background: #F44336;\n",
              "            }\n",
              "        </style>\n",
              "      <progress value='10' class='' max='149', style='width:300px; height:20px; vertical-align: middle;'></progress>\n",
              "      6.71% [10/149 01:14<17:21]\n",
              "    </div>\n",
              "    "
            ],
            "text/plain": [
              "<IPython.core.display.HTML object>"
            ]
          },
          "metadata": {
            "tags": []
          }
        },
        {
          "output_type": "stream",
          "text": [
            "Input: xxbos protected String parseunquotedstringcontent() { final int startndx = ndx; while (true) { final char c = input[ndx]; if (c <= ' ' || charutil.equalsone(c, UNQUOTED_DELIMETERS)) { final int currentndx = ndx; / / done skipwhitespaces(); return new String(input, startndx, currentndx - startndx); } ndx++; } } xxeos \n",
            "\n",
            "Target: xxbos Parses un-quoted string content. xxeos \n",
            "\n",
            "Predicted: xxbos Parses the text from the HTML text. xxeos \n",
            "\n",
            "Input: xxbos private static void checkfilecopy(final File srcfile, final File destfile) throws ioexception { checkexists(srcfile); checkisfile(srcfile); if (equals(srcfile, destfile)) { throw new ioexception(\"files '\" + srcfile + \"' and '\" + destfile + \"' are equal\"); } File destparent = destfile.getparentfile(); if (destparent != null && !destparent.exists()) { checkcreatedirectory(destparent); } } xxeos \n",
            "\n",
            "Target: xxbos Checks that file copy can occur. xxeos \n",
            "\n",
            "Predicted: xxbos Checks if the file is a file. xxeos \n",
            "\n",
            "Input: xxbos long analyze() { Arc a; Arc aa; if (pre.outs == null) { return flags.reg_uimpossible; } for (a = pre.outs; a != null; a = a.outchain) { for (aa = a.to.outs; aa != null; aa = aa.outchain) { if (aa.to == post) { return flags.reg_uemptymatch; } } } return 0; } xxeos \n",
            "\n",
            "Target: xxbos analyze - ascertain potentially-useful facts about an optimized NFA xxeos \n",
            "\n",
            "Predicted: xxbos Returns the Syoooo Syna Syna Syna Sa Sa Sa Sa Sa Sa Sa Sa syna Syna xxeos \n",
            "\n",
            "Input: xxbos @suppresswarnings(\"unchecked\") public REC next() { checkdirection(true); orecord record; / / ITERATE UNTIL THE NEXT GOOD RECORD while (hasnext()) { / / FOUND if (currentrecord != null) { try { return (REC) currentrecord; } finally { currentrecord = null; } } record = gettransactionentry(); if (record != null) return (REC) record; } return null; } xxeos \n",
            "\n",
            "Target: xxbos Return the element at the current position and move forward the cursor to the next position available. xxeos \n",
            "\n",
            "Predicted: xxbos Returns the next record in the queue. xxeos \n",
            "\n",
            "Input: xxbos public static void addtransitivematches(hollowreadstateengine stateengine, map<string, bitset> matches) { list<hollowschema> schemalist = hollowschemasorter.dependencyorderedschemalist(stateengine); collections.reverse(schemalist); for(hollowschema schema : schemalist) { bitset currentmatches = matches.get(schema.getname()); if(currentmatches != null) { addtransitivematches(stateengine, schema.getname(), matches); } } } xxeos \n",
            "\n",
            "Target: xxbos Augment the given selection by adding the references, and the <i>transitive< / i> references, of our selection. xxeos \n",
            "\n",
            "Predicted: xxbos Add a variable to the list of s. xxeos \n",
            "\n",
            "Input: xxbos protected void resolvenestedproperties(final beanproperty bp) { String name = bp.name; int dotndx; while ((dotndx = indexofdot(name)) != -1) { bp.last = false; bp.setname(name.substring(0, dotndx)); bp.updatebean(getindexproperty(bp)); name = name.substring(dotndx + 1); } bp.last = true; bp.setname(name); } xxeos \n",
            "\n",
            "Target: xxbos Resolves nested property name to the very last indexed property. If forced, <code>null< / code> or non-existing properties will be created. xxeos \n",
            "\n",
            "Predicted: xxbos Resolve the property name. xxeos \n",
            "\n",
            "Input: xxbos public xmlconfig declarenamespace(string prefix, String namespaceuri) { validate.notempty(prefix, \"prefix cannot be empty\"); validate.notempty(namespaceuri, \"namespace URI cannot be empty\"); map<string, String> updatednamespaces = new hashmap<string, string>(declarednamespaces); updatednamespaces.put(prefix, namespaceuri); return new xmlconfig(features, updatednamespaces, properties, validating, true, allowdoctypedeclaration, true); } xxeos \n",
            "\n",
            "Target: xxbos Declares a namespace and also sets } to <code>true< / code>. <p / > <p>note that you cannot use this to add namespaces for the matcher. This has to be done by providing a to the matcher instance.< / p> xxeos \n",
            "\n",
            "Predicted: xxbos Creates a new instance of the given name and the given name. xxeos \n",
            "\n",
            "Input: xxbos protected static int getshadowradius(drawable shadow, Drawable circle) { int radius = 0; if (shadow != null && circle != null) { Rect rect = new Rect(); radius = (circle.getintrinsicwidth() + (shadow.getpadding(rect) ? rect.left + rect.right : 0)) / 2; } return Math.max(1, radius); } xxeos \n",
            "\n",
            "Target: xxbos Calculates required radius of shadow. xxeos \n",
            "\n",
            "Predicted: xxbos Get the Syyyy Syyy Syyy Syna Syna Syna Syna Syna Sna Syna Syna Syna xxeos \n",
            "\n",
            "Input: xxbos void addadviceclinitmethod(final String name) { if (adviceclinits == null) { adviceclinits = new arraylist<>(); } adviceclinits.add(name); } xxeos \n",
            "\n",
            "Target: xxbos Saves used static initialization blocks (clinit) of advices. xxeos \n",
            "\n",
            "Predicted: xxbos Adds a Java class to the Saa Sa Sa Syyetch Bean. xxeos \n",
            "\n",
            "Input: xxbos public static String padleft(string s, int desiredlength, String padstring) { while (s.length() < desiredlength) { s = padstring + s; } return s; } xxeos \n",
            "\n",
            "Target: xxbos Pad the given string with padstring on the left up to the given length. xxeos \n",
            "\n",
            "Predicted: xxbos Compares two strings, and returns the first character in the string. xxeos \n",
            "\n"
          ],
          "name": "stdout"
        }
      ]
    },
    {
      "cell_type": "markdown",
      "metadata": {
        "id": "Sf6vxn6jbSqm",
        "colab_type": "text"
      },
      "source": [
        "Not too shabby if I do say so myself! It seems to actually be learning about what a comment is supposed to have in it for documenting what the method is doing. Of course there are a lot of tweaks you could do such as adding the ability to generate inline comments instead of just method level, using more data, using different sampling schemes for generating the comments such as [top-k or nucleus](https://towardsdatascience.com/how-to-sample-from-language-models-682bceb97277), and any other awesome things you could think of! And if you do feel free to leave a comment about your adventure.\n",
        "\n",
        "**Tip:**\n",
        "I have done a lot of fiddling to get this to work, however, most of my models ended up overfitting. The way I fixed this issue was just being more careful in how I clean the data and also increase the data size. I know this seems simple, but it is quite effective."
      ]
    },
    {
      "cell_type": "markdown",
      "metadata": {
        "id": "FhEBU05D6gL2",
        "colab_type": "text"
      },
      "source": [
        "# Conclusion\n",
        "In this tutorial, you created an Automatic Code Comment Generator! You learned about how to clean, explore, and process data and how to use the awesome Pytorch and FastAI to define and train the awesome Transformer architecture. The use of Deep Learning in the field of Software Engineering is what I am studying for my Ph.D., so I hope I have inspired you to think about some other ways you could use Deep Learning to help Software Engineering!\n",
        "\n",
        "I hope you enjoyed this tutorial and look out for future blog posts from me about all kinds of topics as I have announced a challenge for myself for learning new things this year!\n",
        "\n",
        "> twitter: https://twitter.com/ncooper57/status/1235408134904086529?s=20"
      ]
    }
  ]
}