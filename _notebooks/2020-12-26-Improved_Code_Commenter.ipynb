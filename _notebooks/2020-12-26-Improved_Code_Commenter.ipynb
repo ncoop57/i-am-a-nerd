{
  "nbformat": 4,
  "nbformat_minor": 0,
  "metadata": {
    "colab": {
      "name": "Code Commenter.ipynb",
      "provenance": [],
      "collapsed_sections": [],
      "toc_visible": true
    },
    "kernelspec": {
      "name": "python3",
      "display_name": "Python 3"
    },
    "widgets": {
      "application/vnd.jupyter.widget-state+json": {
        "3b857331a30c40be8c2d72aa74f3dc92": {
          "model_module": "@jupyter-widgets/controls",
          "model_name": "HBoxModel",
          "state": {
            "_view_name": "HBoxView",
            "_dom_classes": [],
            "_model_name": "HBoxModel",
            "_view_module": "@jupyter-widgets/controls",
            "_model_module_version": "1.5.0",
            "_view_count": null,
            "_view_module_version": "1.5.0",
            "box_style": "",
            "layout": "IPY_MODEL_c3c9713ede3a4ba58f7e28a2b507a74d",
            "_model_module": "@jupyter-widgets/controls",
            "children": [
              "IPY_MODEL_a9ce294b6d1847168505f7b7933e451c",
              "IPY_MODEL_430af23edb5d48c0a2645dc4c7ef8389"
            ]
          }
        },
        "c3c9713ede3a4ba58f7e28a2b507a74d": {
          "model_module": "@jupyter-widgets/base",
          "model_name": "LayoutModel",
          "state": {
            "_view_name": "LayoutView",
            "grid_template_rows": null,
            "right": null,
            "justify_content": null,
            "_view_module": "@jupyter-widgets/base",
            "overflow": null,
            "_model_module_version": "1.2.0",
            "_view_count": null,
            "flex_flow": null,
            "width": null,
            "min_width": null,
            "border": null,
            "align_items": null,
            "bottom": null,
            "_model_module": "@jupyter-widgets/base",
            "top": null,
            "grid_column": null,
            "overflow_y": null,
            "overflow_x": null,
            "grid_auto_flow": null,
            "grid_area": null,
            "grid_template_columns": null,
            "flex": null,
            "_model_name": "LayoutModel",
            "justify_items": null,
            "grid_row": null,
            "max_height": null,
            "align_content": null,
            "visibility": null,
            "align_self": null,
            "height": null,
            "min_height": null,
            "padding": null,
            "grid_auto_rows": null,
            "grid_gap": null,
            "max_width": null,
            "order": null,
            "_view_module_version": "1.2.0",
            "grid_template_areas": null,
            "object_position": null,
            "object_fit": null,
            "grid_auto_columns": null,
            "margin": null,
            "display": null,
            "left": null
          }
        },
        "a9ce294b6d1847168505f7b7933e451c": {
          "model_module": "@jupyter-widgets/controls",
          "model_name": "FloatProgressModel",
          "state": {
            "_view_name": "ProgressView",
            "style": "IPY_MODEL_2321ec56ad9b4d58a281aec3c3bac773",
            "_dom_classes": [],
            "description": "100%",
            "_model_name": "FloatProgressModel",
            "bar_style": "success",
            "max": 994,
            "_view_module": "@jupyter-widgets/controls",
            "_model_module_version": "1.5.0",
            "value": 994,
            "_view_count": null,
            "_view_module_version": "1.5.0",
            "orientation": "horizontal",
            "min": 0,
            "description_tooltip": null,
            "_model_module": "@jupyter-widgets/controls",
            "layout": "IPY_MODEL_b02957dfe8034b5fa03112b8470eb5ae"
          }
        },
        "430af23edb5d48c0a2645dc4c7ef8389": {
          "model_module": "@jupyter-widgets/controls",
          "model_name": "HTMLModel",
          "state": {
            "_view_name": "HTMLView",
            "style": "IPY_MODEL_b2ed68215d0243749552e3532870e518",
            "_dom_classes": [],
            "description": "",
            "_model_name": "HTMLModel",
            "placeholder": "​",
            "_view_module": "@jupyter-widgets/controls",
            "_model_module_version": "1.5.0",
            "value": " 994/994 [00:04&lt;00:00, 200.77it/s]",
            "_view_count": null,
            "_view_module_version": "1.5.0",
            "description_tooltip": null,
            "_model_module": "@jupyter-widgets/controls",
            "layout": "IPY_MODEL_d9d3d49b33b1445192e1d128407e3d31"
          }
        },
        "2321ec56ad9b4d58a281aec3c3bac773": {
          "model_module": "@jupyter-widgets/controls",
          "model_name": "ProgressStyleModel",
          "state": {
            "_view_name": "StyleView",
            "_model_name": "ProgressStyleModel",
            "description_width": "initial",
            "_view_module": "@jupyter-widgets/base",
            "_model_module_version": "1.5.0",
            "_view_count": null,
            "_view_module_version": "1.2.0",
            "bar_color": null,
            "_model_module": "@jupyter-widgets/controls"
          }
        },
        "b02957dfe8034b5fa03112b8470eb5ae": {
          "model_module": "@jupyter-widgets/base",
          "model_name": "LayoutModel",
          "state": {
            "_view_name": "LayoutView",
            "grid_template_rows": null,
            "right": null,
            "justify_content": null,
            "_view_module": "@jupyter-widgets/base",
            "overflow": null,
            "_model_module_version": "1.2.0",
            "_view_count": null,
            "flex_flow": null,
            "width": null,
            "min_width": null,
            "border": null,
            "align_items": null,
            "bottom": null,
            "_model_module": "@jupyter-widgets/base",
            "top": null,
            "grid_column": null,
            "overflow_y": null,
            "overflow_x": null,
            "grid_auto_flow": null,
            "grid_area": null,
            "grid_template_columns": null,
            "flex": null,
            "_model_name": "LayoutModel",
            "justify_items": null,
            "grid_row": null,
            "max_height": null,
            "align_content": null,
            "visibility": null,
            "align_self": null,
            "height": null,
            "min_height": null,
            "padding": null,
            "grid_auto_rows": null,
            "grid_gap": null,
            "max_width": null,
            "order": null,
            "_view_module_version": "1.2.0",
            "grid_template_areas": null,
            "object_position": null,
            "object_fit": null,
            "grid_auto_columns": null,
            "margin": null,
            "display": null,
            "left": null
          }
        },
        "b2ed68215d0243749552e3532870e518": {
          "model_module": "@jupyter-widgets/controls",
          "model_name": "DescriptionStyleModel",
          "state": {
            "_view_name": "StyleView",
            "_model_name": "DescriptionStyleModel",
            "description_width": "",
            "_view_module": "@jupyter-widgets/base",
            "_model_module_version": "1.5.0",
            "_view_count": null,
            "_view_module_version": "1.2.0",
            "_model_module": "@jupyter-widgets/controls"
          }
        },
        "d9d3d49b33b1445192e1d128407e3d31": {
          "model_module": "@jupyter-widgets/base",
          "model_name": "LayoutModel",
          "state": {
            "_view_name": "LayoutView",
            "grid_template_rows": null,
            "right": null,
            "justify_content": null,
            "_view_module": "@jupyter-widgets/base",
            "overflow": null,
            "_model_module_version": "1.2.0",
            "_view_count": null,
            "flex_flow": null,
            "width": null,
            "min_width": null,
            "border": null,
            "align_items": null,
            "bottom": null,
            "_model_module": "@jupyter-widgets/base",
            "top": null,
            "grid_column": null,
            "overflow_y": null,
            "overflow_x": null,
            "grid_auto_flow": null,
            "grid_area": null,
            "grid_template_columns": null,
            "flex": null,
            "_model_name": "LayoutModel",
            "justify_items": null,
            "grid_row": null,
            "max_height": null,
            "align_content": null,
            "visibility": null,
            "align_self": null,
            "height": null,
            "min_height": null,
            "padding": null,
            "grid_auto_rows": null,
            "grid_gap": null,
            "max_width": null,
            "order": null,
            "_view_module_version": "1.2.0",
            "grid_template_areas": null,
            "object_position": null,
            "object_fit": null,
            "grid_auto_columns": null,
            "margin": null,
            "display": null,
            "left": null
          }
        },
        "806159a1e8e7483cb77e9fab5e75d380": {
          "model_module": "@jupyter-widgets/controls",
          "model_name": "HBoxModel",
          "state": {
            "_view_name": "HBoxView",
            "_dom_classes": [],
            "_model_name": "HBoxModel",
            "_view_module": "@jupyter-widgets/controls",
            "_model_module_version": "1.5.0",
            "_view_count": null,
            "_view_module_version": "1.5.0",
            "box_style": "",
            "layout": "IPY_MODEL_f4c2498ed19a4a46bd1af0fc3c9ee076",
            "_model_module": "@jupyter-widgets/controls",
            "children": [
              "IPY_MODEL_1ba28592d96747ffb04b06739074c16f",
              "IPY_MODEL_020cbd0367f94df3a37f9613845078bb"
            ]
          }
        },
        "f4c2498ed19a4a46bd1af0fc3c9ee076": {
          "model_module": "@jupyter-widgets/base",
          "model_name": "LayoutModel",
          "state": {
            "_view_name": "LayoutView",
            "grid_template_rows": null,
            "right": null,
            "justify_content": null,
            "_view_module": "@jupyter-widgets/base",
            "overflow": null,
            "_model_module_version": "1.2.0",
            "_view_count": null,
            "flex_flow": null,
            "width": null,
            "min_width": null,
            "border": null,
            "align_items": null,
            "bottom": null,
            "_model_module": "@jupyter-widgets/base",
            "top": null,
            "grid_column": null,
            "overflow_y": null,
            "overflow_x": null,
            "grid_auto_flow": null,
            "grid_area": null,
            "grid_template_columns": null,
            "flex": null,
            "_model_name": "LayoutModel",
            "justify_items": null,
            "grid_row": null,
            "max_height": null,
            "align_content": null,
            "visibility": null,
            "align_self": null,
            "height": null,
            "min_height": null,
            "padding": null,
            "grid_auto_rows": null,
            "grid_gap": null,
            "max_width": null,
            "order": null,
            "_view_module_version": "1.2.0",
            "grid_template_areas": null,
            "object_position": null,
            "object_fit": null,
            "grid_auto_columns": null,
            "margin": null,
            "display": null,
            "left": null
          }
        },
        "1ba28592d96747ffb04b06739074c16f": {
          "model_module": "@jupyter-widgets/controls",
          "model_name": "FloatProgressModel",
          "state": {
            "_view_name": "ProgressView",
            "style": "IPY_MODEL_44a84637344c4385a0015e70c7f5939f",
            "_dom_classes": [],
            "description": "100%",
            "_model_name": "FloatProgressModel",
            "bar_style": "success",
            "max": 33,
            "_view_module": "@jupyter-widgets/controls",
            "_model_module_version": "1.5.0",
            "value": 33,
            "_view_count": null,
            "_view_module_version": "1.5.0",
            "orientation": "horizontal",
            "min": 0,
            "description_tooltip": null,
            "_model_module": "@jupyter-widgets/controls",
            "layout": "IPY_MODEL_11070535e6674643954971d874a630f3"
          }
        },
        "020cbd0367f94df3a37f9613845078bb": {
          "model_module": "@jupyter-widgets/controls",
          "model_name": "HTMLModel",
          "state": {
            "_view_name": "HTMLView",
            "style": "IPY_MODEL_d406d02f151f4a838ccb77f096f7ceb9",
            "_dom_classes": [],
            "description": "",
            "_model_name": "HTMLModel",
            "placeholder": "​",
            "_view_module": "@jupyter-widgets/controls",
            "_model_module_version": "1.5.0",
            "value": " 33/33 [00:00&lt;00:00, 85.45it/s]",
            "_view_count": null,
            "_view_module_version": "1.5.0",
            "description_tooltip": null,
            "_model_module": "@jupyter-widgets/controls",
            "layout": "IPY_MODEL_b2a2367d814b41a8a0ec8b5c30e99715"
          }
        },
        "44a84637344c4385a0015e70c7f5939f": {
          "model_module": "@jupyter-widgets/controls",
          "model_name": "ProgressStyleModel",
          "state": {
            "_view_name": "StyleView",
            "_model_name": "ProgressStyleModel",
            "description_width": "initial",
            "_view_module": "@jupyter-widgets/base",
            "_model_module_version": "1.5.0",
            "_view_count": null,
            "_view_module_version": "1.2.0",
            "bar_color": null,
            "_model_module": "@jupyter-widgets/controls"
          }
        },
        "11070535e6674643954971d874a630f3": {
          "model_module": "@jupyter-widgets/base",
          "model_name": "LayoutModel",
          "state": {
            "_view_name": "LayoutView",
            "grid_template_rows": null,
            "right": null,
            "justify_content": null,
            "_view_module": "@jupyter-widgets/base",
            "overflow": null,
            "_model_module_version": "1.2.0",
            "_view_count": null,
            "flex_flow": null,
            "width": null,
            "min_width": null,
            "border": null,
            "align_items": null,
            "bottom": null,
            "_model_module": "@jupyter-widgets/base",
            "top": null,
            "grid_column": null,
            "overflow_y": null,
            "overflow_x": null,
            "grid_auto_flow": null,
            "grid_area": null,
            "grid_template_columns": null,
            "flex": null,
            "_model_name": "LayoutModel",
            "justify_items": null,
            "grid_row": null,
            "max_height": null,
            "align_content": null,
            "visibility": null,
            "align_self": null,
            "height": null,
            "min_height": null,
            "padding": null,
            "grid_auto_rows": null,
            "grid_gap": null,
            "max_width": null,
            "order": null,
            "_view_module_version": "1.2.0",
            "grid_template_areas": null,
            "object_position": null,
            "object_fit": null,
            "grid_auto_columns": null,
            "margin": null,
            "display": null,
            "left": null
          }
        },
        "d406d02f151f4a838ccb77f096f7ceb9": {
          "model_module": "@jupyter-widgets/controls",
          "model_name": "DescriptionStyleModel",
          "state": {
            "_view_name": "StyleView",
            "_model_name": "DescriptionStyleModel",
            "description_width": "",
            "_view_module": "@jupyter-widgets/base",
            "_model_module_version": "1.5.0",
            "_view_count": null,
            "_view_module_version": "1.2.0",
            "_model_module": "@jupyter-widgets/controls"
          }
        },
        "b2a2367d814b41a8a0ec8b5c30e99715": {
          "model_module": "@jupyter-widgets/base",
          "model_name": "LayoutModel",
          "state": {
            "_view_name": "LayoutView",
            "grid_template_rows": null,
            "right": null,
            "justify_content": null,
            "_view_module": "@jupyter-widgets/base",
            "overflow": null,
            "_model_module_version": "1.2.0",
            "_view_count": null,
            "flex_flow": null,
            "width": null,
            "min_width": null,
            "border": null,
            "align_items": null,
            "bottom": null,
            "_model_module": "@jupyter-widgets/base",
            "top": null,
            "grid_column": null,
            "overflow_y": null,
            "overflow_x": null,
            "grid_auto_flow": null,
            "grid_area": null,
            "grid_template_columns": null,
            "flex": null,
            "_model_name": "LayoutModel",
            "justify_items": null,
            "grid_row": null,
            "max_height": null,
            "align_content": null,
            "visibility": null,
            "align_self": null,
            "height": null,
            "min_height": null,
            "padding": null,
            "grid_auto_rows": null,
            "grid_gap": null,
            "max_width": null,
            "order": null,
            "_view_module_version": "1.2.0",
            "grid_template_areas": null,
            "object_position": null,
            "object_fit": null,
            "grid_auto_columns": null,
            "margin": null,
            "display": null,
            "left": null
          }
        },
        "f0bfb5447b374b45932afed6489a67e8": {
          "model_module": "@jupyter-widgets/controls",
          "model_name": "HBoxModel",
          "state": {
            "_view_name": "HBoxView",
            "_dom_classes": [],
            "_model_name": "HBoxModel",
            "_view_module": "@jupyter-widgets/controls",
            "_model_module_version": "1.5.0",
            "_view_count": null,
            "_view_module_version": "1.5.0",
            "box_style": "",
            "layout": "IPY_MODEL_d578ec34916f446abbb5aaf17817a426",
            "_model_module": "@jupyter-widgets/controls",
            "children": [
              "IPY_MODEL_f4fdb2a5559b482e84f9e7465071782c",
              "IPY_MODEL_681dbea82baf4eb082230c640d1b4ec9"
            ]
          }
        },
        "d578ec34916f446abbb5aaf17817a426": {
          "model_module": "@jupyter-widgets/base",
          "model_name": "LayoutModel",
          "state": {
            "_view_name": "LayoutView",
            "grid_template_rows": null,
            "right": null,
            "justify_content": null,
            "_view_module": "@jupyter-widgets/base",
            "overflow": null,
            "_model_module_version": "1.2.0",
            "_view_count": null,
            "flex_flow": null,
            "width": null,
            "min_width": null,
            "border": null,
            "align_items": null,
            "bottom": null,
            "_model_module": "@jupyter-widgets/base",
            "top": null,
            "grid_column": null,
            "overflow_y": null,
            "overflow_x": null,
            "grid_auto_flow": null,
            "grid_area": null,
            "grid_template_columns": null,
            "flex": null,
            "_model_name": "LayoutModel",
            "justify_items": null,
            "grid_row": null,
            "max_height": null,
            "align_content": null,
            "visibility": null,
            "align_self": null,
            "height": null,
            "min_height": null,
            "padding": null,
            "grid_auto_rows": null,
            "grid_gap": null,
            "max_width": null,
            "order": null,
            "_view_module_version": "1.2.0",
            "grid_template_areas": null,
            "object_position": null,
            "object_fit": null,
            "grid_auto_columns": null,
            "margin": null,
            "display": null,
            "left": null
          }
        },
        "f4fdb2a5559b482e84f9e7465071782c": {
          "model_module": "@jupyter-widgets/controls",
          "model_name": "FloatProgressModel",
          "state": {
            "_view_name": "ProgressView",
            "style": "IPY_MODEL_c4113096379f464b9bb2158ef74852fc",
            "_dom_classes": [],
            "description": "100%",
            "_model_name": "FloatProgressModel",
            "bar_style": "success",
            "max": 64,
            "_view_module": "@jupyter-widgets/controls",
            "_model_module_version": "1.5.0",
            "value": 64,
            "_view_count": null,
            "_view_module_version": "1.5.0",
            "orientation": "horizontal",
            "min": 0,
            "description_tooltip": null,
            "_model_module": "@jupyter-widgets/controls",
            "layout": "IPY_MODEL_4459d6897c7b42bdadabc914a087653d"
          }
        },
        "681dbea82baf4eb082230c640d1b4ec9": {
          "model_module": "@jupyter-widgets/controls",
          "model_name": "HTMLModel",
          "state": {
            "_view_name": "HTMLView",
            "style": "IPY_MODEL_774fc47921074a809d8c82c9d814c5f9",
            "_dom_classes": [],
            "description": "",
            "_model_name": "HTMLModel",
            "placeholder": "​",
            "_view_module": "@jupyter-widgets/controls",
            "_model_module_version": "1.5.0",
            "value": " 64/64 [00:00&lt;00:00, 238.14it/s]",
            "_view_count": null,
            "_view_module_version": "1.5.0",
            "description_tooltip": null,
            "_model_module": "@jupyter-widgets/controls",
            "layout": "IPY_MODEL_848f6db15b2344c58d64d4f87dd48cbf"
          }
        },
        "c4113096379f464b9bb2158ef74852fc": {
          "model_module": "@jupyter-widgets/controls",
          "model_name": "ProgressStyleModel",
          "state": {
            "_view_name": "StyleView",
            "_model_name": "ProgressStyleModel",
            "description_width": "initial",
            "_view_module": "@jupyter-widgets/base",
            "_model_module_version": "1.5.0",
            "_view_count": null,
            "_view_module_version": "1.2.0",
            "bar_color": null,
            "_model_module": "@jupyter-widgets/controls"
          }
        },
        "4459d6897c7b42bdadabc914a087653d": {
          "model_module": "@jupyter-widgets/base",
          "model_name": "LayoutModel",
          "state": {
            "_view_name": "LayoutView",
            "grid_template_rows": null,
            "right": null,
            "justify_content": null,
            "_view_module": "@jupyter-widgets/base",
            "overflow": null,
            "_model_module_version": "1.2.0",
            "_view_count": null,
            "flex_flow": null,
            "width": null,
            "min_width": null,
            "border": null,
            "align_items": null,
            "bottom": null,
            "_model_module": "@jupyter-widgets/base",
            "top": null,
            "grid_column": null,
            "overflow_y": null,
            "overflow_x": null,
            "grid_auto_flow": null,
            "grid_area": null,
            "grid_template_columns": null,
            "flex": null,
            "_model_name": "LayoutModel",
            "justify_items": null,
            "grid_row": null,
            "max_height": null,
            "align_content": null,
            "visibility": null,
            "align_self": null,
            "height": null,
            "min_height": null,
            "padding": null,
            "grid_auto_rows": null,
            "grid_gap": null,
            "max_width": null,
            "order": null,
            "_view_module_version": "1.2.0",
            "grid_template_areas": null,
            "object_position": null,
            "object_fit": null,
            "grid_auto_columns": null,
            "margin": null,
            "display": null,
            "left": null
          }
        },
        "774fc47921074a809d8c82c9d814c5f9": {
          "model_module": "@jupyter-widgets/controls",
          "model_name": "DescriptionStyleModel",
          "state": {
            "_view_name": "StyleView",
            "_model_name": "DescriptionStyleModel",
            "description_width": "",
            "_view_module": "@jupyter-widgets/base",
            "_model_module_version": "1.5.0",
            "_view_count": null,
            "_view_module_version": "1.2.0",
            "_model_module": "@jupyter-widgets/controls"
          }
        },
        "848f6db15b2344c58d64d4f87dd48cbf": {
          "model_module": "@jupyter-widgets/base",
          "model_name": "LayoutModel",
          "state": {
            "_view_name": "LayoutView",
            "grid_template_rows": null,
            "right": null,
            "justify_content": null,
            "_view_module": "@jupyter-widgets/base",
            "overflow": null,
            "_model_module_version": "1.2.0",
            "_view_count": null,
            "flex_flow": null,
            "width": null,
            "min_width": null,
            "border": null,
            "align_items": null,
            "bottom": null,
            "_model_module": "@jupyter-widgets/base",
            "top": null,
            "grid_column": null,
            "overflow_y": null,
            "overflow_x": null,
            "grid_auto_flow": null,
            "grid_area": null,
            "grid_template_columns": null,
            "flex": null,
            "_model_name": "LayoutModel",
            "justify_items": null,
            "grid_row": null,
            "max_height": null,
            "align_content": null,
            "visibility": null,
            "align_self": null,
            "height": null,
            "min_height": null,
            "padding": null,
            "grid_auto_rows": null,
            "grid_gap": null,
            "max_width": null,
            "order": null,
            "_view_module_version": "1.2.0",
            "grid_template_areas": null,
            "object_position": null,
            "object_fit": null,
            "grid_auto_columns": null,
            "margin": null,
            "display": null,
            "left": null
          }
        },
        "534f9f4fc88e4e81a72e9d81b9a5648d": {
          "model_module": "@jupyter-widgets/controls",
          "model_name": "HBoxModel",
          "state": {
            "_view_name": "HBoxView",
            "_dom_classes": [],
            "_model_name": "HBoxModel",
            "_view_module": "@jupyter-widgets/controls",
            "_model_module_version": "1.5.0",
            "_view_count": null,
            "_view_module_version": "1.5.0",
            "box_style": "",
            "layout": "IPY_MODEL_29122410a67c4d729f961b5f5570e3e4",
            "_model_module": "@jupyter-widgets/controls",
            "children": [
              "IPY_MODEL_d873a9252af64730a799f561ada8677f",
              "IPY_MODEL_8e55ea779e304a8299bad7e052640a3c"
            ]
          }
        },
        "29122410a67c4d729f961b5f5570e3e4": {
          "model_module": "@jupyter-widgets/base",
          "model_name": "LayoutModel",
          "state": {
            "_view_name": "LayoutView",
            "grid_template_rows": null,
            "right": null,
            "justify_content": null,
            "_view_module": "@jupyter-widgets/base",
            "overflow": null,
            "_model_module_version": "1.2.0",
            "_view_count": null,
            "flex_flow": null,
            "width": null,
            "min_width": null,
            "border": null,
            "align_items": null,
            "bottom": null,
            "_model_module": "@jupyter-widgets/base",
            "top": null,
            "grid_column": null,
            "overflow_y": null,
            "overflow_x": null,
            "grid_auto_flow": null,
            "grid_area": null,
            "grid_template_columns": null,
            "flex": null,
            "_model_name": "LayoutModel",
            "justify_items": null,
            "grid_row": null,
            "max_height": null,
            "align_content": null,
            "visibility": null,
            "align_self": null,
            "height": null,
            "min_height": null,
            "padding": null,
            "grid_auto_rows": null,
            "grid_gap": null,
            "max_width": null,
            "order": null,
            "_view_module_version": "1.2.0",
            "grid_template_areas": null,
            "object_position": null,
            "object_fit": null,
            "grid_auto_columns": null,
            "margin": null,
            "display": null,
            "left": null
          }
        },
        "d873a9252af64730a799f561ada8677f": {
          "model_module": "@jupyter-widgets/controls",
          "model_name": "FloatProgressModel",
          "state": {
            "_view_name": "ProgressView",
            "style": "IPY_MODEL_45aac35c512948ea964d175cb7353fe9",
            "_dom_classes": [],
            "description": "100%",
            "_model_name": "FloatProgressModel",
            "bar_style": "success",
            "max": 3580,
            "_view_module": "@jupyter-widgets/controls",
            "_model_module_version": "1.5.0",
            "value": 3580,
            "_view_count": null,
            "_view_module_version": "1.5.0",
            "orientation": "horizontal",
            "min": 0,
            "description_tooltip": null,
            "_model_module": "@jupyter-widgets/controls",
            "layout": "IPY_MODEL_37fea365dff1432e8c2982a10ee5307f"
          }
        },
        "8e55ea779e304a8299bad7e052640a3c": {
          "model_module": "@jupyter-widgets/controls",
          "model_name": "HTMLModel",
          "state": {
            "_view_name": "HTMLView",
            "style": "IPY_MODEL_e1af434e3b3644f99534e97cfea29533",
            "_dom_classes": [],
            "description": "",
            "_model_name": "HTMLModel",
            "placeholder": "​",
            "_view_module": "@jupyter-widgets/controls",
            "_model_module_version": "1.5.0",
            "value": " 3580/3580 [00:00&lt;00:00, 41481.30it/s]",
            "_view_count": null,
            "_view_module_version": "1.5.0",
            "description_tooltip": null,
            "_model_module": "@jupyter-widgets/controls",
            "layout": "IPY_MODEL_2782a4ec534d41faad0a26227706f274"
          }
        },
        "45aac35c512948ea964d175cb7353fe9": {
          "model_module": "@jupyter-widgets/controls",
          "model_name": "ProgressStyleModel",
          "state": {
            "_view_name": "StyleView",
            "_model_name": "ProgressStyleModel",
            "description_width": "initial",
            "_view_module": "@jupyter-widgets/base",
            "_model_module_version": "1.5.0",
            "_view_count": null,
            "_view_module_version": "1.2.0",
            "bar_color": null,
            "_model_module": "@jupyter-widgets/controls"
          }
        },
        "37fea365dff1432e8c2982a10ee5307f": {
          "model_module": "@jupyter-widgets/base",
          "model_name": "LayoutModel",
          "state": {
            "_view_name": "LayoutView",
            "grid_template_rows": null,
            "right": null,
            "justify_content": null,
            "_view_module": "@jupyter-widgets/base",
            "overflow": null,
            "_model_module_version": "1.2.0",
            "_view_count": null,
            "flex_flow": null,
            "width": null,
            "min_width": null,
            "border": null,
            "align_items": null,
            "bottom": null,
            "_model_module": "@jupyter-widgets/base",
            "top": null,
            "grid_column": null,
            "overflow_y": null,
            "overflow_x": null,
            "grid_auto_flow": null,
            "grid_area": null,
            "grid_template_columns": null,
            "flex": null,
            "_model_name": "LayoutModel",
            "justify_items": null,
            "grid_row": null,
            "max_height": null,
            "align_content": null,
            "visibility": null,
            "align_self": null,
            "height": null,
            "min_height": null,
            "padding": null,
            "grid_auto_rows": null,
            "grid_gap": null,
            "max_width": null,
            "order": null,
            "_view_module_version": "1.2.0",
            "grid_template_areas": null,
            "object_position": null,
            "object_fit": null,
            "grid_auto_columns": null,
            "margin": null,
            "display": null,
            "left": null
          }
        },
        "e1af434e3b3644f99534e97cfea29533": {
          "model_module": "@jupyter-widgets/controls",
          "model_name": "DescriptionStyleModel",
          "state": {
            "_view_name": "StyleView",
            "_model_name": "DescriptionStyleModel",
            "description_width": "",
            "_view_module": "@jupyter-widgets/base",
            "_model_module_version": "1.5.0",
            "_view_count": null,
            "_view_module_version": "1.2.0",
            "_model_module": "@jupyter-widgets/controls"
          }
        },
        "2782a4ec534d41faad0a26227706f274": {
          "model_module": "@jupyter-widgets/base",
          "model_name": "LayoutModel",
          "state": {
            "_view_name": "LayoutView",
            "grid_template_rows": null,
            "right": null,
            "justify_content": null,
            "_view_module": "@jupyter-widgets/base",
            "overflow": null,
            "_model_module_version": "1.2.0",
            "_view_count": null,
            "flex_flow": null,
            "width": null,
            "min_width": null,
            "border": null,
            "align_items": null,
            "bottom": null,
            "_model_module": "@jupyter-widgets/base",
            "top": null,
            "grid_column": null,
            "overflow_y": null,
            "overflow_x": null,
            "grid_auto_flow": null,
            "grid_area": null,
            "grid_template_columns": null,
            "flex": null,
            "_model_name": "LayoutModel",
            "justify_items": null,
            "grid_row": null,
            "max_height": null,
            "align_content": null,
            "visibility": null,
            "align_self": null,
            "height": null,
            "min_height": null,
            "padding": null,
            "grid_auto_rows": null,
            "grid_gap": null,
            "max_width": null,
            "order": null,
            "_view_module_version": "1.2.0",
            "grid_template_areas": null,
            "object_position": null,
            "object_fit": null,
            "grid_auto_columns": null,
            "margin": null,
            "display": null,
            "left": null
          }
        },
        "013a3c838d7c4571946d62882d6cf1a0": {
          "model_module": "@jupyter-widgets/controls",
          "model_name": "HBoxModel",
          "state": {
            "_view_name": "HBoxView",
            "_dom_classes": [],
            "_model_name": "HBoxModel",
            "_view_module": "@jupyter-widgets/controls",
            "_model_module_version": "1.5.0",
            "_view_count": null,
            "_view_module_version": "1.5.0",
            "box_style": "",
            "layout": "IPY_MODEL_04879c3a956b4eca8eeec56a47d926a9",
            "_model_module": "@jupyter-widgets/controls",
            "children": [
              "IPY_MODEL_36bee4dd22ab4c0fbe18f7238d1a5919",
              "IPY_MODEL_5ce34677aab94e6da06c14b4629cf5b1"
            ]
          }
        },
        "04879c3a956b4eca8eeec56a47d926a9": {
          "model_module": "@jupyter-widgets/base",
          "model_name": "LayoutModel",
          "state": {
            "_view_name": "LayoutView",
            "grid_template_rows": null,
            "right": null,
            "justify_content": null,
            "_view_module": "@jupyter-widgets/base",
            "overflow": null,
            "_model_module_version": "1.2.0",
            "_view_count": null,
            "flex_flow": null,
            "width": null,
            "min_width": null,
            "border": null,
            "align_items": null,
            "bottom": null,
            "_model_module": "@jupyter-widgets/base",
            "top": null,
            "grid_column": null,
            "overflow_y": null,
            "overflow_x": null,
            "grid_auto_flow": null,
            "grid_area": null,
            "grid_template_columns": null,
            "flex": null,
            "_model_name": "LayoutModel",
            "justify_items": null,
            "grid_row": null,
            "max_height": null,
            "align_content": null,
            "visibility": null,
            "align_self": null,
            "height": null,
            "min_height": null,
            "padding": null,
            "grid_auto_rows": null,
            "grid_gap": null,
            "max_width": null,
            "order": null,
            "_view_module_version": "1.2.0",
            "grid_template_areas": null,
            "object_position": null,
            "object_fit": null,
            "grid_auto_columns": null,
            "margin": null,
            "display": null,
            "left": null
          }
        },
        "36bee4dd22ab4c0fbe18f7238d1a5919": {
          "model_module": "@jupyter-widgets/controls",
          "model_name": "FloatProgressModel",
          "state": {
            "_view_name": "ProgressView",
            "style": "IPY_MODEL_a6b4336146b442c99f43132e1f461c38",
            "_dom_classes": [],
            "description": "100%",
            "_model_name": "FloatProgressModel",
            "bar_style": "success",
            "max": 104,
            "_view_module": "@jupyter-widgets/controls",
            "_model_module_version": "1.5.0",
            "value": 104,
            "_view_count": null,
            "_view_module_version": "1.5.0",
            "orientation": "horizontal",
            "min": 0,
            "description_tooltip": null,
            "_model_module": "@jupyter-widgets/controls",
            "layout": "IPY_MODEL_67e1dbac03ef4db097f2b3b236c21ee8"
          }
        },
        "5ce34677aab94e6da06c14b4629cf5b1": {
          "model_module": "@jupyter-widgets/controls",
          "model_name": "HTMLModel",
          "state": {
            "_view_name": "HTMLView",
            "style": "IPY_MODEL_c7ed2d7677954b0ca6be318cfa64fcc5",
            "_dom_classes": [],
            "description": "",
            "_model_name": "HTMLModel",
            "placeholder": "​",
            "_view_module": "@jupyter-widgets/controls",
            "_model_module_version": "1.5.0",
            "value": " 104/104 [00:00&lt;00:00, 2280.36it/s]",
            "_view_count": null,
            "_view_module_version": "1.5.0",
            "description_tooltip": null,
            "_model_module": "@jupyter-widgets/controls",
            "layout": "IPY_MODEL_25e7d3db62db4215a3ae03d0341f5f53"
          }
        },
        "a6b4336146b442c99f43132e1f461c38": {
          "model_module": "@jupyter-widgets/controls",
          "model_name": "ProgressStyleModel",
          "state": {
            "_view_name": "StyleView",
            "_model_name": "ProgressStyleModel",
            "description_width": "initial",
            "_view_module": "@jupyter-widgets/base",
            "_model_module_version": "1.5.0",
            "_view_count": null,
            "_view_module_version": "1.2.0",
            "bar_color": null,
            "_model_module": "@jupyter-widgets/controls"
          }
        },
        "67e1dbac03ef4db097f2b3b236c21ee8": {
          "model_module": "@jupyter-widgets/base",
          "model_name": "LayoutModel",
          "state": {
            "_view_name": "LayoutView",
            "grid_template_rows": null,
            "right": null,
            "justify_content": null,
            "_view_module": "@jupyter-widgets/base",
            "overflow": null,
            "_model_module_version": "1.2.0",
            "_view_count": null,
            "flex_flow": null,
            "width": null,
            "min_width": null,
            "border": null,
            "align_items": null,
            "bottom": null,
            "_model_module": "@jupyter-widgets/base",
            "top": null,
            "grid_column": null,
            "overflow_y": null,
            "overflow_x": null,
            "grid_auto_flow": null,
            "grid_area": null,
            "grid_template_columns": null,
            "flex": null,
            "_model_name": "LayoutModel",
            "justify_items": null,
            "grid_row": null,
            "max_height": null,
            "align_content": null,
            "visibility": null,
            "align_self": null,
            "height": null,
            "min_height": null,
            "padding": null,
            "grid_auto_rows": null,
            "grid_gap": null,
            "max_width": null,
            "order": null,
            "_view_module_version": "1.2.0",
            "grid_template_areas": null,
            "object_position": null,
            "object_fit": null,
            "grid_auto_columns": null,
            "margin": null,
            "display": null,
            "left": null
          }
        },
        "c7ed2d7677954b0ca6be318cfa64fcc5": {
          "model_module": "@jupyter-widgets/controls",
          "model_name": "DescriptionStyleModel",
          "state": {
            "_view_name": "StyleView",
            "_model_name": "DescriptionStyleModel",
            "description_width": "",
            "_view_module": "@jupyter-widgets/base",
            "_model_module_version": "1.5.0",
            "_view_count": null,
            "_view_module_version": "1.2.0",
            "_model_module": "@jupyter-widgets/controls"
          }
        },
        "25e7d3db62db4215a3ae03d0341f5f53": {
          "model_module": "@jupyter-widgets/base",
          "model_name": "LayoutModel",
          "state": {
            "_view_name": "LayoutView",
            "grid_template_rows": null,
            "right": null,
            "justify_content": null,
            "_view_module": "@jupyter-widgets/base",
            "overflow": null,
            "_model_module_version": "1.2.0",
            "_view_count": null,
            "flex_flow": null,
            "width": null,
            "min_width": null,
            "border": null,
            "align_items": null,
            "bottom": null,
            "_model_module": "@jupyter-widgets/base",
            "top": null,
            "grid_column": null,
            "overflow_y": null,
            "overflow_x": null,
            "grid_auto_flow": null,
            "grid_area": null,
            "grid_template_columns": null,
            "flex": null,
            "_model_name": "LayoutModel",
            "justify_items": null,
            "grid_row": null,
            "max_height": null,
            "align_content": null,
            "visibility": null,
            "align_self": null,
            "height": null,
            "min_height": null,
            "padding": null,
            "grid_auto_rows": null,
            "grid_gap": null,
            "max_width": null,
            "order": null,
            "_view_module_version": "1.2.0",
            "grid_template_areas": null,
            "object_position": null,
            "object_fit": null,
            "grid_auto_columns": null,
            "margin": null,
            "display": null,
            "left": null
          }
        },
        "34a1861eb41445db9993b8bda487527f": {
          "model_module": "@jupyter-widgets/controls",
          "model_name": "HBoxModel",
          "state": {
            "_view_name": "HBoxView",
            "_dom_classes": [],
            "_model_name": "HBoxModel",
            "_view_module": "@jupyter-widgets/controls",
            "_model_module_version": "1.5.0",
            "_view_count": null,
            "_view_module_version": "1.5.0",
            "box_style": "",
            "layout": "IPY_MODEL_fa5d8c90ad004919b805b6e30ad54bb7",
            "_model_module": "@jupyter-widgets/controls",
            "children": [
              "IPY_MODEL_3507efb456534046b57f7ad7f8537259",
              "IPY_MODEL_62b0b88a2901493ab46161b2bf495392"
            ]
          }
        },
        "fa5d8c90ad004919b805b6e30ad54bb7": {
          "model_module": "@jupyter-widgets/base",
          "model_name": "LayoutModel",
          "state": {
            "_view_name": "LayoutView",
            "grid_template_rows": null,
            "right": null,
            "justify_content": null,
            "_view_module": "@jupyter-widgets/base",
            "overflow": null,
            "_model_module_version": "1.2.0",
            "_view_count": null,
            "flex_flow": null,
            "width": null,
            "min_width": null,
            "border": null,
            "align_items": null,
            "bottom": null,
            "_model_module": "@jupyter-widgets/base",
            "top": null,
            "grid_column": null,
            "overflow_y": null,
            "overflow_x": null,
            "grid_auto_flow": null,
            "grid_area": null,
            "grid_template_columns": null,
            "flex": null,
            "_model_name": "LayoutModel",
            "justify_items": null,
            "grid_row": null,
            "max_height": null,
            "align_content": null,
            "visibility": null,
            "align_self": null,
            "height": null,
            "min_height": null,
            "padding": null,
            "grid_auto_rows": null,
            "grid_gap": null,
            "max_width": null,
            "order": null,
            "_view_module_version": "1.2.0",
            "grid_template_areas": null,
            "object_position": null,
            "object_fit": null,
            "grid_auto_columns": null,
            "margin": null,
            "display": null,
            "left": null
          }
        },
        "3507efb456534046b57f7ad7f8537259": {
          "model_module": "@jupyter-widgets/controls",
          "model_name": "FloatProgressModel",
          "state": {
            "_view_name": "ProgressView",
            "style": "IPY_MODEL_ecc567a207b14690814d5e677d40f182",
            "_dom_classes": [],
            "description": "100%",
            "_model_name": "FloatProgressModel",
            "bar_style": "success",
            "max": 221,
            "_view_module": "@jupyter-widgets/controls",
            "_model_module_version": "1.5.0",
            "value": 221,
            "_view_count": null,
            "_view_module_version": "1.5.0",
            "orientation": "horizontal",
            "min": 0,
            "description_tooltip": null,
            "_model_module": "@jupyter-widgets/controls",
            "layout": "IPY_MODEL_c22314a270fe43669ec5bcb3dac1abd1"
          }
        },
        "62b0b88a2901493ab46161b2bf495392": {
          "model_module": "@jupyter-widgets/controls",
          "model_name": "HTMLModel",
          "state": {
            "_view_name": "HTMLView",
            "style": "IPY_MODEL_46e8a13792354f70bed47c145f5eccd8",
            "_dom_classes": [],
            "description": "",
            "_model_name": "HTMLModel",
            "placeholder": "​",
            "_view_module": "@jupyter-widgets/controls",
            "_model_module_version": "1.5.0",
            "value": " 221/221 [00:00&lt;00:00, 1687.63it/s]",
            "_view_count": null,
            "_view_module_version": "1.5.0",
            "description_tooltip": null,
            "_model_module": "@jupyter-widgets/controls",
            "layout": "IPY_MODEL_b18d80cf221c498fa6a5497788dbba02"
          }
        },
        "ecc567a207b14690814d5e677d40f182": {
          "model_module": "@jupyter-widgets/controls",
          "model_name": "ProgressStyleModel",
          "state": {
            "_view_name": "StyleView",
            "_model_name": "ProgressStyleModel",
            "description_width": "initial",
            "_view_module": "@jupyter-widgets/base",
            "_model_module_version": "1.5.0",
            "_view_count": null,
            "_view_module_version": "1.2.0",
            "bar_color": null,
            "_model_module": "@jupyter-widgets/controls"
          }
        },
        "c22314a270fe43669ec5bcb3dac1abd1": {
          "model_module": "@jupyter-widgets/base",
          "model_name": "LayoutModel",
          "state": {
            "_view_name": "LayoutView",
            "grid_template_rows": null,
            "right": null,
            "justify_content": null,
            "_view_module": "@jupyter-widgets/base",
            "overflow": null,
            "_model_module_version": "1.2.0",
            "_view_count": null,
            "flex_flow": null,
            "width": null,
            "min_width": null,
            "border": null,
            "align_items": null,
            "bottom": null,
            "_model_module": "@jupyter-widgets/base",
            "top": null,
            "grid_column": null,
            "overflow_y": null,
            "overflow_x": null,
            "grid_auto_flow": null,
            "grid_area": null,
            "grid_template_columns": null,
            "flex": null,
            "_model_name": "LayoutModel",
            "justify_items": null,
            "grid_row": null,
            "max_height": null,
            "align_content": null,
            "visibility": null,
            "align_self": null,
            "height": null,
            "min_height": null,
            "padding": null,
            "grid_auto_rows": null,
            "grid_gap": null,
            "max_width": null,
            "order": null,
            "_view_module_version": "1.2.0",
            "grid_template_areas": null,
            "object_position": null,
            "object_fit": null,
            "grid_auto_columns": null,
            "margin": null,
            "display": null,
            "left": null
          }
        },
        "46e8a13792354f70bed47c145f5eccd8": {
          "model_module": "@jupyter-widgets/controls",
          "model_name": "DescriptionStyleModel",
          "state": {
            "_view_name": "StyleView",
            "_model_name": "DescriptionStyleModel",
            "description_width": "",
            "_view_module": "@jupyter-widgets/base",
            "_model_module_version": "1.5.0",
            "_view_count": null,
            "_view_module_version": "1.2.0",
            "_model_module": "@jupyter-widgets/controls"
          }
        },
        "b18d80cf221c498fa6a5497788dbba02": {
          "model_module": "@jupyter-widgets/base",
          "model_name": "LayoutModel",
          "state": {
            "_view_name": "LayoutView",
            "grid_template_rows": null,
            "right": null,
            "justify_content": null,
            "_view_module": "@jupyter-widgets/base",
            "overflow": null,
            "_model_module_version": "1.2.0",
            "_view_count": null,
            "flex_flow": null,
            "width": null,
            "min_width": null,
            "border": null,
            "align_items": null,
            "bottom": null,
            "_model_module": "@jupyter-widgets/base",
            "top": null,
            "grid_column": null,
            "overflow_y": null,
            "overflow_x": null,
            "grid_auto_flow": null,
            "grid_area": null,
            "grid_template_columns": null,
            "flex": null,
            "_model_name": "LayoutModel",
            "justify_items": null,
            "grid_row": null,
            "max_height": null,
            "align_content": null,
            "visibility": null,
            "align_self": null,
            "height": null,
            "min_height": null,
            "padding": null,
            "grid_auto_rows": null,
            "grid_gap": null,
            "max_width": null,
            "order": null,
            "_view_module_version": "1.2.0",
            "grid_template_areas": null,
            "object_position": null,
            "object_fit": null,
            "grid_auto_columns": null,
            "margin": null,
            "display": null,
            "left": null
          }
        },
        "b9631737b6a540279c81cc78b76dfd71": {
          "model_module": "@jupyter-widgets/controls",
          "model_name": "HBoxModel",
          "state": {
            "_view_name": "HBoxView",
            "_dom_classes": [],
            "_model_name": "HBoxModel",
            "_view_module": "@jupyter-widgets/controls",
            "_model_module_version": "1.5.0",
            "_view_count": null,
            "_view_module_version": "1.5.0",
            "box_style": "",
            "layout": "IPY_MODEL_c48ead07233c4533beae6c158bd5afbc",
            "_model_module": "@jupyter-widgets/controls",
            "children": [
              "IPY_MODEL_427c73b836c94b9c83c2b46ce30f6c2d",
              "IPY_MODEL_e657e15687b1482ea2135061ebe2b7fd"
            ]
          }
        },
        "c48ead07233c4533beae6c158bd5afbc": {
          "model_module": "@jupyter-widgets/base",
          "model_name": "LayoutModel",
          "state": {
            "_view_name": "LayoutView",
            "grid_template_rows": null,
            "right": null,
            "justify_content": null,
            "_view_module": "@jupyter-widgets/base",
            "overflow": null,
            "_model_module_version": "1.2.0",
            "_view_count": null,
            "flex_flow": null,
            "width": null,
            "min_width": null,
            "border": null,
            "align_items": null,
            "bottom": null,
            "_model_module": "@jupyter-widgets/base",
            "top": null,
            "grid_column": null,
            "overflow_y": null,
            "overflow_x": null,
            "grid_auto_flow": null,
            "grid_area": null,
            "grid_template_columns": null,
            "flex": null,
            "_model_name": "LayoutModel",
            "justify_items": null,
            "grid_row": null,
            "max_height": null,
            "align_content": null,
            "visibility": null,
            "align_self": null,
            "height": null,
            "min_height": null,
            "padding": null,
            "grid_auto_rows": null,
            "grid_gap": null,
            "max_width": null,
            "order": null,
            "_view_module_version": "1.2.0",
            "grid_template_areas": null,
            "object_position": null,
            "object_fit": null,
            "grid_auto_columns": null,
            "margin": null,
            "display": null,
            "left": null
          }
        },
        "427c73b836c94b9c83c2b46ce30f6c2d": {
          "model_module": "@jupyter-widgets/controls",
          "model_name": "FloatProgressModel",
          "state": {
            "_view_name": "ProgressView",
            "style": "IPY_MODEL_5b0c206bf22a43bfb448060ebe07fd9d",
            "_dom_classes": [],
            "description": "Downloading: 100%",
            "_model_name": "FloatProgressModel",
            "bar_style": "success",
            "max": 498,
            "_view_module": "@jupyter-widgets/controls",
            "_model_module_version": "1.5.0",
            "value": 498,
            "_view_count": null,
            "_view_module_version": "1.5.0",
            "orientation": "horizontal",
            "min": 0,
            "description_tooltip": null,
            "_model_module": "@jupyter-widgets/controls",
            "layout": "IPY_MODEL_1a5e76b1a41c4064bc7da2bf24959700"
          }
        },
        "e657e15687b1482ea2135061ebe2b7fd": {
          "model_module": "@jupyter-widgets/controls",
          "model_name": "HTMLModel",
          "state": {
            "_view_name": "HTMLView",
            "style": "IPY_MODEL_bbe077c87847482e9bbe09dbfb29e9d7",
            "_dom_classes": [],
            "description": "",
            "_model_name": "HTMLModel",
            "placeholder": "​",
            "_view_module": "@jupyter-widgets/controls",
            "_model_module_version": "1.5.0",
            "value": " 498/498 [00:00&lt;00:00, 5.06kB/s]",
            "_view_count": null,
            "_view_module_version": "1.5.0",
            "description_tooltip": null,
            "_model_module": "@jupyter-widgets/controls",
            "layout": "IPY_MODEL_36431709c7ac4b1cb2a35d3a1098a3a2"
          }
        },
        "5b0c206bf22a43bfb448060ebe07fd9d": {
          "model_module": "@jupyter-widgets/controls",
          "model_name": "ProgressStyleModel",
          "state": {
            "_view_name": "StyleView",
            "_model_name": "ProgressStyleModel",
            "description_width": "initial",
            "_view_module": "@jupyter-widgets/base",
            "_model_module_version": "1.5.0",
            "_view_count": null,
            "_view_module_version": "1.2.0",
            "bar_color": null,
            "_model_module": "@jupyter-widgets/controls"
          }
        },
        "1a5e76b1a41c4064bc7da2bf24959700": {
          "model_module": "@jupyter-widgets/base",
          "model_name": "LayoutModel",
          "state": {
            "_view_name": "LayoutView",
            "grid_template_rows": null,
            "right": null,
            "justify_content": null,
            "_view_module": "@jupyter-widgets/base",
            "overflow": null,
            "_model_module_version": "1.2.0",
            "_view_count": null,
            "flex_flow": null,
            "width": null,
            "min_width": null,
            "border": null,
            "align_items": null,
            "bottom": null,
            "_model_module": "@jupyter-widgets/base",
            "top": null,
            "grid_column": null,
            "overflow_y": null,
            "overflow_x": null,
            "grid_auto_flow": null,
            "grid_area": null,
            "grid_template_columns": null,
            "flex": null,
            "_model_name": "LayoutModel",
            "justify_items": null,
            "grid_row": null,
            "max_height": null,
            "align_content": null,
            "visibility": null,
            "align_self": null,
            "height": null,
            "min_height": null,
            "padding": null,
            "grid_auto_rows": null,
            "grid_gap": null,
            "max_width": null,
            "order": null,
            "_view_module_version": "1.2.0",
            "grid_template_areas": null,
            "object_position": null,
            "object_fit": null,
            "grid_auto_columns": null,
            "margin": null,
            "display": null,
            "left": null
          }
        },
        "bbe077c87847482e9bbe09dbfb29e9d7": {
          "model_module": "@jupyter-widgets/controls",
          "model_name": "DescriptionStyleModel",
          "state": {
            "_view_name": "StyleView",
            "_model_name": "DescriptionStyleModel",
            "description_width": "",
            "_view_module": "@jupyter-widgets/base",
            "_model_module_version": "1.5.0",
            "_view_count": null,
            "_view_module_version": "1.2.0",
            "_model_module": "@jupyter-widgets/controls"
          }
        },
        "36431709c7ac4b1cb2a35d3a1098a3a2": {
          "model_module": "@jupyter-widgets/base",
          "model_name": "LayoutModel",
          "state": {
            "_view_name": "LayoutView",
            "grid_template_rows": null,
            "right": null,
            "justify_content": null,
            "_view_module": "@jupyter-widgets/base",
            "overflow": null,
            "_model_module_version": "1.2.0",
            "_view_count": null,
            "flex_flow": null,
            "width": null,
            "min_width": null,
            "border": null,
            "align_items": null,
            "bottom": null,
            "_model_module": "@jupyter-widgets/base",
            "top": null,
            "grid_column": null,
            "overflow_y": null,
            "overflow_x": null,
            "grid_auto_flow": null,
            "grid_area": null,
            "grid_template_columns": null,
            "flex": null,
            "_model_name": "LayoutModel",
            "justify_items": null,
            "grid_row": null,
            "max_height": null,
            "align_content": null,
            "visibility": null,
            "align_self": null,
            "height": null,
            "min_height": null,
            "padding": null,
            "grid_auto_rows": null,
            "grid_gap": null,
            "max_width": null,
            "order": null,
            "_view_module_version": "1.2.0",
            "grid_template_areas": null,
            "object_position": null,
            "object_fit": null,
            "grid_auto_columns": null,
            "margin": null,
            "display": null,
            "left": null
          }
        },
        "729d79ff96cf4688883dd1c9c1049f2e": {
          "model_module": "@jupyter-widgets/controls",
          "model_name": "HBoxModel",
          "state": {
            "_view_name": "HBoxView",
            "_dom_classes": [],
            "_model_name": "HBoxModel",
            "_view_module": "@jupyter-widgets/controls",
            "_model_module_version": "1.5.0",
            "_view_count": null,
            "_view_module_version": "1.5.0",
            "box_style": "",
            "layout": "IPY_MODEL_05fe2a012ec04b2a94ba43fc6e4518e3",
            "_model_module": "@jupyter-widgets/controls",
            "children": [
              "IPY_MODEL_ff9a426de0a741d8acb77619a5165e94",
              "IPY_MODEL_aa326754c1b7474baeaa26297b8f6f52"
            ]
          }
        },
        "05fe2a012ec04b2a94ba43fc6e4518e3": {
          "model_module": "@jupyter-widgets/base",
          "model_name": "LayoutModel",
          "state": {
            "_view_name": "LayoutView",
            "grid_template_rows": null,
            "right": null,
            "justify_content": null,
            "_view_module": "@jupyter-widgets/base",
            "overflow": null,
            "_model_module_version": "1.2.0",
            "_view_count": null,
            "flex_flow": null,
            "width": null,
            "min_width": null,
            "border": null,
            "align_items": null,
            "bottom": null,
            "_model_module": "@jupyter-widgets/base",
            "top": null,
            "grid_column": null,
            "overflow_y": null,
            "overflow_x": null,
            "grid_auto_flow": null,
            "grid_area": null,
            "grid_template_columns": null,
            "flex": null,
            "_model_name": "LayoutModel",
            "justify_items": null,
            "grid_row": null,
            "max_height": null,
            "align_content": null,
            "visibility": null,
            "align_self": null,
            "height": null,
            "min_height": null,
            "padding": null,
            "grid_auto_rows": null,
            "grid_gap": null,
            "max_width": null,
            "order": null,
            "_view_module_version": "1.2.0",
            "grid_template_areas": null,
            "object_position": null,
            "object_fit": null,
            "grid_auto_columns": null,
            "margin": null,
            "display": null,
            "left": null
          }
        },
        "ff9a426de0a741d8acb77619a5165e94": {
          "model_module": "@jupyter-widgets/controls",
          "model_name": "FloatProgressModel",
          "state": {
            "_view_name": "ProgressView",
            "style": "IPY_MODEL_2d16b90f3fef416ea1f14ed9d8b1dc66",
            "_dom_classes": [],
            "description": "Downloading: 100%",
            "_model_name": "FloatProgressModel",
            "bar_style": "success",
            "max": 898822,
            "_view_module": "@jupyter-widgets/controls",
            "_model_module_version": "1.5.0",
            "value": 898822,
            "_view_count": null,
            "_view_module_version": "1.5.0",
            "orientation": "horizontal",
            "min": 0,
            "description_tooltip": null,
            "_model_module": "@jupyter-widgets/controls",
            "layout": "IPY_MODEL_4aa997f4850646a8b958ef0e6a57e431"
          }
        },
        "aa326754c1b7474baeaa26297b8f6f52": {
          "model_module": "@jupyter-widgets/controls",
          "model_name": "HTMLModel",
          "state": {
            "_view_name": "HTMLView",
            "style": "IPY_MODEL_e156ccff41ee49049f495991d19ea15a",
            "_dom_classes": [],
            "description": "",
            "_model_name": "HTMLModel",
            "placeholder": "​",
            "_view_module": "@jupyter-widgets/controls",
            "_model_module_version": "1.5.0",
            "value": " 899k/899k [00:00&lt;00:00, 2.20MB/s]",
            "_view_count": null,
            "_view_module_version": "1.5.0",
            "description_tooltip": null,
            "_model_module": "@jupyter-widgets/controls",
            "layout": "IPY_MODEL_e239fed6374d4a6b8c9f8eb89387985a"
          }
        },
        "2d16b90f3fef416ea1f14ed9d8b1dc66": {
          "model_module": "@jupyter-widgets/controls",
          "model_name": "ProgressStyleModel",
          "state": {
            "_view_name": "StyleView",
            "_model_name": "ProgressStyleModel",
            "description_width": "initial",
            "_view_module": "@jupyter-widgets/base",
            "_model_module_version": "1.5.0",
            "_view_count": null,
            "_view_module_version": "1.2.0",
            "bar_color": null,
            "_model_module": "@jupyter-widgets/controls"
          }
        },
        "4aa997f4850646a8b958ef0e6a57e431": {
          "model_module": "@jupyter-widgets/base",
          "model_name": "LayoutModel",
          "state": {
            "_view_name": "LayoutView",
            "grid_template_rows": null,
            "right": null,
            "justify_content": null,
            "_view_module": "@jupyter-widgets/base",
            "overflow": null,
            "_model_module_version": "1.2.0",
            "_view_count": null,
            "flex_flow": null,
            "width": null,
            "min_width": null,
            "border": null,
            "align_items": null,
            "bottom": null,
            "_model_module": "@jupyter-widgets/base",
            "top": null,
            "grid_column": null,
            "overflow_y": null,
            "overflow_x": null,
            "grid_auto_flow": null,
            "grid_area": null,
            "grid_template_columns": null,
            "flex": null,
            "_model_name": "LayoutModel",
            "justify_items": null,
            "grid_row": null,
            "max_height": null,
            "align_content": null,
            "visibility": null,
            "align_self": null,
            "height": null,
            "min_height": null,
            "padding": null,
            "grid_auto_rows": null,
            "grid_gap": null,
            "max_width": null,
            "order": null,
            "_view_module_version": "1.2.0",
            "grid_template_areas": null,
            "object_position": null,
            "object_fit": null,
            "grid_auto_columns": null,
            "margin": null,
            "display": null,
            "left": null
          }
        },
        "e156ccff41ee49049f495991d19ea15a": {
          "model_module": "@jupyter-widgets/controls",
          "model_name": "DescriptionStyleModel",
          "state": {
            "_view_name": "StyleView",
            "_model_name": "DescriptionStyleModel",
            "description_width": "",
            "_view_module": "@jupyter-widgets/base",
            "_model_module_version": "1.5.0",
            "_view_count": null,
            "_view_module_version": "1.2.0",
            "_model_module": "@jupyter-widgets/controls"
          }
        },
        "e239fed6374d4a6b8c9f8eb89387985a": {
          "model_module": "@jupyter-widgets/base",
          "model_name": "LayoutModel",
          "state": {
            "_view_name": "LayoutView",
            "grid_template_rows": null,
            "right": null,
            "justify_content": null,
            "_view_module": "@jupyter-widgets/base",
            "overflow": null,
            "_model_module_version": "1.2.0",
            "_view_count": null,
            "flex_flow": null,
            "width": null,
            "min_width": null,
            "border": null,
            "align_items": null,
            "bottom": null,
            "_model_module": "@jupyter-widgets/base",
            "top": null,
            "grid_column": null,
            "overflow_y": null,
            "overflow_x": null,
            "grid_auto_flow": null,
            "grid_area": null,
            "grid_template_columns": null,
            "flex": null,
            "_model_name": "LayoutModel",
            "justify_items": null,
            "grid_row": null,
            "max_height": null,
            "align_content": null,
            "visibility": null,
            "align_self": null,
            "height": null,
            "min_height": null,
            "padding": null,
            "grid_auto_rows": null,
            "grid_gap": null,
            "max_width": null,
            "order": null,
            "_view_module_version": "1.2.0",
            "grid_template_areas": null,
            "object_position": null,
            "object_fit": null,
            "grid_auto_columns": null,
            "margin": null,
            "display": null,
            "left": null
          }
        },
        "bbeb816f10db4168852773dc2ac0df89": {
          "model_module": "@jupyter-widgets/controls",
          "model_name": "HBoxModel",
          "state": {
            "_view_name": "HBoxView",
            "_dom_classes": [],
            "_model_name": "HBoxModel",
            "_view_module": "@jupyter-widgets/controls",
            "_model_module_version": "1.5.0",
            "_view_count": null,
            "_view_module_version": "1.5.0",
            "box_style": "",
            "layout": "IPY_MODEL_d439aa8a05164bfca299c371f30de5c4",
            "_model_module": "@jupyter-widgets/controls",
            "children": [
              "IPY_MODEL_8abfea12c4844dc29cb0158038012925",
              "IPY_MODEL_1398640d480a4053abf7f88fb9e3a7a6"
            ]
          }
        },
        "d439aa8a05164bfca299c371f30de5c4": {
          "model_module": "@jupyter-widgets/base",
          "model_name": "LayoutModel",
          "state": {
            "_view_name": "LayoutView",
            "grid_template_rows": null,
            "right": null,
            "justify_content": null,
            "_view_module": "@jupyter-widgets/base",
            "overflow": null,
            "_model_module_version": "1.2.0",
            "_view_count": null,
            "flex_flow": null,
            "width": null,
            "min_width": null,
            "border": null,
            "align_items": null,
            "bottom": null,
            "_model_module": "@jupyter-widgets/base",
            "top": null,
            "grid_column": null,
            "overflow_y": null,
            "overflow_x": null,
            "grid_auto_flow": null,
            "grid_area": null,
            "grid_template_columns": null,
            "flex": null,
            "_model_name": "LayoutModel",
            "justify_items": null,
            "grid_row": null,
            "max_height": null,
            "align_content": null,
            "visibility": null,
            "align_self": null,
            "height": null,
            "min_height": null,
            "padding": null,
            "grid_auto_rows": null,
            "grid_gap": null,
            "max_width": null,
            "order": null,
            "_view_module_version": "1.2.0",
            "grid_template_areas": null,
            "object_position": null,
            "object_fit": null,
            "grid_auto_columns": null,
            "margin": null,
            "display": null,
            "left": null
          }
        },
        "8abfea12c4844dc29cb0158038012925": {
          "model_module": "@jupyter-widgets/controls",
          "model_name": "FloatProgressModel",
          "state": {
            "_view_name": "ProgressView",
            "style": "IPY_MODEL_63650038ce6f453cbf4ee5d093ab4948",
            "_dom_classes": [],
            "description": "Downloading: 100%",
            "_model_name": "FloatProgressModel",
            "bar_style": "success",
            "max": 456318,
            "_view_module": "@jupyter-widgets/controls",
            "_model_module_version": "1.5.0",
            "value": 456318,
            "_view_count": null,
            "_view_module_version": "1.5.0",
            "orientation": "horizontal",
            "min": 0,
            "description_tooltip": null,
            "_model_module": "@jupyter-widgets/controls",
            "layout": "IPY_MODEL_3badcaa03b3d4bfe828381b3a4428855"
          }
        },
        "1398640d480a4053abf7f88fb9e3a7a6": {
          "model_module": "@jupyter-widgets/controls",
          "model_name": "HTMLModel",
          "state": {
            "_view_name": "HTMLView",
            "style": "IPY_MODEL_492c9f5aead44f70a98ffe9492abcd00",
            "_dom_classes": [],
            "description": "",
            "_model_name": "HTMLModel",
            "placeholder": "​",
            "_view_module": "@jupyter-widgets/controls",
            "_model_module_version": "1.5.0",
            "value": " 456k/456k [00:00&lt;00:00, 2.32MB/s]",
            "_view_count": null,
            "_view_module_version": "1.5.0",
            "description_tooltip": null,
            "_model_module": "@jupyter-widgets/controls",
            "layout": "IPY_MODEL_6ca4e136ecfe4360abedd73054ae7bb2"
          }
        },
        "63650038ce6f453cbf4ee5d093ab4948": {
          "model_module": "@jupyter-widgets/controls",
          "model_name": "ProgressStyleModel",
          "state": {
            "_view_name": "StyleView",
            "_model_name": "ProgressStyleModel",
            "description_width": "initial",
            "_view_module": "@jupyter-widgets/base",
            "_model_module_version": "1.5.0",
            "_view_count": null,
            "_view_module_version": "1.2.0",
            "bar_color": null,
            "_model_module": "@jupyter-widgets/controls"
          }
        },
        "3badcaa03b3d4bfe828381b3a4428855": {
          "model_module": "@jupyter-widgets/base",
          "model_name": "LayoutModel",
          "state": {
            "_view_name": "LayoutView",
            "grid_template_rows": null,
            "right": null,
            "justify_content": null,
            "_view_module": "@jupyter-widgets/base",
            "overflow": null,
            "_model_module_version": "1.2.0",
            "_view_count": null,
            "flex_flow": null,
            "width": null,
            "min_width": null,
            "border": null,
            "align_items": null,
            "bottom": null,
            "_model_module": "@jupyter-widgets/base",
            "top": null,
            "grid_column": null,
            "overflow_y": null,
            "overflow_x": null,
            "grid_auto_flow": null,
            "grid_area": null,
            "grid_template_columns": null,
            "flex": null,
            "_model_name": "LayoutModel",
            "justify_items": null,
            "grid_row": null,
            "max_height": null,
            "align_content": null,
            "visibility": null,
            "align_self": null,
            "height": null,
            "min_height": null,
            "padding": null,
            "grid_auto_rows": null,
            "grid_gap": null,
            "max_width": null,
            "order": null,
            "_view_module_version": "1.2.0",
            "grid_template_areas": null,
            "object_position": null,
            "object_fit": null,
            "grid_auto_columns": null,
            "margin": null,
            "display": null,
            "left": null
          }
        },
        "492c9f5aead44f70a98ffe9492abcd00": {
          "model_module": "@jupyter-widgets/controls",
          "model_name": "DescriptionStyleModel",
          "state": {
            "_view_name": "StyleView",
            "_model_name": "DescriptionStyleModel",
            "description_width": "",
            "_view_module": "@jupyter-widgets/base",
            "_model_module_version": "1.5.0",
            "_view_count": null,
            "_view_module_version": "1.2.0",
            "_model_module": "@jupyter-widgets/controls"
          }
        },
        "6ca4e136ecfe4360abedd73054ae7bb2": {
          "model_module": "@jupyter-widgets/base",
          "model_name": "LayoutModel",
          "state": {
            "_view_name": "LayoutView",
            "grid_template_rows": null,
            "right": null,
            "justify_content": null,
            "_view_module": "@jupyter-widgets/base",
            "overflow": null,
            "_model_module_version": "1.2.0",
            "_view_count": null,
            "flex_flow": null,
            "width": null,
            "min_width": null,
            "border": null,
            "align_items": null,
            "bottom": null,
            "_model_module": "@jupyter-widgets/base",
            "top": null,
            "grid_column": null,
            "overflow_y": null,
            "overflow_x": null,
            "grid_auto_flow": null,
            "grid_area": null,
            "grid_template_columns": null,
            "flex": null,
            "_model_name": "LayoutModel",
            "justify_items": null,
            "grid_row": null,
            "max_height": null,
            "align_content": null,
            "visibility": null,
            "align_self": null,
            "height": null,
            "min_height": null,
            "padding": null,
            "grid_auto_rows": null,
            "grid_gap": null,
            "max_width": null,
            "order": null,
            "_view_module_version": "1.2.0",
            "grid_template_areas": null,
            "object_position": null,
            "object_fit": null,
            "grid_auto_columns": null,
            "margin": null,
            "display": null,
            "left": null
          }
        },
        "b5fbe640e22a46948e7855c10870a3f2": {
          "model_module": "@jupyter-widgets/controls",
          "model_name": "HBoxModel",
          "state": {
            "_view_name": "HBoxView",
            "_dom_classes": [],
            "_model_name": "HBoxModel",
            "_view_module": "@jupyter-widgets/controls",
            "_model_module_version": "1.5.0",
            "_view_count": null,
            "_view_module_version": "1.5.0",
            "box_style": "",
            "layout": "IPY_MODEL_084398d996914a68ac917bfb525d4cd9",
            "_model_module": "@jupyter-widgets/controls",
            "children": [
              "IPY_MODEL_04de005ab4d44df8b06913d3119adebd",
              "IPY_MODEL_b2449d9d10964fa687de4b31836726e9"
            ]
          }
        },
        "084398d996914a68ac917bfb525d4cd9": {
          "model_module": "@jupyter-widgets/base",
          "model_name": "LayoutModel",
          "state": {
            "_view_name": "LayoutView",
            "grid_template_rows": null,
            "right": null,
            "justify_content": null,
            "_view_module": "@jupyter-widgets/base",
            "overflow": null,
            "_model_module_version": "1.2.0",
            "_view_count": null,
            "flex_flow": null,
            "width": null,
            "min_width": null,
            "border": null,
            "align_items": null,
            "bottom": null,
            "_model_module": "@jupyter-widgets/base",
            "top": null,
            "grid_column": null,
            "overflow_y": null,
            "overflow_x": null,
            "grid_auto_flow": null,
            "grid_area": null,
            "grid_template_columns": null,
            "flex": null,
            "_model_name": "LayoutModel",
            "justify_items": null,
            "grid_row": null,
            "max_height": null,
            "align_content": null,
            "visibility": null,
            "align_self": null,
            "height": null,
            "min_height": null,
            "padding": null,
            "grid_auto_rows": null,
            "grid_gap": null,
            "max_width": null,
            "order": null,
            "_view_module_version": "1.2.0",
            "grid_template_areas": null,
            "object_position": null,
            "object_fit": null,
            "grid_auto_columns": null,
            "margin": null,
            "display": null,
            "left": null
          }
        },
        "04de005ab4d44df8b06913d3119adebd": {
          "model_module": "@jupyter-widgets/controls",
          "model_name": "FloatProgressModel",
          "state": {
            "_view_name": "ProgressView",
            "style": "IPY_MODEL_550e86e254914838be33eb4bf5d6091c",
            "_dom_classes": [],
            "description": "Downloading: 100%",
            "_model_name": "FloatProgressModel",
            "bar_style": "success",
            "max": 150,
            "_view_module": "@jupyter-widgets/controls",
            "_model_module_version": "1.5.0",
            "value": 150,
            "_view_count": null,
            "_view_module_version": "1.5.0",
            "orientation": "horizontal",
            "min": 0,
            "description_tooltip": null,
            "_model_module": "@jupyter-widgets/controls",
            "layout": "IPY_MODEL_9c5aaf17dd644f808bc202db261158b5"
          }
        },
        "b2449d9d10964fa687de4b31836726e9": {
          "model_module": "@jupyter-widgets/controls",
          "model_name": "HTMLModel",
          "state": {
            "_view_name": "HTMLView",
            "style": "IPY_MODEL_f4bfc99507244ec893cd2e81e1fb1517",
            "_dom_classes": [],
            "description": "",
            "_model_name": "HTMLModel",
            "placeholder": "​",
            "_view_module": "@jupyter-widgets/controls",
            "_model_module_version": "1.5.0",
            "value": " 150/150 [00:00&lt;00:00, 1.58kB/s]",
            "_view_count": null,
            "_view_module_version": "1.5.0",
            "description_tooltip": null,
            "_model_module": "@jupyter-widgets/controls",
            "layout": "IPY_MODEL_0839beac94ff49439df6ff4bc127c974"
          }
        },
        "550e86e254914838be33eb4bf5d6091c": {
          "model_module": "@jupyter-widgets/controls",
          "model_name": "ProgressStyleModel",
          "state": {
            "_view_name": "StyleView",
            "_model_name": "ProgressStyleModel",
            "description_width": "initial",
            "_view_module": "@jupyter-widgets/base",
            "_model_module_version": "1.5.0",
            "_view_count": null,
            "_view_module_version": "1.2.0",
            "bar_color": null,
            "_model_module": "@jupyter-widgets/controls"
          }
        },
        "9c5aaf17dd644f808bc202db261158b5": {
          "model_module": "@jupyter-widgets/base",
          "model_name": "LayoutModel",
          "state": {
            "_view_name": "LayoutView",
            "grid_template_rows": null,
            "right": null,
            "justify_content": null,
            "_view_module": "@jupyter-widgets/base",
            "overflow": null,
            "_model_module_version": "1.2.0",
            "_view_count": null,
            "flex_flow": null,
            "width": null,
            "min_width": null,
            "border": null,
            "align_items": null,
            "bottom": null,
            "_model_module": "@jupyter-widgets/base",
            "top": null,
            "grid_column": null,
            "overflow_y": null,
            "overflow_x": null,
            "grid_auto_flow": null,
            "grid_area": null,
            "grid_template_columns": null,
            "flex": null,
            "_model_name": "LayoutModel",
            "justify_items": null,
            "grid_row": null,
            "max_height": null,
            "align_content": null,
            "visibility": null,
            "align_self": null,
            "height": null,
            "min_height": null,
            "padding": null,
            "grid_auto_rows": null,
            "grid_gap": null,
            "max_width": null,
            "order": null,
            "_view_module_version": "1.2.0",
            "grid_template_areas": null,
            "object_position": null,
            "object_fit": null,
            "grid_auto_columns": null,
            "margin": null,
            "display": null,
            "left": null
          }
        },
        "f4bfc99507244ec893cd2e81e1fb1517": {
          "model_module": "@jupyter-widgets/controls",
          "model_name": "DescriptionStyleModel",
          "state": {
            "_view_name": "StyleView",
            "_model_name": "DescriptionStyleModel",
            "description_width": "",
            "_view_module": "@jupyter-widgets/base",
            "_model_module_version": "1.5.0",
            "_view_count": null,
            "_view_module_version": "1.2.0",
            "_model_module": "@jupyter-widgets/controls"
          }
        },
        "0839beac94ff49439df6ff4bc127c974": {
          "model_module": "@jupyter-widgets/base",
          "model_name": "LayoutModel",
          "state": {
            "_view_name": "LayoutView",
            "grid_template_rows": null,
            "right": null,
            "justify_content": null,
            "_view_module": "@jupyter-widgets/base",
            "overflow": null,
            "_model_module_version": "1.2.0",
            "_view_count": null,
            "flex_flow": null,
            "width": null,
            "min_width": null,
            "border": null,
            "align_items": null,
            "bottom": null,
            "_model_module": "@jupyter-widgets/base",
            "top": null,
            "grid_column": null,
            "overflow_y": null,
            "overflow_x": null,
            "grid_auto_flow": null,
            "grid_area": null,
            "grid_template_columns": null,
            "flex": null,
            "_model_name": "LayoutModel",
            "justify_items": null,
            "grid_row": null,
            "max_height": null,
            "align_content": null,
            "visibility": null,
            "align_self": null,
            "height": null,
            "min_height": null,
            "padding": null,
            "grid_auto_rows": null,
            "grid_gap": null,
            "max_width": null,
            "order": null,
            "_view_module_version": "1.2.0",
            "grid_template_areas": null,
            "object_position": null,
            "object_fit": null,
            "grid_auto_columns": null,
            "margin": null,
            "display": null,
            "left": null
          }
        },
        "c1168c1790f24e5f96868a35c5faddc2": {
          "model_module": "@jupyter-widgets/controls",
          "model_name": "HBoxModel",
          "state": {
            "_view_name": "HBoxView",
            "_dom_classes": [],
            "_model_name": "HBoxModel",
            "_view_module": "@jupyter-widgets/controls",
            "_model_module_version": "1.5.0",
            "_view_count": null,
            "_view_module_version": "1.5.0",
            "box_style": "",
            "layout": "IPY_MODEL_f09b0dbbfe3a4d608b9287701f4a6920",
            "_model_module": "@jupyter-widgets/controls",
            "children": [
              "IPY_MODEL_53b2811b57b146fa9bafdf31c3a970fc",
              "IPY_MODEL_f60133fa3c8f4dedafb18c5fea2f8237"
            ]
          }
        },
        "f09b0dbbfe3a4d608b9287701f4a6920": {
          "model_module": "@jupyter-widgets/base",
          "model_name": "LayoutModel",
          "state": {
            "_view_name": "LayoutView",
            "grid_template_rows": null,
            "right": null,
            "justify_content": null,
            "_view_module": "@jupyter-widgets/base",
            "overflow": null,
            "_model_module_version": "1.2.0",
            "_view_count": null,
            "flex_flow": null,
            "width": null,
            "min_width": null,
            "border": null,
            "align_items": null,
            "bottom": null,
            "_model_module": "@jupyter-widgets/base",
            "top": null,
            "grid_column": null,
            "overflow_y": null,
            "overflow_x": null,
            "grid_auto_flow": null,
            "grid_area": null,
            "grid_template_columns": null,
            "flex": null,
            "_model_name": "LayoutModel",
            "justify_items": null,
            "grid_row": null,
            "max_height": null,
            "align_content": null,
            "visibility": null,
            "align_self": null,
            "height": null,
            "min_height": null,
            "padding": null,
            "grid_auto_rows": null,
            "grid_gap": null,
            "max_width": null,
            "order": null,
            "_view_module_version": "1.2.0",
            "grid_template_areas": null,
            "object_position": null,
            "object_fit": null,
            "grid_auto_columns": null,
            "margin": null,
            "display": null,
            "left": null
          }
        },
        "53b2811b57b146fa9bafdf31c3a970fc": {
          "model_module": "@jupyter-widgets/controls",
          "model_name": "FloatProgressModel",
          "state": {
            "_view_name": "ProgressView",
            "style": "IPY_MODEL_fb0434cf2c054be3a435ab911b181bdb",
            "_dom_classes": [],
            "description": "Downloading: 100%",
            "_model_name": "FloatProgressModel",
            "bar_style": "success",
            "max": 25,
            "_view_module": "@jupyter-widgets/controls",
            "_model_module_version": "1.5.0",
            "value": 25,
            "_view_count": null,
            "_view_module_version": "1.5.0",
            "orientation": "horizontal",
            "min": 0,
            "description_tooltip": null,
            "_model_module": "@jupyter-widgets/controls",
            "layout": "IPY_MODEL_9dd437cdab68446e9bdeb0c823f80add"
          }
        },
        "f60133fa3c8f4dedafb18c5fea2f8237": {
          "model_module": "@jupyter-widgets/controls",
          "model_name": "HTMLModel",
          "state": {
            "_view_name": "HTMLView",
            "style": "IPY_MODEL_13b3ef9bb5d44e20a97388632a544c20",
            "_dom_classes": [],
            "description": "",
            "_model_name": "HTMLModel",
            "placeholder": "​",
            "_view_module": "@jupyter-widgets/controls",
            "_model_module_version": "1.5.0",
            "value": " 25.0/25.0 [00:00&lt;00:00, 221B/s]",
            "_view_count": null,
            "_view_module_version": "1.5.0",
            "description_tooltip": null,
            "_model_module": "@jupyter-widgets/controls",
            "layout": "IPY_MODEL_45bbf7337d5d437696a46c290733d08f"
          }
        },
        "fb0434cf2c054be3a435ab911b181bdb": {
          "model_module": "@jupyter-widgets/controls",
          "model_name": "ProgressStyleModel",
          "state": {
            "_view_name": "StyleView",
            "_model_name": "ProgressStyleModel",
            "description_width": "initial",
            "_view_module": "@jupyter-widgets/base",
            "_model_module_version": "1.5.0",
            "_view_count": null,
            "_view_module_version": "1.2.0",
            "bar_color": null,
            "_model_module": "@jupyter-widgets/controls"
          }
        },
        "9dd437cdab68446e9bdeb0c823f80add": {
          "model_module": "@jupyter-widgets/base",
          "model_name": "LayoutModel",
          "state": {
            "_view_name": "LayoutView",
            "grid_template_rows": null,
            "right": null,
            "justify_content": null,
            "_view_module": "@jupyter-widgets/base",
            "overflow": null,
            "_model_module_version": "1.2.0",
            "_view_count": null,
            "flex_flow": null,
            "width": null,
            "min_width": null,
            "border": null,
            "align_items": null,
            "bottom": null,
            "_model_module": "@jupyter-widgets/base",
            "top": null,
            "grid_column": null,
            "overflow_y": null,
            "overflow_x": null,
            "grid_auto_flow": null,
            "grid_area": null,
            "grid_template_columns": null,
            "flex": null,
            "_model_name": "LayoutModel",
            "justify_items": null,
            "grid_row": null,
            "max_height": null,
            "align_content": null,
            "visibility": null,
            "align_self": null,
            "height": null,
            "min_height": null,
            "padding": null,
            "grid_auto_rows": null,
            "grid_gap": null,
            "max_width": null,
            "order": null,
            "_view_module_version": "1.2.0",
            "grid_template_areas": null,
            "object_position": null,
            "object_fit": null,
            "grid_auto_columns": null,
            "margin": null,
            "display": null,
            "left": null
          }
        },
        "13b3ef9bb5d44e20a97388632a544c20": {
          "model_module": "@jupyter-widgets/controls",
          "model_name": "DescriptionStyleModel",
          "state": {
            "_view_name": "StyleView",
            "_model_name": "DescriptionStyleModel",
            "description_width": "",
            "_view_module": "@jupyter-widgets/base",
            "_model_module_version": "1.5.0",
            "_view_count": null,
            "_view_module_version": "1.2.0",
            "_model_module": "@jupyter-widgets/controls"
          }
        },
        "45bbf7337d5d437696a46c290733d08f": {
          "model_module": "@jupyter-widgets/base",
          "model_name": "LayoutModel",
          "state": {
            "_view_name": "LayoutView",
            "grid_template_rows": null,
            "right": null,
            "justify_content": null,
            "_view_module": "@jupyter-widgets/base",
            "overflow": null,
            "_model_module_version": "1.2.0",
            "_view_count": null,
            "flex_flow": null,
            "width": null,
            "min_width": null,
            "border": null,
            "align_items": null,
            "bottom": null,
            "_model_module": "@jupyter-widgets/base",
            "top": null,
            "grid_column": null,
            "overflow_y": null,
            "overflow_x": null,
            "grid_auto_flow": null,
            "grid_area": null,
            "grid_template_columns": null,
            "flex": null,
            "_model_name": "LayoutModel",
            "justify_items": null,
            "grid_row": null,
            "max_height": null,
            "align_content": null,
            "visibility": null,
            "align_self": null,
            "height": null,
            "min_height": null,
            "padding": null,
            "grid_auto_rows": null,
            "grid_gap": null,
            "max_width": null,
            "order": null,
            "_view_module_version": "1.2.0",
            "grid_template_areas": null,
            "object_position": null,
            "object_fit": null,
            "grid_auto_columns": null,
            "margin": null,
            "display": null,
            "left": null
          }
        },
        "6f8a5e3468d946ff9b081efe89dfeeaa": {
          "model_module": "@jupyter-widgets/controls",
          "model_name": "HBoxModel",
          "state": {
            "_view_name": "HBoxView",
            "_dom_classes": [],
            "_model_name": "HBoxModel",
            "_view_module": "@jupyter-widgets/controls",
            "_model_module_version": "1.5.0",
            "_view_count": null,
            "_view_module_version": "1.5.0",
            "box_style": "",
            "layout": "IPY_MODEL_39ba681b1ed6459d92606fc654dcdba8",
            "_model_module": "@jupyter-widgets/controls",
            "children": [
              "IPY_MODEL_e529b42e3cbb4b4ba09acd901a0894f2",
              "IPY_MODEL_9edee620640c4e3e801b50db0c862d3c"
            ]
          }
        },
        "39ba681b1ed6459d92606fc654dcdba8": {
          "model_module": "@jupyter-widgets/base",
          "model_name": "LayoutModel",
          "state": {
            "_view_name": "LayoutView",
            "grid_template_rows": null,
            "right": null,
            "justify_content": null,
            "_view_module": "@jupyter-widgets/base",
            "overflow": null,
            "_model_module_version": "1.2.0",
            "_view_count": null,
            "flex_flow": null,
            "width": null,
            "min_width": null,
            "border": null,
            "align_items": null,
            "bottom": null,
            "_model_module": "@jupyter-widgets/base",
            "top": null,
            "grid_column": null,
            "overflow_y": null,
            "overflow_x": null,
            "grid_auto_flow": null,
            "grid_area": null,
            "grid_template_columns": null,
            "flex": null,
            "_model_name": "LayoutModel",
            "justify_items": null,
            "grid_row": null,
            "max_height": null,
            "align_content": null,
            "visibility": null,
            "align_self": null,
            "height": null,
            "min_height": null,
            "padding": null,
            "grid_auto_rows": null,
            "grid_gap": null,
            "max_width": null,
            "order": null,
            "_view_module_version": "1.2.0",
            "grid_template_areas": null,
            "object_position": null,
            "object_fit": null,
            "grid_auto_columns": null,
            "margin": null,
            "display": null,
            "left": null
          }
        },
        "e529b42e3cbb4b4ba09acd901a0894f2": {
          "model_module": "@jupyter-widgets/controls",
          "model_name": "FloatProgressModel",
          "state": {
            "_view_name": "ProgressView",
            "style": "IPY_MODEL_eaedec158070463bbd78ef17de3171b9",
            "_dom_classes": [],
            "description": "100%",
            "_model_name": "FloatProgressModel",
            "bar_style": "success",
            "max": 10,
            "_view_module": "@jupyter-widgets/controls",
            "_model_module_version": "1.5.0",
            "value": 10,
            "_view_count": null,
            "_view_module_version": "1.5.0",
            "orientation": "horizontal",
            "min": 0,
            "description_tooltip": null,
            "_model_module": "@jupyter-widgets/controls",
            "layout": "IPY_MODEL_e8e02586085d44db937e917c1413b5dd"
          }
        },
        "9edee620640c4e3e801b50db0c862d3c": {
          "model_module": "@jupyter-widgets/controls",
          "model_name": "HTMLModel",
          "state": {
            "_view_name": "HTMLView",
            "style": "IPY_MODEL_b63870f196d3457587b7dfe4616a61bb",
            "_dom_classes": [],
            "description": "",
            "_model_name": "HTMLModel",
            "placeholder": "​",
            "_view_module": "@jupyter-widgets/controls",
            "_model_module_version": "1.5.0",
            "value": " 10/10 [00:03&lt;00:00,  2.77it/s]",
            "_view_count": null,
            "_view_module_version": "1.5.0",
            "description_tooltip": null,
            "_model_module": "@jupyter-widgets/controls",
            "layout": "IPY_MODEL_8d170d9a18e64415a6398a78c5c0f04c"
          }
        },
        "eaedec158070463bbd78ef17de3171b9": {
          "model_module": "@jupyter-widgets/controls",
          "model_name": "ProgressStyleModel",
          "state": {
            "_view_name": "StyleView",
            "_model_name": "ProgressStyleModel",
            "description_width": "initial",
            "_view_module": "@jupyter-widgets/base",
            "_model_module_version": "1.5.0",
            "_view_count": null,
            "_view_module_version": "1.2.0",
            "bar_color": null,
            "_model_module": "@jupyter-widgets/controls"
          }
        },
        "e8e02586085d44db937e917c1413b5dd": {
          "model_module": "@jupyter-widgets/base",
          "model_name": "LayoutModel",
          "state": {
            "_view_name": "LayoutView",
            "grid_template_rows": null,
            "right": null,
            "justify_content": null,
            "_view_module": "@jupyter-widgets/base",
            "overflow": null,
            "_model_module_version": "1.2.0",
            "_view_count": null,
            "flex_flow": null,
            "width": null,
            "min_width": null,
            "border": null,
            "align_items": null,
            "bottom": null,
            "_model_module": "@jupyter-widgets/base",
            "top": null,
            "grid_column": null,
            "overflow_y": null,
            "overflow_x": null,
            "grid_auto_flow": null,
            "grid_area": null,
            "grid_template_columns": null,
            "flex": null,
            "_model_name": "LayoutModel",
            "justify_items": null,
            "grid_row": null,
            "max_height": null,
            "align_content": null,
            "visibility": null,
            "align_self": null,
            "height": null,
            "min_height": null,
            "padding": null,
            "grid_auto_rows": null,
            "grid_gap": null,
            "max_width": null,
            "order": null,
            "_view_module_version": "1.2.0",
            "grid_template_areas": null,
            "object_position": null,
            "object_fit": null,
            "grid_auto_columns": null,
            "margin": null,
            "display": null,
            "left": null
          }
        },
        "b63870f196d3457587b7dfe4616a61bb": {
          "model_module": "@jupyter-widgets/controls",
          "model_name": "DescriptionStyleModel",
          "state": {
            "_view_name": "StyleView",
            "_model_name": "DescriptionStyleModel",
            "description_width": "",
            "_view_module": "@jupyter-widgets/base",
            "_model_module_version": "1.5.0",
            "_view_count": null,
            "_view_module_version": "1.2.0",
            "_model_module": "@jupyter-widgets/controls"
          }
        },
        "8d170d9a18e64415a6398a78c5c0f04c": {
          "model_module": "@jupyter-widgets/base",
          "model_name": "LayoutModel",
          "state": {
            "_view_name": "LayoutView",
            "grid_template_rows": null,
            "right": null,
            "justify_content": null,
            "_view_module": "@jupyter-widgets/base",
            "overflow": null,
            "_model_module_version": "1.2.0",
            "_view_count": null,
            "flex_flow": null,
            "width": null,
            "min_width": null,
            "border": null,
            "align_items": null,
            "bottom": null,
            "_model_module": "@jupyter-widgets/base",
            "top": null,
            "grid_column": null,
            "overflow_y": null,
            "overflow_x": null,
            "grid_auto_flow": null,
            "grid_area": null,
            "grid_template_columns": null,
            "flex": null,
            "_model_name": "LayoutModel",
            "justify_items": null,
            "grid_row": null,
            "max_height": null,
            "align_content": null,
            "visibility": null,
            "align_self": null,
            "height": null,
            "min_height": null,
            "padding": null,
            "grid_auto_rows": null,
            "grid_gap": null,
            "max_width": null,
            "order": null,
            "_view_module_version": "1.2.0",
            "grid_template_areas": null,
            "object_position": null,
            "object_fit": null,
            "grid_auto_columns": null,
            "margin": null,
            "display": null,
            "left": null
          }
        },
        "1dbf5adf34924620b231767d3e79bb6b": {
          "model_module": "@jupyter-widgets/controls",
          "model_name": "HBoxModel",
          "state": {
            "_view_name": "HBoxView",
            "_dom_classes": [],
            "_model_name": "HBoxModel",
            "_view_module": "@jupyter-widgets/controls",
            "_model_module_version": "1.5.0",
            "_view_count": null,
            "_view_module_version": "1.5.0",
            "box_style": "",
            "layout": "IPY_MODEL_333382f4328f4db5ac6e413c0e351aa7",
            "_model_module": "@jupyter-widgets/controls",
            "children": [
              "IPY_MODEL_5eb687dae6f548329203b55b39dce3c1",
              "IPY_MODEL_26ba299915aa4ee397abcd561eb36cd2"
            ]
          }
        },
        "333382f4328f4db5ac6e413c0e351aa7": {
          "model_module": "@jupyter-widgets/base",
          "model_name": "LayoutModel",
          "state": {
            "_view_name": "LayoutView",
            "grid_template_rows": null,
            "right": null,
            "justify_content": null,
            "_view_module": "@jupyter-widgets/base",
            "overflow": null,
            "_model_module_version": "1.2.0",
            "_view_count": null,
            "flex_flow": null,
            "width": null,
            "min_width": null,
            "border": null,
            "align_items": null,
            "bottom": null,
            "_model_module": "@jupyter-widgets/base",
            "top": null,
            "grid_column": null,
            "overflow_y": null,
            "overflow_x": null,
            "grid_auto_flow": null,
            "grid_area": null,
            "grid_template_columns": null,
            "flex": null,
            "_model_name": "LayoutModel",
            "justify_items": null,
            "grid_row": null,
            "max_height": null,
            "align_content": null,
            "visibility": null,
            "align_self": null,
            "height": null,
            "min_height": null,
            "padding": null,
            "grid_auto_rows": null,
            "grid_gap": null,
            "max_width": null,
            "order": null,
            "_view_module_version": "1.2.0",
            "grid_template_areas": null,
            "object_position": null,
            "object_fit": null,
            "grid_auto_columns": null,
            "margin": null,
            "display": null,
            "left": null
          }
        },
        "5eb687dae6f548329203b55b39dce3c1": {
          "model_module": "@jupyter-widgets/controls",
          "model_name": "FloatProgressModel",
          "state": {
            "_view_name": "ProgressView",
            "style": "IPY_MODEL_3783617f671643e0a06b0b96ecde4bd8",
            "_dom_classes": [],
            "description": "100%",
            "_model_name": "FloatProgressModel",
            "bar_style": "success",
            "max": 88,
            "_view_module": "@jupyter-widgets/controls",
            "_model_module_version": "1.5.0",
            "value": 88,
            "_view_count": null,
            "_view_module_version": "1.5.0",
            "orientation": "horizontal",
            "min": 0,
            "description_tooltip": null,
            "_model_module": "@jupyter-widgets/controls",
            "layout": "IPY_MODEL_8701d0581cca4b0095c67c5a99ec9b8c"
          }
        },
        "26ba299915aa4ee397abcd561eb36cd2": {
          "model_module": "@jupyter-widgets/controls",
          "model_name": "HTMLModel",
          "state": {
            "_view_name": "HTMLView",
            "style": "IPY_MODEL_644a8d4ce6204e4da65d82c9a22f6834",
            "_dom_classes": [],
            "description": "",
            "_model_name": "HTMLModel",
            "placeholder": "​",
            "_view_module": "@jupyter-widgets/controls",
            "_model_module_version": "1.5.0",
            "value": " 88/88 [00:33&lt;00:00,  2.62it/s]",
            "_view_count": null,
            "_view_module_version": "1.5.0",
            "description_tooltip": null,
            "_model_module": "@jupyter-widgets/controls",
            "layout": "IPY_MODEL_eb55290567c54e64bd87bcccab451a20"
          }
        },
        "3783617f671643e0a06b0b96ecde4bd8": {
          "model_module": "@jupyter-widgets/controls",
          "model_name": "ProgressStyleModel",
          "state": {
            "_view_name": "StyleView",
            "_model_name": "ProgressStyleModel",
            "description_width": "initial",
            "_view_module": "@jupyter-widgets/base",
            "_model_module_version": "1.5.0",
            "_view_count": null,
            "_view_module_version": "1.2.0",
            "bar_color": null,
            "_model_module": "@jupyter-widgets/controls"
          }
        },
        "8701d0581cca4b0095c67c5a99ec9b8c": {
          "model_module": "@jupyter-widgets/base",
          "model_name": "LayoutModel",
          "state": {
            "_view_name": "LayoutView",
            "grid_template_rows": null,
            "right": null,
            "justify_content": null,
            "_view_module": "@jupyter-widgets/base",
            "overflow": null,
            "_model_module_version": "1.2.0",
            "_view_count": null,
            "flex_flow": null,
            "width": null,
            "min_width": null,
            "border": null,
            "align_items": null,
            "bottom": null,
            "_model_module": "@jupyter-widgets/base",
            "top": null,
            "grid_column": null,
            "overflow_y": null,
            "overflow_x": null,
            "grid_auto_flow": null,
            "grid_area": null,
            "grid_template_columns": null,
            "flex": null,
            "_model_name": "LayoutModel",
            "justify_items": null,
            "grid_row": null,
            "max_height": null,
            "align_content": null,
            "visibility": null,
            "align_self": null,
            "height": null,
            "min_height": null,
            "padding": null,
            "grid_auto_rows": null,
            "grid_gap": null,
            "max_width": null,
            "order": null,
            "_view_module_version": "1.2.0",
            "grid_template_areas": null,
            "object_position": null,
            "object_fit": null,
            "grid_auto_columns": null,
            "margin": null,
            "display": null,
            "left": null
          }
        },
        "644a8d4ce6204e4da65d82c9a22f6834": {
          "model_module": "@jupyter-widgets/controls",
          "model_name": "DescriptionStyleModel",
          "state": {
            "_view_name": "StyleView",
            "_model_name": "DescriptionStyleModel",
            "description_width": "",
            "_view_module": "@jupyter-widgets/base",
            "_model_module_version": "1.5.0",
            "_view_count": null,
            "_view_module_version": "1.2.0",
            "_model_module": "@jupyter-widgets/controls"
          }
        },
        "eb55290567c54e64bd87bcccab451a20": {
          "model_module": "@jupyter-widgets/base",
          "model_name": "LayoutModel",
          "state": {
            "_view_name": "LayoutView",
            "grid_template_rows": null,
            "right": null,
            "justify_content": null,
            "_view_module": "@jupyter-widgets/base",
            "overflow": null,
            "_model_module_version": "1.2.0",
            "_view_count": null,
            "flex_flow": null,
            "width": null,
            "min_width": null,
            "border": null,
            "align_items": null,
            "bottom": null,
            "_model_module": "@jupyter-widgets/base",
            "top": null,
            "grid_column": null,
            "overflow_y": null,
            "overflow_x": null,
            "grid_auto_flow": null,
            "grid_area": null,
            "grid_template_columns": null,
            "flex": null,
            "_model_name": "LayoutModel",
            "justify_items": null,
            "grid_row": null,
            "max_height": null,
            "align_content": null,
            "visibility": null,
            "align_self": null,
            "height": null,
            "min_height": null,
            "padding": null,
            "grid_auto_rows": null,
            "grid_gap": null,
            "max_width": null,
            "order": null,
            "_view_module_version": "1.2.0",
            "grid_template_areas": null,
            "object_position": null,
            "object_fit": null,
            "grid_auto_columns": null,
            "margin": null,
            "display": null,
            "left": null
          }
        }
      }
    },
    "accelerator": "GPU"
  },
  "cells": [
    {
      "cell_type": "markdown",
      "metadata": {
        "id": "EAXm3UFwqNby"
      },
      "source": [
        "# Improved Code Summarization\n",
        "> \"In this tutorial you'll learn about how to apply state of the art summarization models to source code!\"\n",
        "\n",
        "- toc: true\n",
        "- badges: true\n",
        "- comments: true\n",
        "- categories: [code, summarization, deep-learning, seq2seq]\n",
        "- image: images/code_commenting.png"
      ]
    },
    {
      "cell_type": "markdown",
      "metadata": {
        "id": "_9nzFdmyb0VD"
      },
      "source": [
        "# About\n",
        "Hi there, in this post you'll learn how to finetune the a RoBERT based model that's been trained on code data to automatically generate comments for code!\n",
        "\n",
        "We will be focusing on the Java programming language, but you can apply the same techniques in this post for any programming language that interests you. Additionally, you'll see how to incorporate this code commenter into a [VSCode](https://code.visualstudio.com/) extension so that you can generate comments for code snippets you highlight:\n",
        "\n",
        "(Insert GIF of tool working)\n",
        "\n",
        "As always, we'll start with a bit of background of the data and model we are using, but feel free to skip if you want to get straight to the awesomeness ;). Alright, let's GO!"
      ]
    },
    {
      "cell_type": "markdown",
      "metadata": {
        "id": "k3h9U8J5e04y"
      },
      "source": [
        "# Background\n",
        "\n",
        "## Data\n",
        "We will be using the awesome [CodeSearchNet](https://github.com/github/codesearchnet) Challenge dataset, which contains millions of pairs of methods and their docstrings for a large variety of programming languages. The dataset was initially constructed for evaluating how well different approaches perform at searching for code. However, we can easily repurpose it for us and lucky for us, the awesome authors did an awesome job collecting, documenting, and cleaning the data.\n",
        "\n",
        "We'll be performing a bit more cleaning and formatting of the data as well as adding some more examples. These examples won't be method/docstring pairs, but code snippet/inline comment pairs. This allows our model to generate comments for arbitrary code snippets that a developer may want to document instead of just generating the docstring of a method.\n",
        "\n",
        "## CodeBERT\n",
        "The pretrained model we will be finetuning comes from the awesome paper from Microsoft's research division aptly named [CodeBERT: A Pre-Trained Model for Programming and Natural Languages](https://arxiv.org/abs/2002.08155). This model also used the CodeSearchNet challenge dataset, but instead of using it to generate comments it used to teach a RoBERTa based model to represent code and natural language in a useful way. This practice of eaching these large language models to represent text in a useful way is common practice now since these representations have been shown to be helpful in finetuning these models on other tasks. The CodeBERT paper showed these representations are helpful by finetuning them on the programming task of code search and comment generation, exactly what we will be doing! The difference between their comment generation task and ours is that we will do a bit more preprocessing and our model will be able to generate inline comments of code snippets and not just method level comments.\n",
        "\n",
        "So, how does CodeBERT learn these representations? It combines two different training objectives that's been shown to be useful for natural language. The Masked Language Modeling objective (MLM), which is from the original [BERT](https://arxiv.org/abs/1810.04805) paper, and Replaced Token Detection (RTD) objective, which is from the [ELECTRA: Pre-training Text Encoders as Discriminators Rather Than Generators](https://arxiv.org/abs/2003.10555) paper. The MLM objective is where we randomly mask out parts of the text that we feed into the model and ask the model to predict those masked out pieces. The RTD objective is where random tokens in the text are replaced and the model has to determine which of these tokens are replaced. However, to make it harder for the model, these replaced tokens attempt to be plausible alternatives and not just random words. The CodeBERT model actually used a n-gram based model to generate these alternatives where as the ELECTRA paper used a small BERT based model.\n",
        "\n",
        "![ELECTRA Pretraining Objective](https://nathancooper.io/i-am-a-nerd/images/electra.png) (From ELECTRA Paper)\n",
        "\n",
        "Instead of using only natural language to apply these training objectives to, CodeBERT used code and docstrings. This allowed the CodeBERT model to learn a useful representation of code that could be used for other tasks.\n",
        "\n",
        "Alright with that quick background knowledge down, lets get into actually finetuning our model!\n"
      ]
    },
    {
      "cell_type": "code",
      "metadata": {
        "colab": {
          "base_uri": "https://localhost:8080/"
        },
        "id": "60geWh54wl6R",
        "outputId": "c26982f8-e2d1-4a43-8ab3-5ee8076ce32b"
      },
      "source": [
        "! nvidia-smi"
      ],
      "execution_count": 1,
      "outputs": [
        {
          "output_type": "stream",
          "text": [
            "Thu Jan 14 20:43:12 2021       \n",
            "+-----------------------------------------------------------------------------+\n",
            "| NVIDIA-SMI 460.27.04    Driver Version: 418.67       CUDA Version: 10.1     |\n",
            "|-------------------------------+----------------------+----------------------+\n",
            "| GPU  Name        Persistence-M| Bus-Id        Disp.A | Volatile Uncorr. ECC |\n",
            "| Fan  Temp  Perf  Pwr:Usage/Cap|         Memory-Usage | GPU-Util  Compute M. |\n",
            "|                               |                      |               MIG M. |\n",
            "|===============================+======================+======================|\n",
            "|   0  Tesla T4            Off  | 00000000:00:04.0 Off |                    0 |\n",
            "| N/A   42C    P8    11W /  70W |      0MiB / 15079MiB |      0%      Default |\n",
            "|                               |                      |                 ERR! |\n",
            "+-------------------------------+----------------------+----------------------+\n",
            "                                                                               \n",
            "+-----------------------------------------------------------------------------+\n",
            "| Processes:                                                                  |\n",
            "|  GPU   GI   CI        PID   Type   Process name                  GPU Memory |\n",
            "|        ID   ID                                                   Usage      |\n",
            "|=============================================================================|\n",
            "|  No running processes found                                                 |\n",
            "+-----------------------------------------------------------------------------+\n"
          ],
          "name": "stdout"
        }
      ]
    },
    {
      "cell_type": "markdown",
      "metadata": {
        "id": "s7VKK55goGaA"
      },
      "source": [
        "# Data"
      ]
    },
    {
      "cell_type": "markdown",
      "metadata": {
        "id": "ZZocTJOVwLk9"
      },
      "source": [
        "First we'll install the necessary packages and download our data!"
      ]
    },
    {
      "cell_type": "code",
      "metadata": {
        "id": "BrQQV4fTFbEm",
        "outputId": "26a88059-b799-4187-9912-0b1396d9238d",
        "colab": {
          "base_uri": "https://localhost:8080/"
        }
      },
      "source": [
        "# collapse\n",
        "# Download and install the necessary dependencies\n",
        "! pip install -q torch==1.4.0 -f https://download.pytorch.org/whl/cu101/torch_stable.html\n",
        "! pip install -q transformers==3.5.0 fast-trees\n",
        "\n",
        "! git clone -q https://github.com/microsoft/CodeXGLUE.git\n",
        "\n",
        "# Download the CodeSearchNet Challenge dataset for the Java programming language\n",
        "! wget -q https://s3.amazonaws.com/code-search-net/CodeSearchNet/v2/java.zip\n",
        "! unzip -qq java.zip"
      ],
      "execution_count": 2,
      "outputs": [
        {
          "output_type": "stream",
          "text": [
            "\u001b[K     |████████████████████████████████| 753.4MB 21kB/s \n",
            "\u001b[31mERROR: torchvision 0.8.1+cu101 has requirement torch==1.7.0, but you'll have torch 1.4.0 which is incompatible.\u001b[0m\n",
            "\u001b[K     |████████████████████████████████| 1.3MB 12.6MB/s \n",
            "\u001b[K     |████████████████████████████████| 890kB 51.7MB/s \n",
            "\u001b[K     |████████████████████████████████| 2.9MB 50.3MB/s \n",
            "\u001b[K     |████████████████████████████████| 1.1MB 61.3MB/s \n",
            "\u001b[K     |████████████████████████████████| 112kB 64.8MB/s \n",
            "\u001b[K     |████████████████████████████████| 163kB 60.4MB/s \n",
            "\u001b[K     |████████████████████████████████| 71kB 11.8MB/s \n",
            "\u001b[?25h  Building wheel for sacremoses (setup.py) ... \u001b[?25l\u001b[?25hdone\n",
            "  Building wheel for tree-sitter (setup.py) ... \u001b[?25l\u001b[?25hdone\n"
          ],
          "name": "stdout"
        }
      ]
    },
    {
      "cell_type": "markdown",
      "metadata": {
        "id": "wnvMOV8RwUgX"
      },
      "source": [
        "Next let's read in our data and since these models take a long time to train, we will only select a subset of the data."
      ]
    },
    {
      "cell_type": "code",
      "metadata": {
        "id": "rmikS-rhHRJI",
        "colab": {
          "base_uri": "https://localhost:8080/"
        },
        "outputId": "241b69d9-2e6e-4d61-a64d-7b90c22db848"
      },
      "source": [
        "# collapse\n",
        "import pandas as pd\n",
        "\n",
        "from pathlib import Path\n",
        "from typing import List, Optional\n",
        "\n",
        "# Code from CodeSearchNetChallenge: https://github.com/github/CodeSearchNet/blob/master/notebooks/ExploreData.ipynb\n",
        "def jsonl_list_to_dataframe(file_list, columns=['code', 'docstring']):\n",
        "    \"\"\"Load a list of jsonl.gz files into a pandas DataFrame.\"\"\"\n",
        "    return pd.concat([pd.read_json(f,\n",
        "                                   orient='records', \n",
        "                                   compression='gzip',\n",
        "                                   lines=True)[columns] \n",
        "                      for f in file_list], sort=False)\n",
        "\n",
        "def get_dfs(path: Path) -> List[pd.DataFrame]:\n",
        "    \"\"\"Grabs the different data splits and converts them into dataframes\"\"\"\n",
        "    dfs = []\n",
        "    for split in [\"train\", \"valid\", \"test\"]:\n",
        "        files = sorted((path/split).glob(\"**/*.gz\"))\n",
        "        df = jsonl_list_to_dataframe(files).rename(columns = {'code': 'mthd', 'docstring': 'cmt'})\n",
        "        dfs.append(df)\n",
        "        \n",
        "    return dfs\n",
        "\n",
        "path = Path('.')\n",
        "df_trn, df_val, df_tst = get_dfs(path/\"java/final/jsonl\")\n",
        "sample = 0.01\n",
        "df_trn = df_trn.sample(frac = sample)\n",
        "df_val = df_val.sample(frac = sample)\n",
        "df_tst = df_tst.sample(frac = sample)\n",
        "\n",
        "len(df_trn), len(df_val), len(df_tst)"
      ],
      "execution_count": 3,
      "outputs": [
        {
          "output_type": "execute_result",
          "data": {
            "text/plain": [
              "(4545, 153, 269)"
            ]
          },
          "metadata": {
            "tags": []
          },
          "execution_count": 3
        }
      ]
    },
    {
      "cell_type": "markdown",
      "metadata": {
        "id": "3HAkOE8Ohf2P"
      },
      "source": [
        "Let's see how the data looks. As shown, we have the data in a good format with one column all of the methods (input into the model) and the other all of the comments (output of the model)."
      ]
    },
    {
      "cell_type": "code",
      "metadata": {
        "id": "XcfrJ_vF7Xxf",
        "colab": {
          "base_uri": "https://localhost:8080/",
          "height": 202
        },
        "outputId": "ca48198f-09f7-4d1b-b965-a6d2629f2d5a"
      },
      "source": [
        "df_trn.head()"
      ],
      "execution_count": 4,
      "outputs": [
        {
          "output_type": "execute_result",
          "data": {
            "text/html": [
              "<div>\n",
              "<style scoped>\n",
              "    .dataframe tbody tr th:only-of-type {\n",
              "        vertical-align: middle;\n",
              "    }\n",
              "\n",
              "    .dataframe tbody tr th {\n",
              "        vertical-align: top;\n",
              "    }\n",
              "\n",
              "    .dataframe thead th {\n",
              "        text-align: right;\n",
              "    }\n",
              "</style>\n",
              "<table border=\"1\" class=\"dataframe\">\n",
              "  <thead>\n",
              "    <tr style=\"text-align: right;\">\n",
              "      <th></th>\n",
              "      <th>mthd</th>\n",
              "      <th>cmt</th>\n",
              "    </tr>\n",
              "  </thead>\n",
              "  <tbody>\n",
              "    <tr>\n",
              "      <th>5360</th>\n",
              "      <td>@Override\\n    public GetLexiconResult getLexi...</td>\n",
              "      <td>&lt;p&gt;\\nReturns the content of the specified pron...</td>\n",
              "    </tr>\n",
              "    <tr>\n",
              "      <th>9365</th>\n",
              "      <td>public static void checkJavaInternalAccess(ILo...</td>\n",
              "      <td>Prints warning to given {@link ILogger} if Haz...</td>\n",
              "    </tr>\n",
              "    <tr>\n",
              "      <th>10145</th>\n",
              "      <td>private IAtom createAtom(Element element) {\\n ...</td>\n",
              "      <td>Create a new atom for the provided symbol. The...</td>\n",
              "    </tr>\n",
              "    <tr>\n",
              "      <th>9008</th>\n",
              "      <td>public void marshall(Scte20PlusEmbeddedDestina...</td>\n",
              "      <td>Marshall the given parameter object.</td>\n",
              "    </tr>\n",
              "    <tr>\n",
              "      <th>24498</th>\n",
              "      <td>@Override\\n  public void prefetchToken(final F...</td>\n",
              "      <td>/*\\nGets hadoop tokens for a user to run mapre...</td>\n",
              "    </tr>\n",
              "  </tbody>\n",
              "</table>\n",
              "</div>"
            ],
            "text/plain": [
              "                                                    mthd                                                cmt\n",
              "5360   @Override\\n    public GetLexiconResult getLexi...  <p>\\nReturns the content of the specified pron...\n",
              "9365   public static void checkJavaInternalAccess(ILo...  Prints warning to given {@link ILogger} if Haz...\n",
              "10145  private IAtom createAtom(Element element) {\\n ...  Create a new atom for the provided symbol. The...\n",
              "9008   public void marshall(Scte20PlusEmbeddedDestina...               Marshall the given parameter object.\n",
              "24498  @Override\\n  public void prefetchToken(final F...  /*\\nGets hadoop tokens for a user to run mapre..."
            ]
          },
          "metadata": {
            "tags": []
          },
          "execution_count": 4
        }
      ]
    },
    {
      "cell_type": "markdown",
      "metadata": {
        "id": "bWRs09uzoK7K"
      },
      "source": [
        "## Data Cleaning"
      ]
    },
    {
      "cell_type": "markdown",
      "metadata": {
        "id": "rzNiApmciCwi"
      },
      "source": [
        "Now, that we have the data, let's clean it! First, we'll remove any non-ascii characters to simplify the problem so that the model only has to think about generating English comments."
      ]
    },
    {
      "cell_type": "code",
      "metadata": {
        "id": "M5PNGqi97X-N",
        "colab": {
          "base_uri": "https://localhost:8080/"
        },
        "outputId": "61c2e7ec-c896-4e08-aea5-8d9920a77495"
      },
      "source": [
        "# collapse\n",
        "# From https://stackoverflow.com/a/27084708/5768407\n",
        "def is_ascii(s):\n",
        "    '''\n",
        "    Determines if the given string contains only ascii characters\n",
        "\n",
        "    :param s: the string to check\n",
        "    :returns: whether or not the given string contains only ascii characters\n",
        "    '''\n",
        "    try:\n",
        "        s.encode(encoding='utf-8').decode('ascii')\n",
        "    except UnicodeDecodeError:\n",
        "        return False\n",
        "    else:\n",
        "        return True\n",
        "\n",
        "df_trn = df_trn[df_trn['mthd'].apply(lambda x: is_ascii(x))]\n",
        "df_val = df_val[df_val['mthd'].apply(lambda x: is_ascii(x))]\n",
        "df_tst = df_tst[df_tst['mthd'].apply(lambda x: is_ascii(x))]\n",
        "\n",
        "df_trn = df_trn[df_trn['cmt'].apply(lambda x: is_ascii(x))]\n",
        "df_val = df_val[df_val['cmt'].apply(lambda x: is_ascii(x))]\n",
        "df_tst = df_tst[df_tst['cmt'].apply(lambda x: is_ascii(x))]\n",
        "\n",
        "len(df_trn), len(df_val), len(df_tst)"
      ],
      "execution_count": 5,
      "outputs": [
        {
          "output_type": "execute_result",
          "data": {
            "text/plain": [
              "(4402, 141, 264)"
            ]
          },
          "metadata": {
            "tags": []
          },
          "execution_count": 5
        }
      ]
    },
    {
      "cell_type": "markdown",
      "metadata": {
        "id": "zM6LZm7oiXUD"
      },
      "source": [
        "Next, we'll remove any outdated comments by checking to see if the [JavaDoc](https://www.oracle.com/java/technologies/javase/javadoc.html)'s parameter list is different from the method's parameter list. This also will remove pairs where the docstring doesn't actually document the parameters, which probably means the pairs are poor quality (you should always properly document your code :) )."
      ]
    },
    {
      "cell_type": "code",
      "metadata": {
        "id": "HmyhHIQjY9IE",
        "colab": {
          "base_uri": "https://localhost:8080/"
        },
        "outputId": "a219bd13-3db5-4de8-df95-9dbc4f7580dc"
      },
      "source": [
        "# collapse\n",
        "import re\n",
        "\n",
        "from fast_trees.core import FastParser\n",
        "\n",
        "parser = FastParser('java')\n",
        "\n",
        "def get_cmt_params(cmt: str) -> List[str]:\n",
        "    '''\n",
        "    Grabs the parameter identifier names from a JavaDoc comment\n",
        "\n",
        "    :param cmt: the comment to extract the parameter identifier names from\n",
        "    :returns: an array of the parameter identifier names found in the given comment\n",
        "    '''\n",
        "    params = re.findall('@param+\\s+\\w+', cmt)\n",
        "    param_names = []\n",
        "    for param in params:\n",
        "        param_names.append(param.split()[1])\n",
        "    \n",
        "    return param_names\n",
        "\n",
        "def is_outdated(mthd: str, cmt: str, parser: FastParser) -> bool:\n",
        "    '''\n",
        "    Determines if a given method and comment are outdated by checking\n",
        "    if the method's parameter identifier names match the comment's\n",
        "\n",
        "    :param mthd: the method to compare against its corresponding comment\n",
        "    :param cmt: the comment to compare against its corresponding method\n",
        "    :param parser: parser for easily getting the parameter identifier names from a given method\n",
        "    :returns: wheather or not a given comment is outdated compared to its corresponding method\n",
        "    '''\n",
        "    try:\n",
        "        mthd_params = parser.get_params(mthd)\n",
        "    except:\n",
        "        return False\n",
        "    \n",
        "    cmt_params = get_cmt_params(cmt)\n",
        "\n",
        "    return mthd_params != cmt_params\n",
        "\n",
        "df_trn = df_trn[\n",
        "    ~df_trn.apply(\n",
        "        lambda x: is_outdated(x.mthd, x.cmt, parser), axis = 1\n",
        "    )\n",
        "]\n",
        "df_val = df_val[\n",
        "    ~df_val.apply(\n",
        "        lambda x: is_outdated(x.mthd, x.cmt, parser), axis = 1\n",
        "    )\n",
        "]\n",
        "df_tst = df_tst[\n",
        "    ~df_tst.apply(\n",
        "        lambda x: is_outdated(x.mthd, x.cmt, parser), axis = 1\n",
        "    )\n",
        "]\n",
        "\n",
        "len(df_trn), len(df_val), len(df_tst)"
      ],
      "execution_count": 6,
      "outputs": [
        {
          "output_type": "stream",
          "text": [
            "Downloading repo https://github.com/tree-sitter/tree-sitter-java to /usr/local/lib/python3.6/dist-packages/fast_trees/tree-sitter-java.\n"
          ],
          "name": "stdout"
        },
        {
          "output_type": "execute_result",
          "data": {
            "text/plain": [
              "(4402, 141, 264)"
            ]
          },
          "metadata": {
            "tags": []
          },
          "execution_count": 6
        }
      ]
    },
    {
      "cell_type": "markdown",
      "metadata": {
        "id": "4gBjJv7ckXfK"
      },
      "source": [
        "Now we'll add in the additional pairs of code snippets/inline comments.\n",
        "\n",
        "P.S. One thing to note with adding these pairs is that the inline comments will appear twice in the datasets. The first in the method where the inline comment came from and the second in the target for the code snippet. This is only a problem for the training set since it allows for the model to cheat by simply remembering the inline comment from the example method it came from. However, in my testing, I found this to not be an issue and the model seems to still work well despite this problem. Just thought ya should know :)."
      ]
    },
    {
      "cell_type": "code",
      "metadata": {
        "id": "ipNqZlTttNBY",
        "colab": {
          "base_uri": "https://localhost:8080/",
          "height": 183,
          "referenced_widgets": [
            "3b857331a30c40be8c2d72aa74f3dc92",
            "c3c9713ede3a4ba58f7e28a2b507a74d",
            "a9ce294b6d1847168505f7b7933e451c",
            "430af23edb5d48c0a2645dc4c7ef8389",
            "2321ec56ad9b4d58a281aec3c3bac773",
            "b02957dfe8034b5fa03112b8470eb5ae",
            "b2ed68215d0243749552e3532870e518",
            "d9d3d49b33b1445192e1d128407e3d31",
            "806159a1e8e7483cb77e9fab5e75d380",
            "f4c2498ed19a4a46bd1af0fc3c9ee076",
            "1ba28592d96747ffb04b06739074c16f",
            "020cbd0367f94df3a37f9613845078bb",
            "44a84637344c4385a0015e70c7f5939f",
            "11070535e6674643954971d874a630f3",
            "d406d02f151f4a838ccb77f096f7ceb9",
            "b2a2367d814b41a8a0ec8b5c30e99715",
            "f0bfb5447b374b45932afed6489a67e8",
            "d578ec34916f446abbb5aaf17817a426",
            "f4fdb2a5559b482e84f9e7465071782c",
            "681dbea82baf4eb082230c640d1b4ec9",
            "c4113096379f464b9bb2158ef74852fc",
            "4459d6897c7b42bdadabc914a087653d",
            "774fc47921074a809d8c82c9d814c5f9",
            "848f6db15b2344c58d64d4f87dd48cbf"
          ]
        },
        "outputId": "ebd15719-ea0f-4f71-cadd-79918b973ba5"
      },
      "source": [
        "# collapse\n",
        "from tqdm.auto import tqdm\n",
        "\n",
        "def get_inline_pairs(mthd):\n",
        "    '''\n",
        "    Get all pairs of inline comments and corresponding code snippets\n",
        "\n",
        "    :param mthd: the method to retrieve the pairs of comments and corresponding\n",
        "    code snippets from\n",
        "    :returns: all pairs of comments and corresponding code snippets\n",
        "    '''\n",
        "    pairs = [[]]\n",
        "\n",
        "    comment = False\n",
        "    bracket = False\n",
        "    indent_lvl = -1\n",
        "    lines = mthd.split(\"\\n\")\n",
        "    for line in lines:\n",
        "        if \"//\" in line and not bracket and not \"://\" in line:\n",
        "            pairs[-1].append(line)\n",
        "            if '\\t' in line:\n",
        "                indent_lvl = line.count('\\t')\n",
        "            else:\n",
        "                indent_lvl = line.split(\"//\")[0].count(' ')\n",
        "            comment = True\n",
        "            bracket = False\n",
        "        elif comment:\n",
        "            if '{' in line and not bracket:\n",
        "                bracket = True\n",
        "                pairs[-1].append(line)\n",
        "            elif '}' in line:\n",
        "                line_indent = -1\n",
        "                if '\\t' in line:\n",
        "                    line_indent = line.count('\\t')\n",
        "                else:\n",
        "                    line_indent = line.split(\"//\")[0].count(' ')\n",
        "                if indent_lvl == line_indent:\n",
        "                    pairs[-1].append(line)\n",
        "                if not bracket:\n",
        "                    pairs.append([])\n",
        "                    comment = False\n",
        "                    bracket = False\n",
        "            elif line.isspace() or line == '' and not bracket:\n",
        "                pairs.append([])\n",
        "                comment = False\n",
        "            else:\n",
        "                pairs[-1].append(line)\n",
        "    \n",
        "    # Convert pairs into proper format of (code snippet, inline comment) dataframe\n",
        "    code_snippets   = []\n",
        "    comments        = []\n",
        "    for pair in pairs:\n",
        "        if pair and len(pair) < 5:\n",
        "            code    = []\n",
        "            comment = []\n",
        "            skip = False\n",
        "            for line in pair:\n",
        "                if \"TODO\" in line: break\n",
        "                if \"//\" in line:\n",
        "                    comment.append(line.replace('//', ''))\n",
        "                else:\n",
        "                    code.append(line)\n",
        "            if len(code) > 1 and len(comment) > 0:\n",
        "                        code_snippets.append('\\n'.join(code))\n",
        "                        comments.append('\\n'.join(comment))\n",
        "\n",
        "    pairs = pd.DataFrame(zip(code_snippets, comments), columns = [\"mthd\", \"cmt\"])\n",
        "    return pairs\n",
        "\n",
        "\n",
        "def add_inline(df: pd.DataFrame) -> pd.DataFrame:\n",
        "    '''\n",
        "    Helper function to go through all methods in a given dataframe and add all\n",
        "    pairs of inline comments and corresponding code snippets\n",
        "\n",
        "    :param df: the dataframe to retrieve and add all pairs of inline comments\n",
        "    and corresponding code snippets to\n",
        "    :returns: a new dataframe with the newly added pairs of inline comments and\n",
        "    corresponding code snippets\n",
        "    '''\n",
        "    new_df = df[df['mthd'].str.contains(\"//\")]\n",
        "    all_pairs = []\n",
        "    for mthd in tqdm(new_df.mthd.values):\n",
        "        pairs = get_inline_pairs(mthd)\n",
        "        all_pairs.append(pairs)\n",
        "\n",
        "    df_pairs = pd.concat([pairs for pairs in all_pairs])\n",
        "    return pd.concat([df, df_pairs])\n",
        "\n",
        "df_trn = add_inline(df_trn)\n",
        "df_val = add_inline(df_val)\n",
        "df_tst = add_inline(df_tst)\n",
        "\n",
        "len(df_trn), len(df_val), len(df_tst)"
      ],
      "execution_count": 7,
      "outputs": [
        {
          "output_type": "display_data",
          "data": {
            "application/vnd.jupyter.widget-view+json": {
              "model_id": "3b857331a30c40be8c2d72aa74f3dc92",
              "version_minor": 0,
              "version_major": 2
            },
            "text/plain": [
              "HBox(children=(FloatProgress(value=0.0, max=994.0), HTML(value='')))"
            ]
          },
          "metadata": {
            "tags": []
          }
        },
        {
          "output_type": "stream",
          "text": [
            "\n"
          ],
          "name": "stdout"
        },
        {
          "output_type": "display_data",
          "data": {
            "application/vnd.jupyter.widget-view+json": {
              "model_id": "806159a1e8e7483cb77e9fab5e75d380",
              "version_minor": 0,
              "version_major": 2
            },
            "text/plain": [
              "HBox(children=(FloatProgress(value=0.0, max=33.0), HTML(value='')))"
            ]
          },
          "metadata": {
            "tags": []
          }
        },
        {
          "output_type": "stream",
          "text": [
            "\n"
          ],
          "name": "stdout"
        },
        {
          "output_type": "display_data",
          "data": {
            "application/vnd.jupyter.widget-view+json": {
              "model_id": "f0bfb5447b374b45932afed6489a67e8",
              "version_minor": 0,
              "version_major": 2
            },
            "text/plain": [
              "HBox(children=(FloatProgress(value=0.0, max=64.0), HTML(value='')))"
            ]
          },
          "metadata": {
            "tags": []
          }
        },
        {
          "output_type": "stream",
          "text": [
            "\n"
          ],
          "name": "stdout"
        },
        {
          "output_type": "execute_result",
          "data": {
            "text/plain": [
              "(4584, 150, 271)"
            ]
          },
          "metadata": {
            "tags": []
          },
          "execution_count": 7
        }
      ]
    },
    {
      "cell_type": "markdown",
      "metadata": {
        "id": "cOKophp1lz0A"
      },
      "source": [
        "We'll also remove pairs where the size of the code is smaller than the comment. This is because I found that in these cases the comments contain a bunch of extra information that the model won't have access to such as how the method is being used by other methods in the software system."
      ]
    },
    {
      "cell_type": "code",
      "metadata": {
        "id": "unNAIssVonyQ",
        "colab": {
          "base_uri": "https://localhost:8080/"
        },
        "outputId": "6897ae8e-8bf3-407e-a43e-c64193af789b"
      },
      "source": [
        "# collapse\n",
        "df_trn = df_trn[df_trn.apply(lambda row: len(row.mthd) > len(row.cmt), axis = 1)]\n",
        "df_val = df_val[df_val.apply(lambda row: len(row.mthd) > len(row.cmt), axis = 1)]\n",
        "df_tst = df_tst[df_tst.apply(lambda row: len(row.mthd) > len(row.cmt), axis = 1)]\n",
        "\n",
        "len(df_trn), len(df_val), len(df_tst)"
      ],
      "execution_count": 8,
      "outputs": [
        {
          "output_type": "execute_result",
          "data": {
            "text/plain": [
              "(3713, 111, 228)"
            ]
          },
          "metadata": {
            "tags": []
          },
          "execution_count": 8
        }
      ]
    },
    {
      "cell_type": "markdown",
      "metadata": {
        "id": "Qi6PmXWTmciN"
      },
      "source": [
        "Next, we'll remove any examples that have the special \\<code> tag since these also tend to contain extra information that the model doesn't have a good hope of generating."
      ]
    },
    {
      "cell_type": "code",
      "metadata": {
        "id": "31b4w_4poRLJ",
        "colab": {
          "base_uri": "https://localhost:8080/"
        },
        "outputId": "37e665a1-458d-4af4-f374-f38003dd2a58"
      },
      "source": [
        "# collapse\n",
        "def has_code(cmt: str) -> bool:\n",
        "    '''\n",
        "    Determinine if the given comment contains the HTML <code> tag\n",
        "\n",
        "    :param cmt: the comment to check whether it contains the HTML <code> tag\n",
        "    :returns: whether or not the given comment contains the HTML <code> tag\n",
        "    '''\n",
        "    if '<code>' in cmt: return True\n",
        "    else: return False\n",
        "\n",
        "df_trn = df_trn[~df_trn['cmt'].apply(lambda x: has_code(x))]\n",
        "df_val = df_val[~df_val['cmt'].apply(lambda x: has_code(x))]\n",
        "df_tst = df_tst[~df_tst['cmt'].apply(lambda x: has_code(x))]\n",
        "\n",
        "len(df_trn), len(df_val), len(df_tst)"
      ],
      "execution_count": 9,
      "outputs": [
        {
          "output_type": "execute_result",
          "data": {
            "text/plain": [
              "(3580, 104, 221)"
            ]
          },
          "metadata": {
            "tags": []
          },
          "execution_count": 9
        }
      ]
    },
    {
      "cell_type": "markdown",
      "metadata": {
        "id": "e73jhAUVmwrH"
      },
      "source": [
        "Lastly, we're gonna remove the JavaDoc parts of the comments other than the description since that is really all we care about. The other pieces of information can usually be autogenerated or may require external knowledge to document them."
      ]
    },
    {
      "cell_type": "code",
      "metadata": {
        "id": "XD8653zm7khU",
        "colab": {
          "base_uri": "https://localhost:8080/",
          "height": 165,
          "referenced_widgets": [
            "534f9f4fc88e4e81a72e9d81b9a5648d",
            "29122410a67c4d729f961b5f5570e3e4",
            "d873a9252af64730a799f561ada8677f",
            "8e55ea779e304a8299bad7e052640a3c",
            "45aac35c512948ea964d175cb7353fe9",
            "37fea365dff1432e8c2982a10ee5307f",
            "e1af434e3b3644f99534e97cfea29533",
            "2782a4ec534d41faad0a26227706f274",
            "013a3c838d7c4571946d62882d6cf1a0",
            "04879c3a956b4eca8eeec56a47d926a9",
            "36bee4dd22ab4c0fbe18f7238d1a5919",
            "5ce34677aab94e6da06c14b4629cf5b1",
            "a6b4336146b442c99f43132e1f461c38",
            "67e1dbac03ef4db097f2b3b236c21ee8",
            "c7ed2d7677954b0ca6be318cfa64fcc5",
            "25e7d3db62db4215a3ae03d0341f5f53",
            "34a1861eb41445db9993b8bda487527f",
            "fa5d8c90ad004919b805b6e30ad54bb7",
            "3507efb456534046b57f7ad7f8537259",
            "62b0b88a2901493ab46161b2bf495392",
            "ecc567a207b14690814d5e677d40f182",
            "c22314a270fe43669ec5bcb3dac1abd1",
            "46e8a13792354f70bed47c145f5eccd8",
            "b18d80cf221c498fa6a5497788dbba02"
          ]
        },
        "outputId": "42919dd8-b1ce-47ec-aa7e-7a7db657de26"
      },
      "source": [
        "# collapse\n",
        "def remove_jdocs(df: pd.DataFrame) -> pd.DataFrame:\n",
        "    '''\n",
        "    Remove the JavaDocs leaving only the description of the comment\n",
        "\n",
        "    :param df: the pandas dataframe to remove the JavaDocs from\n",
        "    :returns: a new pandas dataframe with the JavaDocs removed\n",
        "    '''\n",
        "    methods = []\n",
        "    comments = []\n",
        "    for i, row in tqdm(list(df.iterrows())):\n",
        "        comment = row[\"cmt\"]\n",
        "        # Remove {} text in comments from https://stackoverflow.com/questions/14596884/remove-text-between-and-in-python/14598135\n",
        "        comment = re.sub(\"([\\{\\[]).*?([\\)\\}])\", '', comment)\n",
        "        \n",
        "        \n",
        "        cleaned = []\n",
        "        for line in comment.split('\\n'):\n",
        "            if \"@\" in line: break\n",
        "            cleaned.append(line)\n",
        "        comments.append('\\n'.join(cleaned))\n",
        "        methods.append(row[\"mthd\"])\n",
        "    new_df = pd.DataFrame(zip(methods, comments), columns = [\"mthd\", \"cmt\"])\n",
        "\n",
        "    return new_df\n",
        "\n",
        "df_trn = remove_jdocs(df_trn);\n",
        "df_val = remove_jdocs(df_val);\n",
        "df_tst = remove_jdocs(df_tst);"
      ],
      "execution_count": 10,
      "outputs": [
        {
          "output_type": "display_data",
          "data": {
            "application/vnd.jupyter.widget-view+json": {
              "model_id": "534f9f4fc88e4e81a72e9d81b9a5648d",
              "version_minor": 0,
              "version_major": 2
            },
            "text/plain": [
              "HBox(children=(FloatProgress(value=0.0, max=3580.0), HTML(value='')))"
            ]
          },
          "metadata": {
            "tags": []
          }
        },
        {
          "output_type": "stream",
          "text": [
            "\n"
          ],
          "name": "stdout"
        },
        {
          "output_type": "display_data",
          "data": {
            "application/vnd.jupyter.widget-view+json": {
              "model_id": "013a3c838d7c4571946d62882d6cf1a0",
              "version_minor": 0,
              "version_major": 2
            },
            "text/plain": [
              "HBox(children=(FloatProgress(value=0.0, max=104.0), HTML(value='')))"
            ]
          },
          "metadata": {
            "tags": []
          }
        },
        {
          "output_type": "stream",
          "text": [
            "\n"
          ],
          "name": "stdout"
        },
        {
          "output_type": "display_data",
          "data": {
            "application/vnd.jupyter.widget-view+json": {
              "model_id": "34a1861eb41445db9993b8bda487527f",
              "version_minor": 0,
              "version_major": 2
            },
            "text/plain": [
              "HBox(children=(FloatProgress(value=0.0, max=221.0), HTML(value='')))"
            ]
          },
          "metadata": {
            "tags": []
          }
        },
        {
          "output_type": "stream",
          "text": [
            "\n"
          ],
          "name": "stdout"
        }
      ]
    },
    {
      "cell_type": "markdown",
      "metadata": {
        "id": "VLozIEE7ndJF"
      },
      "source": [
        "Almost there! In this step, we'll remove any HTML tags from the comments so the model doesn't have to also learn HTML. Bless those that do..."
      ]
    },
    {
      "cell_type": "code",
      "metadata": {
        "id": "rbNd6U1_zQuv"
      },
      "source": [
        "# collapse\n",
        "def clean_html(cmt: str) -> str:\n",
        "    '''\n",
        "    Remove any HTML tags from a given comment\n",
        "\n",
        "    :param cmt: the comment to remove any HTML tags from\n",
        "    :returns: the comment with any HTML tags removed\n",
        "    '''\n",
        "    result = re.sub(r\"<.?span[^>]*>|<.?code[^>]*>|<.?p[^>]*>|<.?hr[^>]*>|<.?h[1-3][^>]*>|<.?a[^>]*>|<.?b[^>]*>|<.?blockquote[^>]*>|<.?del[^>]*>|<.?dd[^>]*>|<.?dl[^>]*>|<.?dt[^>]*>|<.?em[^>]*>|<.?i[^>]*>|<.?img[^>]*>|<.?kbd[^>]*>|<.?li[^>]*>|<.?ol[^>]*>|<.?pre[^>]*>|<.?s[^>]*>|<.?sup[^>]*>|<.?sub[^>]*>|<.?strong[^>]*>|<.?strike[^>]*>|<.?ul[^>]*>|<.?br[^>]*>\", \"\", cmt)\n",
        "    return result\n",
        "\n",
        "df_trn.cmt = df_trn.cmt.apply(clean_html)\n",
        "df_val.cmt = df_val.cmt.apply(clean_html)\n",
        "df_tst.cmt = df_tst.cmt.apply(clean_html)"
      ],
      "execution_count": 11,
      "outputs": []
    },
    {
      "cell_type": "markdown",
      "metadata": {
        "id": "7kv9WfBLnpx7"
      },
      "source": [
        "FINALLY!! We'll make everything lower case, remove extra whitespace, remove empty comments, and remove duplicates."
      ]
    },
    {
      "cell_type": "code",
      "metadata": {
        "id": "CLtaH4kZ7yqE",
        "colab": {
          "base_uri": "https://localhost:8080/"
        },
        "outputId": "20d7545e-9794-4d05-bb54-ad3d62f089dd"
      },
      "source": [
        "# collapse\n",
        "df_trn = df_trn.applymap(lambda x: ' '.join(x.split()).lower())\n",
        "df_val = df_val.applymap(lambda x: ' '.join(x.split()).lower())\n",
        "df_tst = df_tst.applymap(lambda x: ' '.join(x.split()).lower())\n",
        "\n",
        "df_trn = df_trn[~(df_trn['cmt'] == '')]\n",
        "df_val = df_val[~(df_val['cmt'] == '')]\n",
        "df_tst = df_tst[~(df_tst['cmt'] == '')]\n",
        "\n",
        "df_trn = df_trn[~df_trn['cmt'].duplicated()]\n",
        "df_val = df_val[~df_val['cmt'].duplicated()]\n",
        "df_tst = df_tst[~df_tst['cmt'].duplicated()]\n",
        "\n",
        "len(df_trn), len(df_val), len(df_tst)"
      ],
      "execution_count": 12,
      "outputs": [
        {
          "output_type": "execute_result",
          "data": {
            "text/plain": [
              "(3094, 94, 205)"
            ]
          },
          "metadata": {
            "tags": []
          },
          "execution_count": 12
        }
      ]
    },
    {
      "cell_type": "markdown",
      "metadata": {
        "id": "V8iFdSL8n2MQ"
      },
      "source": [
        "Now let's see what the data looks like."
      ]
    },
    {
      "cell_type": "code",
      "metadata": {
        "id": "6aDzQTaf7zdS",
        "colab": {
          "base_uri": "https://localhost:8080/",
          "height": 202
        },
        "outputId": "badaa384-f0db-4978-f40d-a1b6740911bf"
      },
      "source": [
        "df_trn.head()"
      ],
      "execution_count": 13,
      "outputs": [
        {
          "output_type": "execute_result",
          "data": {
            "text/html": [
              "<div>\n",
              "<style scoped>\n",
              "    .dataframe tbody tr th:only-of-type {\n",
              "        vertical-align: middle;\n",
              "    }\n",
              "\n",
              "    .dataframe tbody tr th {\n",
              "        vertical-align: top;\n",
              "    }\n",
              "\n",
              "    .dataframe thead th {\n",
              "        text-align: right;\n",
              "    }\n",
              "</style>\n",
              "<table border=\"1\" class=\"dataframe\">\n",
              "  <thead>\n",
              "    <tr style=\"text-align: right;\">\n",
              "      <th></th>\n",
              "      <th>mthd</th>\n",
              "      <th>cmt</th>\n",
              "    </tr>\n",
              "  </thead>\n",
              "  <tbody>\n",
              "    <tr>\n",
              "      <th>0</th>\n",
              "      <td>public static void checkjavainternalaccess(ilo...</td>\n",
              "      <td>prints warning to given if hazelcast is not pr...</td>\n",
              "    </tr>\n",
              "    <tr>\n",
              "      <th>1</th>\n",
              "      <td>public void marshall(scte20plusembeddeddestina...</td>\n",
              "      <td>marshall the given parameter object.</td>\n",
              "    </tr>\n",
              "    <tr>\n",
              "      <th>2</th>\n",
              "      <td>@override public void prefetchtoken(final file...</td>\n",
              "      <td>/* gets hadoop tokens for a user to run mapred...</td>\n",
              "    </tr>\n",
              "    <tr>\n",
              "      <th>3</th>\n",
              "      <td>@override public &lt;y&gt; singularattribute&lt;x, y&gt; g...</td>\n",
              "      <td>/* (non-javadoc)</td>\n",
              "    </tr>\n",
              "    <tr>\n",
              "      <th>4</th>\n",
              "      <td>public void sync(boolean syncallsegments) { co...</td>\n",
              "      <td>forces a disk flush on the commit log files th...</td>\n",
              "    </tr>\n",
              "  </tbody>\n",
              "</table>\n",
              "</div>"
            ],
            "text/plain": [
              "                                                mthd                                                cmt\n",
              "0  public static void checkjavainternalaccess(ilo...  prints warning to given if hazelcast is not pr...\n",
              "1  public void marshall(scte20plusembeddeddestina...               marshall the given parameter object.\n",
              "2  @override public void prefetchtoken(final file...  /* gets hadoop tokens for a user to run mapred...\n",
              "3  @override public <y> singularattribute<x, y> g...                                   /* (non-javadoc)\n",
              "4  public void sync(boolean syncallsegments) { co...  forces a disk flush on the commit log files th..."
            ]
          },
          "metadata": {
            "tags": []
          },
          "execution_count": 13
        }
      ]
    },
    {
      "cell_type": "markdown",
      "metadata": {
        "id": "kdpYqEe9oRFh"
      },
      "source": [
        "## Data Exploring\n",
        "\n",
        "As good Data Scientists, we will also explore our data to uncover any secrets. Data can be sneaky like that :)."
      ]
    },
    {
      "cell_type": "code",
      "metadata": {
        "id": "1PDa2cFh3PWB",
        "colab": {
          "base_uri": "https://localhost:8080/",
          "height": 264,
          "referenced_widgets": [
            "b9631737b6a540279c81cc78b76dfd71",
            "c48ead07233c4533beae6c158bd5afbc",
            "427c73b836c94b9c83c2b46ce30f6c2d",
            "e657e15687b1482ea2135061ebe2b7fd",
            "5b0c206bf22a43bfb448060ebe07fd9d",
            "1a5e76b1a41c4064bc7da2bf24959700",
            "bbe077c87847482e9bbe09dbfb29e9d7",
            "36431709c7ac4b1cb2a35d3a1098a3a2",
            "729d79ff96cf4688883dd1c9c1049f2e",
            "05fe2a012ec04b2a94ba43fc6e4518e3",
            "ff9a426de0a741d8acb77619a5165e94",
            "aa326754c1b7474baeaa26297b8f6f52",
            "2d16b90f3fef416ea1f14ed9d8b1dc66",
            "4aa997f4850646a8b958ef0e6a57e431",
            "e156ccff41ee49049f495991d19ea15a",
            "e239fed6374d4a6b8c9f8eb89387985a",
            "bbeb816f10db4168852773dc2ac0df89",
            "d439aa8a05164bfca299c371f30de5c4",
            "8abfea12c4844dc29cb0158038012925",
            "1398640d480a4053abf7f88fb9e3a7a6",
            "63650038ce6f453cbf4ee5d093ab4948",
            "3badcaa03b3d4bfe828381b3a4428855",
            "492c9f5aead44f70a98ffe9492abcd00",
            "6ca4e136ecfe4360abedd73054ae7bb2",
            "b5fbe640e22a46948e7855c10870a3f2",
            "084398d996914a68ac917bfb525d4cd9",
            "04de005ab4d44df8b06913d3119adebd",
            "b2449d9d10964fa687de4b31836726e9",
            "550e86e254914838be33eb4bf5d6091c",
            "9c5aaf17dd644f808bc202db261158b5",
            "f4bfc99507244ec893cd2e81e1fb1517",
            "0839beac94ff49439df6ff4bc127c974",
            "c1168c1790f24e5f96868a35c5faddc2",
            "f09b0dbbfe3a4d608b9287701f4a6920",
            "53b2811b57b146fa9bafdf31c3a970fc",
            "f60133fa3c8f4dedafb18c5fea2f8237",
            "fb0434cf2c054be3a435ab911b181bdb",
            "9dd437cdab68446e9bdeb0c823f80add",
            "13b3ef9bb5d44e20a97388632a544c20",
            "45bbf7337d5d437696a46c290733d08f"
          ]
        },
        "outputId": "22c8b4a7-2275-47e9-cae5-a433e4b6cfad"
      },
      "source": [
        "# collapse\n",
        "import numpy as np\n",
        "\n",
        "from collections import Counter\n",
        "from statistics import mean, median, stdev\n",
        "from transformers import AutoTokenizer\n",
        "\n",
        "def get_counter(df: pd.DataFrame, tokenizer: AutoTokenizer, col: str) -> Counter:\n",
        "    '''\n",
        "    Get the counts for each token in a given pandas dataframe column\n",
        "\n",
        "    :param df: the pandas dataframe to get the counts of tokens from\n",
        "    :param tokenizer: the tokenizer to use for tokenizing the rows in the pandas\n",
        "    dataframe\n",
        "    :param col: the column to grab rows from when tokenizing\n",
        "    :returns: the counts of each token in the given pandas dataframe\n",
        "    column\n",
        "    '''\n",
        "    toks = []\n",
        "    for i, row in df.iterrows():\n",
        "        toks.extend(tokenizer.tokenize(row[col]))\n",
        "            \n",
        "    cnt = Counter()\n",
        "    for tok in toks:\n",
        "        cnt[tok] += 1  \n",
        "    return cnt\n",
        "\n",
        "tokenizer = AutoTokenizer.from_pretrained('microsoft/codebert-base')\n",
        "mthd_cnt = get_counter(df_trn, tokenizer, 'mthd')\n",
        "cmt_cnt = get_counter(df_trn, tokenizer, 'cmt')\n",
        "mthd_lens = df_trn.mthd.apply(lambda x: len(tokenizer.tokenize(x))).values\n",
        "cmt_lens = df_trn.cmt.apply(lambda x: len(tokenizer.tokenize(x))).values\n",
        "max_mthd_len = int(np.quantile(mthd_lens, 0.95))\n",
        "max_cmt_len = int(np.quantile(cmt_lens, 0.95))"
      ],
      "execution_count": 14,
      "outputs": [
        {
          "output_type": "display_data",
          "data": {
            "application/vnd.jupyter.widget-view+json": {
              "model_id": "b9631737b6a540279c81cc78b76dfd71",
              "version_minor": 0,
              "version_major": 2
            },
            "text/plain": [
              "HBox(children=(FloatProgress(value=0.0, description='Downloading', max=498.0, style=ProgressStyle(description_…"
            ]
          },
          "metadata": {
            "tags": []
          }
        },
        {
          "output_type": "stream",
          "text": [
            "\n"
          ],
          "name": "stdout"
        },
        {
          "output_type": "display_data",
          "data": {
            "application/vnd.jupyter.widget-view+json": {
              "model_id": "729d79ff96cf4688883dd1c9c1049f2e",
              "version_minor": 0,
              "version_major": 2
            },
            "text/plain": [
              "HBox(children=(FloatProgress(value=0.0, description='Downloading', max=898822.0, style=ProgressStyle(descripti…"
            ]
          },
          "metadata": {
            "tags": []
          }
        },
        {
          "output_type": "stream",
          "text": [
            "\n"
          ],
          "name": "stdout"
        },
        {
          "output_type": "display_data",
          "data": {
            "application/vnd.jupyter.widget-view+json": {
              "model_id": "bbeb816f10db4168852773dc2ac0df89",
              "version_minor": 0,
              "version_major": 2
            },
            "text/plain": [
              "HBox(children=(FloatProgress(value=0.0, description='Downloading', max=456318.0, style=ProgressStyle(descripti…"
            ]
          },
          "metadata": {
            "tags": []
          }
        },
        {
          "output_type": "stream",
          "text": [
            "\n"
          ],
          "name": "stdout"
        },
        {
          "output_type": "display_data",
          "data": {
            "application/vnd.jupyter.widget-view+json": {
              "model_id": "b5fbe640e22a46948e7855c10870a3f2",
              "version_minor": 0,
              "version_major": 2
            },
            "text/plain": [
              "HBox(children=(FloatProgress(value=0.0, description='Downloading', max=150.0, style=ProgressStyle(description_…"
            ]
          },
          "metadata": {
            "tags": []
          }
        },
        {
          "output_type": "stream",
          "text": [
            "\n"
          ],
          "name": "stdout"
        },
        {
          "output_type": "display_data",
          "data": {
            "application/vnd.jupyter.widget-view+json": {
              "model_id": "c1168c1790f24e5f96868a35c5faddc2",
              "version_minor": 0,
              "version_major": 2
            },
            "text/plain": [
              "HBox(children=(FloatProgress(value=0.0, description='Downloading', max=25.0, style=ProgressStyle(description_w…"
            ]
          },
          "metadata": {
            "tags": []
          }
        },
        {
          "output_type": "stream",
          "text": [
            "\n"
          ],
          "name": "stdout"
        }
      ]
    },
    {
      "cell_type": "code",
      "metadata": {
        "id": "lNa85bDI6ykG"
      },
      "source": [
        "# collapse\n",
        "import matplotlib.pyplot as plt\n",
        "\n",
        "def plot_counts(counts:Counter, top_k: Optional[int] = 30):\n",
        "    '''\n",
        "    Plot a bar chart of the most common tokens\n",
        "\n",
        "    :param counts: the counts of each token\n",
        "    :param top_k: the number of tokens to display in the plot\n",
        "    '''\n",
        "    labels, values = zip(*counts.most_common()[:top_k])\n",
        "\n",
        "    indexes = np.arange(len(labels))\n",
        "    width = 1\n",
        "    plt.figure(num=None, figsize=(22, 4), dpi=60, facecolor='w', edgecolor='k')\n",
        "    plt.bar(indexes, values, width)\n",
        "    plt.xticks(indexes + width * 0.5, labels)\n",
        "    plt.show()"
      ],
      "execution_count": 15,
      "outputs": []
    },
    {
      "cell_type": "markdown",
      "metadata": {
        "id": "Dh2SvpxkoeGF"
      },
      "source": [
        "Let's look at the most common tokens in our methods and comments."
      ]
    },
    {
      "cell_type": "code",
      "metadata": {
        "id": "Q423l0X96-QW",
        "colab": {
          "base_uri": "https://localhost:8080/",
          "height": 352
        },
        "outputId": "3b5e5f8f-695f-413f-e712-821206e37a16"
      },
      "source": [
        "plot_counts(mthd_cnt, top_k = 30)\n",
        "plot_counts(cmt_cnt, top_k = 30)"
      ],
      "execution_count": 16,
      "outputs": [
        {
          "output_type": "display_data",
          "data": {
            "image/png": "[encoded data removed]",
            "text/plain": [
              "<Figure size 1320x240 with 1 Axes>"
            ]
          },
          "metadata": {
            "tags": []
          }
        },
        {
          "output_type": "display_data",
          "data": {
            "image/png": "[encoded data removed]",
            "text/plain": [
              "<Figure size 1320x240 with 1 Axes>"
            ]
          },
          "metadata": {
            "tags": []
          }
        }
      ]
    },
    {
      "cell_type": "code",
      "metadata": {
        "id": "iyQ9rprv5mba"
      },
      "source": [
        "# collapse\n",
        "def plot_hist(lens: List[int], n_bins: Optional[int] = 50):\n",
        "    '''\n",
        "    Plot a histogram of the given number of tokens in a column \n",
        "\n",
        "    :param lens: the number of tokens in a column\n",
        "    :param n_bins: the number of bins to sort the number of tokens into\n",
        "    '''\n",
        "    n, bins, patches = plt.hist(lens, n_bins, facecolor='blue', alpha=0.9)\n",
        "    plt.show()"
      ],
      "execution_count": 17,
      "outputs": []
    },
    {
      "cell_type": "markdown",
      "metadata": {
        "id": "BaNPF2liokEl"
      },
      "source": [
        "Now, let's look at the distribution of method and comment lengths."
      ]
    },
    {
      "cell_type": "code",
      "metadata": {
        "id": "EkrR4xAq7mu3",
        "colab": {
          "base_uri": "https://localhost:8080/",
          "height": 548
        },
        "outputId": "e834e781-8bed-4da7-e5bb-c8fd8d640f29"
      },
      "source": [
        "print(mean(mthd_lens), median(mthd_lens), stdev(mthd_lens))\n",
        "plot_hist(mthd_lens)\n",
        "print(mean(cmt_lens), median(cmt_lens), stdev(cmt_lens))\n",
        "plot_hist(cmt_lens)"
      ],
      "execution_count": 18,
      "outputs": [
        {
          "output_type": "stream",
          "text": [
            "177 102.0 283.76574846164925\n"
          ],
          "name": "stdout"
        },
        {
          "output_type": "display_data",
          "data": {
            "image/png": "[encoded data removed]",
            "text/plain": [
              "<Figure size 432x288 with 1 Axes>"
            ]
          },
          "metadata": {
            "tags": [],
            "needs_background": "light"
          }
        },
        {
          "output_type": "stream",
          "text": [
            "17 12.0 19.77371993328519\n"
          ],
          "name": "stdout"
        },
        {
          "output_type": "display_data",
          "data": {
            "image/png": "[encoded data removed]",
            "text/plain": [
              "<Figure size 432x288 with 1 Axes>"
            ]
          },
          "metadata": {
            "tags": [],
            "needs_background": "light"
          }
        }
      ]
    },
    {
      "cell_type": "markdown",
      "metadata": {
        "id": "fic4R6CgopnK"
      },
      "source": [
        "Using this new information on the length distribution, we can remove outliers by filter by lengths of methods that fall outside of 95th percentile (chosen for completely arbitrary reasons)!"
      ]
    },
    {
      "cell_type": "code",
      "metadata": {
        "id": "ZjM35bsYGhxB",
        "colab": {
          "base_uri": "https://localhost:8080/"
        },
        "outputId": "9771968f-8240-44f5-b73f-bd55a188cf8f"
      },
      "source": [
        "# collapse\n",
        "def filter_len(\n",
        "    row: pd.Series, tokenizer: AutoTokenizer, mthd_len: int, cmt_len: int\n",
        "    ) -> bool:\n",
        "    '''\n",
        "    Determine if a given panda dataframe row has a method or comment that has\n",
        "    more tokens than max length\n",
        "\n",
        "    :param row: the row to check if it has a method or comment that is too long\n",
        "    :param tokenizer: the tokenizer to tokenize a method or comment\n",
        "    :param mthd_len: the max number of tokens a method can have\n",
        "    :param cmt_len: the max number of tokens a comment can have\n",
        "    :returns: whether or not the given row have a method or comment that have\n",
        "    more tokens than a max length\n",
        "    '''\n",
        "    return len(tokenizer.tokenize(row.mthd)) < mthd_len and len(tokenizer.tokenize(row.cmt)) < cmt_len\n",
        "\n",
        "df_trn = df_trn[df_trn.apply(\n",
        "    lambda row: filter_len(\n",
        "        row, tokenizer, max_mthd_len,\n",
        "        max_cmt_len\n",
        "    ), axis = 1\n",
        ")]\n",
        "df_val = df_val[df_val.apply(\n",
        "    lambda row: filter_len(\n",
        "        row, tokenizer, max_mthd_len,\n",
        "        max_cmt_len\n",
        "    ), axis = 1\n",
        ")]\n",
        "df_tst = df_tst[df_tst.apply(\n",
        "    lambda row: filter_len(\n",
        "        row, tokenizer, max_mthd_len,\n",
        "        max_cmt_len\n",
        "    ), axis = 1\n",
        ")]\n",
        "\n",
        "len(df_trn), len(df_val), len(df_tst)"
      ],
      "execution_count": 19,
      "outputs": [
        {
          "output_type": "execute_result",
          "data": {
            "text/plain": [
              "(2809, 88, 193)"
            ]
          },
          "metadata": {
            "tags": []
          },
          "execution_count": 19
        }
      ]
    },
    {
      "cell_type": "code",
      "metadata": {
        "id": "sAf8tWeQoMZ1",
        "colab": {
          "base_uri": "https://localhost:8080/"
        },
        "outputId": "ebeb771c-bd2c-455b-a9e9-30d163083c4b"
      },
      "source": [
        "max_mthd_len, max_cmt_len"
      ],
      "execution_count": 20,
      "outputs": [
        {
          "output_type": "execute_result",
          "data": {
            "text/plain": [
              "(559, 48)"
            ]
          },
          "metadata": {
            "tags": []
          },
          "execution_count": 20
        }
      ]
    },
    {
      "cell_type": "markdown",
      "metadata": {
        "id": "y-tO34cBo6zW"
      },
      "source": [
        "We could do a lot more exploring of our data as the above exploration was the bare minimum. As an exercise, I suggest for you to explore the data on your own using whatever means necessary!"
      ]
    },
    {
      "cell_type": "markdown",
      "metadata": {
        "id": "QUU6Z2NhpJ8Z"
      },
      "source": [
        "# Training\n",
        "\n",
        "Now that we have our data processed and in a format we like, let's go ahead and start training! To accomplish this we will be using code from the awesome [CodeXGLUE](https://github.com/microsoft/CodeXGLUE) repository. This repository is similar to the NLP equivalent GLUE benchmarks where a ton of awesome code related benchmarks are standardized and put into one place for the community to use! They have a ton of interesting ones and I highly suggest looking through their repo if you are interested in other code related tasks."
      ]
    },
    {
      "cell_type": "code",
      "metadata": {
        "id": "vkF20u0gJW5s",
        "colab": {
          "base_uri": "https://localhost:8080/"
        },
        "outputId": "e15e0f68-6933-480c-c1fb-b7487070392a"
      },
      "source": [
        "cd ./CodeXGLUE/Code-Text/code-to-text/code"
      ],
      "execution_count": 21,
      "outputs": [
        {
          "output_type": "stream",
          "text": [
            "/content/CodeXGLUE/Code-Text/code-to-text/code\n"
          ],
          "name": "stdout"
        }
      ]
    },
    {
      "cell_type": "code",
      "metadata": {
        "id": "2iGgeiXHJmka"
      },
      "source": [
        "# hide\n",
        "! mkdir java"
      ],
      "execution_count": 22,
      "outputs": []
    },
    {
      "cell_type": "markdown",
      "metadata": {
        "id": "1wavqOsnyqYW"
      },
      "source": [
        "Okay, I lied, sorry :(. One last processing step is required of our data, which is to just output the data into the structure that the awesome CodeXGLUE Code-Text benchmark expects."
      ]
    },
    {
      "cell_type": "code",
      "metadata": {
        "id": "zAuMnMVRw1u4"
      },
      "source": [
        "# collapse\n",
        "import json\n",
        "\n",
        "df_trn['code_tokens'] = df_trn.mthd.apply(lambda x: x.split())\n",
        "df_trn['docstring_tokens'] = df_trn.cmt.apply(lambda x: x.split())\n",
        "with open('java/train.jsonl','w') as f:\n",
        "    for _, row in df_trn.iterrows():\n",
        "        f.write(json.dumps(row.to_dict()) + '\\n')\n",
        "\n",
        "df_val['code_tokens'] = df_val.mthd.apply(lambda x: x.split())\n",
        "df_val['docstring_tokens'] = df_val.cmt.apply(lambda x: x.split())\n",
        "with open('java/valid.jsonl','w') as f:\n",
        "    for _, row in df_val.iterrows():\n",
        "        f.write(json.dumps(row.to_dict()) + '\\n')\n",
        "\n",
        "df_tst['code_tokens'] = df_tst.mthd.apply(lambda x: x.split())\n",
        "df_tst['docstring_tokens'] = df_tst.cmt.apply(lambda x: x.split())\n",
        "with open('java/test.jsonl','w') as f:\n",
        "    for _, row in df_tst.iterrows():\n",
        "        f.write(json.dumps(row.to_dict()) + '\\n')"
      ],
      "execution_count": 23,
      "outputs": []
    },
    {
      "cell_type": "code",
      "metadata": {
        "id": "iIU9oH7AzxbH",
        "outputId": "503e9b22-5598-423f-f0b2-e68e371ed33c",
        "colab": {
          "base_uri": "https://localhost:8080/"
        }
      },
      "source": [
        "lang = 'java' # programming language\n",
        "lr = 5e-5\n",
        "batch_size = 8 # change depending on the GPU Colab gives you\n",
        "beam_size = 10\n",
        "source_length = 256\n",
        "target_length = max_cmt_len\n",
        "data_dir = '.'\n",
        "output_dir = f'model/{lang}'\n",
        "train_file = f'{data_dir}/{lang}/train.jsonl'\n",
        "dev_file = f'{data_dir}/{lang}/valid.jsonl'\n",
        "epochs = 10 \n",
        "pretrained_model = 'microsoft/codebert-base'\n",
        "\n",
        "! python run.py \\\n",
        "    --do_train \\\n",
        "    --do_eval \\\n",
        "    --do_lower_case \\\n",
        "    --model_type roberta \\\n",
        "    --model_name_or_path {pretrained_model} \\\n",
        "    --train_filename {train_file} \\\n",
        "    --dev_filename {dev_file} \\\n",
        "    --output_dir {output_dir} \\\n",
        "    --max_source_length {source_length} \\\n",
        "    --max_target_length {target_length} \\\n",
        "    --beam_size {beam_size} \\\n",
        "    --train_batch_size {batch_size} \\\n",
        "    --eval_batch_size {batch_size} \\\n",
        "    --learning_rate {lr} \\\n",
        "    --num_train_epochs {epochs}"
      ],
      "execution_count": 24,
      "outputs": [
        {
          "output_type": "stream",
          "text": [
            "2021-01-14 20:49:04.427229: I tensorflow/stream_executor/platform/default/dso_loader.cc:49] Successfully opened dynamic library libcudart.so.10.1\n",
            "01/14/2021 20:49:06 - INFO - __main__ -   Namespace(adam_epsilon=1e-08, beam_size=10, config_name='', dev_filename='./java/valid.jsonl', do_eval=True, do_lower_case=True, do_test=False, do_train=True, eval_batch_size=8, eval_steps=-1, gradient_accumulation_steps=1, learning_rate=5e-05, load_model_path=None, local_rank=-1, max_grad_norm=1.0, max_source_length=256, max_steps=-1, max_target_length=48, model_name_or_path='microsoft/codebert-base', model_type='roberta', no_cuda=False, num_train_epochs=10, output_dir='model/java', seed=42, test_filename=None, tokenizer_name='', train_batch_size=8, train_filename='./java/train.jsonl', train_steps=-1, warmup_steps=0, weight_decay=0.0)\n",
            "01/14/2021 20:49:06 - WARNING - __main__ -   Process rank: -1, device: cuda, n_gpu: 1, distributed training: False\n",
            "01/14/2021 20:49:06 - INFO - filelock -   Lock 140293701425752 acquired on /root/.cache/torch/transformers/08477dcecf305af90229876aa01e4b0f3594dc8c638985a72277f39ea7d8d0c3.7fb14267817b1d26bb44a57cd5aa2fc003c25e87b75ef77e9c55c4804675b4cf.lock\n",
            "Downloading: 100% 499M/499M [00:06<00:00, 73.5MB/s]\n",
            "01/14/2021 20:49:13 - INFO - filelock -   Lock 140293701425752 released on /root/.cache/torch/transformers/08477dcecf305af90229876aa01e4b0f3594dc8c638985a72277f39ea7d8d0c3.7fb14267817b1d26bb44a57cd5aa2fc003c25e87b75ef77e9c55c4804675b4cf.lock\n",
            "01/14/2021 20:49:30 - INFO - __main__ -   *** Example ***\n",
            "01/14/2021 20:49:30 - INFO - __main__ -   idx: 0\n",
            "01/14/2021 20:49:30 - INFO - __main__ -   source_tokens: ['<s>', 'public', '_static', '_void', '_check', 'j', 'av', 'ain', 'ternal', 'access', '(', 'il', 'og', 'ger', '_logger', ')', '_{', '_if', '_(', 'log', 'ger', '_==', '_null', '_||', '_!', 'java', 'version', '.', 'is', 'at', 'le', 'ast', '(', 'java', 'version', '.', 'java', '_', '9', '))', '_{', '_//', '_older', '_java', '_versions', '_are', '_fine', '_with', '_the', '_reflection', '_return', ';', '_}', '_map', '<', 'string', ',', '_package', 'access', 'requ', 'irement', '[]', '>', '_requirements', '_=', '_new', '_tre', 'em', 'ap', '<', 'string', ',', '_package', 'access', 'requ', 'irement', '[]', '>', '();', '_requirements', '.', 'put', '(\"', 'java', '.', 'base', '\",', '_new', '_package', 'access', 'requ', 'irement', '[]', '_{', '_create', 'requ', 'irement', '(', 'false', ',', '_\"', 'j', 'dk', '.', 'internal', '.', 'ref', '\"),', '_create', 'requ', 'irement', '(', 'true', ',', '_\"', 'java', '.', 'lang', '\"),', '_create', 'requ', 'irement', '(', 'true', ',', '_\"', 'java', '.', 'n', 'io', '\"),', '_create', 'requ', 'irement', '(', 'true', ',', '_\"', 'sun', '.', 'n', 'io', '.', 'ch', '\")', '_});', '_requirements', '.', 'put', '(\"', 'j', 'dk', '.', 'management', '\",', '_get', 'j', 'dk', 'management', 'requ', 'irements', '());', '_requirements', '.', 'put', '(\"', 'java', '.', 'management', '\",', '_new', '_package', 'access', 'requ', 'irement', '[]', '_{', '_create', 'requ', 'irement', '(', 'true', ',', '_\"', 'sun', '.', 'management', '\")', '_});', '_check', 'package', 'requ', 'irements', '(', 'log', 'ger', ',', '_requirements', ');', '_}', '</s>']\n",
            "01/14/2021 20:49:30 - INFO - __main__ -   source_ids: 0 15110 25156 13842 1649 267 1469 1851 46378 28300 1640 718 2154 2403 37764 43 25522 114 36 12376 2403 45994 23796 45056 27785 43830 21747 4 354 415 459 1988 1640 43830 21747 4 43830 1215 466 35122 25522 21277 2530 46900 7952 32 2051 19 5 12456 671 131 35524 5456 41552 20951 6 3737 28300 42172 34074 48992 15698 3471 5457 92 6110 991 1115 41552 20951 6 3737 28300 42172 34074 48992 15698 47006 3471 4 9179 46469 43830 4 11070 1297 92 3737 28300 42172 34074 48992 25522 1045 42172 34074 1640 22303 6 22 267 43357 4 37559 4 13043 16844 1045 42172 34074 1640 29225 6 22 43830 4 32373 16844 1045 42172 34074 1640 29225 6 22 43830 4 282 1020 16844 1045 42172 34074 1640 29225 6 22 21381 4 282 1020 4 611 8070 47771 3471 4 9179 46469 267 43357 4 14668 1297 120 267 43357 14668 42172 48227 49291 3471 4 9179 46469 43830 4 14668 1297 92 3737 28300 42172 34074 48992 25522 1045 42172 34074 1640 29225 6 22 21381 4 14668 8070 47771 1649 46181 42172 48227 1640 12376 2403 6 3471 4397 35524 2 1 1 1 1 1 1 1 1 1 1 1 1 1 1 1 1 1 1 1 1 1 1 1 1 1 1 1 1 1 1 1 1 1 1 1 1 1 1 1 1 1 1 1 1 1 1 1 1 1 1 1 1 1 1 1\n",
            "01/14/2021 20:49:30 - INFO - __main__ -   source_mask: 1 1 1 1 1 1 1 1 1 1 1 1 1 1 1 1 1 1 1 1 1 1 1 1 1 1 1 1 1 1 1 1 1 1 1 1 1 1 1 1 1 1 1 1 1 1 1 1 1 1 1 1 1 1 1 1 1 1 1 1 1 1 1 1 1 1 1 1 1 1 1 1 1 1 1 1 1 1 1 1 1 1 1 1 1 1 1 1 1 1 1 1 1 1 1 1 1 1 1 1 1 1 1 1 1 1 1 1 1 1 1 1 1 1 1 1 1 1 1 1 1 1 1 1 1 1 1 1 1 1 1 1 1 1 1 1 1 1 1 1 1 1 1 1 1 1 1 1 1 1 1 1 1 1 1 1 1 1 1 1 1 1 1 1 1 1 1 1 1 1 1 1 1 1 1 1 1 1 1 1 1 1 1 1 1 1 1 1 1 1 1 1 1 1 1 1 1 1 1 1 1 0 0 0 0 0 0 0 0 0 0 0 0 0 0 0 0 0 0 0 0 0 0 0 0 0 0 0 0 0 0 0 0 0 0 0 0 0 0 0 0 0 0 0 0 0 0 0 0 0 0 0 0 0 0 0\n",
            "01/14/2021 20:49:30 - INFO - __main__ -   target_tokens: ['<s>', 'prints', '_warning', '_to', '_given', '_if', '_haz', 'el', 'cast', '_is', '_not', '_provided', '_a', '_sufficient', '_access', '_to', '_java', '_internal', '_packages', '_on', '_java', '_9', '_and', '_newer', '.', '</s>']\n",
            "01/14/2021 20:49:30 - INFO - __main__ -   target_ids: 0 31553 2892 7 576 114 32468 523 5182 16 45 1286 10 7719 899 7 46900 3425 8368 15 46900 361 8 13964 4 2 1 1 1 1 1 1 1 1 1 1 1 1 1 1 1 1 1 1 1 1 1 1\n",
            "01/14/2021 20:49:30 - INFO - __main__ -   target_mask: 1 1 1 1 1 1 1 1 1 1 1 1 1 1 1 1 1 1 1 1 1 1 1 1 1 1 0 0 0 0 0 0 0 0 0 0 0 0 0 0 0 0 0 0 0 0 0 0\n",
            "01/14/2021 20:49:30 - INFO - __main__ -   *** Example ***\n",
            "01/14/2021 20:49:30 - INFO - __main__ -   idx: 1\n",
            "01/14/2021 20:49:30 - INFO - __main__ -   source_tokens: ['<s>', 'public', '_void', '_marsh', 'all', '(', 's', 'ct', 'e', '20', 'pl', 'use', 'mb', 'edd', 'edd', 'est', 'inations', 'ettings', '_s', 'ct', 'e', '20', 'pl', 'use', 'mb', 'edd', 'edd', 'est', 'inations', 'ettings', ',', '_protocol', 'm', 'arsh', 'all', 'er', '_protocol', 'm', 'arsh', 'all', 'er', ')', '_{', '_if', '_(', 's', 'ct', 'e', '20', 'pl', 'use', 'mb', 'edd', 'edd', 'est', 'inations', 'ettings', '_==', '_null', ')', '_{', '_throw', '_new', '_s', 'dk', 'client', 'ex', 'ception', '(\"', 'in', 'valid', '_argument', '_passed', '_to', '_marsh', 'all', '(', '...)', '\");', '_}', '_try', '_{', '_}', '_catch', '_(', 'ex', 'ception', '_e', ')', '_{', '_throw', '_new', '_s', 'dk', 'client', 'ex', 'ception', '(\"', 'un', 'able', '_to', '_marsh', 'all', '_request', '_to', '_json', ':', '_\"', '_+', '_e', '.', 'get', 'message', '(),', '_e', ');', '_}', '_}', '</s>']\n",
            "01/14/2021 20:49:30 - INFO - __main__ -   source_ids: 0 15110 13842 16377 1250 1640 29 3894 242 844 2911 3698 6648 13093 13093 990 17808 48496 579 3894 242 844 2911 3698 6648 13093 13093 990 17808 48496 6 11883 119 14980 1250 254 11883 119 14980 1250 254 43 25522 114 36 29 3894 242 844 2911 3698 6648 13093 13093 990 17808 48496 45994 23796 43 25522 3211 92 579 43357 38557 3463 20900 46469 179 42679 4795 1595 7 16377 1250 1640 41137 45751 35524 860 25522 35524 2916 36 3463 20900 364 43 25522 3211 92 579 43357 38557 3463 20900 46469 879 868 7 16377 1250 2069 7 49133 35 22 2055 364 4 6460 44773 49196 364 4397 35524 35524 2 1 1 1 1 1 1 1 1 1 1 1 1 1 1 1 1 1 1 1 1 1 1 1 1 1 1 1 1 1 1 1 1 1 1 1 1 1 1 1 1 1 1 1 1 1 1 1 1 1 1 1 1 1 1 1 1 1 1 1 1 1 1 1 1 1 1 1 1 1 1 1 1 1 1 1 1 1 1 1 1 1 1 1 1 1 1 1 1 1 1 1 1 1 1 1 1 1 1 1 1 1 1 1 1 1 1 1 1 1 1 1 1 1 1 1 1 1 1 1 1 1 1 1 1 1 1 1 1 1 1 1 1 1 1 1 1 1\n",
            "01/14/2021 20:49:30 - INFO - __main__ -   source_mask: 1 1 1 1 1 1 1 1 1 1 1 1 1 1 1 1 1 1 1 1 1 1 1 1 1 1 1 1 1 1 1 1 1 1 1 1 1 1 1 1 1 1 1 1 1 1 1 1 1 1 1 1 1 1 1 1 1 1 1 1 1 1 1 1 1 1 1 1 1 1 1 1 1 1 1 1 1 1 1 1 1 1 1 1 1 1 1 1 1 1 1 1 1 1 1 1 1 1 1 1 1 1 1 1 1 1 1 1 1 1 1 1 1 1 1 1 1 1 1 0 0 0 0 0 0 0 0 0 0 0 0 0 0 0 0 0 0 0 0 0 0 0 0 0 0 0 0 0 0 0 0 0 0 0 0 0 0 0 0 0 0 0 0 0 0 0 0 0 0 0 0 0 0 0 0 0 0 0 0 0 0 0 0 0 0 0 0 0 0 0 0 0 0 0 0 0 0 0 0 0 0 0 0 0 0 0 0 0 0 0 0 0 0 0 0 0 0 0 0 0 0 0 0 0 0 0 0 0 0 0 0 0 0 0 0 0 0 0 0 0 0 0 0 0 0 0 0 0 0 0 0 0 0 0 0 0\n",
            "01/14/2021 20:49:30 - INFO - __main__ -   target_tokens: ['<s>', 'm', 'arsh', 'all', '_the', '_given', '_parameter', '_object', '.', '</s>']\n",
            "01/14/2021 20:49:30 - INFO - __main__ -   target_ids: 0 119 14980 1250 5 576 43797 7626 4 2 1 1 1 1 1 1 1 1 1 1 1 1 1 1 1 1 1 1 1 1 1 1 1 1 1 1 1 1 1 1 1 1 1 1 1 1 1 1\n",
            "01/14/2021 20:49:30 - INFO - __main__ -   target_mask: 1 1 1 1 1 1 1 1 1 1 0 0 0 0 0 0 0 0 0 0 0 0 0 0 0 0 0 0 0 0 0 0 0 0 0 0 0 0 0 0 0 0 0 0 0 0 0 0\n",
            "01/14/2021 20:49:30 - INFO - __main__ -   *** Example ***\n",
            "01/14/2021 20:49:30 - INFO - __main__ -   idx: 2\n",
            "01/14/2021 20:49:30 - INFO - __main__ -   source_tokens: ['<s>', '@', 'over', 'ride', '_public', '_void', '_pref', 'etch', 'token', '(', 'final', '_file', '_token', 'file', ',', '_final', '_props', '_props', ',', '_final', '_logger', '_logger', ')', '_throws', '_had', 'oop', 'security', 'man', 'age', 'rex', 'ception', '_{', '_final', '_string', '_us', 'ert', 'op', 'roxy', '_=', '_props', '.', 'get', 'string', '(', 'job', 'properties', '.', 'user', '_', 'to', '_', 'proxy', ');', '_logger', '.', 'info', '(\"', 'getting', '_had', 'oop', '_tokens', '_based', '_on', '_props', '_for', '_\"', '_+', '_us', 'ert', 'op', 'roxy', ');', '_dop', 'ref', 'etch', '(', 'token', 'file', ',', '_props', ',', '_logger', ',', '_us', 'ert', 'op', 'roxy', ');', '_}', '</s>']\n",
            "01/14/2021 20:49:30 - INFO - __main__ -   source_ids: 0 1039 2137 23167 285 13842 33284 29094 46657 1640 6156 2870 19233 21710 6 507 26504 26504 6 507 37764 37764 43 6989 56 18042 15506 397 1580 19633 20900 25522 507 6755 201 2399 1517 46963 5457 26504 4 6460 20951 1640 30056 47276 4 12105 1215 560 1215 47315 4397 37764 4 23999 46469 31315 56 18042 22121 716 15 26504 13 22 2055 201 2399 1517 46963 4397 32331 13043 29094 1640 46657 21710 6 26504 6 37764 6 201 2399 1517 46963 4397 35524 2 1 1 1 1 1 1 1 1 1 1 1 1 1 1 1 1 1 1 1 1 1 1 1 1 1 1 1 1 1 1 1 1 1 1 1 1 1 1 1 1 1 1 1 1 1 1 1 1 1 1 1 1 1 1 1 1 1 1 1 1 1 1 1 1 1 1 1 1 1 1 1 1 1 1 1 1 1 1 1 1 1 1 1 1 1 1 1 1 1 1 1 1 1 1 1 1 1 1 1 1 1 1 1 1 1 1 1 1 1 1 1 1 1 1 1 1 1 1 1 1 1 1 1 1 1 1 1 1 1 1 1 1 1 1 1 1 1 1 1 1 1 1 1 1 1 1 1 1 1 1 1 1 1 1 1 1 1 1 1 1 1 1 1 1 1 1\n",
            "01/14/2021 20:49:30 - INFO - __main__ -   source_mask: 1 1 1 1 1 1 1 1 1 1 1 1 1 1 1 1 1 1 1 1 1 1 1 1 1 1 1 1 1 1 1 1 1 1 1 1 1 1 1 1 1 1 1 1 1 1 1 1 1 1 1 1 1 1 1 1 1 1 1 1 1 1 1 1 1 1 1 1 1 1 1 1 1 1 1 1 1 1 1 1 1 1 1 1 1 1 1 1 1 1 0 0 0 0 0 0 0 0 0 0 0 0 0 0 0 0 0 0 0 0 0 0 0 0 0 0 0 0 0 0 0 0 0 0 0 0 0 0 0 0 0 0 0 0 0 0 0 0 0 0 0 0 0 0 0 0 0 0 0 0 0 0 0 0 0 0 0 0 0 0 0 0 0 0 0 0 0 0 0 0 0 0 0 0 0 0 0 0 0 0 0 0 0 0 0 0 0 0 0 0 0 0 0 0 0 0 0 0 0 0 0 0 0 0 0 0 0 0 0 0 0 0 0 0 0 0 0 0 0 0 0 0 0 0 0 0 0 0 0 0 0 0 0 0 0 0 0 0 0 0 0 0 0 0 0 0 0 0 0 0 0 0 0 0 0 0\n",
            "01/14/2021 20:49:30 - INFO - __main__ -   target_tokens: ['<s>', '/*', '_gets', '_had', 'oop', '_tokens', '_for', '_a', '_user', '_to', '_run', '_map', 'red', '/', 'h', 'ive', '_jobs', '_on', '_a', '_secured', '_cluster', '</s>']\n",
            "01/14/2021 20:49:30 - INFO - __main__ -   target_ids: 0 49051 1516 56 18042 22121 13 10 3018 7 422 5456 2050 73 298 2088 1315 15 10 5288 18016 2 1 1 1 1 1 1 1 1 1 1 1 1 1 1 1 1 1 1 1 1 1 1 1 1 1 1\n",
            "01/14/2021 20:49:30 - INFO - __main__ -   target_mask: 1 1 1 1 1 1 1 1 1 1 1 1 1 1 1 1 1 1 1 1 1 1 0 0 0 0 0 0 0 0 0 0 0 0 0 0 0 0 0 0 0 0 0 0 0 0 0 0\n",
            "01/14/2021 20:49:30 - INFO - __main__ -   *** Example ***\n",
            "01/14/2021 20:49:30 - INFO - __main__ -   idx: 3\n",
            "01/14/2021 20:49:30 - INFO - __main__ -   source_tokens: ['<s>', '@', 'over', 'ride', '_public', '_<', 'y', '>', '_singular', 'attribute', '<', 'x', ',', '_y', '>', '_get', 'decl', 'ared', 'id', '(', 'class', '<', 'y', '>', '_param', 'class', ')', '_{', '_if', '_(', 'id', 'attribute', '_!=', '_null', ')', '_{', '_if', '_(', 'id', 'attribute', '.', 'get', 'j', 'av', 'at', 'ype', '().', 'equ', 'als', '(', 'param', 'class', ')', '_&&', '_!', 'is', 'id', 'class', ')', '_{', '_return', '_(', 'sing', 'ular', 'attribute', '<', 'x', ',', '_y', '>)', '_id', 'attribute', ';', '_}', '_}', '_on', 'error', '();', '_return', '_null', ';', '_}', '</s>']\n",
            "01/14/2021 20:49:30 - INFO - __main__ -   source_ids: 0 1039 2137 23167 285 28696 219 15698 23429 49202 41552 1178 6 1423 15698 120 32639 6537 808 1640 4684 41552 219 15698 40206 4684 43 25522 114 36 808 49202 49333 23796 43 25522 114 36 808 49202 4 6460 267 1469 415 37356 49123 8198 1536 1640 46669 4684 43 48200 27785 354 808 4684 43 25522 671 36 26058 8244 49202 41552 1178 6 1423 49798 13561 49202 131 35524 35524 15 44223 47006 671 23796 131 35524 2 1 1 1 1 1 1 1 1 1 1 1 1 1 1 1 1 1 1 1 1 1 1 1 1 1 1 1 1 1 1 1 1 1 1 1 1 1 1 1 1 1 1 1 1 1 1 1 1 1 1 1 1 1 1 1 1 1 1 1 1 1 1 1 1 1 1 1 1 1 1 1 1 1 1 1 1 1 1 1 1 1 1 1 1 1 1 1 1 1 1 1 1 1 1 1 1 1 1 1 1 1 1 1 1 1 1 1 1 1 1 1 1 1 1 1 1 1 1 1 1 1 1 1 1 1 1 1 1 1 1 1 1 1 1 1 1 1 1 1 1 1 1 1 1 1 1 1 1 1 1 1 1 1 1 1 1 1 1 1 1 1 1 1 1 1 1 1 1 1 1 1 1 1\n",
            "01/14/2021 20:49:30 - INFO - __main__ -   source_mask: 1 1 1 1 1 1 1 1 1 1 1 1 1 1 1 1 1 1 1 1 1 1 1 1 1 1 1 1 1 1 1 1 1 1 1 1 1 1 1 1 1 1 1 1 1 1 1 1 1 1 1 1 1 1 1 1 1 1 1 1 1 1 1 1 1 1 1 1 1 1 1 1 1 1 1 1 1 1 1 1 1 1 1 0 0 0 0 0 0 0 0 0 0 0 0 0 0 0 0 0 0 0 0 0 0 0 0 0 0 0 0 0 0 0 0 0 0 0 0 0 0 0 0 0 0 0 0 0 0 0 0 0 0 0 0 0 0 0 0 0 0 0 0 0 0 0 0 0 0 0 0 0 0 0 0 0 0 0 0 0 0 0 0 0 0 0 0 0 0 0 0 0 0 0 0 0 0 0 0 0 0 0 0 0 0 0 0 0 0 0 0 0 0 0 0 0 0 0 0 0 0 0 0 0 0 0 0 0 0 0 0 0 0 0 0 0 0 0 0 0 0 0 0 0 0 0 0 0 0 0 0 0 0 0 0 0 0 0 0 0 0 0 0 0 0 0 0 0 0 0 0 0 0 0 0 0\n",
            "01/14/2021 20:49:30 - INFO - __main__ -   target_tokens: ['<s>', '/*', '_(', 'non', '-', 'j', 'av', 'ad', 'oc', ')', '</s>']\n",
            "01/14/2021 20:49:30 - INFO - __main__ -   target_ids: 0 49051 36 13424 12 267 1469 625 1975 43 2 1 1 1 1 1 1 1 1 1 1 1 1 1 1 1 1 1 1 1 1 1 1 1 1 1 1 1 1 1 1 1 1 1 1 1 1 1\n",
            "01/14/2021 20:49:30 - INFO - __main__ -   target_mask: 1 1 1 1 1 1 1 1 1 1 1 0 0 0 0 0 0 0 0 0 0 0 0 0 0 0 0 0 0 0 0 0 0 0 0 0 0 0 0 0 0 0 0 0 0 0 0 0\n",
            "01/14/2021 20:49:30 - INFO - __main__ -   *** Example ***\n",
            "01/14/2021 20:49:30 - INFO - __main__ -   idx: 4\n",
            "01/14/2021 20:49:30 - INFO - __main__ -   source_tokens: ['<s>', 'public', '_void', '_sync', '(', 'bo', 'olean', '_syn', 'call', 'se', 'gments', ')', '_{', '_commit', 'log', 'se', 'gment', '_current', '_=', '_alloc', 'ator', '.', 'all', 'ocating', 'from', '();', '_for', '_(', 'commit', 'log', 'se', 'gment', '_segment', '_:', '_alloc', 'ator', '.', 'get', 'act', 'ives', 'eg', 'ments', '())', '_{', '_if', '_(!', 'sync', 'all', 'se', 'gments', '_&&', '_segment', '.', 'id', '_>', '_current', '.', 'id', ')', '_return', ';', '_segment', '.', 'sync', '();', '_}', '_}', '</s>']\n",
            "01/14/2021 20:49:30 - INFO - __main__ -   source_ids: 0 15110 13842 22785 1640 3983 48547 17796 16395 1090 30237 43 25522 6225 12376 1090 10757 595 5457 42793 2630 4 1250 18106 7761 47006 13 36 42721 12376 1090 10757 2835 4832 42793 2630 4 6460 7257 3699 3733 2963 49338 25522 114 48209 45176 1250 1090 30237 48200 2835 4 808 8061 595 4 808 43 671 131 2835 4 45176 47006 35524 35524 2 1 1 1 1 1 1 1 1 1 1 1 1 1 1 1 1 1 1 1 1 1 1 1 1 1 1 1 1 1 1 1 1 1 1 1 1 1 1 1 1 1 1 1 1 1 1 1 1 1 1 1 1 1 1 1 1 1 1 1 1 1 1 1 1 1 1 1 1 1 1 1 1 1 1 1 1 1 1 1 1 1 1 1 1 1 1 1 1 1 1 1 1 1 1 1 1 1 1 1 1 1 1 1 1 1 1 1 1 1 1 1 1 1 1 1 1 1 1 1 1 1 1 1 1 1 1 1 1 1 1 1 1 1 1 1 1 1 1 1 1 1 1 1 1 1 1 1 1 1 1 1 1 1 1 1 1 1 1 1 1 1 1 1 1 1 1 1 1 1 1 1 1 1 1 1 1 1 1 1 1 1 1 1 1 1 1 1 1\n",
            "01/14/2021 20:49:30 - INFO - __main__ -   source_mask: 1 1 1 1 1 1 1 1 1 1 1 1 1 1 1 1 1 1 1 1 1 1 1 1 1 1 1 1 1 1 1 1 1 1 1 1 1 1 1 1 1 1 1 1 1 1 1 1 1 1 1 1 1 1 1 1 1 1 1 1 1 1 1 1 1 1 1 1 0 0 0 0 0 0 0 0 0 0 0 0 0 0 0 0 0 0 0 0 0 0 0 0 0 0 0 0 0 0 0 0 0 0 0 0 0 0 0 0 0 0 0 0 0 0 0 0 0 0 0 0 0 0 0 0 0 0 0 0 0 0 0 0 0 0 0 0 0 0 0 0 0 0 0 0 0 0 0 0 0 0 0 0 0 0 0 0 0 0 0 0 0 0 0 0 0 0 0 0 0 0 0 0 0 0 0 0 0 0 0 0 0 0 0 0 0 0 0 0 0 0 0 0 0 0 0 0 0 0 0 0 0 0 0 0 0 0 0 0 0 0 0 0 0 0 0 0 0 0 0 0 0 0 0 0 0 0 0 0 0 0 0 0 0 0 0 0 0 0 0 0 0 0 0 0 0 0 0 0 0 0 0 0 0 0 0 0\n",
            "01/14/2021 20:49:30 - INFO - __main__ -   target_tokens: ['<s>', 'forces', '_a', '_disk', '_flush', '_on', '_the', '_commit', '_log', '_files', '_that', '_need', '_it', '.', '_blocking', '.', '</s>']\n",
            "01/14/2021 20:49:30 - INFO - __main__ -   target_ids: 0 34532 10 21675 24841 15 5 6225 7425 6773 14 240 24 4 8890 4 2 1 1 1 1 1 1 1 1 1 1 1 1 1 1 1 1 1 1 1 1 1 1 1 1 1 1 1 1 1 1 1\n",
            "01/14/2021 20:49:30 - INFO - __main__ -   target_mask: 1 1 1 1 1 1 1 1 1 1 1 1 1 1 1 1 1 0 0 0 0 0 0 0 0 0 0 0 0 0 0 0 0 0 0 0 0 0 0 0 0 0 0 0 0 0 0 0\n",
            "01/14/2021 20:49:33 - INFO - __main__ -   ***** Running training *****\n",
            "01/14/2021 20:49:33 - INFO - __main__ -     Num examples = 2809\n",
            "01/14/2021 20:49:33 - INFO - __main__ -     Batch size = 8\n",
            "01/14/2021 20:49:33 - INFO - __main__ -     Num epoch = 10\n",
            "epoch 0 loss 6.8534: 100% 352/352 [02:53<00:00,  2.03it/s]\n",
            "01/14/2021 20:52:27 - INFO - __main__ -   \n",
            "***** Running evaluation *****\n",
            "01/14/2021 20:52:27 - INFO - __main__ -     Num examples = 88\n",
            "01/14/2021 20:52:27 - INFO - __main__ -     Batch size = 8\n",
            "01/14/2021 20:52:29 - INFO - __main__ -     eval_ppl = 420.66683\n",
            "01/14/2021 20:52:29 - INFO - __main__ -     global_step = 353\n",
            "01/14/2021 20:52:29 - INFO - __main__ -     train_loss = 6.8534\n",
            "01/14/2021 20:52:29 - INFO - __main__ -     ********************\n",
            "01/14/2021 20:52:31 - INFO - __main__ -     Best ppl:420.66683\n",
            "01/14/2021 20:52:31 - INFO - __main__ -     ********************\n",
            "Total: 88\n",
            "01/14/2021 20:52:58 - INFO - __main__ -     bleu-4 = 9.79 \n",
            "01/14/2021 20:52:58 - INFO - __main__ -     ********************\n",
            "01/14/2021 20:52:58 - INFO - __main__ -     Best bleu:9.79\n",
            "01/14/2021 20:52:58 - INFO - __main__ -     ********************\n",
            "epoch 1 loss 5.2249: 100% 352/352 [02:57<00:00,  1.98it/s]\n",
            "01/14/2021 20:55:58 - INFO - __main__ -   \n",
            "***** Running evaluation *****\n",
            "01/14/2021 20:55:58 - INFO - __main__ -     Num examples = 88\n",
            "01/14/2021 20:55:58 - INFO - __main__ -     Batch size = 8\n",
            "01/14/2021 20:56:00 - INFO - __main__ -     eval_ppl = 223.30135\n",
            "01/14/2021 20:56:00 - INFO - __main__ -     global_step = 705\n",
            "01/14/2021 20:56:00 - INFO - __main__ -     train_loss = 5.2249\n",
            "01/14/2021 20:56:00 - INFO - __main__ -     ********************\n",
            "01/14/2021 20:56:02 - INFO - __main__ -     Best ppl:223.30135\n",
            "01/14/2021 20:56:02 - INFO - __main__ -     ********************\n",
            "Total: 88\n",
            "01/14/2021 20:56:30 - INFO - __main__ -     bleu-4 = 10.3 \n",
            "01/14/2021 20:56:30 - INFO - __main__ -     ********************\n",
            "01/14/2021 20:56:30 - INFO - __main__ -     Best bleu:10.3\n",
            "01/14/2021 20:56:30 - INFO - __main__ -     ********************\n",
            "epoch 2 loss 4.4676: 100% 352/352 [02:57<00:00,  1.98it/s]\n",
            "01/14/2021 20:59:31 - INFO - __main__ -   \n",
            "***** Running evaluation *****\n",
            "01/14/2021 20:59:31 - INFO - __main__ -     Num examples = 88\n",
            "01/14/2021 20:59:31 - INFO - __main__ -     Batch size = 8\n",
            "01/14/2021 20:59:32 - INFO - __main__ -     eval_ppl = 167.43889\n",
            "01/14/2021 20:59:32 - INFO - __main__ -     global_step = 1057\n",
            "01/14/2021 20:59:32 - INFO - __main__ -     train_loss = 4.4676\n",
            "01/14/2021 20:59:32 - INFO - __main__ -     ********************\n",
            "01/14/2021 20:59:35 - INFO - __main__ -     Best ppl:167.43889\n",
            "01/14/2021 20:59:35 - INFO - __main__ -     ********************\n",
            "Total: 88\n",
            "01/14/2021 21:00:05 - INFO - __main__ -     bleu-4 = 10.68 \n",
            "01/14/2021 21:00:05 - INFO - __main__ -     ********************\n",
            "01/14/2021 21:00:05 - INFO - __main__ -     Best bleu:10.68\n",
            "01/14/2021 21:00:05 - INFO - __main__ -     ********************\n",
            "epoch 3 loss 3.8263: 100% 352/352 [02:57<00:00,  1.98it/s]\n",
            "01/14/2021 21:03:05 - INFO - __main__ -   \n",
            "***** Running evaluation *****\n",
            "01/14/2021 21:03:05 - INFO - __main__ -     Num examples = 88\n",
            "01/14/2021 21:03:05 - INFO - __main__ -     Batch size = 8\n",
            "01/14/2021 21:03:07 - INFO - __main__ -     eval_ppl = 160.25635\n",
            "01/14/2021 21:03:07 - INFO - __main__ -     global_step = 1409\n",
            "01/14/2021 21:03:07 - INFO - __main__ -     train_loss = 3.8263\n",
            "01/14/2021 21:03:07 - INFO - __main__ -     ********************\n",
            "01/14/2021 21:03:10 - INFO - __main__ -     Best ppl:160.25635\n",
            "01/14/2021 21:03:10 - INFO - __main__ -     ********************\n",
            "Total: 88\n",
            "01/14/2021 21:03:38 - INFO - __main__ -     bleu-4 = 11.04 \n",
            "01/14/2021 21:03:38 - INFO - __main__ -     ********************\n",
            "01/14/2021 21:03:38 - INFO - __main__ -     Best bleu:11.04\n",
            "01/14/2021 21:03:38 - INFO - __main__ -     ********************\n",
            "epoch 4 loss 3.2797: 100% 352/352 [02:57<00:00,  1.98it/s]\n",
            "01/14/2021 21:06:38 - INFO - __main__ -   \n",
            "***** Running evaluation *****\n",
            "01/14/2021 21:06:38 - INFO - __main__ -     Num examples = 88\n",
            "01/14/2021 21:06:38 - INFO - __main__ -     Batch size = 8\n",
            "01/14/2021 21:06:40 - INFO - __main__ -     eval_ppl = 152.19858\n",
            "01/14/2021 21:06:40 - INFO - __main__ -     global_step = 1761\n",
            "01/14/2021 21:06:40 - INFO - __main__ -     train_loss = 3.2797\n",
            "01/14/2021 21:06:40 - INFO - __main__ -     ********************\n",
            "01/14/2021 21:06:42 - INFO - __main__ -     Best ppl:152.19858\n",
            "01/14/2021 21:06:42 - INFO - __main__ -     ********************\n",
            "Total: 88\n",
            "01/14/2021 21:07:14 - INFO - __main__ -     bleu-4 = 10.36 \n",
            "01/14/2021 21:07:14 - INFO - __main__ -     ********************\n",
            "epoch 5 loss 2.8204: 100% 352/352 [02:57<00:00,  1.98it/s]\n",
            "01/14/2021 21:10:12 - INFO - __main__ -   \n",
            "***** Running evaluation *****\n",
            "01/14/2021 21:10:12 - INFO - __main__ -     Num examples = 88\n",
            "01/14/2021 21:10:12 - INFO - __main__ -     Batch size = 8\n",
            "01/14/2021 21:10:13 - INFO - __main__ -     eval_ppl = 150.95443\n",
            "01/14/2021 21:10:13 - INFO - __main__ -     global_step = 2113\n",
            "01/14/2021 21:10:13 - INFO - __main__ -     train_loss = 2.8204\n",
            "01/14/2021 21:10:13 - INFO - __main__ -     ********************\n",
            "01/14/2021 21:10:16 - INFO - __main__ -     Best ppl:150.95443\n",
            "01/14/2021 21:10:16 - INFO - __main__ -     ********************\n",
            "Total: 88\n",
            "01/14/2021 21:10:45 - INFO - __main__ -     bleu-4 = 11.57 \n",
            "01/14/2021 21:10:45 - INFO - __main__ -     ********************\n",
            "01/14/2021 21:10:45 - INFO - __main__ -     Best bleu:11.57\n",
            "01/14/2021 21:10:45 - INFO - __main__ -     ********************\n",
            "epoch 6 loss 2.4442: 100% 352/352 [02:57<00:00,  1.98it/s]\n",
            "01/14/2021 21:13:46 - INFO - __main__ -   \n",
            "***** Running evaluation *****\n",
            "01/14/2021 21:13:46 - INFO - __main__ -     Num examples = 88\n",
            "01/14/2021 21:13:46 - INFO - __main__ -     Batch size = 8\n",
            "01/14/2021 21:13:47 - INFO - __main__ -     eval_ppl = 156.69898\n",
            "01/14/2021 21:13:47 - INFO - __main__ -     global_step = 2465\n",
            "01/14/2021 21:13:47 - INFO - __main__ -     train_loss = 2.4442\n",
            "01/14/2021 21:13:47 - INFO - __main__ -     ********************\n",
            "Total: 88\n",
            "01/14/2021 21:14:17 - INFO - __main__ -     bleu-4 = 10.65 \n",
            "01/14/2021 21:14:17 - INFO - __main__ -     ********************\n",
            "epoch 7 loss 2.1565: 100% 352/352 [02:57<00:00,  1.98it/s]\n",
            "01/14/2021 21:17:15 - INFO - __main__ -   \n",
            "***** Running evaluation *****\n",
            "01/14/2021 21:17:15 - INFO - __main__ -     Num examples = 88\n",
            "01/14/2021 21:17:15 - INFO - __main__ -     Batch size = 8\n",
            "01/14/2021 21:17:16 - INFO - __main__ -     eval_ppl = 163.34726\n",
            "01/14/2021 21:17:16 - INFO - __main__ -     global_step = 2817\n",
            "01/14/2021 21:17:16 - INFO - __main__ -     train_loss = 2.1565\n",
            "01/14/2021 21:17:16 - INFO - __main__ -     ********************\n",
            "Total: 88\n",
            "01/14/2021 21:17:50 - INFO - __main__ -     bleu-4 = 10.56 \n",
            "01/14/2021 21:17:50 - INFO - __main__ -     ********************\n",
            "epoch 8 loss 1.9398: 100% 352/352 [02:57<00:00,  1.98it/s]\n",
            "01/14/2021 21:20:47 - INFO - __main__ -   \n",
            "***** Running evaluation *****\n",
            "01/14/2021 21:20:47 - INFO - __main__ -     Num examples = 88\n",
            "01/14/2021 21:20:47 - INFO - __main__ -     Batch size = 8\n",
            "01/14/2021 21:20:49 - INFO - __main__ -     eval_ppl = 166.41823\n",
            "01/14/2021 21:20:49 - INFO - __main__ -     global_step = 3169\n",
            "01/14/2021 21:20:49 - INFO - __main__ -     train_loss = 1.9398\n",
            "01/14/2021 21:20:49 - INFO - __main__ -     ********************\n",
            "Total: 88\n",
            "01/14/2021 21:21:26 - INFO - __main__ -     bleu-4 = 10.74 \n",
            "01/14/2021 21:21:26 - INFO - __main__ -     ********************\n",
            "epoch 9 loss 1.7877: 100% 352/352 [02:57<00:00,  1.98it/s]\n",
            "01/14/2021 21:24:24 - INFO - __main__ -   \n",
            "***** Running evaluation *****\n",
            "01/14/2021 21:24:24 - INFO - __main__ -     Num examples = 88\n",
            "01/14/2021 21:24:24 - INFO - __main__ -     Batch size = 8\n",
            "01/14/2021 21:24:25 - INFO - __main__ -     eval_ppl = 169.37057\n",
            "01/14/2021 21:24:25 - INFO - __main__ -     global_step = 3521\n",
            "01/14/2021 21:24:25 - INFO - __main__ -     train_loss = 1.7877\n",
            "01/14/2021 21:24:25 - INFO - __main__ -     ********************\n",
            "Total: 88\n",
            "01/14/2021 21:24:59 - INFO - __main__ -     bleu-4 = 10.28 \n",
            "01/14/2021 21:24:59 - INFO - __main__ -     ********************\n"
          ],
          "name": "stdout"
        }
      ]
    },
    {
      "cell_type": "markdown",
      "metadata": {
        "id": "UnlL4Y8O0UJe"
      },
      "source": [
        "Yay! Our model has finished baking and we can now see how well it turned out by evaluating it!"
      ]
    },
    {
      "cell_type": "code",
      "metadata": {
        "id": "8H5SY3K10TRU",
        "outputId": "78682ddf-4e34-48d3-b404-d519f21cd56d",
        "colab": {
          "base_uri": "https://localhost:8080/"
        }
      },
      "source": [
        "batch_size=64\n",
        "dev_file=f\"{data_dir}/{lang}/valid.jsonl\"\n",
        "test_file=f\"{data_dir}/{lang}/test.jsonl\"\n",
        "test_model=f\"{output_dir}/checkpoint-best-bleu/pytorch_model.bin\" #checkpoint for test\n",
        "\n",
        "! python run.py \\\n",
        "    --do_test \\\n",
        "    --model_type roberta \\\n",
        "    --model_name_or_path microsoft/codebert-base \\\n",
        "    --load_model_path {test_model} \\\n",
        "    --dev_filename {dev_file} \\\n",
        "    --test_filename {test_file} \\\n",
        "    --output_dir {output_dir} \\\n",
        "    --max_source_length {source_length} \\\n",
        "    --max_target_length {target_length} \\\n",
        "    --beam_size {beam_size} \\\n",
        "    --eval_batch_size {batch_size}"
      ],
      "execution_count": 25,
      "outputs": [
        {
          "output_type": "stream",
          "text": [
            "2021-01-14 21:25:04.498200: I tensorflow/stream_executor/platform/default/dso_loader.cc:49] Successfully opened dynamic library libcudart.so.10.1\n",
            "01/14/2021 21:25:07 - INFO - __main__ -   Namespace(adam_epsilon=1e-08, beam_size=10, config_name='', dev_filename='./java/valid.jsonl', do_eval=False, do_lower_case=False, do_test=True, do_train=False, eval_batch_size=64, eval_steps=-1, gradient_accumulation_steps=1, learning_rate=5e-05, load_model_path='model/java/checkpoint-best-bleu/pytorch_model.bin', local_rank=-1, max_grad_norm=1.0, max_source_length=256, max_steps=-1, max_target_length=48, model_name_or_path='microsoft/codebert-base', model_type='roberta', no_cuda=False, num_train_epochs=3, output_dir='model/java', seed=42, test_filename='./java/test.jsonl', tokenizer_name='', train_batch_size=8, train_filename=None, train_steps=-1, warmup_steps=0, weight_decay=0.0)\n",
            "01/14/2021 21:25:07 - WARNING - __main__ -   Process rank: -1, device: cuda, n_gpu: 1, distributed training: False\n",
            "01/14/2021 21:25:23 - INFO - __main__ -   reload model from model/java/checkpoint-best-bleu/pytorch_model.bin\n",
            "01/14/2021 21:25:48 - INFO - __main__ -   Test file: ./java/valid.jsonl\n",
            "100% 2/2 [00:26<00:00, 13.34s/it]\n",
            "Total: 88\n",
            "01/14/2021 21:26:15 - INFO - __main__ -     bleu-4 = 11.57 \n",
            "01/14/2021 21:26:15 - INFO - __main__ -     ********************\n",
            "01/14/2021 21:26:15 - INFO - __main__ -   Test file: ./java/test.jsonl\n",
            "100% 4/4 [00:55<00:00, 13.95s/it]\n",
            "Total: 193\n",
            "01/14/2021 21:27:11 - INFO - __main__ -     bleu-4 = 9.74 \n",
            "01/14/2021 21:27:11 - INFO - __main__ -     ********************\n"
          ],
          "name": "stdout"
        }
      ]
    },
    {
      "cell_type": "markdown",
      "metadata": {
        "id": "74B2HOqAsAQv"
      },
      "source": [
        "Let's now load up our model and take it for a spin!"
      ]
    },
    {
      "cell_type": "code",
      "metadata": {
        "colab": {
          "base_uri": "https://localhost:8080/"
        },
        "id": "_flZaSvqyRn0",
        "outputId": "955903da-ff4e-4d09-ac0a-0d5aaec843b9"
      },
      "source": [
        "# collapse\n",
        "import torch\n",
        "\n",
        "import torch.nn as nn\n",
        "\n",
        "from model import Seq2Seq\n",
        "from transformers import RobertaConfig, RobertaModel\n",
        "\n",
        "config = RobertaConfig.from_pretrained(pretrained_model)\n",
        "encoder = RobertaModel.from_pretrained(pretrained_model, config = config)    \n",
        "decoder_layer = nn.TransformerDecoderLayer(d_model=config.hidden_size, nhead=config.num_attention_heads)\n",
        "decoder = nn.TransformerDecoder(decoder_layer, num_layers=6)\n",
        "model = Seq2Seq(encoder = encoder,decoder = decoder,config=config,\n",
        "                beam_size=beam_size,max_length=target_length,\n",
        "                sos_id=tokenizer.cls_token_id,eos_id=tokenizer.sep_token_id)\n",
        "model.load_state_dict(torch.load(Path(output_dir)/\"checkpoint-last/pytorch_model.bin\"))\n",
        "model.to('cuda')"
      ],
      "execution_count": 26,
      "outputs": [
        {
          "output_type": "execute_result",
          "data": {
            "text/plain": [
              "Seq2Seq(\n",
              "  (encoder): RobertaModel(\n",
              "    (embeddings): RobertaEmbeddings(\n",
              "      (word_embeddings): Embedding(50265, 768, padding_idx=1)\n",
              "      (position_embeddings): Embedding(514, 768, padding_idx=1)\n",
              "      (token_type_embeddings): Embedding(1, 768)\n",
              "      (LayerNorm): LayerNorm((768,), eps=1e-05, elementwise_affine=True)\n",
              "      (dropout): Dropout(p=0.1, inplace=False)\n",
              "    )\n",
              "    (encoder): RobertaEncoder(\n",
              "      (layer): ModuleList(\n",
              "        (0): RobertaLayer(\n",
              "          (attention): RobertaAttention(\n",
              "            (self): RobertaSelfAttention(\n",
              "              (query): Linear(in_features=768, out_features=768, bias=True)\n",
              "              (key): Linear(in_features=768, out_features=768, bias=True)\n",
              "              (value): Linear(in_features=768, out_features=768, bias=True)\n",
              "              (dropout): Dropout(p=0.1, inplace=False)\n",
              "            )\n",
              "            (output): RobertaSelfOutput(\n",
              "              (dense): Linear(in_features=768, out_features=768, bias=True)\n",
              "              (LayerNorm): LayerNorm((768,), eps=1e-05, elementwise_affine=True)\n",
              "              (dropout): Dropout(p=0.1, inplace=False)\n",
              "            )\n",
              "          )\n",
              "          (intermediate): RobertaIntermediate(\n",
              "            (dense): Linear(in_features=768, out_features=3072, bias=True)\n",
              "          )\n",
              "          (output): RobertaOutput(\n",
              "            (dense): Linear(in_features=3072, out_features=768, bias=True)\n",
              "            (LayerNorm): LayerNorm((768,), eps=1e-05, elementwise_affine=True)\n",
              "            (dropout): Dropout(p=0.1, inplace=False)\n",
              "          )\n",
              "        )\n",
              "        (1): RobertaLayer(\n",
              "          (attention): RobertaAttention(\n",
              "            (self): RobertaSelfAttention(\n",
              "              (query): Linear(in_features=768, out_features=768, bias=True)\n",
              "              (key): Linear(in_features=768, out_features=768, bias=True)\n",
              "              (value): Linear(in_features=768, out_features=768, bias=True)\n",
              "              (dropout): Dropout(p=0.1, inplace=False)\n",
              "            )\n",
              "            (output): RobertaSelfOutput(\n",
              "              (dense): Linear(in_features=768, out_features=768, bias=True)\n",
              "              (LayerNorm): LayerNorm((768,), eps=1e-05, elementwise_affine=True)\n",
              "              (dropout): Dropout(p=0.1, inplace=False)\n",
              "            )\n",
              "          )\n",
              "          (intermediate): RobertaIntermediate(\n",
              "            (dense): Linear(in_features=768, out_features=3072, bias=True)\n",
              "          )\n",
              "          (output): RobertaOutput(\n",
              "            (dense): Linear(in_features=3072, out_features=768, bias=True)\n",
              "            (LayerNorm): LayerNorm((768,), eps=1e-05, elementwise_affine=True)\n",
              "            (dropout): Dropout(p=0.1, inplace=False)\n",
              "          )\n",
              "        )\n",
              "        (2): RobertaLayer(\n",
              "          (attention): RobertaAttention(\n",
              "            (self): RobertaSelfAttention(\n",
              "              (query): Linear(in_features=768, out_features=768, bias=True)\n",
              "              (key): Linear(in_features=768, out_features=768, bias=True)\n",
              "              (value): Linear(in_features=768, out_features=768, bias=True)\n",
              "              (dropout): Dropout(p=0.1, inplace=False)\n",
              "            )\n",
              "            (output): RobertaSelfOutput(\n",
              "              (dense): Linear(in_features=768, out_features=768, bias=True)\n",
              "              (LayerNorm): LayerNorm((768,), eps=1e-05, elementwise_affine=True)\n",
              "              (dropout): Dropout(p=0.1, inplace=False)\n",
              "            )\n",
              "          )\n",
              "          (intermediate): RobertaIntermediate(\n",
              "            (dense): Linear(in_features=768, out_features=3072, bias=True)\n",
              "          )\n",
              "          (output): RobertaOutput(\n",
              "            (dense): Linear(in_features=3072, out_features=768, bias=True)\n",
              "            (LayerNorm): LayerNorm((768,), eps=1e-05, elementwise_affine=True)\n",
              "            (dropout): Dropout(p=0.1, inplace=False)\n",
              "          )\n",
              "        )\n",
              "        (3): RobertaLayer(\n",
              "          (attention): RobertaAttention(\n",
              "            (self): RobertaSelfAttention(\n",
              "              (query): Linear(in_features=768, out_features=768, bias=True)\n",
              "              (key): Linear(in_features=768, out_features=768, bias=True)\n",
              "              (value): Linear(in_features=768, out_features=768, bias=True)\n",
              "              (dropout): Dropout(p=0.1, inplace=False)\n",
              "            )\n",
              "            (output): RobertaSelfOutput(\n",
              "              (dense): Linear(in_features=768, out_features=768, bias=True)\n",
              "              (LayerNorm): LayerNorm((768,), eps=1e-05, elementwise_affine=True)\n",
              "              (dropout): Dropout(p=0.1, inplace=False)\n",
              "            )\n",
              "          )\n",
              "          (intermediate): RobertaIntermediate(\n",
              "            (dense): Linear(in_features=768, out_features=3072, bias=True)\n",
              "          )\n",
              "          (output): RobertaOutput(\n",
              "            (dense): Linear(in_features=3072, out_features=768, bias=True)\n",
              "            (LayerNorm): LayerNorm((768,), eps=1e-05, elementwise_affine=True)\n",
              "            (dropout): Dropout(p=0.1, inplace=False)\n",
              "          )\n",
              "        )\n",
              "        (4): RobertaLayer(\n",
              "          (attention): RobertaAttention(\n",
              "            (self): RobertaSelfAttention(\n",
              "              (query): Linear(in_features=768, out_features=768, bias=True)\n",
              "              (key): Linear(in_features=768, out_features=768, bias=True)\n",
              "              (value): Linear(in_features=768, out_features=768, bias=True)\n",
              "              (dropout): Dropout(p=0.1, inplace=False)\n",
              "            )\n",
              "            (output): RobertaSelfOutput(\n",
              "              (dense): Linear(in_features=768, out_features=768, bias=True)\n",
              "              (LayerNorm): LayerNorm((768,), eps=1e-05, elementwise_affine=True)\n",
              "              (dropout): Dropout(p=0.1, inplace=False)\n",
              "            )\n",
              "          )\n",
              "          (intermediate): RobertaIntermediate(\n",
              "            (dense): Linear(in_features=768, out_features=3072, bias=True)\n",
              "          )\n",
              "          (output): RobertaOutput(\n",
              "            (dense): Linear(in_features=3072, out_features=768, bias=True)\n",
              "            (LayerNorm): LayerNorm((768,), eps=1e-05, elementwise_affine=True)\n",
              "            (dropout): Dropout(p=0.1, inplace=False)\n",
              "          )\n",
              "        )\n",
              "        (5): RobertaLayer(\n",
              "          (attention): RobertaAttention(\n",
              "            (self): RobertaSelfAttention(\n",
              "              (query): Linear(in_features=768, out_features=768, bias=True)\n",
              "              (key): Linear(in_features=768, out_features=768, bias=True)\n",
              "              (value): Linear(in_features=768, out_features=768, bias=True)\n",
              "              (dropout): Dropout(p=0.1, inplace=False)\n",
              "            )\n",
              "            (output): RobertaSelfOutput(\n",
              "              (dense): Linear(in_features=768, out_features=768, bias=True)\n",
              "              (LayerNorm): LayerNorm((768,), eps=1e-05, elementwise_affine=True)\n",
              "              (dropout): Dropout(p=0.1, inplace=False)\n",
              "            )\n",
              "          )\n",
              "          (intermediate): RobertaIntermediate(\n",
              "            (dense): Linear(in_features=768, out_features=3072, bias=True)\n",
              "          )\n",
              "          (output): RobertaOutput(\n",
              "            (dense): Linear(in_features=3072, out_features=768, bias=True)\n",
              "            (LayerNorm): LayerNorm((768,), eps=1e-05, elementwise_affine=True)\n",
              "            (dropout): Dropout(p=0.1, inplace=False)\n",
              "          )\n",
              "        )\n",
              "        (6): RobertaLayer(\n",
              "          (attention): RobertaAttention(\n",
              "            (self): RobertaSelfAttention(\n",
              "              (query): Linear(in_features=768, out_features=768, bias=True)\n",
              "              (key): Linear(in_features=768, out_features=768, bias=True)\n",
              "              (value): Linear(in_features=768, out_features=768, bias=True)\n",
              "              (dropout): Dropout(p=0.1, inplace=False)\n",
              "            )\n",
              "            (output): RobertaSelfOutput(\n",
              "              (dense): Linear(in_features=768, out_features=768, bias=True)\n",
              "              (LayerNorm): LayerNorm((768,), eps=1e-05, elementwise_affine=True)\n",
              "              (dropout): Dropout(p=0.1, inplace=False)\n",
              "            )\n",
              "          )\n",
              "          (intermediate): RobertaIntermediate(\n",
              "            (dense): Linear(in_features=768, out_features=3072, bias=True)\n",
              "          )\n",
              "          (output): RobertaOutput(\n",
              "            (dense): Linear(in_features=3072, out_features=768, bias=True)\n",
              "            (LayerNorm): LayerNorm((768,), eps=1e-05, elementwise_affine=True)\n",
              "            (dropout): Dropout(p=0.1, inplace=False)\n",
              "          )\n",
              "        )\n",
              "        (7): RobertaLayer(\n",
              "          (attention): RobertaAttention(\n",
              "            (self): RobertaSelfAttention(\n",
              "              (query): Linear(in_features=768, out_features=768, bias=True)\n",
              "              (key): Linear(in_features=768, out_features=768, bias=True)\n",
              "              (value): Linear(in_features=768, out_features=768, bias=True)\n",
              "              (dropout): Dropout(p=0.1, inplace=False)\n",
              "            )\n",
              "            (output): RobertaSelfOutput(\n",
              "              (dense): Linear(in_features=768, out_features=768, bias=True)\n",
              "              (LayerNorm): LayerNorm((768,), eps=1e-05, elementwise_affine=True)\n",
              "              (dropout): Dropout(p=0.1, inplace=False)\n",
              "            )\n",
              "          )\n",
              "          (intermediate): RobertaIntermediate(\n",
              "            (dense): Linear(in_features=768, out_features=3072, bias=True)\n",
              "          )\n",
              "          (output): RobertaOutput(\n",
              "            (dense): Linear(in_features=3072, out_features=768, bias=True)\n",
              "            (LayerNorm): LayerNorm((768,), eps=1e-05, elementwise_affine=True)\n",
              "            (dropout): Dropout(p=0.1, inplace=False)\n",
              "          )\n",
              "        )\n",
              "        (8): RobertaLayer(\n",
              "          (attention): RobertaAttention(\n",
              "            (self): RobertaSelfAttention(\n",
              "              (query): Linear(in_features=768, out_features=768, bias=True)\n",
              "              (key): Linear(in_features=768, out_features=768, bias=True)\n",
              "              (value): Linear(in_features=768, out_features=768, bias=True)\n",
              "              (dropout): Dropout(p=0.1, inplace=False)\n",
              "            )\n",
              "            (output): RobertaSelfOutput(\n",
              "              (dense): Linear(in_features=768, out_features=768, bias=True)\n",
              "              (LayerNorm): LayerNorm((768,), eps=1e-05, elementwise_affine=True)\n",
              "              (dropout): Dropout(p=0.1, inplace=False)\n",
              "            )\n",
              "          )\n",
              "          (intermediate): RobertaIntermediate(\n",
              "            (dense): Linear(in_features=768, out_features=3072, bias=True)\n",
              "          )\n",
              "          (output): RobertaOutput(\n",
              "            (dense): Linear(in_features=3072, out_features=768, bias=True)\n",
              "            (LayerNorm): LayerNorm((768,), eps=1e-05, elementwise_affine=True)\n",
              "            (dropout): Dropout(p=0.1, inplace=False)\n",
              "          )\n",
              "        )\n",
              "        (9): RobertaLayer(\n",
              "          (attention): RobertaAttention(\n",
              "            (self): RobertaSelfAttention(\n",
              "              (query): Linear(in_features=768, out_features=768, bias=True)\n",
              "              (key): Linear(in_features=768, out_features=768, bias=True)\n",
              "              (value): Linear(in_features=768, out_features=768, bias=True)\n",
              "              (dropout): Dropout(p=0.1, inplace=False)\n",
              "            )\n",
              "            (output): RobertaSelfOutput(\n",
              "              (dense): Linear(in_features=768, out_features=768, bias=True)\n",
              "              (LayerNorm): LayerNorm((768,), eps=1e-05, elementwise_affine=True)\n",
              "              (dropout): Dropout(p=0.1, inplace=False)\n",
              "            )\n",
              "          )\n",
              "          (intermediate): RobertaIntermediate(\n",
              "            (dense): Linear(in_features=768, out_features=3072, bias=True)\n",
              "          )\n",
              "          (output): RobertaOutput(\n",
              "            (dense): Linear(in_features=3072, out_features=768, bias=True)\n",
              "            (LayerNorm): LayerNorm((768,), eps=1e-05, elementwise_affine=True)\n",
              "            (dropout): Dropout(p=0.1, inplace=False)\n",
              "          )\n",
              "        )\n",
              "        (10): RobertaLayer(\n",
              "          (attention): RobertaAttention(\n",
              "            (self): RobertaSelfAttention(\n",
              "              (query): Linear(in_features=768, out_features=768, bias=True)\n",
              "              (key): Linear(in_features=768, out_features=768, bias=True)\n",
              "              (value): Linear(in_features=768, out_features=768, bias=True)\n",
              "              (dropout): Dropout(p=0.1, inplace=False)\n",
              "            )\n",
              "            (output): RobertaSelfOutput(\n",
              "              (dense): Linear(in_features=768, out_features=768, bias=True)\n",
              "              (LayerNorm): LayerNorm((768,), eps=1e-05, elementwise_affine=True)\n",
              "              (dropout): Dropout(p=0.1, inplace=False)\n",
              "            )\n",
              "          )\n",
              "          (intermediate): RobertaIntermediate(\n",
              "            (dense): Linear(in_features=768, out_features=3072, bias=True)\n",
              "          )\n",
              "          (output): RobertaOutput(\n",
              "            (dense): Linear(in_features=3072, out_features=768, bias=True)\n",
              "            (LayerNorm): LayerNorm((768,), eps=1e-05, elementwise_affine=True)\n",
              "            (dropout): Dropout(p=0.1, inplace=False)\n",
              "          )\n",
              "        )\n",
              "        (11): RobertaLayer(\n",
              "          (attention): RobertaAttention(\n",
              "            (self): RobertaSelfAttention(\n",
              "              (query): Linear(in_features=768, out_features=768, bias=True)\n",
              "              (key): Linear(in_features=768, out_features=768, bias=True)\n",
              "              (value): Linear(in_features=768, out_features=768, bias=True)\n",
              "              (dropout): Dropout(p=0.1, inplace=False)\n",
              "            )\n",
              "            (output): RobertaSelfOutput(\n",
              "              (dense): Linear(in_features=768, out_features=768, bias=True)\n",
              "              (LayerNorm): LayerNorm((768,), eps=1e-05, elementwise_affine=True)\n",
              "              (dropout): Dropout(p=0.1, inplace=False)\n",
              "            )\n",
              "          )\n",
              "          (intermediate): RobertaIntermediate(\n",
              "            (dense): Linear(in_features=768, out_features=3072, bias=True)\n",
              "          )\n",
              "          (output): RobertaOutput(\n",
              "            (dense): Linear(in_features=3072, out_features=768, bias=True)\n",
              "            (LayerNorm): LayerNorm((768,), eps=1e-05, elementwise_affine=True)\n",
              "            (dropout): Dropout(p=0.1, inplace=False)\n",
              "          )\n",
              "        )\n",
              "      )\n",
              "    )\n",
              "    (pooler): RobertaPooler(\n",
              "      (dense): Linear(in_features=768, out_features=768, bias=True)\n",
              "      (activation): Tanh()\n",
              "    )\n",
              "  )\n",
              "  (decoder): TransformerDecoder(\n",
              "    (layers): ModuleList(\n",
              "      (0): TransformerDecoderLayer(\n",
              "        (self_attn): MultiheadAttention(\n",
              "          (out_proj): Linear(in_features=768, out_features=768, bias=True)\n",
              "        )\n",
              "        (multihead_attn): MultiheadAttention(\n",
              "          (out_proj): Linear(in_features=768, out_features=768, bias=True)\n",
              "        )\n",
              "        (linear1): Linear(in_features=768, out_features=2048, bias=True)\n",
              "        (dropout): Dropout(p=0.1, inplace=False)\n",
              "        (linear2): Linear(in_features=2048, out_features=768, bias=True)\n",
              "        (norm1): LayerNorm((768,), eps=1e-05, elementwise_affine=True)\n",
              "        (norm2): LayerNorm((768,), eps=1e-05, elementwise_affine=True)\n",
              "        (norm3): LayerNorm((768,), eps=1e-05, elementwise_affine=True)\n",
              "        (dropout1): Dropout(p=0.1, inplace=False)\n",
              "        (dropout2): Dropout(p=0.1, inplace=False)\n",
              "        (dropout3): Dropout(p=0.1, inplace=False)\n",
              "      )\n",
              "      (1): TransformerDecoderLayer(\n",
              "        (self_attn): MultiheadAttention(\n",
              "          (out_proj): Linear(in_features=768, out_features=768, bias=True)\n",
              "        )\n",
              "        (multihead_attn): MultiheadAttention(\n",
              "          (out_proj): Linear(in_features=768, out_features=768, bias=True)\n",
              "        )\n",
              "        (linear1): Linear(in_features=768, out_features=2048, bias=True)\n",
              "        (dropout): Dropout(p=0.1, inplace=False)\n",
              "        (linear2): Linear(in_features=2048, out_features=768, bias=True)\n",
              "        (norm1): LayerNorm((768,), eps=1e-05, elementwise_affine=True)\n",
              "        (norm2): LayerNorm((768,), eps=1e-05, elementwise_affine=True)\n",
              "        (norm3): LayerNorm((768,), eps=1e-05, elementwise_affine=True)\n",
              "        (dropout1): Dropout(p=0.1, inplace=False)\n",
              "        (dropout2): Dropout(p=0.1, inplace=False)\n",
              "        (dropout3): Dropout(p=0.1, inplace=False)\n",
              "      )\n",
              "      (2): TransformerDecoderLayer(\n",
              "        (self_attn): MultiheadAttention(\n",
              "          (out_proj): Linear(in_features=768, out_features=768, bias=True)\n",
              "        )\n",
              "        (multihead_attn): MultiheadAttention(\n",
              "          (out_proj): Linear(in_features=768, out_features=768, bias=True)\n",
              "        )\n",
              "        (linear1): Linear(in_features=768, out_features=2048, bias=True)\n",
              "        (dropout): Dropout(p=0.1, inplace=False)\n",
              "        (linear2): Linear(in_features=2048, out_features=768, bias=True)\n",
              "        (norm1): LayerNorm((768,), eps=1e-05, elementwise_affine=True)\n",
              "        (norm2): LayerNorm((768,), eps=1e-05, elementwise_affine=True)\n",
              "        (norm3): LayerNorm((768,), eps=1e-05, elementwise_affine=True)\n",
              "        (dropout1): Dropout(p=0.1, inplace=False)\n",
              "        (dropout2): Dropout(p=0.1, inplace=False)\n",
              "        (dropout3): Dropout(p=0.1, inplace=False)\n",
              "      )\n",
              "      (3): TransformerDecoderLayer(\n",
              "        (self_attn): MultiheadAttention(\n",
              "          (out_proj): Linear(in_features=768, out_features=768, bias=True)\n",
              "        )\n",
              "        (multihead_attn): MultiheadAttention(\n",
              "          (out_proj): Linear(in_features=768, out_features=768, bias=True)\n",
              "        )\n",
              "        (linear1): Linear(in_features=768, out_features=2048, bias=True)\n",
              "        (dropout): Dropout(p=0.1, inplace=False)\n",
              "        (linear2): Linear(in_features=2048, out_features=768, bias=True)\n",
              "        (norm1): LayerNorm((768,), eps=1e-05, elementwise_affine=True)\n",
              "        (norm2): LayerNorm((768,), eps=1e-05, elementwise_affine=True)\n",
              "        (norm3): LayerNorm((768,), eps=1e-05, elementwise_affine=True)\n",
              "        (dropout1): Dropout(p=0.1, inplace=False)\n",
              "        (dropout2): Dropout(p=0.1, inplace=False)\n",
              "        (dropout3): Dropout(p=0.1, inplace=False)\n",
              "      )\n",
              "      (4): TransformerDecoderLayer(\n",
              "        (self_attn): MultiheadAttention(\n",
              "          (out_proj): Linear(in_features=768, out_features=768, bias=True)\n",
              "        )\n",
              "        (multihead_attn): MultiheadAttention(\n",
              "          (out_proj): Linear(in_features=768, out_features=768, bias=True)\n",
              "        )\n",
              "        (linear1): Linear(in_features=768, out_features=2048, bias=True)\n",
              "        (dropout): Dropout(p=0.1, inplace=False)\n",
              "        (linear2): Linear(in_features=2048, out_features=768, bias=True)\n",
              "        (norm1): LayerNorm((768,), eps=1e-05, elementwise_affine=True)\n",
              "        (norm2): LayerNorm((768,), eps=1e-05, elementwise_affine=True)\n",
              "        (norm3): LayerNorm((768,), eps=1e-05, elementwise_affine=True)\n",
              "        (dropout1): Dropout(p=0.1, inplace=False)\n",
              "        (dropout2): Dropout(p=0.1, inplace=False)\n",
              "        (dropout3): Dropout(p=0.1, inplace=False)\n",
              "      )\n",
              "      (5): TransformerDecoderLayer(\n",
              "        (self_attn): MultiheadAttention(\n",
              "          (out_proj): Linear(in_features=768, out_features=768, bias=True)\n",
              "        )\n",
              "        (multihead_attn): MultiheadAttention(\n",
              "          (out_proj): Linear(in_features=768, out_features=768, bias=True)\n",
              "        )\n",
              "        (linear1): Linear(in_features=768, out_features=2048, bias=True)\n",
              "        (dropout): Dropout(p=0.1, inplace=False)\n",
              "        (linear2): Linear(in_features=2048, out_features=768, bias=True)\n",
              "        (norm1): LayerNorm((768,), eps=1e-05, elementwise_affine=True)\n",
              "        (norm2): LayerNorm((768,), eps=1e-05, elementwise_affine=True)\n",
              "        (norm3): LayerNorm((768,), eps=1e-05, elementwise_affine=True)\n",
              "        (dropout1): Dropout(p=0.1, inplace=False)\n",
              "        (dropout2): Dropout(p=0.1, inplace=False)\n",
              "        (dropout3): Dropout(p=0.1, inplace=False)\n",
              "      )\n",
              "    )\n",
              "  )\n",
              "  (dense): Linear(in_features=768, out_features=768, bias=True)\n",
              "  (lm_head): Linear(in_features=768, out_features=50265, bias=False)\n",
              "  (lsm): LogSoftmax()\n",
              ")"
            ]
          },
          "metadata": {
            "tags": []
          },
          "execution_count": 26
        }
      ]
    },
    {
      "cell_type": "code",
      "metadata": {
        "colab": {
          "base_uri": "https://localhost:8080/"
        },
        "id": "ll3FSNr37KJ8",
        "outputId": "1b599692-677e-4a7b-fe56-937a025bb022"
      },
      "source": [
        "idx = 0\n",
        "TEXT_TO_SUMMARIZE = df_val.mthd.values[idx]\n",
        "print('Code:', TEXT_TO_SUMMARIZE)\n",
        "print('Original Comment:', df_val.cmt.values[idx])"
      ],
      "execution_count": 27,
      "outputs": [
        {
          "output_type": "stream",
          "text": [
            "Code: public static byte[] decode(final string s) { int delta = s.endswith(\"==\") ? 2 : s.endswith(\"=\") ? 1 : 0; byte[] buffer = new byte[s.length() * bytes_per_unencoded_block / bytes_per_encoded_block - delta]; int mask = 0xff; int pos = 0; for (int i = 0; i < s.length(); i += bytes_per_encoded_block) { int c0 = decode_table[s.charat(i)]; int c1 = decode_table[s.charat(i + 1)]; buffer[pos++] = (byte) (((c0 << 2) | (c1 >> 4)) & mask); if (pos >= buffer.length) { return buffer; } int c2 = decode_table[s.charat(i + 2)]; buffer[pos++] = (byte) (((c1 << 4) | (c2 >> 2)) & mask); if (pos >= buffer.length) { return buffer; } int c3 = decode_table[s.charat(i + 3)]; buffer[pos++] = (byte) (((c2 << 6) | c3) & mask); } return buffer; }\n",
            "Original Comment: decodes the given base64-encoded string.\n"
          ],
          "name": "stdout"
        }
      ]
    },
    {
      "cell_type": "code",
      "metadata": {
        "id": "as4ypruA9WkD"
      },
      "source": [
        "# collapse\n",
        "from run import convert_examples_to_features, Example\n",
        "\n",
        "class Args:\n",
        "    max_source_length = source_length\n",
        "    max_target_length = target_length\n",
        "\n",
        "args = Args()\n",
        "\n",
        "def get_preds(df: pd.DataFrame):\n",
        "    ps = []\n",
        "    for idx, row in tqdm(df.iterrows(), total=len(df)):\n",
        "        examples = [\n",
        "            Example(idx, source = row.mthd, target = row.cmt)\n",
        "        ]\n",
        "        eval_features = convert_examples_to_features(\n",
        "            examples, tokenizer, args, stage='test'\n",
        "        )\n",
        "        source_ids = torch.tensor(eval_features[0].source_ids, dtype = torch.long).unsqueeze(0).to('cuda')\n",
        "        source_mask = torch.tensor(eval_features[0].source_mask, dtype = torch.long).unsqueeze(0).to('cuda')\n",
        "\n",
        "        with torch.no_grad():\n",
        "            preds = model(source_ids = source_ids, source_mask = source_mask)  \n",
        "            for pred in preds:\n",
        "                t = pred[0].cpu().numpy()\n",
        "                t = list(t)\n",
        "                if 0 in t:\n",
        "                    t = t[:t.index(0)]\n",
        "                text = tokenizer.decode(t,clean_up_tokenization_spaces=False)\n",
        "                ps.append(text)\n",
        "    \n",
        "    return ps"
      ],
      "execution_count": 28,
      "outputs": []
    },
    {
      "cell_type": "code",
      "metadata": {
        "colab": {
          "base_uri": "https://localhost:8080/",
          "height": 780,
          "referenced_widgets": [
            "6f8a5e3468d946ff9b081efe89dfeeaa",
            "39ba681b1ed6459d92606fc654dcdba8",
            "e529b42e3cbb4b4ba09acd901a0894f2",
            "9edee620640c4e3e801b50db0c862d3c",
            "eaedec158070463bbd78ef17de3171b9",
            "e8e02586085d44db937e917c1413b5dd",
            "b63870f196d3457587b7dfe4616a61bb",
            "8d170d9a18e64415a6398a78c5c0f04c"
          ]
        },
        "id": "AKK8rYya-VCc",
        "outputId": "3c7b721e-e9b1-47d2-c685-297802dad32a"
      },
      "source": [
        "df_val = df_val.reset_index()\n",
        "preds = get_preds(df_val.head(10))\n",
        "for idx, row in df_val.head(10).iterrows():\n",
        "    print('Code:', row.mthd)\n",
        "    print('Original Comment:', row.cmt)\n",
        "    print('Generated Comment:', preds[idx])\n",
        "    print('='*40)"
      ],
      "execution_count": 33,
      "outputs": [
        {
          "output_type": "display_data",
          "data": {
            "application/vnd.jupyter.widget-view+json": {
              "model_id": "6f8a5e3468d946ff9b081efe89dfeeaa",
              "version_minor": 0,
              "version_major": 2
            },
            "text/plain": [
              "HBox(children=(FloatProgress(value=0.0, max=10.0), HTML(value='')))"
            ]
          },
          "metadata": {
            "tags": []
          }
        },
        {
          "output_type": "stream",
          "text": [
            "\n",
            "Code: public static byte[] decode(final string s) { int delta = s.endswith(\"==\") ? 2 : s.endswith(\"=\") ? 1 : 0; byte[] buffer = new byte[s.length() * bytes_per_unencoded_block / bytes_per_encoded_block - delta]; int mask = 0xff; int pos = 0; for (int i = 0; i < s.length(); i += bytes_per_encoded_block) { int c0 = decode_table[s.charat(i)]; int c1 = decode_table[s.charat(i + 1)]; buffer[pos++] = (byte) (((c0 << 2) | (c1 >> 4)) & mask); if (pos >= buffer.length) { return buffer; } int c2 = decode_table[s.charat(i + 2)]; buffer[pos++] = (byte) (((c1 << 4) | (c2 >> 2)) & mask); if (pos >= buffer.length) { return buffer; } int c3 = decode_table[s.charat(i + 3)]; buffer[pos++] = (byte) (((c2 << 6) | c3) & mask); } return buffer; }\n",
            "Original Comment: decodes the given base64-encoded string.\n",
            "Generated Comment: decode encode a string representation of string\n",
            "========================================\n",
            "Code: private void extractapklib( artifact apklibartifact ) throws mojoexecutionexception { getunpackedlibhelper().extractapklib( apklibartifact ); // copy the assets to the the combinedassets folder. // add the apklib source and resource to the compile. // nb apklib sources are added to compilesourceroot because we may need to compile against them. // this means the apklib classes will be compiled into target/classes and packaged with this build. copyfolder( getunpackedlibassetsfolder( apklibartifact ), combinedassets ); final file apklibsourcefolder = getunpackedapklibsourcefolder( apklibartifact ); final list<string> resourceexclusions = arrays.aslist( \"**/*.java\", \"**/*.aidl\" ); projecthelper.addresource( project, apklibsourcefolder.getabsolutepath(), null, resourceexclusions ); project.addcompilesourceroot( apklibsourcefolder.getabsolutepath() ); }\n",
            "Original Comment: extracts apklib and adds the assets and apklib sources and resources to the build.\n",
            "Generated Comment: extracts the cp libraries from the given source library.\n",
            "========================================\n",
            "Code: static <t> t[] copy(object[] source, int from, int to, t[] arrayoftype) { t[] result = newarray(arrayoftype, to - from); system.arraycopy(source, from, result, 0, to - from); return result; }\n",
            "Original Comment: equivalent to arrays.copyofrange(source, from, to, arrayoftype.getclass()).\n",
            "Generated Comment: creates a new object from the array.\n",
            "========================================\n",
            "Code: private static runtimedelegate finddelegate() { runtimedelegate result=null; try { result=createruntimedelegatefromspi(); if(result==null) { result=createruntimedelegatefromconfigurationfile(); } if(result==null) { string delegateclassname = system.getproperty(application_engine_spi_property); if(delegateclassname!=null) { result=createruntimedelegateforclassname(delegateclassname); } } } catch (exception ex) { logger.warn(\"could not find application engine\",ex); } return result; }\n",
            "Original Comment: obtain an instance using the method described in }.\n",
            "Generated Comment: /* package\n",
            "========================================\n",
            "Code: public static string getcategory(string eventsrcname) { if (eventsrcname == null) { return null; } int end = eventsrcname.lastindexof('.'); eventsrcname = eventsrcname.substring(0, end); if (checkstyle_package.equals(eventsrcname)) { return \"misc\"; } else if (!eventsrcname.startswith(checkstyle_package)) { return \"extension\"; } return eventsrcname.substring(eventsrcname.lastindexof('.') + 1); }\n",
            "Original Comment: get the rule category from an audit event source name.\n",
            "Generated Comment: returns the contents of the event name.\n",
            "========================================\n",
            "Code: private collection<artifact> getserverdependencies(final string servertype, final expressionevaluator expressionevaluator) throws componentconfigurationexception { try { final mavenproject project = (mavenproject) expressionevaluator.evaluate(\"${project}\"); final string localrepo = (string) expressionevaluator.evaluate(\"${settings.localrepository}\"); final artifactrepository localrepository = repositorysystem.createlocalrepository(new file(localrepo)); final repositoryrequest repositoryrequest = new defaultrepositoryrequest(); repositoryrequest.setremoterepositories(project.getremoteartifactrepositories()); repositoryrequest.setlocalrepository(localrepository); final artifactresolutionrequest request = new artifactresolutionrequest(repositoryrequest); request.setartifact(getserverartifact(servertype)); request.setresolvetransitively(true); final artifactresolutionresult result = repositorysystem.resolve(request); if (result.issuccess()) { return result.getartifacts(); } boolean first = true; final stringbuilder builder = new stringbuilder(\"cannot resolve dependencies: [\"); for (final artifact artifact : result.getmissingartifacts()) { if (!first) { builder.append(','); } else { first = false; } builder.append(artifact.getgroupid()); builder.append(':'); builder.append(artifact.getartifactid()); builder.append(':'); builder.append(artifact.getversion()); } builder.append(\"]\"); throw new componentconfigurationexception(builder.tostring()); } catch (final expressionevaluationexception e) { throw new componentconfigurationexception(\"error evaluating expression\", e); } catch (final invalidrepositoryexception e) { throw new componentconfigurationexception(\"error resolving local repository\", e); } }\n",
            "Original Comment: resolve the ldap server type artifact and its dependencies.\n",
            "Generated Comment: gets the repositories from the repository.\n",
            "========================================\n",
            "Code: private void frame4() { long currenttime = system.currenttimemillis(); // xxx: lots of dummy value // record trade information in trade table. // insert into trade (t_id, t_dts, t_st_id, t_tt_id, t_is_cash, // t_s_symb, t_qty, t_bid_price, t_ca_id, t_exec_name, t_trade_price, // t_chrg, t_comm, t_tax, t_lifo) values (...) string sql = string.format(\"insert into trade (t_id, t_dts, t_st_id, t_tt_id, \" + \"t_is_cash, t_s_symb, t_qty, t_bid_price, t_ca_id, t_exec_name, \" + \"t_trade_price, t_chrg, t_comm, t_tax, t_lifo) values (%d, %d, '%s', \" + \"'%s', %d, '%s', %d, %f, %d, '%s', %f, %f, %f, %f, %d)\", paramhelper.gettradeid(), currenttime, statusid, paramhelper.gettradetypeid(), 1, paramhelper.getsymbol(), paramhelper.gettradeqty(), marketprice, paramhelper.getacctid(), \"exec_name\", paramhelper.gettradeprice(), 0.0, 0.0, 0.0, 1); executeupdate(sql); // todo: implement this (not in the simplified version) // record pending trade information in trade_request table // if this trade is a limit trade // insert into trade_request (tr_t_id, tr_tt_id, tr_s_symb, tr_qty, // tr_bid_price, tr_b_id) values (...) // record trade information in trade_history table // insert into trade_history (th_t_id, th_dts, th_st_id) values (...) sql = string.format(\"insert into trade_history (th_t_id, th_dts, th_st_id) values \" + \"(%d, %d, '%s')\", paramhelper.gettradeid(), currenttime, statusid); executeupdate(sql); }\n",
            "Original Comment: record the trade request by making all related updates\n",
            "Generated Comment: this method is used to create the database.\n",
            "========================================\n",
            "Code: protected string getquery() { final stringbuilder ret = new stringbuilder(); try { final string clazzname; if (efapssystemconfiguration.get().containsattributevalue(\"org.efaps.kernel.index.querybuilder\")) { clazzname = efapssystemconfiguration.get().getattributevalue(\"org.efaps.kernel.index.querybuilder\"); } else { clazzname = \"org.efaps.esjp.admin.index.lucencequerybuilder\"; } final class<?> clazz = class.forname(clazzname, false, efapsclassloader.getinstance()); final object obj = clazz.newinstance(); final method method = clazz.getmethod(\"getquery4dimvalues\", string.class, list.class, list.class); final object newquery = method.invoke(obj, getcurrentquery(), getincluded(), getexcluded()); ret.append(newquery); } catch (final efapsexception | classnotfoundexception | instantiationexception | illegalaccessexception | nosuchmethodexception | securityexception | illegalargumentexception | invocationtargetexception e) { indexsearch.log.error(\"catched\", e); ret.append(getcurrentquery()); } return ret.tostring(); }\n",
            "Original Comment: gets the query.\n",
            "Generated Comment: get the query instance.\n",
            "========================================\n",
            "Code: private languagedata findlanguage(final string locale) { for (final languagedata languagedata : languagedatadao.getall()) { if (languagedata.getlanguagecode().equalsignorecase(locale)) { return languagedata; } } return null; }\n",
            "Original Comment: find language.\n",
            "Generated Comment: gets the specified locale.\n",
            "========================================\n",
            "Code: private standardintrospectionresponse callstandardintrospection(string parameters) { if (parameters == null) { // authlete returns different error codes for null and an empty string. // 'null' is regarded as a caller's error. an empty string is regarded // as a client application's error. parameters = \"\"; } // create a request for authlete's /api/auth/introspection/standard api. standardintrospectionrequest request = new standardintrospectionrequest() .setparameters(parameters); try { // call authlete's /api/auth/introspection/standard api. return mapi.standardintrospection(request); } catch (authleteapiexception e) { // the api call failed. throw apifailure(\"/api/auth/introspection/standard\", e); } }\n",
            "Original Comment: call authlete's api.\n",
            "Generated Comment: returns a set of authentication object.\n",
            "========================================\n"
          ],
          "name": "stdout"
        }
      ]
    },
    {
      "cell_type": "markdown",
      "metadata": {
        "id": "DpJ_dJ5qbHEi"
      },
      "source": [
        "The model seems to be doing a good job, but if you play with it some more you'll realize it is mostly taking the name of the method and using that to guide the comment. This makes sense, but it probably isn't learning much more than this association, at least with this small model. Let's explore it a bit more by looking at all the examples in the validation set it is failing the most on."
      ]
    },
    {
      "cell_type": "code",
      "metadata": {
        "id": "9UZZmpkr-3OC"
      },
      "source": [
        "def get_preds_losses(df: pd.DataFrame):\n",
        "    ps = []\n",
        "    losses = []\n",
        "    for idx, row in tqdm(df.iterrows(), total=len(df)):\n",
        "        examples = [\n",
        "            Example(idx, source = row.mthd, target = row.cmt)\n",
        "        ]\n",
        "        eval_features = convert_examples_to_features(\n",
        "            examples, tokenizer, args, stage='test'\n",
        "        )\n",
        "        source_ids = torch.tensor([f.source_ids for f in eval_features], dtype = torch.long).to('cuda')\n",
        "        source_mask = torch.tensor([f.source_mask for f in eval_features], dtype = torch.long).to('cuda')\n",
        "        target_ids = torch.tensor([f.target_ids for f in eval_features], dtype = torch.long).to('cuda')\n",
        "        target_mask = torch.tensor([f.target_mask for f in eval_features], dtype = torch.long).to('cuda')\n",
        "\n",
        "        with torch.no_grad():\n",
        "            _, loss, _ = model(\n",
        "                source_ids = source_ids, source_mask = source_mask,\n",
        "                target_ids = target_ids, target_mask = target_mask\n",
        "            )\n",
        "            preds = model(source_ids = source_ids, source_mask = source_mask)  \n",
        "            for pred in preds:\n",
        "                t = pred[0].cpu().numpy()\n",
        "                t = list(t)\n",
        "                if 0 in t:\n",
        "                    t = t[:t.index(0)]\n",
        "                text = tokenizer.decode(t,clean_up_tokenization_spaces=False)\n",
        "                ps.append(text)\n",
        "                losses.append(loss.item())\n",
        "    \n",
        "    return ps, losses"
      ],
      "execution_count": 34,
      "outputs": []
    },
    {
      "cell_type": "code",
      "metadata": {
        "colab": {
          "base_uri": "https://localhost:8080/",
          "height": 953,
          "referenced_widgets": [
            "1dbf5adf34924620b231767d3e79bb6b",
            "333382f4328f4db5ac6e413c0e351aa7",
            "5eb687dae6f548329203b55b39dce3c1",
            "26ba299915aa4ee397abcd561eb36cd2",
            "3783617f671643e0a06b0b96ecde4bd8",
            "8701d0581cca4b0095c67c5a99ec9b8c",
            "644a8d4ce6204e4da65d82c9a22f6834",
            "eb55290567c54e64bd87bcccab451a20"
          ]
        },
        "id": "ZMMou3SeBlgv",
        "outputId": "583e0ea9-0523-44d6-dbe8-ec040b36904d"
      },
      "source": [
        "df_head = df_val.copy()\n",
        "ps, losses = get_preds_losses(df_head)\n",
        "df_head['pred'] = ps\n",
        "df_head['loss'] = losses\n",
        "df_sorted_losses = df_head.sort_values('loss', ascending = False)\n",
        "\n",
        "for _, row in df_sorted_losses.head(10).iterrows():\n",
        "    print('Code:', row.mthd)\n",
        "    print('Original Comment:', row.cmt)\n",
        "    print('Generated Comment:', row.pred)\n",
        "    print(row.loss)\n",
        "    print('='*40)"
      ],
      "execution_count": 35,
      "outputs": [
        {
          "output_type": "display_data",
          "data": {
            "application/vnd.jupyter.widget-view+json": {
              "model_id": "1dbf5adf34924620b231767d3e79bb6b",
              "version_minor": 0,
              "version_major": 2
            },
            "text/plain": [
              "HBox(children=(FloatProgress(value=0.0, max=88.0), HTML(value='')))"
            ]
          },
          "metadata": {
            "tags": []
          }
        },
        {
          "output_type": "stream",
          "text": [
            "\n",
            "Code: private collection<artifact> getserverdependencies(final string servertype, final expressionevaluator expressionevaluator) throws componentconfigurationexception { try { final mavenproject project = (mavenproject) expressionevaluator.evaluate(\"${project}\"); final string localrepo = (string) expressionevaluator.evaluate(\"${settings.localrepository}\"); final artifactrepository localrepository = repositorysystem.createlocalrepository(new file(localrepo)); final repositoryrequest repositoryrequest = new defaultrepositoryrequest(); repositoryrequest.setremoterepositories(project.getremoteartifactrepositories()); repositoryrequest.setlocalrepository(localrepository); final artifactresolutionrequest request = new artifactresolutionrequest(repositoryrequest); request.setartifact(getserverartifact(servertype)); request.setresolvetransitively(true); final artifactresolutionresult result = repositorysystem.resolve(request); if (result.issuccess()) { return result.getartifacts(); } boolean first = true; final stringbuilder builder = new stringbuilder(\"cannot resolve dependencies: [\"); for (final artifact artifact : result.getmissingartifacts()) { if (!first) { builder.append(','); } else { first = false; } builder.append(artifact.getgroupid()); builder.append(':'); builder.append(artifact.getartifactid()); builder.append(':'); builder.append(artifact.getversion()); } builder.append(\"]\"); throw new componentconfigurationexception(builder.tostring()); } catch (final expressionevaluationexception e) { throw new componentconfigurationexception(\"error evaluating expression\", e); } catch (final invalidrepositoryexception e) { throw new componentconfigurationexception(\"error resolving local repository\", e); } }\n",
            "Original Comment: resolve the ldap server type artifact and its dependencies.\n",
            "Generated Comment: gets the repository from the repository.\n",
            "24.875783920288086\n",
            "========================================\n",
            "Code: public static byte[] decode(final string s) { int delta = s.endswith(\"==\") ? 2 : s.endswith(\"=\") ? 1 : 0; byte[] buffer = new byte[s.length() * bytes_per_unencoded_block / bytes_per_encoded_block - delta]; int mask = 0xff; int pos = 0; for (int i = 0; i < s.length(); i += bytes_per_encoded_block) { int c0 = decode_table[s.charat(i)]; int c1 = decode_table[s.charat(i + 1)]; buffer[pos++] = (byte) (((c0 << 2) | (c1 >> 4)) & mask); if (pos >= buffer.length) { return buffer; } int c2 = decode_table[s.charat(i + 2)]; buffer[pos++] = (byte) (((c1 << 4) | (c2 >> 2)) & mask); if (pos >= buffer.length) { return buffer; } int c3 = decode_table[s.charat(i + 3)]; buffer[pos++] = (byte) (((c2 << 6) | c3) & mask); } return buffer; }\n",
            "Original Comment: decodes the given base64-encoded string.\n",
            "Generated Comment: encodes a string value from a string.\n",
            "24.304515838623047\n",
            "========================================\n",
            "Code: @override public void init(configurationvalueprovider... configurationvalueproviders) { if (configurationvalueproviders != null) { for (configurationproperty property : getcontainer().properties.values()) { property.init(configurationvalueproviders); } } }\n",
            "Original Comment: override default values for properties with the given configurationproviders.\n",
            "Generated Comment: configures all the options in the given configuration.\n",
            "24.276317596435547\n",
            "========================================\n",
            "Code: private static boolean validatepart(string part, boolean isfinalpart) { // these tests could be collapsed into one big boolean expression, but // they have been left as independent tests for clarity. if (part.length() < 1 || part.length() > max_domain_part_length) { return false; } /* * gwt claims to support java.lang.character's char-classification methods, but it actually only * works for ascii. so for now, assume any non-ascii characters are valid. the only place this * seems to be documented is here: * http://osdir.com/ml/googlewebtoolkitcontributors/2010-03/msg00178.html * * <p>ascii characters in the part are expected to be valid per rfc 1035, with underscore also * being allowed due to widespread practice. */ string asciichars = charmatcher.ascii().retainfrom(part); if (!part_char_matcher.matchesallof(asciichars)) { return false; } // no initial or final dashes or underscores. if (dash_matcher.matches(part.charat(0)) || dash_matcher.matches(part.charat(part.length() - 1))) { return false; } /* * note that we allow (in contravention of a strict interpretation of the relevant rfcs) domain * parts other than the last may begin with a digit (for example, \"3com.com\"). it's important to * disallow an initial digit in the last part; it's the only thing that stops an ipv4 numeric * address like 127.0.0.1 from looking like a valid domain name. */ if (isfinalpart && charmatcher.digit().matches(part.charat(0))) { return false; } return true; }\n",
            "Original Comment: helper method for }. validates that one part of a domain name is valid.\n",
            "Generated Comment: parses a string representation of the given string.\n",
            "24.256574630737305\n",
            "========================================\n",
            "Code: private void extractapklib( artifact apklibartifact ) throws mojoexecutionexception { getunpackedlibhelper().extractapklib( apklibartifact ); // copy the assets to the the combinedassets folder. // add the apklib source and resource to the compile. // nb apklib sources are added to compilesourceroot because we may need to compile against them. // this means the apklib classes will be compiled into target/classes and packaged with this build. copyfolder( getunpackedlibassetsfolder( apklibartifact ), combinedassets ); final file apklibsourcefolder = getunpackedapklibsourcefolder( apklibartifact ); final list<string> resourceexclusions = arrays.aslist( \"**/*.java\", \"**/*.aidl\" ); projecthelper.addresource( project, apklibsourcefolder.getabsolutepath(), null, resourceexclusions ); project.addcompilesourceroot( apklibsourcefolder.getabsolutepath() ); }\n",
            "Original Comment: extracts apklib and adds the assets and apklib sources and resources to the build.\n",
            "Generated Comment: extracts compiled from the cp compiler.\n",
            "23.989707946777344\n",
            "========================================\n",
            "Code: public void adddefaultheader(final string name, final string value) { validate.notempty(name, \"header name cannot be empty\"); validate.notnull(value, \"header value cannot be null, use an empty string instead\"); this.checkconfigurable(); this.defaultheaders.put(name, value); }\n",
            "Original Comment: adds a default header to be added to every stub http response.\n",
            "Generated Comment: adds the headers to the headers.\n",
            "23.846609115600586\n",
            "========================================\n",
            "Code: public static schema getschema(final file xsd, final errorhandler errorhandler) throws saxexception { // create a new instance for an xsd-aware schemafactory final schemafactory schemafactory = schemafactory .newinstance(http_www_w3_org_2001_xml_schema); // set the errorhandler implementation. schemafactory.seterrorhandler(errorhandler); // get the custom xsd schema that describes // the required format for my xml files. return schemafactory.newschema(xsd); }\n",
            "Original Comment: gets the schema.\n",
            "Generated Comment: creates a xml object from the given namespace.\n",
            "23.77509880065918\n",
            "========================================\n",
            "Code: @override protected formatwriter createwriter(final outputstream outputstream, final formatlogger logger) { try { return new dsmlformatwriter(outputstream); } catch (final ioexception e) { logger.logerror(\"could not create and intialise the dsml writer\", e); } return null; }\n",
            "Original Comment: create the ldap writer that will dump ldap entries to a dsml file.\n",
            "Generated Comment: creates a new writer as a xml file.\n",
            "23.688125610351562\n",
            "========================================\n",
            "Code: @override public volatileimage createcompatiblevolatileimage(int width, int height, imagecapabilities caps, int transparency) throws awtexception { if (img == null) { img = new bufferedimage(1, 1, bufferedimage.type_int_argb); gc = img.creategraphics().getdeviceconfiguration(); } return gc.createcompatiblevolatileimage(width, height, caps, transparency); }\n",
            "Original Comment: returns a volatile image. this method is a workaround for a classcastexception that occurs on macosx when exporting a swing ui that uses the nimbus look and feel to svg.\n",
            "Generated Comment: create a new image from a new image.\n",
            "23.60519790649414\n",
            "========================================\n",
            "Code: private static void printstacktrace(printstream out, throwable err) { out.println(err.getclass().getname() + \": \" + err.getmessage()); for (stacktraceelement ste : err.getstacktrace()) { out.println(\"\\tat \" + ste.tostring()); } if (err.getcause() != null) { out.print(\"caused by: \"); printstacktrace(out, err.getcause()); } }\n",
            "Original Comment: print a complete stack trace. this differs from throwable.printstacktrace() in that it always prints all of the trace.\n",
            "Generated Comment: print out a message.\n",
            "23.529924392700195\n",
            "========================================\n"
          ],
          "name": "stdout"
        }
      ]
    },
    {
      "cell_type": "markdown",
      "metadata": {
        "id": "v5zyf5LjLMxf"
      },
      "source": [
        "# What's Next?\n",
        "\n",
        "If you'd like to see how you can integrate this code comment summarizer model into the popular VSCode IDE, check out my video that goes over just that!\n",
        "\n",
        "> youtube: https://youtu.be/SYjgPjQ-vbc"
      ]
    }
  ]
}