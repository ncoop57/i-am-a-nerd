{
  "nbformat": 4,
  "nbformat_minor": 0,
  "metadata": {
    "colab": {
      "name": "Code Commenter.ipynb",
      "provenance": [],
      "collapsed_sections": [],
      "toc_visible": true
    },
    "kernelspec": {
      "name": "python3",
      "display_name": "Python 3"
    },
    "widgets": {
      "application/vnd.jupyter.widget-state+json": {
        "80dcfba514a94bff85cf7a59a7eeb6d0": {
          "model_module": "@jupyter-widgets/controls",
          "model_name": "HBoxModel",
          "state": {
            "_view_name": "HBoxView",
            "_dom_classes": [],
            "_model_name": "HBoxModel",
            "_view_module": "@jupyter-widgets/controls",
            "_model_module_version": "1.5.0",
            "_view_count": null,
            "_view_module_version": "1.5.0",
            "box_style": "",
            "layout": "IPY_MODEL_8f6383bba10f4736b6599a5dd9725098",
            "_model_module": "@jupyter-widgets/controls",
            "children": [
              "IPY_MODEL_9cd316da3c064e12be791669a3d890bc",
              "IPY_MODEL_272b56b5c5f14ef28b1f0fc821b546b4"
            ]
          }
        },
        "8f6383bba10f4736b6599a5dd9725098": {
          "model_module": "@jupyter-widgets/base",
          "model_name": "LayoutModel",
          "state": {
            "_view_name": "LayoutView",
            "grid_template_rows": null,
            "right": null,
            "justify_content": null,
            "_view_module": "@jupyter-widgets/base",
            "overflow": null,
            "_model_module_version": "1.2.0",
            "_view_count": null,
            "flex_flow": null,
            "width": null,
            "min_width": null,
            "border": null,
            "align_items": null,
            "bottom": null,
            "_model_module": "@jupyter-widgets/base",
            "top": null,
            "grid_column": null,
            "overflow_y": null,
            "overflow_x": null,
            "grid_auto_flow": null,
            "grid_area": null,
            "grid_template_columns": null,
            "flex": null,
            "_model_name": "LayoutModel",
            "justify_items": null,
            "grid_row": null,
            "max_height": null,
            "align_content": null,
            "visibility": null,
            "align_self": null,
            "height": null,
            "min_height": null,
            "padding": null,
            "grid_auto_rows": null,
            "grid_gap": null,
            "max_width": null,
            "order": null,
            "_view_module_version": "1.2.0",
            "grid_template_areas": null,
            "object_position": null,
            "object_fit": null,
            "grid_auto_columns": null,
            "margin": null,
            "display": null,
            "left": null
          }
        },
        "9cd316da3c064e12be791669a3d890bc": {
          "model_module": "@jupyter-widgets/controls",
          "model_name": "FloatProgressModel",
          "state": {
            "_view_name": "ProgressView",
            "style": "IPY_MODEL_172bcedc885c4567a5883c5fe13001f4",
            "_dom_classes": [],
            "description": "100%",
            "_model_name": "FloatProgressModel",
            "bar_style": "success",
            "max": 999,
            "_view_module": "@jupyter-widgets/controls",
            "_model_module_version": "1.5.0",
            "value": 999,
            "_view_count": null,
            "_view_module_version": "1.5.0",
            "orientation": "horizontal",
            "min": 0,
            "description_tooltip": null,
            "_model_module": "@jupyter-widgets/controls",
            "layout": "IPY_MODEL_ae777bf338304e4ebf313e2aab6c52ec"
          }
        },
        "272b56b5c5f14ef28b1f0fc821b546b4": {
          "model_module": "@jupyter-widgets/controls",
          "model_name": "HTMLModel",
          "state": {
            "_view_name": "HTMLView",
            "style": "IPY_MODEL_3d2805901947448e8285b42120dda847",
            "_dom_classes": [],
            "description": "",
            "_model_name": "HTMLModel",
            "placeholder": "​",
            "_view_module": "@jupyter-widgets/controls",
            "_model_module_version": "1.5.0",
            "value": " 999/999 [00:05&lt;00:00, 190.77it/s]",
            "_view_count": null,
            "_view_module_version": "1.5.0",
            "description_tooltip": null,
            "_model_module": "@jupyter-widgets/controls",
            "layout": "IPY_MODEL_90f9dc0832a8436aafe9fefe9dedc861"
          }
        },
        "172bcedc885c4567a5883c5fe13001f4": {
          "model_module": "@jupyter-widgets/controls",
          "model_name": "ProgressStyleModel",
          "state": {
            "_view_name": "StyleView",
            "_model_name": "ProgressStyleModel",
            "description_width": "initial",
            "_view_module": "@jupyter-widgets/base",
            "_model_module_version": "1.5.0",
            "_view_count": null,
            "_view_module_version": "1.2.0",
            "bar_color": null,
            "_model_module": "@jupyter-widgets/controls"
          }
        },
        "ae777bf338304e4ebf313e2aab6c52ec": {
          "model_module": "@jupyter-widgets/base",
          "model_name": "LayoutModel",
          "state": {
            "_view_name": "LayoutView",
            "grid_template_rows": null,
            "right": null,
            "justify_content": null,
            "_view_module": "@jupyter-widgets/base",
            "overflow": null,
            "_model_module_version": "1.2.0",
            "_view_count": null,
            "flex_flow": null,
            "width": null,
            "min_width": null,
            "border": null,
            "align_items": null,
            "bottom": null,
            "_model_module": "@jupyter-widgets/base",
            "top": null,
            "grid_column": null,
            "overflow_y": null,
            "overflow_x": null,
            "grid_auto_flow": null,
            "grid_area": null,
            "grid_template_columns": null,
            "flex": null,
            "_model_name": "LayoutModel",
            "justify_items": null,
            "grid_row": null,
            "max_height": null,
            "align_content": null,
            "visibility": null,
            "align_self": null,
            "height": null,
            "min_height": null,
            "padding": null,
            "grid_auto_rows": null,
            "grid_gap": null,
            "max_width": null,
            "order": null,
            "_view_module_version": "1.2.0",
            "grid_template_areas": null,
            "object_position": null,
            "object_fit": null,
            "grid_auto_columns": null,
            "margin": null,
            "display": null,
            "left": null
          }
        },
        "3d2805901947448e8285b42120dda847": {
          "model_module": "@jupyter-widgets/controls",
          "model_name": "DescriptionStyleModel",
          "state": {
            "_view_name": "StyleView",
            "_model_name": "DescriptionStyleModel",
            "description_width": "",
            "_view_module": "@jupyter-widgets/base",
            "_model_module_version": "1.5.0",
            "_view_count": null,
            "_view_module_version": "1.2.0",
            "_model_module": "@jupyter-widgets/controls"
          }
        },
        "90f9dc0832a8436aafe9fefe9dedc861": {
          "model_module": "@jupyter-widgets/base",
          "model_name": "LayoutModel",
          "state": {
            "_view_name": "LayoutView",
            "grid_template_rows": null,
            "right": null,
            "justify_content": null,
            "_view_module": "@jupyter-widgets/base",
            "overflow": null,
            "_model_module_version": "1.2.0",
            "_view_count": null,
            "flex_flow": null,
            "width": null,
            "min_width": null,
            "border": null,
            "align_items": null,
            "bottom": null,
            "_model_module": "@jupyter-widgets/base",
            "top": null,
            "grid_column": null,
            "overflow_y": null,
            "overflow_x": null,
            "grid_auto_flow": null,
            "grid_area": null,
            "grid_template_columns": null,
            "flex": null,
            "_model_name": "LayoutModel",
            "justify_items": null,
            "grid_row": null,
            "max_height": null,
            "align_content": null,
            "visibility": null,
            "align_self": null,
            "height": null,
            "min_height": null,
            "padding": null,
            "grid_auto_rows": null,
            "grid_gap": null,
            "max_width": null,
            "order": null,
            "_view_module_version": "1.2.0",
            "grid_template_areas": null,
            "object_position": null,
            "object_fit": null,
            "grid_auto_columns": null,
            "margin": null,
            "display": null,
            "left": null
          }
        },
        "42c77b7cb95d447ea873388fe74ebc36": {
          "model_module": "@jupyter-widgets/controls",
          "model_name": "HBoxModel",
          "state": {
            "_view_name": "HBoxView",
            "_dom_classes": [],
            "_model_name": "HBoxModel",
            "_view_module": "@jupyter-widgets/controls",
            "_model_module_version": "1.5.0",
            "_view_count": null,
            "_view_module_version": "1.5.0",
            "box_style": "",
            "layout": "IPY_MODEL_0f665df7aee643428799b74e4cf03952",
            "_model_module": "@jupyter-widgets/controls",
            "children": [
              "IPY_MODEL_494120ba46fa4b1ab2904b61a83c96c1",
              "IPY_MODEL_76592bff61cd4354baab875b888f40e3"
            ]
          }
        },
        "0f665df7aee643428799b74e4cf03952": {
          "model_module": "@jupyter-widgets/base",
          "model_name": "LayoutModel",
          "state": {
            "_view_name": "LayoutView",
            "grid_template_rows": null,
            "right": null,
            "justify_content": null,
            "_view_module": "@jupyter-widgets/base",
            "overflow": null,
            "_model_module_version": "1.2.0",
            "_view_count": null,
            "flex_flow": null,
            "width": null,
            "min_width": null,
            "border": null,
            "align_items": null,
            "bottom": null,
            "_model_module": "@jupyter-widgets/base",
            "top": null,
            "grid_column": null,
            "overflow_y": null,
            "overflow_x": null,
            "grid_auto_flow": null,
            "grid_area": null,
            "grid_template_columns": null,
            "flex": null,
            "_model_name": "LayoutModel",
            "justify_items": null,
            "grid_row": null,
            "max_height": null,
            "align_content": null,
            "visibility": null,
            "align_self": null,
            "height": null,
            "min_height": null,
            "padding": null,
            "grid_auto_rows": null,
            "grid_gap": null,
            "max_width": null,
            "order": null,
            "_view_module_version": "1.2.0",
            "grid_template_areas": null,
            "object_position": null,
            "object_fit": null,
            "grid_auto_columns": null,
            "margin": null,
            "display": null,
            "left": null
          }
        },
        "494120ba46fa4b1ab2904b61a83c96c1": {
          "model_module": "@jupyter-widgets/controls",
          "model_name": "FloatProgressModel",
          "state": {
            "_view_name": "ProgressView",
            "style": "IPY_MODEL_e59610cd1b984138bc10f95c1384a033",
            "_dom_classes": [],
            "description": "100%",
            "_model_name": "FloatProgressModel",
            "bar_style": "success",
            "max": 25,
            "_view_module": "@jupyter-widgets/controls",
            "_model_module_version": "1.5.0",
            "value": 25,
            "_view_count": null,
            "_view_module_version": "1.5.0",
            "orientation": "horizontal",
            "min": 0,
            "description_tooltip": null,
            "_model_module": "@jupyter-widgets/controls",
            "layout": "IPY_MODEL_caa1fb181b6c402986c11c090a899786"
          }
        },
        "76592bff61cd4354baab875b888f40e3": {
          "model_module": "@jupyter-widgets/controls",
          "model_name": "HTMLModel",
          "state": {
            "_view_name": "HTMLView",
            "style": "IPY_MODEL_d71c92331e354acc9e8754c421782247",
            "_dom_classes": [],
            "description": "",
            "_model_name": "HTMLModel",
            "placeholder": "​",
            "_view_module": "@jupyter-widgets/controls",
            "_model_module_version": "1.5.0",
            "value": " 25/25 [00:00&lt;00:00, 236.10it/s]",
            "_view_count": null,
            "_view_module_version": "1.5.0",
            "description_tooltip": null,
            "_model_module": "@jupyter-widgets/controls",
            "layout": "IPY_MODEL_947e4d74505444e79b3affd3f1985f30"
          }
        },
        "e59610cd1b984138bc10f95c1384a033": {
          "model_module": "@jupyter-widgets/controls",
          "model_name": "ProgressStyleModel",
          "state": {
            "_view_name": "StyleView",
            "_model_name": "ProgressStyleModel",
            "description_width": "initial",
            "_view_module": "@jupyter-widgets/base",
            "_model_module_version": "1.5.0",
            "_view_count": null,
            "_view_module_version": "1.2.0",
            "bar_color": null,
            "_model_module": "@jupyter-widgets/controls"
          }
        },
        "caa1fb181b6c402986c11c090a899786": {
          "model_module": "@jupyter-widgets/base",
          "model_name": "LayoutModel",
          "state": {
            "_view_name": "LayoutView",
            "grid_template_rows": null,
            "right": null,
            "justify_content": null,
            "_view_module": "@jupyter-widgets/base",
            "overflow": null,
            "_model_module_version": "1.2.0",
            "_view_count": null,
            "flex_flow": null,
            "width": null,
            "min_width": null,
            "border": null,
            "align_items": null,
            "bottom": null,
            "_model_module": "@jupyter-widgets/base",
            "top": null,
            "grid_column": null,
            "overflow_y": null,
            "overflow_x": null,
            "grid_auto_flow": null,
            "grid_area": null,
            "grid_template_columns": null,
            "flex": null,
            "_model_name": "LayoutModel",
            "justify_items": null,
            "grid_row": null,
            "max_height": null,
            "align_content": null,
            "visibility": null,
            "align_self": null,
            "height": null,
            "min_height": null,
            "padding": null,
            "grid_auto_rows": null,
            "grid_gap": null,
            "max_width": null,
            "order": null,
            "_view_module_version": "1.2.0",
            "grid_template_areas": null,
            "object_position": null,
            "object_fit": null,
            "grid_auto_columns": null,
            "margin": null,
            "display": null,
            "left": null
          }
        },
        "d71c92331e354acc9e8754c421782247": {
          "model_module": "@jupyter-widgets/controls",
          "model_name": "DescriptionStyleModel",
          "state": {
            "_view_name": "StyleView",
            "_model_name": "DescriptionStyleModel",
            "description_width": "",
            "_view_module": "@jupyter-widgets/base",
            "_model_module_version": "1.5.0",
            "_view_count": null,
            "_view_module_version": "1.2.0",
            "_model_module": "@jupyter-widgets/controls"
          }
        },
        "947e4d74505444e79b3affd3f1985f30": {
          "model_module": "@jupyter-widgets/base",
          "model_name": "LayoutModel",
          "state": {
            "_view_name": "LayoutView",
            "grid_template_rows": null,
            "right": null,
            "justify_content": null,
            "_view_module": "@jupyter-widgets/base",
            "overflow": null,
            "_model_module_version": "1.2.0",
            "_view_count": null,
            "flex_flow": null,
            "width": null,
            "min_width": null,
            "border": null,
            "align_items": null,
            "bottom": null,
            "_model_module": "@jupyter-widgets/base",
            "top": null,
            "grid_column": null,
            "overflow_y": null,
            "overflow_x": null,
            "grid_auto_flow": null,
            "grid_area": null,
            "grid_template_columns": null,
            "flex": null,
            "_model_name": "LayoutModel",
            "justify_items": null,
            "grid_row": null,
            "max_height": null,
            "align_content": null,
            "visibility": null,
            "align_self": null,
            "height": null,
            "min_height": null,
            "padding": null,
            "grid_auto_rows": null,
            "grid_gap": null,
            "max_width": null,
            "order": null,
            "_view_module_version": "1.2.0",
            "grid_template_areas": null,
            "object_position": null,
            "object_fit": null,
            "grid_auto_columns": null,
            "margin": null,
            "display": null,
            "left": null
          }
        },
        "444c12386e2a4d63a269f90973d1673e": {
          "model_module": "@jupyter-widgets/controls",
          "model_name": "HBoxModel",
          "state": {
            "_view_name": "HBoxView",
            "_dom_classes": [],
            "_model_name": "HBoxModel",
            "_view_module": "@jupyter-widgets/controls",
            "_model_module_version": "1.5.0",
            "_view_count": null,
            "_view_module_version": "1.5.0",
            "box_style": "",
            "layout": "IPY_MODEL_03cf7df7fadb4bd698eac6b87e9bcf1e",
            "_model_module": "@jupyter-widgets/controls",
            "children": [
              "IPY_MODEL_42bb73fb0c0845119b1c474dd6f6cbf4",
              "IPY_MODEL_8ce55c323ba14fa397ed477f0cbcbffd"
            ]
          }
        },
        "03cf7df7fadb4bd698eac6b87e9bcf1e": {
          "model_module": "@jupyter-widgets/base",
          "model_name": "LayoutModel",
          "state": {
            "_view_name": "LayoutView",
            "grid_template_rows": null,
            "right": null,
            "justify_content": null,
            "_view_module": "@jupyter-widgets/base",
            "overflow": null,
            "_model_module_version": "1.2.0",
            "_view_count": null,
            "flex_flow": null,
            "width": null,
            "min_width": null,
            "border": null,
            "align_items": null,
            "bottom": null,
            "_model_module": "@jupyter-widgets/base",
            "top": null,
            "grid_column": null,
            "overflow_y": null,
            "overflow_x": null,
            "grid_auto_flow": null,
            "grid_area": null,
            "grid_template_columns": null,
            "flex": null,
            "_model_name": "LayoutModel",
            "justify_items": null,
            "grid_row": null,
            "max_height": null,
            "align_content": null,
            "visibility": null,
            "align_self": null,
            "height": null,
            "min_height": null,
            "padding": null,
            "grid_auto_rows": null,
            "grid_gap": null,
            "max_width": null,
            "order": null,
            "_view_module_version": "1.2.0",
            "grid_template_areas": null,
            "object_position": null,
            "object_fit": null,
            "grid_auto_columns": null,
            "margin": null,
            "display": null,
            "left": null
          }
        },
        "42bb73fb0c0845119b1c474dd6f6cbf4": {
          "model_module": "@jupyter-widgets/controls",
          "model_name": "FloatProgressModel",
          "state": {
            "_view_name": "ProgressView",
            "style": "IPY_MODEL_f554f66c6b8b436fbb68f2c29d83c0e6",
            "_dom_classes": [],
            "description": "100%",
            "_model_name": "FloatProgressModel",
            "bar_style": "success",
            "max": 62,
            "_view_module": "@jupyter-widgets/controls",
            "_model_module_version": "1.5.0",
            "value": 62,
            "_view_count": null,
            "_view_module_version": "1.5.0",
            "orientation": "horizontal",
            "min": 0,
            "description_tooltip": null,
            "_model_module": "@jupyter-widgets/controls",
            "layout": "IPY_MODEL_bfe636fcd0be4fe5927f722d85df5a9e"
          }
        },
        "8ce55c323ba14fa397ed477f0cbcbffd": {
          "model_module": "@jupyter-widgets/controls",
          "model_name": "HTMLModel",
          "state": {
            "_view_name": "HTMLView",
            "style": "IPY_MODEL_cfef7cdae0424f31b2503c178b7513dd",
            "_dom_classes": [],
            "description": "",
            "_model_name": "HTMLModel",
            "placeholder": "​",
            "_view_module": "@jupyter-widgets/controls",
            "_model_module_version": "1.5.0",
            "value": " 62/62 [00:00&lt;00:00, 219.83it/s]",
            "_view_count": null,
            "_view_module_version": "1.5.0",
            "description_tooltip": null,
            "_model_module": "@jupyter-widgets/controls",
            "layout": "IPY_MODEL_378c40542be64834a5567ae728f102e6"
          }
        },
        "f554f66c6b8b436fbb68f2c29d83c0e6": {
          "model_module": "@jupyter-widgets/controls",
          "model_name": "ProgressStyleModel",
          "state": {
            "_view_name": "StyleView",
            "_model_name": "ProgressStyleModel",
            "description_width": "initial",
            "_view_module": "@jupyter-widgets/base",
            "_model_module_version": "1.5.0",
            "_view_count": null,
            "_view_module_version": "1.2.0",
            "bar_color": null,
            "_model_module": "@jupyter-widgets/controls"
          }
        },
        "bfe636fcd0be4fe5927f722d85df5a9e": {
          "model_module": "@jupyter-widgets/base",
          "model_name": "LayoutModel",
          "state": {
            "_view_name": "LayoutView",
            "grid_template_rows": null,
            "right": null,
            "justify_content": null,
            "_view_module": "@jupyter-widgets/base",
            "overflow": null,
            "_model_module_version": "1.2.0",
            "_view_count": null,
            "flex_flow": null,
            "width": null,
            "min_width": null,
            "border": null,
            "align_items": null,
            "bottom": null,
            "_model_module": "@jupyter-widgets/base",
            "top": null,
            "grid_column": null,
            "overflow_y": null,
            "overflow_x": null,
            "grid_auto_flow": null,
            "grid_area": null,
            "grid_template_columns": null,
            "flex": null,
            "_model_name": "LayoutModel",
            "justify_items": null,
            "grid_row": null,
            "max_height": null,
            "align_content": null,
            "visibility": null,
            "align_self": null,
            "height": null,
            "min_height": null,
            "padding": null,
            "grid_auto_rows": null,
            "grid_gap": null,
            "max_width": null,
            "order": null,
            "_view_module_version": "1.2.0",
            "grid_template_areas": null,
            "object_position": null,
            "object_fit": null,
            "grid_auto_columns": null,
            "margin": null,
            "display": null,
            "left": null
          }
        },
        "cfef7cdae0424f31b2503c178b7513dd": {
          "model_module": "@jupyter-widgets/controls",
          "model_name": "DescriptionStyleModel",
          "state": {
            "_view_name": "StyleView",
            "_model_name": "DescriptionStyleModel",
            "description_width": "",
            "_view_module": "@jupyter-widgets/base",
            "_model_module_version": "1.5.0",
            "_view_count": null,
            "_view_module_version": "1.2.0",
            "_model_module": "@jupyter-widgets/controls"
          }
        },
        "378c40542be64834a5567ae728f102e6": {
          "model_module": "@jupyter-widgets/base",
          "model_name": "LayoutModel",
          "state": {
            "_view_name": "LayoutView",
            "grid_template_rows": null,
            "right": null,
            "justify_content": null,
            "_view_module": "@jupyter-widgets/base",
            "overflow": null,
            "_model_module_version": "1.2.0",
            "_view_count": null,
            "flex_flow": null,
            "width": null,
            "min_width": null,
            "border": null,
            "align_items": null,
            "bottom": null,
            "_model_module": "@jupyter-widgets/base",
            "top": null,
            "grid_column": null,
            "overflow_y": null,
            "overflow_x": null,
            "grid_auto_flow": null,
            "grid_area": null,
            "grid_template_columns": null,
            "flex": null,
            "_model_name": "LayoutModel",
            "justify_items": null,
            "grid_row": null,
            "max_height": null,
            "align_content": null,
            "visibility": null,
            "align_self": null,
            "height": null,
            "min_height": null,
            "padding": null,
            "grid_auto_rows": null,
            "grid_gap": null,
            "max_width": null,
            "order": null,
            "_view_module_version": "1.2.0",
            "grid_template_areas": null,
            "object_position": null,
            "object_fit": null,
            "grid_auto_columns": null,
            "margin": null,
            "display": null,
            "left": null
          }
        },
        "6e8a4b66e8764dfd9246eb5363cb313c": {
          "model_module": "@jupyter-widgets/controls",
          "model_name": "HBoxModel",
          "state": {
            "_view_name": "HBoxView",
            "_dom_classes": [],
            "_model_name": "HBoxModel",
            "_view_module": "@jupyter-widgets/controls",
            "_model_module_version": "1.5.0",
            "_view_count": null,
            "_view_module_version": "1.5.0",
            "box_style": "",
            "layout": "IPY_MODEL_5aa7fae424ad49bd9def9153666028ce",
            "_model_module": "@jupyter-widgets/controls",
            "children": [
              "IPY_MODEL_27204df4dbc149ca81a97a98ca6250e5",
              "IPY_MODEL_02be66b10fa74ec2bb8b94a40cd68f95"
            ]
          }
        },
        "5aa7fae424ad49bd9def9153666028ce": {
          "model_module": "@jupyter-widgets/base",
          "model_name": "LayoutModel",
          "state": {
            "_view_name": "LayoutView",
            "grid_template_rows": null,
            "right": null,
            "justify_content": null,
            "_view_module": "@jupyter-widgets/base",
            "overflow": null,
            "_model_module_version": "1.2.0",
            "_view_count": null,
            "flex_flow": null,
            "width": null,
            "min_width": null,
            "border": null,
            "align_items": null,
            "bottom": null,
            "_model_module": "@jupyter-widgets/base",
            "top": null,
            "grid_column": null,
            "overflow_y": null,
            "overflow_x": null,
            "grid_auto_flow": null,
            "grid_area": null,
            "grid_template_columns": null,
            "flex": null,
            "_model_name": "LayoutModel",
            "justify_items": null,
            "grid_row": null,
            "max_height": null,
            "align_content": null,
            "visibility": null,
            "align_self": null,
            "height": null,
            "min_height": null,
            "padding": null,
            "grid_auto_rows": null,
            "grid_gap": null,
            "max_width": null,
            "order": null,
            "_view_module_version": "1.2.0",
            "grid_template_areas": null,
            "object_position": null,
            "object_fit": null,
            "grid_auto_columns": null,
            "margin": null,
            "display": null,
            "left": null
          }
        },
        "27204df4dbc149ca81a97a98ca6250e5": {
          "model_module": "@jupyter-widgets/controls",
          "model_name": "FloatProgressModel",
          "state": {
            "_view_name": "ProgressView",
            "style": "IPY_MODEL_4a6c04680001487996302a3c1ef65846",
            "_dom_classes": [],
            "description": "100%",
            "_model_name": "FloatProgressModel",
            "bar_style": "success",
            "max": 3544,
            "_view_module": "@jupyter-widgets/controls",
            "_model_module_version": "1.5.0",
            "value": 3544,
            "_view_count": null,
            "_view_module_version": "1.5.0",
            "orientation": "horizontal",
            "min": 0,
            "description_tooltip": null,
            "_model_module": "@jupyter-widgets/controls",
            "layout": "IPY_MODEL_615919e839254f01ac9926b49ba8af6e"
          }
        },
        "02be66b10fa74ec2bb8b94a40cd68f95": {
          "model_module": "@jupyter-widgets/controls",
          "model_name": "HTMLModel",
          "state": {
            "_view_name": "HTMLView",
            "style": "IPY_MODEL_0f5eab767596446fba5f9534439a944b",
            "_dom_classes": [],
            "description": "",
            "_model_name": "HTMLModel",
            "placeholder": "​",
            "_view_module": "@jupyter-widgets/controls",
            "_model_module_version": "1.5.0",
            "value": " 3544/3544 [00:00&lt;00:00, 36865.78it/s]",
            "_view_count": null,
            "_view_module_version": "1.5.0",
            "description_tooltip": null,
            "_model_module": "@jupyter-widgets/controls",
            "layout": "IPY_MODEL_c9aef6638bc34b05b6b51a4a424153e7"
          }
        },
        "4a6c04680001487996302a3c1ef65846": {
          "model_module": "@jupyter-widgets/controls",
          "model_name": "ProgressStyleModel",
          "state": {
            "_view_name": "StyleView",
            "_model_name": "ProgressStyleModel",
            "description_width": "initial",
            "_view_module": "@jupyter-widgets/base",
            "_model_module_version": "1.5.0",
            "_view_count": null,
            "_view_module_version": "1.2.0",
            "bar_color": null,
            "_model_module": "@jupyter-widgets/controls"
          }
        },
        "615919e839254f01ac9926b49ba8af6e": {
          "model_module": "@jupyter-widgets/base",
          "model_name": "LayoutModel",
          "state": {
            "_view_name": "LayoutView",
            "grid_template_rows": null,
            "right": null,
            "justify_content": null,
            "_view_module": "@jupyter-widgets/base",
            "overflow": null,
            "_model_module_version": "1.2.0",
            "_view_count": null,
            "flex_flow": null,
            "width": null,
            "min_width": null,
            "border": null,
            "align_items": null,
            "bottom": null,
            "_model_module": "@jupyter-widgets/base",
            "top": null,
            "grid_column": null,
            "overflow_y": null,
            "overflow_x": null,
            "grid_auto_flow": null,
            "grid_area": null,
            "grid_template_columns": null,
            "flex": null,
            "_model_name": "LayoutModel",
            "justify_items": null,
            "grid_row": null,
            "max_height": null,
            "align_content": null,
            "visibility": null,
            "align_self": null,
            "height": null,
            "min_height": null,
            "padding": null,
            "grid_auto_rows": null,
            "grid_gap": null,
            "max_width": null,
            "order": null,
            "_view_module_version": "1.2.0",
            "grid_template_areas": null,
            "object_position": null,
            "object_fit": null,
            "grid_auto_columns": null,
            "margin": null,
            "display": null,
            "left": null
          }
        },
        "0f5eab767596446fba5f9534439a944b": {
          "model_module": "@jupyter-widgets/controls",
          "model_name": "DescriptionStyleModel",
          "state": {
            "_view_name": "StyleView",
            "_model_name": "DescriptionStyleModel",
            "description_width": "",
            "_view_module": "@jupyter-widgets/base",
            "_model_module_version": "1.5.0",
            "_view_count": null,
            "_view_module_version": "1.2.0",
            "_model_module": "@jupyter-widgets/controls"
          }
        },
        "c9aef6638bc34b05b6b51a4a424153e7": {
          "model_module": "@jupyter-widgets/base",
          "model_name": "LayoutModel",
          "state": {
            "_view_name": "LayoutView",
            "grid_template_rows": null,
            "right": null,
            "justify_content": null,
            "_view_module": "@jupyter-widgets/base",
            "overflow": null,
            "_model_module_version": "1.2.0",
            "_view_count": null,
            "flex_flow": null,
            "width": null,
            "min_width": null,
            "border": null,
            "align_items": null,
            "bottom": null,
            "_model_module": "@jupyter-widgets/base",
            "top": null,
            "grid_column": null,
            "overflow_y": null,
            "overflow_x": null,
            "grid_auto_flow": null,
            "grid_area": null,
            "grid_template_columns": null,
            "flex": null,
            "_model_name": "LayoutModel",
            "justify_items": null,
            "grid_row": null,
            "max_height": null,
            "align_content": null,
            "visibility": null,
            "align_self": null,
            "height": null,
            "min_height": null,
            "padding": null,
            "grid_auto_rows": null,
            "grid_gap": null,
            "max_width": null,
            "order": null,
            "_view_module_version": "1.2.0",
            "grid_template_areas": null,
            "object_position": null,
            "object_fit": null,
            "grid_auto_columns": null,
            "margin": null,
            "display": null,
            "left": null
          }
        },
        "911c8bab717d4771ab996f4c55430198": {
          "model_module": "@jupyter-widgets/controls",
          "model_name": "HBoxModel",
          "state": {
            "_view_name": "HBoxView",
            "_dom_classes": [],
            "_model_name": "HBoxModel",
            "_view_module": "@jupyter-widgets/controls",
            "_model_module_version": "1.5.0",
            "_view_count": null,
            "_view_module_version": "1.5.0",
            "box_style": "",
            "layout": "IPY_MODEL_65d1e63571e14a4f8178cad7293842b3",
            "_model_module": "@jupyter-widgets/controls",
            "children": [
              "IPY_MODEL_9be5b4fe93474b4480740f38f18e33a3",
              "IPY_MODEL_17ef479284374efd93a8513b645cd519"
            ]
          }
        },
        "65d1e63571e14a4f8178cad7293842b3": {
          "model_module": "@jupyter-widgets/base",
          "model_name": "LayoutModel",
          "state": {
            "_view_name": "LayoutView",
            "grid_template_rows": null,
            "right": null,
            "justify_content": null,
            "_view_module": "@jupyter-widgets/base",
            "overflow": null,
            "_model_module_version": "1.2.0",
            "_view_count": null,
            "flex_flow": null,
            "width": null,
            "min_width": null,
            "border": null,
            "align_items": null,
            "bottom": null,
            "_model_module": "@jupyter-widgets/base",
            "top": null,
            "grid_column": null,
            "overflow_y": null,
            "overflow_x": null,
            "grid_auto_flow": null,
            "grid_area": null,
            "grid_template_columns": null,
            "flex": null,
            "_model_name": "LayoutModel",
            "justify_items": null,
            "grid_row": null,
            "max_height": null,
            "align_content": null,
            "visibility": null,
            "align_self": null,
            "height": null,
            "min_height": null,
            "padding": null,
            "grid_auto_rows": null,
            "grid_gap": null,
            "max_width": null,
            "order": null,
            "_view_module_version": "1.2.0",
            "grid_template_areas": null,
            "object_position": null,
            "object_fit": null,
            "grid_auto_columns": null,
            "margin": null,
            "display": null,
            "left": null
          }
        },
        "9be5b4fe93474b4480740f38f18e33a3": {
          "model_module": "@jupyter-widgets/controls",
          "model_name": "FloatProgressModel",
          "state": {
            "_view_name": "ProgressView",
            "style": "IPY_MODEL_24bd0883fc97484c8dbef476b8453fea",
            "_dom_classes": [],
            "description": "100%",
            "_model_name": "FloatProgressModel",
            "bar_style": "success",
            "max": 103,
            "_view_module": "@jupyter-widgets/controls",
            "_model_module_version": "1.5.0",
            "value": 103,
            "_view_count": null,
            "_view_module_version": "1.5.0",
            "orientation": "horizontal",
            "min": 0,
            "description_tooltip": null,
            "_model_module": "@jupyter-widgets/controls",
            "layout": "IPY_MODEL_d7036120c4404c669e6bce76131e8e51"
          }
        },
        "17ef479284374efd93a8513b645cd519": {
          "model_module": "@jupyter-widgets/controls",
          "model_name": "HTMLModel",
          "state": {
            "_view_name": "HTMLView",
            "style": "IPY_MODEL_d765d85739e3461db4650edb81b8a152",
            "_dom_classes": [],
            "description": "",
            "_model_name": "HTMLModel",
            "placeholder": "​",
            "_view_module": "@jupyter-widgets/controls",
            "_model_module_version": "1.5.0",
            "value": " 103/103 [00:00&lt;00:00, 2159.58it/s]",
            "_view_count": null,
            "_view_module_version": "1.5.0",
            "description_tooltip": null,
            "_model_module": "@jupyter-widgets/controls",
            "layout": "IPY_MODEL_ee84a2d898b94873ae7e1e8176256001"
          }
        },
        "24bd0883fc97484c8dbef476b8453fea": {
          "model_module": "@jupyter-widgets/controls",
          "model_name": "ProgressStyleModel",
          "state": {
            "_view_name": "StyleView",
            "_model_name": "ProgressStyleModel",
            "description_width": "initial",
            "_view_module": "@jupyter-widgets/base",
            "_model_module_version": "1.5.0",
            "_view_count": null,
            "_view_module_version": "1.2.0",
            "bar_color": null,
            "_model_module": "@jupyter-widgets/controls"
          }
        },
        "d7036120c4404c669e6bce76131e8e51": {
          "model_module": "@jupyter-widgets/base",
          "model_name": "LayoutModel",
          "state": {
            "_view_name": "LayoutView",
            "grid_template_rows": null,
            "right": null,
            "justify_content": null,
            "_view_module": "@jupyter-widgets/base",
            "overflow": null,
            "_model_module_version": "1.2.0",
            "_view_count": null,
            "flex_flow": null,
            "width": null,
            "min_width": null,
            "border": null,
            "align_items": null,
            "bottom": null,
            "_model_module": "@jupyter-widgets/base",
            "top": null,
            "grid_column": null,
            "overflow_y": null,
            "overflow_x": null,
            "grid_auto_flow": null,
            "grid_area": null,
            "grid_template_columns": null,
            "flex": null,
            "_model_name": "LayoutModel",
            "justify_items": null,
            "grid_row": null,
            "max_height": null,
            "align_content": null,
            "visibility": null,
            "align_self": null,
            "height": null,
            "min_height": null,
            "padding": null,
            "grid_auto_rows": null,
            "grid_gap": null,
            "max_width": null,
            "order": null,
            "_view_module_version": "1.2.0",
            "grid_template_areas": null,
            "object_position": null,
            "object_fit": null,
            "grid_auto_columns": null,
            "margin": null,
            "display": null,
            "left": null
          }
        },
        "d765d85739e3461db4650edb81b8a152": {
          "model_module": "@jupyter-widgets/controls",
          "model_name": "DescriptionStyleModel",
          "state": {
            "_view_name": "StyleView",
            "_model_name": "DescriptionStyleModel",
            "description_width": "",
            "_view_module": "@jupyter-widgets/base",
            "_model_module_version": "1.5.0",
            "_view_count": null,
            "_view_module_version": "1.2.0",
            "_model_module": "@jupyter-widgets/controls"
          }
        },
        "ee84a2d898b94873ae7e1e8176256001": {
          "model_module": "@jupyter-widgets/base",
          "model_name": "LayoutModel",
          "state": {
            "_view_name": "LayoutView",
            "grid_template_rows": null,
            "right": null,
            "justify_content": null,
            "_view_module": "@jupyter-widgets/base",
            "overflow": null,
            "_model_module_version": "1.2.0",
            "_view_count": null,
            "flex_flow": null,
            "width": null,
            "min_width": null,
            "border": null,
            "align_items": null,
            "bottom": null,
            "_model_module": "@jupyter-widgets/base",
            "top": null,
            "grid_column": null,
            "overflow_y": null,
            "overflow_x": null,
            "grid_auto_flow": null,
            "grid_area": null,
            "grid_template_columns": null,
            "flex": null,
            "_model_name": "LayoutModel",
            "justify_items": null,
            "grid_row": null,
            "max_height": null,
            "align_content": null,
            "visibility": null,
            "align_self": null,
            "height": null,
            "min_height": null,
            "padding": null,
            "grid_auto_rows": null,
            "grid_gap": null,
            "max_width": null,
            "order": null,
            "_view_module_version": "1.2.0",
            "grid_template_areas": null,
            "object_position": null,
            "object_fit": null,
            "grid_auto_columns": null,
            "margin": null,
            "display": null,
            "left": null
          }
        },
        "cab5638ad2334f78b11d17121aaf3574": {
          "model_module": "@jupyter-widgets/controls",
          "model_name": "HBoxModel",
          "state": {
            "_view_name": "HBoxView",
            "_dom_classes": [],
            "_model_name": "HBoxModel",
            "_view_module": "@jupyter-widgets/controls",
            "_model_module_version": "1.5.0",
            "_view_count": null,
            "_view_module_version": "1.5.0",
            "box_style": "",
            "layout": "IPY_MODEL_daaf75f8a8764c9e861d8a343cd0e1b6",
            "_model_module": "@jupyter-widgets/controls",
            "children": [
              "IPY_MODEL_5377646d66e444ceb7f46b0d1bd4dedd",
              "IPY_MODEL_126b6ceaca2a4314861921a76c4ebece"
            ]
          }
        },
        "daaf75f8a8764c9e861d8a343cd0e1b6": {
          "model_module": "@jupyter-widgets/base",
          "model_name": "LayoutModel",
          "state": {
            "_view_name": "LayoutView",
            "grid_template_rows": null,
            "right": null,
            "justify_content": null,
            "_view_module": "@jupyter-widgets/base",
            "overflow": null,
            "_model_module_version": "1.2.0",
            "_view_count": null,
            "flex_flow": null,
            "width": null,
            "min_width": null,
            "border": null,
            "align_items": null,
            "bottom": null,
            "_model_module": "@jupyter-widgets/base",
            "top": null,
            "grid_column": null,
            "overflow_y": null,
            "overflow_x": null,
            "grid_auto_flow": null,
            "grid_area": null,
            "grid_template_columns": null,
            "flex": null,
            "_model_name": "LayoutModel",
            "justify_items": null,
            "grid_row": null,
            "max_height": null,
            "align_content": null,
            "visibility": null,
            "align_self": null,
            "height": null,
            "min_height": null,
            "padding": null,
            "grid_auto_rows": null,
            "grid_gap": null,
            "max_width": null,
            "order": null,
            "_view_module_version": "1.2.0",
            "grid_template_areas": null,
            "object_position": null,
            "object_fit": null,
            "grid_auto_columns": null,
            "margin": null,
            "display": null,
            "left": null
          }
        },
        "5377646d66e444ceb7f46b0d1bd4dedd": {
          "model_module": "@jupyter-widgets/controls",
          "model_name": "FloatProgressModel",
          "state": {
            "_view_name": "ProgressView",
            "style": "IPY_MODEL_6abe1a06eb614dd582f980552e9333ed",
            "_dom_classes": [],
            "description": "100%",
            "_model_name": "FloatProgressModel",
            "bar_style": "success",
            "max": 214,
            "_view_module": "@jupyter-widgets/controls",
            "_model_module_version": "1.5.0",
            "value": 214,
            "_view_count": null,
            "_view_module_version": "1.5.0",
            "orientation": "horizontal",
            "min": 0,
            "description_tooltip": null,
            "_model_module": "@jupyter-widgets/controls",
            "layout": "IPY_MODEL_a70c19e473254c2eadee568d8bfd550f"
          }
        },
        "126b6ceaca2a4314861921a76c4ebece": {
          "model_module": "@jupyter-widgets/controls",
          "model_name": "HTMLModel",
          "state": {
            "_view_name": "HTMLView",
            "style": "IPY_MODEL_e352f902b9a44b46a6b5995188bbdb4e",
            "_dom_classes": [],
            "description": "",
            "_model_name": "HTMLModel",
            "placeholder": "​",
            "_view_module": "@jupyter-widgets/controls",
            "_model_module_version": "1.5.0",
            "value": " 214/214 [00:02&lt;00:00, 77.55it/s]",
            "_view_count": null,
            "_view_module_version": "1.5.0",
            "description_tooltip": null,
            "_model_module": "@jupyter-widgets/controls",
            "layout": "IPY_MODEL_2090f8b093774228be3f7d5b82dbf026"
          }
        },
        "6abe1a06eb614dd582f980552e9333ed": {
          "model_module": "@jupyter-widgets/controls",
          "model_name": "ProgressStyleModel",
          "state": {
            "_view_name": "StyleView",
            "_model_name": "ProgressStyleModel",
            "description_width": "initial",
            "_view_module": "@jupyter-widgets/base",
            "_model_module_version": "1.5.0",
            "_view_count": null,
            "_view_module_version": "1.2.0",
            "bar_color": null,
            "_model_module": "@jupyter-widgets/controls"
          }
        },
        "a70c19e473254c2eadee568d8bfd550f": {
          "model_module": "@jupyter-widgets/base",
          "model_name": "LayoutModel",
          "state": {
            "_view_name": "LayoutView",
            "grid_template_rows": null,
            "right": null,
            "justify_content": null,
            "_view_module": "@jupyter-widgets/base",
            "overflow": null,
            "_model_module_version": "1.2.0",
            "_view_count": null,
            "flex_flow": null,
            "width": null,
            "min_width": null,
            "border": null,
            "align_items": null,
            "bottom": null,
            "_model_module": "@jupyter-widgets/base",
            "top": null,
            "grid_column": null,
            "overflow_y": null,
            "overflow_x": null,
            "grid_auto_flow": null,
            "grid_area": null,
            "grid_template_columns": null,
            "flex": null,
            "_model_name": "LayoutModel",
            "justify_items": null,
            "grid_row": null,
            "max_height": null,
            "align_content": null,
            "visibility": null,
            "align_self": null,
            "height": null,
            "min_height": null,
            "padding": null,
            "grid_auto_rows": null,
            "grid_gap": null,
            "max_width": null,
            "order": null,
            "_view_module_version": "1.2.0",
            "grid_template_areas": null,
            "object_position": null,
            "object_fit": null,
            "grid_auto_columns": null,
            "margin": null,
            "display": null,
            "left": null
          }
        },
        "e352f902b9a44b46a6b5995188bbdb4e": {
          "model_module": "@jupyter-widgets/controls",
          "model_name": "DescriptionStyleModel",
          "state": {
            "_view_name": "StyleView",
            "_model_name": "DescriptionStyleModel",
            "description_width": "",
            "_view_module": "@jupyter-widgets/base",
            "_model_module_version": "1.5.0",
            "_view_count": null,
            "_view_module_version": "1.2.0",
            "_model_module": "@jupyter-widgets/controls"
          }
        },
        "2090f8b093774228be3f7d5b82dbf026": {
          "model_module": "@jupyter-widgets/base",
          "model_name": "LayoutModel",
          "state": {
            "_view_name": "LayoutView",
            "grid_template_rows": null,
            "right": null,
            "justify_content": null,
            "_view_module": "@jupyter-widgets/base",
            "overflow": null,
            "_model_module_version": "1.2.0",
            "_view_count": null,
            "flex_flow": null,
            "width": null,
            "min_width": null,
            "border": null,
            "align_items": null,
            "bottom": null,
            "_model_module": "@jupyter-widgets/base",
            "top": null,
            "grid_column": null,
            "overflow_y": null,
            "overflow_x": null,
            "grid_auto_flow": null,
            "grid_area": null,
            "grid_template_columns": null,
            "flex": null,
            "_model_name": "LayoutModel",
            "justify_items": null,
            "grid_row": null,
            "max_height": null,
            "align_content": null,
            "visibility": null,
            "align_self": null,
            "height": null,
            "min_height": null,
            "padding": null,
            "grid_auto_rows": null,
            "grid_gap": null,
            "max_width": null,
            "order": null,
            "_view_module_version": "1.2.0",
            "grid_template_areas": null,
            "object_position": null,
            "object_fit": null,
            "grid_auto_columns": null,
            "margin": null,
            "display": null,
            "left": null
          }
        },
        "183dd370514049b4a4c1c387ecffca0d": {
          "model_module": "@jupyter-widgets/controls",
          "model_name": "HBoxModel",
          "state": {
            "_view_name": "HBoxView",
            "_dom_classes": [],
            "_model_name": "HBoxModel",
            "_view_module": "@jupyter-widgets/controls",
            "_model_module_version": "1.5.0",
            "_view_count": null,
            "_view_module_version": "1.5.0",
            "box_style": "",
            "layout": "IPY_MODEL_f0007c1a8db24fa09146c7f887d65a8d",
            "_model_module": "@jupyter-widgets/controls",
            "children": [
              "IPY_MODEL_35e4a1c1893b4c65a7e913fd7b0c25c3",
              "IPY_MODEL_2c0950a2d686446782b6d7bb210bbec9"
            ]
          }
        },
        "f0007c1a8db24fa09146c7f887d65a8d": {
          "model_module": "@jupyter-widgets/base",
          "model_name": "LayoutModel",
          "state": {
            "_view_name": "LayoutView",
            "grid_template_rows": null,
            "right": null,
            "justify_content": null,
            "_view_module": "@jupyter-widgets/base",
            "overflow": null,
            "_model_module_version": "1.2.0",
            "_view_count": null,
            "flex_flow": null,
            "width": null,
            "min_width": null,
            "border": null,
            "align_items": null,
            "bottom": null,
            "_model_module": "@jupyter-widgets/base",
            "top": null,
            "grid_column": null,
            "overflow_y": null,
            "overflow_x": null,
            "grid_auto_flow": null,
            "grid_area": null,
            "grid_template_columns": null,
            "flex": null,
            "_model_name": "LayoutModel",
            "justify_items": null,
            "grid_row": null,
            "max_height": null,
            "align_content": null,
            "visibility": null,
            "align_self": null,
            "height": null,
            "min_height": null,
            "padding": null,
            "grid_auto_rows": null,
            "grid_gap": null,
            "max_width": null,
            "order": null,
            "_view_module_version": "1.2.0",
            "grid_template_areas": null,
            "object_position": null,
            "object_fit": null,
            "grid_auto_columns": null,
            "margin": null,
            "display": null,
            "left": null
          }
        },
        "35e4a1c1893b4c65a7e913fd7b0c25c3": {
          "model_module": "@jupyter-widgets/controls",
          "model_name": "FloatProgressModel",
          "state": {
            "_view_name": "ProgressView",
            "style": "IPY_MODEL_0789f6159e6f43ab8bd9f5e3a9f20acb",
            "_dom_classes": [],
            "description": "Downloading: 100%",
            "_model_name": "FloatProgressModel",
            "bar_style": "success",
            "max": 498,
            "_view_module": "@jupyter-widgets/controls",
            "_model_module_version": "1.5.0",
            "value": 498,
            "_view_count": null,
            "_view_module_version": "1.5.0",
            "orientation": "horizontal",
            "min": 0,
            "description_tooltip": null,
            "_model_module": "@jupyter-widgets/controls",
            "layout": "IPY_MODEL_0ff294ad215348eca4b1f80e0e41fbc0"
          }
        },
        "2c0950a2d686446782b6d7bb210bbec9": {
          "model_module": "@jupyter-widgets/controls",
          "model_name": "HTMLModel",
          "state": {
            "_view_name": "HTMLView",
            "style": "IPY_MODEL_b6d3289edf29417a814688c35d829ba1",
            "_dom_classes": [],
            "description": "",
            "_model_name": "HTMLModel",
            "placeholder": "​",
            "_view_module": "@jupyter-widgets/controls",
            "_model_module_version": "1.5.0",
            "value": " 498/498 [00:00&lt;00:00, 699B/s]",
            "_view_count": null,
            "_view_module_version": "1.5.0",
            "description_tooltip": null,
            "_model_module": "@jupyter-widgets/controls",
            "layout": "IPY_MODEL_dee95bfa82524e0392189c88571228d8"
          }
        },
        "0789f6159e6f43ab8bd9f5e3a9f20acb": {
          "model_module": "@jupyter-widgets/controls",
          "model_name": "ProgressStyleModel",
          "state": {
            "_view_name": "StyleView",
            "_model_name": "ProgressStyleModel",
            "description_width": "initial",
            "_view_module": "@jupyter-widgets/base",
            "_model_module_version": "1.5.0",
            "_view_count": null,
            "_view_module_version": "1.2.0",
            "bar_color": null,
            "_model_module": "@jupyter-widgets/controls"
          }
        },
        "0ff294ad215348eca4b1f80e0e41fbc0": {
          "model_module": "@jupyter-widgets/base",
          "model_name": "LayoutModel",
          "state": {
            "_view_name": "LayoutView",
            "grid_template_rows": null,
            "right": null,
            "justify_content": null,
            "_view_module": "@jupyter-widgets/base",
            "overflow": null,
            "_model_module_version": "1.2.0",
            "_view_count": null,
            "flex_flow": null,
            "width": null,
            "min_width": null,
            "border": null,
            "align_items": null,
            "bottom": null,
            "_model_module": "@jupyter-widgets/base",
            "top": null,
            "grid_column": null,
            "overflow_y": null,
            "overflow_x": null,
            "grid_auto_flow": null,
            "grid_area": null,
            "grid_template_columns": null,
            "flex": null,
            "_model_name": "LayoutModel",
            "justify_items": null,
            "grid_row": null,
            "max_height": null,
            "align_content": null,
            "visibility": null,
            "align_self": null,
            "height": null,
            "min_height": null,
            "padding": null,
            "grid_auto_rows": null,
            "grid_gap": null,
            "max_width": null,
            "order": null,
            "_view_module_version": "1.2.0",
            "grid_template_areas": null,
            "object_position": null,
            "object_fit": null,
            "grid_auto_columns": null,
            "margin": null,
            "display": null,
            "left": null
          }
        },
        "b6d3289edf29417a814688c35d829ba1": {
          "model_module": "@jupyter-widgets/controls",
          "model_name": "DescriptionStyleModel",
          "state": {
            "_view_name": "StyleView",
            "_model_name": "DescriptionStyleModel",
            "description_width": "",
            "_view_module": "@jupyter-widgets/base",
            "_model_module_version": "1.5.0",
            "_view_count": null,
            "_view_module_version": "1.2.0",
            "_model_module": "@jupyter-widgets/controls"
          }
        },
        "dee95bfa82524e0392189c88571228d8": {
          "model_module": "@jupyter-widgets/base",
          "model_name": "LayoutModel",
          "state": {
            "_view_name": "LayoutView",
            "grid_template_rows": null,
            "right": null,
            "justify_content": null,
            "_view_module": "@jupyter-widgets/base",
            "overflow": null,
            "_model_module_version": "1.2.0",
            "_view_count": null,
            "flex_flow": null,
            "width": null,
            "min_width": null,
            "border": null,
            "align_items": null,
            "bottom": null,
            "_model_module": "@jupyter-widgets/base",
            "top": null,
            "grid_column": null,
            "overflow_y": null,
            "overflow_x": null,
            "grid_auto_flow": null,
            "grid_area": null,
            "grid_template_columns": null,
            "flex": null,
            "_model_name": "LayoutModel",
            "justify_items": null,
            "grid_row": null,
            "max_height": null,
            "align_content": null,
            "visibility": null,
            "align_self": null,
            "height": null,
            "min_height": null,
            "padding": null,
            "grid_auto_rows": null,
            "grid_gap": null,
            "max_width": null,
            "order": null,
            "_view_module_version": "1.2.0",
            "grid_template_areas": null,
            "object_position": null,
            "object_fit": null,
            "grid_auto_columns": null,
            "margin": null,
            "display": null,
            "left": null
          }
        },
        "46590b1de6664e36a029bb17b1b8b73d": {
          "model_module": "@jupyter-widgets/controls",
          "model_name": "HBoxModel",
          "state": {
            "_view_name": "HBoxView",
            "_dom_classes": [],
            "_model_name": "HBoxModel",
            "_view_module": "@jupyter-widgets/controls",
            "_model_module_version": "1.5.0",
            "_view_count": null,
            "_view_module_version": "1.5.0",
            "box_style": "",
            "layout": "IPY_MODEL_cb6e21d67d4a4fdfa518a9391034e406",
            "_model_module": "@jupyter-widgets/controls",
            "children": [
              "IPY_MODEL_f1423edf5bdf42baa5069197e0d9a9d7",
              "IPY_MODEL_61d19785208d4d759505f07cc6d152c1"
            ]
          }
        },
        "cb6e21d67d4a4fdfa518a9391034e406": {
          "model_module": "@jupyter-widgets/base",
          "model_name": "LayoutModel",
          "state": {
            "_view_name": "LayoutView",
            "grid_template_rows": null,
            "right": null,
            "justify_content": null,
            "_view_module": "@jupyter-widgets/base",
            "overflow": null,
            "_model_module_version": "1.2.0",
            "_view_count": null,
            "flex_flow": null,
            "width": null,
            "min_width": null,
            "border": null,
            "align_items": null,
            "bottom": null,
            "_model_module": "@jupyter-widgets/base",
            "top": null,
            "grid_column": null,
            "overflow_y": null,
            "overflow_x": null,
            "grid_auto_flow": null,
            "grid_area": null,
            "grid_template_columns": null,
            "flex": null,
            "_model_name": "LayoutModel",
            "justify_items": null,
            "grid_row": null,
            "max_height": null,
            "align_content": null,
            "visibility": null,
            "align_self": null,
            "height": null,
            "min_height": null,
            "padding": null,
            "grid_auto_rows": null,
            "grid_gap": null,
            "max_width": null,
            "order": null,
            "_view_module_version": "1.2.0",
            "grid_template_areas": null,
            "object_position": null,
            "object_fit": null,
            "grid_auto_columns": null,
            "margin": null,
            "display": null,
            "left": null
          }
        },
        "f1423edf5bdf42baa5069197e0d9a9d7": {
          "model_module": "@jupyter-widgets/controls",
          "model_name": "FloatProgressModel",
          "state": {
            "_view_name": "ProgressView",
            "style": "IPY_MODEL_0f6737a4c22a4c02a285ede85bee2696",
            "_dom_classes": [],
            "description": "Downloading: 100%",
            "_model_name": "FloatProgressModel",
            "bar_style": "success",
            "max": 898822,
            "_view_module": "@jupyter-widgets/controls",
            "_model_module_version": "1.5.0",
            "value": 898822,
            "_view_count": null,
            "_view_module_version": "1.5.0",
            "orientation": "horizontal",
            "min": 0,
            "description_tooltip": null,
            "_model_module": "@jupyter-widgets/controls",
            "layout": "IPY_MODEL_b847783b4cab422aad6fcd17048799cf"
          }
        },
        "61d19785208d4d759505f07cc6d152c1": {
          "model_module": "@jupyter-widgets/controls",
          "model_name": "HTMLModel",
          "state": {
            "_view_name": "HTMLView",
            "style": "IPY_MODEL_922f79fbc7a844ffb2694145072e386f",
            "_dom_classes": [],
            "description": "",
            "_model_name": "HTMLModel",
            "placeholder": "​",
            "_view_module": "@jupyter-widgets/controls",
            "_model_module_version": "1.5.0",
            "value": " 899k/899k [00:00&lt;00:00, 2.16MB/s]",
            "_view_count": null,
            "_view_module_version": "1.5.0",
            "description_tooltip": null,
            "_model_module": "@jupyter-widgets/controls",
            "layout": "IPY_MODEL_b17fb6eb5e05423dbe25fac6207fd502"
          }
        },
        "0f6737a4c22a4c02a285ede85bee2696": {
          "model_module": "@jupyter-widgets/controls",
          "model_name": "ProgressStyleModel",
          "state": {
            "_view_name": "StyleView",
            "_model_name": "ProgressStyleModel",
            "description_width": "initial",
            "_view_module": "@jupyter-widgets/base",
            "_model_module_version": "1.5.0",
            "_view_count": null,
            "_view_module_version": "1.2.0",
            "bar_color": null,
            "_model_module": "@jupyter-widgets/controls"
          }
        },
        "b847783b4cab422aad6fcd17048799cf": {
          "model_module": "@jupyter-widgets/base",
          "model_name": "LayoutModel",
          "state": {
            "_view_name": "LayoutView",
            "grid_template_rows": null,
            "right": null,
            "justify_content": null,
            "_view_module": "@jupyter-widgets/base",
            "overflow": null,
            "_model_module_version": "1.2.0",
            "_view_count": null,
            "flex_flow": null,
            "width": null,
            "min_width": null,
            "border": null,
            "align_items": null,
            "bottom": null,
            "_model_module": "@jupyter-widgets/base",
            "top": null,
            "grid_column": null,
            "overflow_y": null,
            "overflow_x": null,
            "grid_auto_flow": null,
            "grid_area": null,
            "grid_template_columns": null,
            "flex": null,
            "_model_name": "LayoutModel",
            "justify_items": null,
            "grid_row": null,
            "max_height": null,
            "align_content": null,
            "visibility": null,
            "align_self": null,
            "height": null,
            "min_height": null,
            "padding": null,
            "grid_auto_rows": null,
            "grid_gap": null,
            "max_width": null,
            "order": null,
            "_view_module_version": "1.2.0",
            "grid_template_areas": null,
            "object_position": null,
            "object_fit": null,
            "grid_auto_columns": null,
            "margin": null,
            "display": null,
            "left": null
          }
        },
        "922f79fbc7a844ffb2694145072e386f": {
          "model_module": "@jupyter-widgets/controls",
          "model_name": "DescriptionStyleModel",
          "state": {
            "_view_name": "StyleView",
            "_model_name": "DescriptionStyleModel",
            "description_width": "",
            "_view_module": "@jupyter-widgets/base",
            "_model_module_version": "1.5.0",
            "_view_count": null,
            "_view_module_version": "1.2.0",
            "_model_module": "@jupyter-widgets/controls"
          }
        },
        "b17fb6eb5e05423dbe25fac6207fd502": {
          "model_module": "@jupyter-widgets/base",
          "model_name": "LayoutModel",
          "state": {
            "_view_name": "LayoutView",
            "grid_template_rows": null,
            "right": null,
            "justify_content": null,
            "_view_module": "@jupyter-widgets/base",
            "overflow": null,
            "_model_module_version": "1.2.0",
            "_view_count": null,
            "flex_flow": null,
            "width": null,
            "min_width": null,
            "border": null,
            "align_items": null,
            "bottom": null,
            "_model_module": "@jupyter-widgets/base",
            "top": null,
            "grid_column": null,
            "overflow_y": null,
            "overflow_x": null,
            "grid_auto_flow": null,
            "grid_area": null,
            "grid_template_columns": null,
            "flex": null,
            "_model_name": "LayoutModel",
            "justify_items": null,
            "grid_row": null,
            "max_height": null,
            "align_content": null,
            "visibility": null,
            "align_self": null,
            "height": null,
            "min_height": null,
            "padding": null,
            "grid_auto_rows": null,
            "grid_gap": null,
            "max_width": null,
            "order": null,
            "_view_module_version": "1.2.0",
            "grid_template_areas": null,
            "object_position": null,
            "object_fit": null,
            "grid_auto_columns": null,
            "margin": null,
            "display": null,
            "left": null
          }
        },
        "9d88309440e446e69d0cd9ae9d54b25b": {
          "model_module": "@jupyter-widgets/controls",
          "model_name": "HBoxModel",
          "state": {
            "_view_name": "HBoxView",
            "_dom_classes": [],
            "_model_name": "HBoxModel",
            "_view_module": "@jupyter-widgets/controls",
            "_model_module_version": "1.5.0",
            "_view_count": null,
            "_view_module_version": "1.5.0",
            "box_style": "",
            "layout": "IPY_MODEL_c851cca842794bb4b3123f4323ddc362",
            "_model_module": "@jupyter-widgets/controls",
            "children": [
              "IPY_MODEL_d5d5cb608efe4a479a0d5bab79d19bbe",
              "IPY_MODEL_562ae08791644807a542d72b29dd3b9d"
            ]
          }
        },
        "c851cca842794bb4b3123f4323ddc362": {
          "model_module": "@jupyter-widgets/base",
          "model_name": "LayoutModel",
          "state": {
            "_view_name": "LayoutView",
            "grid_template_rows": null,
            "right": null,
            "justify_content": null,
            "_view_module": "@jupyter-widgets/base",
            "overflow": null,
            "_model_module_version": "1.2.0",
            "_view_count": null,
            "flex_flow": null,
            "width": null,
            "min_width": null,
            "border": null,
            "align_items": null,
            "bottom": null,
            "_model_module": "@jupyter-widgets/base",
            "top": null,
            "grid_column": null,
            "overflow_y": null,
            "overflow_x": null,
            "grid_auto_flow": null,
            "grid_area": null,
            "grid_template_columns": null,
            "flex": null,
            "_model_name": "LayoutModel",
            "justify_items": null,
            "grid_row": null,
            "max_height": null,
            "align_content": null,
            "visibility": null,
            "align_self": null,
            "height": null,
            "min_height": null,
            "padding": null,
            "grid_auto_rows": null,
            "grid_gap": null,
            "max_width": null,
            "order": null,
            "_view_module_version": "1.2.0",
            "grid_template_areas": null,
            "object_position": null,
            "object_fit": null,
            "grid_auto_columns": null,
            "margin": null,
            "display": null,
            "left": null
          }
        },
        "d5d5cb608efe4a479a0d5bab79d19bbe": {
          "model_module": "@jupyter-widgets/controls",
          "model_name": "FloatProgressModel",
          "state": {
            "_view_name": "ProgressView",
            "style": "IPY_MODEL_4f9ec405791e41b5a5853d84bc2c4559",
            "_dom_classes": [],
            "description": "Downloading: 100%",
            "_model_name": "FloatProgressModel",
            "bar_style": "success",
            "max": 456318,
            "_view_module": "@jupyter-widgets/controls",
            "_model_module_version": "1.5.0",
            "value": 456318,
            "_view_count": null,
            "_view_module_version": "1.5.0",
            "orientation": "horizontal",
            "min": 0,
            "description_tooltip": null,
            "_model_module": "@jupyter-widgets/controls",
            "layout": "IPY_MODEL_bd8e967bac3c4488b60b4edcd211ed0e"
          }
        },
        "562ae08791644807a542d72b29dd3b9d": {
          "model_module": "@jupyter-widgets/controls",
          "model_name": "HTMLModel",
          "state": {
            "_view_name": "HTMLView",
            "style": "IPY_MODEL_6aa6b47ba3c54b8fa4bb683cff32472c",
            "_dom_classes": [],
            "description": "",
            "_model_name": "HTMLModel",
            "placeholder": "​",
            "_view_module": "@jupyter-widgets/controls",
            "_model_module_version": "1.5.0",
            "value": " 456k/456k [00:00&lt;00:00, 512kB/s]",
            "_view_count": null,
            "_view_module_version": "1.5.0",
            "description_tooltip": null,
            "_model_module": "@jupyter-widgets/controls",
            "layout": "IPY_MODEL_c1d42558d20744cdb4427014e71c21b9"
          }
        },
        "4f9ec405791e41b5a5853d84bc2c4559": {
          "model_module": "@jupyter-widgets/controls",
          "model_name": "ProgressStyleModel",
          "state": {
            "_view_name": "StyleView",
            "_model_name": "ProgressStyleModel",
            "description_width": "initial",
            "_view_module": "@jupyter-widgets/base",
            "_model_module_version": "1.5.0",
            "_view_count": null,
            "_view_module_version": "1.2.0",
            "bar_color": null,
            "_model_module": "@jupyter-widgets/controls"
          }
        },
        "bd8e967bac3c4488b60b4edcd211ed0e": {
          "model_module": "@jupyter-widgets/base",
          "model_name": "LayoutModel",
          "state": {
            "_view_name": "LayoutView",
            "grid_template_rows": null,
            "right": null,
            "justify_content": null,
            "_view_module": "@jupyter-widgets/base",
            "overflow": null,
            "_model_module_version": "1.2.0",
            "_view_count": null,
            "flex_flow": null,
            "width": null,
            "min_width": null,
            "border": null,
            "align_items": null,
            "bottom": null,
            "_model_module": "@jupyter-widgets/base",
            "top": null,
            "grid_column": null,
            "overflow_y": null,
            "overflow_x": null,
            "grid_auto_flow": null,
            "grid_area": null,
            "grid_template_columns": null,
            "flex": null,
            "_model_name": "LayoutModel",
            "justify_items": null,
            "grid_row": null,
            "max_height": null,
            "align_content": null,
            "visibility": null,
            "align_self": null,
            "height": null,
            "min_height": null,
            "padding": null,
            "grid_auto_rows": null,
            "grid_gap": null,
            "max_width": null,
            "order": null,
            "_view_module_version": "1.2.0",
            "grid_template_areas": null,
            "object_position": null,
            "object_fit": null,
            "grid_auto_columns": null,
            "margin": null,
            "display": null,
            "left": null
          }
        },
        "6aa6b47ba3c54b8fa4bb683cff32472c": {
          "model_module": "@jupyter-widgets/controls",
          "model_name": "DescriptionStyleModel",
          "state": {
            "_view_name": "StyleView",
            "_model_name": "DescriptionStyleModel",
            "description_width": "",
            "_view_module": "@jupyter-widgets/base",
            "_model_module_version": "1.5.0",
            "_view_count": null,
            "_view_module_version": "1.2.0",
            "_model_module": "@jupyter-widgets/controls"
          }
        },
        "c1d42558d20744cdb4427014e71c21b9": {
          "model_module": "@jupyter-widgets/base",
          "model_name": "LayoutModel",
          "state": {
            "_view_name": "LayoutView",
            "grid_template_rows": null,
            "right": null,
            "justify_content": null,
            "_view_module": "@jupyter-widgets/base",
            "overflow": null,
            "_model_module_version": "1.2.0",
            "_view_count": null,
            "flex_flow": null,
            "width": null,
            "min_width": null,
            "border": null,
            "align_items": null,
            "bottom": null,
            "_model_module": "@jupyter-widgets/base",
            "top": null,
            "grid_column": null,
            "overflow_y": null,
            "overflow_x": null,
            "grid_auto_flow": null,
            "grid_area": null,
            "grid_template_columns": null,
            "flex": null,
            "_model_name": "LayoutModel",
            "justify_items": null,
            "grid_row": null,
            "max_height": null,
            "align_content": null,
            "visibility": null,
            "align_self": null,
            "height": null,
            "min_height": null,
            "padding": null,
            "grid_auto_rows": null,
            "grid_gap": null,
            "max_width": null,
            "order": null,
            "_view_module_version": "1.2.0",
            "grid_template_areas": null,
            "object_position": null,
            "object_fit": null,
            "grid_auto_columns": null,
            "margin": null,
            "display": null,
            "left": null
          }
        },
        "6cff540d941b4f44836cc785a9673f34": {
          "model_module": "@jupyter-widgets/controls",
          "model_name": "HBoxModel",
          "state": {
            "_view_name": "HBoxView",
            "_dom_classes": [],
            "_model_name": "HBoxModel",
            "_view_module": "@jupyter-widgets/controls",
            "_model_module_version": "1.5.0",
            "_view_count": null,
            "_view_module_version": "1.5.0",
            "box_style": "",
            "layout": "IPY_MODEL_4a35a18a2b1545e2be3a376168b18b7a",
            "_model_module": "@jupyter-widgets/controls",
            "children": [
              "IPY_MODEL_ff6983f9b37a48f8b072a9000d6bd9d2",
              "IPY_MODEL_e4d564a68c62434bb7d522e81cf105cb"
            ]
          }
        },
        "4a35a18a2b1545e2be3a376168b18b7a": {
          "model_module": "@jupyter-widgets/base",
          "model_name": "LayoutModel",
          "state": {
            "_view_name": "LayoutView",
            "grid_template_rows": null,
            "right": null,
            "justify_content": null,
            "_view_module": "@jupyter-widgets/base",
            "overflow": null,
            "_model_module_version": "1.2.0",
            "_view_count": null,
            "flex_flow": null,
            "width": null,
            "min_width": null,
            "border": null,
            "align_items": null,
            "bottom": null,
            "_model_module": "@jupyter-widgets/base",
            "top": null,
            "grid_column": null,
            "overflow_y": null,
            "overflow_x": null,
            "grid_auto_flow": null,
            "grid_area": null,
            "grid_template_columns": null,
            "flex": null,
            "_model_name": "LayoutModel",
            "justify_items": null,
            "grid_row": null,
            "max_height": null,
            "align_content": null,
            "visibility": null,
            "align_self": null,
            "height": null,
            "min_height": null,
            "padding": null,
            "grid_auto_rows": null,
            "grid_gap": null,
            "max_width": null,
            "order": null,
            "_view_module_version": "1.2.0",
            "grid_template_areas": null,
            "object_position": null,
            "object_fit": null,
            "grid_auto_columns": null,
            "margin": null,
            "display": null,
            "left": null
          }
        },
        "ff6983f9b37a48f8b072a9000d6bd9d2": {
          "model_module": "@jupyter-widgets/controls",
          "model_name": "FloatProgressModel",
          "state": {
            "_view_name": "ProgressView",
            "style": "IPY_MODEL_9f4242787e94425f9123b25bd19d29bb",
            "_dom_classes": [],
            "description": "Downloading: 100%",
            "_model_name": "FloatProgressModel",
            "bar_style": "success",
            "max": 150,
            "_view_module": "@jupyter-widgets/controls",
            "_model_module_version": "1.5.0",
            "value": 150,
            "_view_count": null,
            "_view_module_version": "1.5.0",
            "orientation": "horizontal",
            "min": 0,
            "description_tooltip": null,
            "_model_module": "@jupyter-widgets/controls",
            "layout": "IPY_MODEL_e015ddf3a5e14858affdba68765c09c2"
          }
        },
        "e4d564a68c62434bb7d522e81cf105cb": {
          "model_module": "@jupyter-widgets/controls",
          "model_name": "HTMLModel",
          "state": {
            "_view_name": "HTMLView",
            "style": "IPY_MODEL_56aa74932d5d498b9422178c3191e705",
            "_dom_classes": [],
            "description": "",
            "_model_name": "HTMLModel",
            "placeholder": "​",
            "_view_module": "@jupyter-widgets/controls",
            "_model_module_version": "1.5.0",
            "value": " 150/150 [00:00&lt;00:00, 350B/s]",
            "_view_count": null,
            "_view_module_version": "1.5.0",
            "description_tooltip": null,
            "_model_module": "@jupyter-widgets/controls",
            "layout": "IPY_MODEL_d76ca9e6813c4a3aa0248a68c36c1113"
          }
        },
        "9f4242787e94425f9123b25bd19d29bb": {
          "model_module": "@jupyter-widgets/controls",
          "model_name": "ProgressStyleModel",
          "state": {
            "_view_name": "StyleView",
            "_model_name": "ProgressStyleModel",
            "description_width": "initial",
            "_view_module": "@jupyter-widgets/base",
            "_model_module_version": "1.5.0",
            "_view_count": null,
            "_view_module_version": "1.2.0",
            "bar_color": null,
            "_model_module": "@jupyter-widgets/controls"
          }
        },
        "e015ddf3a5e14858affdba68765c09c2": {
          "model_module": "@jupyter-widgets/base",
          "model_name": "LayoutModel",
          "state": {
            "_view_name": "LayoutView",
            "grid_template_rows": null,
            "right": null,
            "justify_content": null,
            "_view_module": "@jupyter-widgets/base",
            "overflow": null,
            "_model_module_version": "1.2.0",
            "_view_count": null,
            "flex_flow": null,
            "width": null,
            "min_width": null,
            "border": null,
            "align_items": null,
            "bottom": null,
            "_model_module": "@jupyter-widgets/base",
            "top": null,
            "grid_column": null,
            "overflow_y": null,
            "overflow_x": null,
            "grid_auto_flow": null,
            "grid_area": null,
            "grid_template_columns": null,
            "flex": null,
            "_model_name": "LayoutModel",
            "justify_items": null,
            "grid_row": null,
            "max_height": null,
            "align_content": null,
            "visibility": null,
            "align_self": null,
            "height": null,
            "min_height": null,
            "padding": null,
            "grid_auto_rows": null,
            "grid_gap": null,
            "max_width": null,
            "order": null,
            "_view_module_version": "1.2.0",
            "grid_template_areas": null,
            "object_position": null,
            "object_fit": null,
            "grid_auto_columns": null,
            "margin": null,
            "display": null,
            "left": null
          }
        },
        "56aa74932d5d498b9422178c3191e705": {
          "model_module": "@jupyter-widgets/controls",
          "model_name": "DescriptionStyleModel",
          "state": {
            "_view_name": "StyleView",
            "_model_name": "DescriptionStyleModel",
            "description_width": "",
            "_view_module": "@jupyter-widgets/base",
            "_model_module_version": "1.5.0",
            "_view_count": null,
            "_view_module_version": "1.2.0",
            "_model_module": "@jupyter-widgets/controls"
          }
        },
        "d76ca9e6813c4a3aa0248a68c36c1113": {
          "model_module": "@jupyter-widgets/base",
          "model_name": "LayoutModel",
          "state": {
            "_view_name": "LayoutView",
            "grid_template_rows": null,
            "right": null,
            "justify_content": null,
            "_view_module": "@jupyter-widgets/base",
            "overflow": null,
            "_model_module_version": "1.2.0",
            "_view_count": null,
            "flex_flow": null,
            "width": null,
            "min_width": null,
            "border": null,
            "align_items": null,
            "bottom": null,
            "_model_module": "@jupyter-widgets/base",
            "top": null,
            "grid_column": null,
            "overflow_y": null,
            "overflow_x": null,
            "grid_auto_flow": null,
            "grid_area": null,
            "grid_template_columns": null,
            "flex": null,
            "_model_name": "LayoutModel",
            "justify_items": null,
            "grid_row": null,
            "max_height": null,
            "align_content": null,
            "visibility": null,
            "align_self": null,
            "height": null,
            "min_height": null,
            "padding": null,
            "grid_auto_rows": null,
            "grid_gap": null,
            "max_width": null,
            "order": null,
            "_view_module_version": "1.2.0",
            "grid_template_areas": null,
            "object_position": null,
            "object_fit": null,
            "grid_auto_columns": null,
            "margin": null,
            "display": null,
            "left": null
          }
        },
        "6cc7d0bf9a4345ce8e5121d6d4a73c09": {
          "model_module": "@jupyter-widgets/controls",
          "model_name": "HBoxModel",
          "state": {
            "_view_name": "HBoxView",
            "_dom_classes": [],
            "_model_name": "HBoxModel",
            "_view_module": "@jupyter-widgets/controls",
            "_model_module_version": "1.5.0",
            "_view_count": null,
            "_view_module_version": "1.5.0",
            "box_style": "",
            "layout": "IPY_MODEL_7cc378137a4e4751a802b76b0a232a67",
            "_model_module": "@jupyter-widgets/controls",
            "children": [
              "IPY_MODEL_e3a4b402a3bd4397b4b9d85186ef2638",
              "IPY_MODEL_1f9fcd147bc24709a551148390f4e6b7"
            ]
          }
        },
        "7cc378137a4e4751a802b76b0a232a67": {
          "model_module": "@jupyter-widgets/base",
          "model_name": "LayoutModel",
          "state": {
            "_view_name": "LayoutView",
            "grid_template_rows": null,
            "right": null,
            "justify_content": null,
            "_view_module": "@jupyter-widgets/base",
            "overflow": null,
            "_model_module_version": "1.2.0",
            "_view_count": null,
            "flex_flow": null,
            "width": null,
            "min_width": null,
            "border": null,
            "align_items": null,
            "bottom": null,
            "_model_module": "@jupyter-widgets/base",
            "top": null,
            "grid_column": null,
            "overflow_y": null,
            "overflow_x": null,
            "grid_auto_flow": null,
            "grid_area": null,
            "grid_template_columns": null,
            "flex": null,
            "_model_name": "LayoutModel",
            "justify_items": null,
            "grid_row": null,
            "max_height": null,
            "align_content": null,
            "visibility": null,
            "align_self": null,
            "height": null,
            "min_height": null,
            "padding": null,
            "grid_auto_rows": null,
            "grid_gap": null,
            "max_width": null,
            "order": null,
            "_view_module_version": "1.2.0",
            "grid_template_areas": null,
            "object_position": null,
            "object_fit": null,
            "grid_auto_columns": null,
            "margin": null,
            "display": null,
            "left": null
          }
        },
        "e3a4b402a3bd4397b4b9d85186ef2638": {
          "model_module": "@jupyter-widgets/controls",
          "model_name": "FloatProgressModel",
          "state": {
            "_view_name": "ProgressView",
            "style": "IPY_MODEL_aa6bfa9b183a409abcb83cee22c051a8",
            "_dom_classes": [],
            "description": "Downloading: 100%",
            "_model_name": "FloatProgressModel",
            "bar_style": "success",
            "max": 25,
            "_view_module": "@jupyter-widgets/controls",
            "_model_module_version": "1.5.0",
            "value": 25,
            "_view_count": null,
            "_view_module_version": "1.5.0",
            "orientation": "horizontal",
            "min": 0,
            "description_tooltip": null,
            "_model_module": "@jupyter-widgets/controls",
            "layout": "IPY_MODEL_a85268efcdaf4f1b984777bd572ba9d4"
          }
        },
        "1f9fcd147bc24709a551148390f4e6b7": {
          "model_module": "@jupyter-widgets/controls",
          "model_name": "HTMLModel",
          "state": {
            "_view_name": "HTMLView",
            "style": "IPY_MODEL_311f8ae2e0f04c21901835f312b1fb46",
            "_dom_classes": [],
            "description": "",
            "_model_name": "HTMLModel",
            "placeholder": "​",
            "_view_module": "@jupyter-widgets/controls",
            "_model_module_version": "1.5.0",
            "value": " 25.0/25.0 [00:00&lt;00:00, 138B/s]",
            "_view_count": null,
            "_view_module_version": "1.5.0",
            "description_tooltip": null,
            "_model_module": "@jupyter-widgets/controls",
            "layout": "IPY_MODEL_b0f34570cb50462a870178bffc7e14be"
          }
        },
        "aa6bfa9b183a409abcb83cee22c051a8": {
          "model_module": "@jupyter-widgets/controls",
          "model_name": "ProgressStyleModel",
          "state": {
            "_view_name": "StyleView",
            "_model_name": "ProgressStyleModel",
            "description_width": "initial",
            "_view_module": "@jupyter-widgets/base",
            "_model_module_version": "1.5.0",
            "_view_count": null,
            "_view_module_version": "1.2.0",
            "bar_color": null,
            "_model_module": "@jupyter-widgets/controls"
          }
        },
        "a85268efcdaf4f1b984777bd572ba9d4": {
          "model_module": "@jupyter-widgets/base",
          "model_name": "LayoutModel",
          "state": {
            "_view_name": "LayoutView",
            "grid_template_rows": null,
            "right": null,
            "justify_content": null,
            "_view_module": "@jupyter-widgets/base",
            "overflow": null,
            "_model_module_version": "1.2.0",
            "_view_count": null,
            "flex_flow": null,
            "width": null,
            "min_width": null,
            "border": null,
            "align_items": null,
            "bottom": null,
            "_model_module": "@jupyter-widgets/base",
            "top": null,
            "grid_column": null,
            "overflow_y": null,
            "overflow_x": null,
            "grid_auto_flow": null,
            "grid_area": null,
            "grid_template_columns": null,
            "flex": null,
            "_model_name": "LayoutModel",
            "justify_items": null,
            "grid_row": null,
            "max_height": null,
            "align_content": null,
            "visibility": null,
            "align_self": null,
            "height": null,
            "min_height": null,
            "padding": null,
            "grid_auto_rows": null,
            "grid_gap": null,
            "max_width": null,
            "order": null,
            "_view_module_version": "1.2.0",
            "grid_template_areas": null,
            "object_position": null,
            "object_fit": null,
            "grid_auto_columns": null,
            "margin": null,
            "display": null,
            "left": null
          }
        },
        "311f8ae2e0f04c21901835f312b1fb46": {
          "model_module": "@jupyter-widgets/controls",
          "model_name": "DescriptionStyleModel",
          "state": {
            "_view_name": "StyleView",
            "_model_name": "DescriptionStyleModel",
            "description_width": "",
            "_view_module": "@jupyter-widgets/base",
            "_model_module_version": "1.5.0",
            "_view_count": null,
            "_view_module_version": "1.2.0",
            "_model_module": "@jupyter-widgets/controls"
          }
        },
        "b0f34570cb50462a870178bffc7e14be": {
          "model_module": "@jupyter-widgets/base",
          "model_name": "LayoutModel",
          "state": {
            "_view_name": "LayoutView",
            "grid_template_rows": null,
            "right": null,
            "justify_content": null,
            "_view_module": "@jupyter-widgets/base",
            "overflow": null,
            "_model_module_version": "1.2.0",
            "_view_count": null,
            "flex_flow": null,
            "width": null,
            "min_width": null,
            "border": null,
            "align_items": null,
            "bottom": null,
            "_model_module": "@jupyter-widgets/base",
            "top": null,
            "grid_column": null,
            "overflow_y": null,
            "overflow_x": null,
            "grid_auto_flow": null,
            "grid_area": null,
            "grid_template_columns": null,
            "flex": null,
            "_model_name": "LayoutModel",
            "justify_items": null,
            "grid_row": null,
            "max_height": null,
            "align_content": null,
            "visibility": null,
            "align_self": null,
            "height": null,
            "min_height": null,
            "padding": null,
            "grid_auto_rows": null,
            "grid_gap": null,
            "max_width": null,
            "order": null,
            "_view_module_version": "1.2.0",
            "grid_template_areas": null,
            "object_position": null,
            "object_fit": null,
            "grid_auto_columns": null,
            "margin": null,
            "display": null,
            "left": null
          }
        },
        "31aa8283c4ec41ffaf735a18e7e07f9d": {
          "model_module": "@jupyter-widgets/controls",
          "model_name": "HBoxModel",
          "state": {
            "_view_name": "HBoxView",
            "_dom_classes": [],
            "_model_name": "HBoxModel",
            "_view_module": "@jupyter-widgets/controls",
            "_model_module_version": "1.5.0",
            "_view_count": null,
            "_view_module_version": "1.5.0",
            "box_style": "",
            "layout": "IPY_MODEL_b381a9bcbd1b49ae88cea0b80e4b57cf",
            "_model_module": "@jupyter-widgets/controls",
            "children": [
              "IPY_MODEL_4c047cb266a149e4875ec3b55be2575c",
              "IPY_MODEL_e5d40335a1e54d4a9fdebd9645df183e"
            ]
          }
        },
        "b381a9bcbd1b49ae88cea0b80e4b57cf": {
          "model_module": "@jupyter-widgets/base",
          "model_name": "LayoutModel",
          "state": {
            "_view_name": "LayoutView",
            "grid_template_rows": null,
            "right": null,
            "justify_content": null,
            "_view_module": "@jupyter-widgets/base",
            "overflow": null,
            "_model_module_version": "1.2.0",
            "_view_count": null,
            "flex_flow": null,
            "width": null,
            "min_width": null,
            "border": null,
            "align_items": null,
            "bottom": null,
            "_model_module": "@jupyter-widgets/base",
            "top": null,
            "grid_column": null,
            "overflow_y": null,
            "overflow_x": null,
            "grid_auto_flow": null,
            "grid_area": null,
            "grid_template_columns": null,
            "flex": null,
            "_model_name": "LayoutModel",
            "justify_items": null,
            "grid_row": null,
            "max_height": null,
            "align_content": null,
            "visibility": null,
            "align_self": null,
            "height": null,
            "min_height": null,
            "padding": null,
            "grid_auto_rows": null,
            "grid_gap": null,
            "max_width": null,
            "order": null,
            "_view_module_version": "1.2.0",
            "grid_template_areas": null,
            "object_position": null,
            "object_fit": null,
            "grid_auto_columns": null,
            "margin": null,
            "display": null,
            "left": null
          }
        },
        "4c047cb266a149e4875ec3b55be2575c": {
          "model_module": "@jupyter-widgets/controls",
          "model_name": "FloatProgressModel",
          "state": {
            "_view_name": "ProgressView",
            "style": "IPY_MODEL_e07f3357840142b18a315578aa0a0d3c",
            "_dom_classes": [],
            "description": "100%",
            "_model_name": "FloatProgressModel",
            "bar_style": "success",
            "max": 10,
            "_view_module": "@jupyter-widgets/controls",
            "_model_module_version": "1.5.0",
            "value": 10,
            "_view_count": null,
            "_view_module_version": "1.5.0",
            "orientation": "horizontal",
            "min": 0,
            "description_tooltip": null,
            "_model_module": "@jupyter-widgets/controls",
            "layout": "IPY_MODEL_d32caf0695b240509949728eeb7f4bdc"
          }
        },
        "e5d40335a1e54d4a9fdebd9645df183e": {
          "model_module": "@jupyter-widgets/controls",
          "model_name": "HTMLModel",
          "state": {
            "_view_name": "HTMLView",
            "style": "IPY_MODEL_6a987ef5d8604374bc1457e2bfc113c1",
            "_dom_classes": [],
            "description": "",
            "_model_name": "HTMLModel",
            "placeholder": "​",
            "_view_module": "@jupyter-widgets/controls",
            "_model_module_version": "1.5.0",
            "value": " 10/10 [00:04&lt;00:00,  2.47it/s]",
            "_view_count": null,
            "_view_module_version": "1.5.0",
            "description_tooltip": null,
            "_model_module": "@jupyter-widgets/controls",
            "layout": "IPY_MODEL_43fcd562296c46f88aec19977a9b26b5"
          }
        },
        "e07f3357840142b18a315578aa0a0d3c": {
          "model_module": "@jupyter-widgets/controls",
          "model_name": "ProgressStyleModel",
          "state": {
            "_view_name": "StyleView",
            "_model_name": "ProgressStyleModel",
            "description_width": "initial",
            "_view_module": "@jupyter-widgets/base",
            "_model_module_version": "1.5.0",
            "_view_count": null,
            "_view_module_version": "1.2.0",
            "bar_color": null,
            "_model_module": "@jupyter-widgets/controls"
          }
        },
        "d32caf0695b240509949728eeb7f4bdc": {
          "model_module": "@jupyter-widgets/base",
          "model_name": "LayoutModel",
          "state": {
            "_view_name": "LayoutView",
            "grid_template_rows": null,
            "right": null,
            "justify_content": null,
            "_view_module": "@jupyter-widgets/base",
            "overflow": null,
            "_model_module_version": "1.2.0",
            "_view_count": null,
            "flex_flow": null,
            "width": null,
            "min_width": null,
            "border": null,
            "align_items": null,
            "bottom": null,
            "_model_module": "@jupyter-widgets/base",
            "top": null,
            "grid_column": null,
            "overflow_y": null,
            "overflow_x": null,
            "grid_auto_flow": null,
            "grid_area": null,
            "grid_template_columns": null,
            "flex": null,
            "_model_name": "LayoutModel",
            "justify_items": null,
            "grid_row": null,
            "max_height": null,
            "align_content": null,
            "visibility": null,
            "align_self": null,
            "height": null,
            "min_height": null,
            "padding": null,
            "grid_auto_rows": null,
            "grid_gap": null,
            "max_width": null,
            "order": null,
            "_view_module_version": "1.2.0",
            "grid_template_areas": null,
            "object_position": null,
            "object_fit": null,
            "grid_auto_columns": null,
            "margin": null,
            "display": null,
            "left": null
          }
        },
        "6a987ef5d8604374bc1457e2bfc113c1": {
          "model_module": "@jupyter-widgets/controls",
          "model_name": "DescriptionStyleModel",
          "state": {
            "_view_name": "StyleView",
            "_model_name": "DescriptionStyleModel",
            "description_width": "",
            "_view_module": "@jupyter-widgets/base",
            "_model_module_version": "1.5.0",
            "_view_count": null,
            "_view_module_version": "1.2.0",
            "_model_module": "@jupyter-widgets/controls"
          }
        },
        "43fcd562296c46f88aec19977a9b26b5": {
          "model_module": "@jupyter-widgets/base",
          "model_name": "LayoutModel",
          "state": {
            "_view_name": "LayoutView",
            "grid_template_rows": null,
            "right": null,
            "justify_content": null,
            "_view_module": "@jupyter-widgets/base",
            "overflow": null,
            "_model_module_version": "1.2.0",
            "_view_count": null,
            "flex_flow": null,
            "width": null,
            "min_width": null,
            "border": null,
            "align_items": null,
            "bottom": null,
            "_model_module": "@jupyter-widgets/base",
            "top": null,
            "grid_column": null,
            "overflow_y": null,
            "overflow_x": null,
            "grid_auto_flow": null,
            "grid_area": null,
            "grid_template_columns": null,
            "flex": null,
            "_model_name": "LayoutModel",
            "justify_items": null,
            "grid_row": null,
            "max_height": null,
            "align_content": null,
            "visibility": null,
            "align_self": null,
            "height": null,
            "min_height": null,
            "padding": null,
            "grid_auto_rows": null,
            "grid_gap": null,
            "max_width": null,
            "order": null,
            "_view_module_version": "1.2.0",
            "grid_template_areas": null,
            "object_position": null,
            "object_fit": null,
            "grid_auto_columns": null,
            "margin": null,
            "display": null,
            "left": null
          }
        }
      }
    },
    "accelerator": "GPU"
  },
  "cells": [
    {
      "cell_type": "markdown",
      "metadata": {
        "id": "EAXm3UFwqNby"
      },
      "source": [
        "# Improved Code Summarization\n",
        "> \"In this tutorial you'll learn about how to apply state of the art summarization models to source code!\"\n",
        "\n",
        "- toc: true\n",
        "- badges: true\n",
        "- comments: true\n",
        "- categories: [code, summarization, deep-learning, seq2seq]\n",
        "- image: images/comment_gen_preview.png"
      ]
    },
    {
      "cell_type": "markdown",
      "metadata": {
        "id": "_9nzFdmyb0VD"
      },
      "source": [
        "# About\n",
        "Hi there, in this post you'll learn how to finetune the a RoBERT based model that's been trained on code data to automatically generate comments for code!\n",
        "\n",
        "We will be focusing on the Java programming language, but you can apply the same techniques in this post for any programming language that interests you. Additionally, you'll see how to incorporate this code commenter into a [VSCode](https://code.visualstudio.com/) extension so that you can generate comments for code snippets you highlight:\n",
        "\n",
        "(Insert GIF of tool working)\n",
        "\n",
        "As always, we'll start with a bit of background of the data and model we are using, but feel free to skip if you want to get straight to the awesomeness ;). Alright, let's GO!"
      ]
    },
    {
      "cell_type": "markdown",
      "metadata": {
        "id": "k3h9U8J5e04y"
      },
      "source": [
        "# Background\n",
        "\n",
        "## Data\n",
        "We will be using the awesome [CodeSearchNet](https://github.com/github/codesearchnet) Challenge dataset, which contains millions of pairs of methods and their docstrings for a large variety of programming languages. The dataset was initially constructed for evaluating how well different approaches perform at searching for code. However, we can easily repurpose it for us and lucky for us, the awesome authors did an awesome job collecting, documenting, and cleaning the data.\n",
        "\n",
        "We'll be performing a bit more cleaning and formatting of the data as well as adding some more examples. These examples won't be method/docstring pairs, but code snippet/inline comment pairs. This allows our model to generate comments for arbitrary code snippets that a developer may want to document instead of just generating the docstring of a method.\n",
        "\n",
        "## CodeBERT\n",
        "The pretrained model we will be finetuning comes from the awesome paper from Microsoft's research division aptly named [CodeBERT: A Pre-Trained Model for Programming and Natural Languages](https://arxiv.org/abs/2002.08155). This model also used the CodeSearchNet challenge dataset, but instead of using it to generate comments it used to teach a RoBERTa based model to represent code and natural language in a useful way. This practice of eaching these large language models to represent text in a useful way is common practice now since these representations have been shown to be helpful in finetuning these models on other tasks. The CodeBERT paper showed these representations are helpful by finetuning them on the programming task of code search and comment generation, exactly what we will be doing! The difference between their comment generation task and ours is that we will do a bit more preprocessing and our model will be able to generate inline comments of code snippets and not just method level comments.\n",
        "\n",
        "So, how does CodeBERT learn these representations? It combines two different training objectives that's been shown to be useful for natural language. The Masked Language Modeling objective (MLM), which is from the original [BERT](https://arxiv.org/abs/1810.04805) paper, and Replaced Token Detection (RTD) objective, which is from the [ELECTRA: Pre-training Text Encoders as Discriminators Rather Than Generators](https://arxiv.org/abs/2003.10555) paper. The MLM objective is where we randomly mask out parts of the text that we feed into the model and ask the model to predict those masked out pieces. The RTD objective is where random tokens in the text are replaced and the model has to determine which of these tokens are replaced. However, to make it harder for the model, these replaced tokens attempt to be plausible alternatives and not just random words. The CodeBERT model actually used a n-gram based model to generate these alternatives where as the ELECTRA paper used a small BERT based model.\n",
        "\n",
        "![ELECTRA Pretraining Objective](https://nathancooper.io/i-am-a-nerd/images/electra.png) (From ELECTRA Paper)\n",
        "\n",
        "Instead of using only natural language to apply these training objectives to, CodeBERT used code and docstrings. This allowed the CodeBERT model to learn a useful representation of code that could be used for other tasks.\n",
        "\n",
        "Alright with that quick background knowledge down, lets get into actually finetuning our model!\n"
      ]
    },
    {
      "cell_type": "code",
      "metadata": {
        "colab": {
          "base_uri": "https://localhost:8080/"
        },
        "id": "60geWh54wl6R",
        "outputId": "eb579314-8851-4ce7-9c46-24f9e4a557d0"
      },
      "source": [
        "! nvidia-smi"
      ],
      "execution_count": null,
      "outputs": [
        {
          "output_type": "stream",
          "text": [
            "Sat Dec  5 16:48:30 2020       \n",
            "+-----------------------------------------------------------------------------+\n",
            "| NVIDIA-SMI 455.45.01    Driver Version: 418.67       CUDA Version: 10.1     |\n",
            "|-------------------------------+----------------------+----------------------+\n",
            "| GPU  Name        Persistence-M| Bus-Id        Disp.A | Volatile Uncorr. ECC |\n",
            "| Fan  Temp  Perf  Pwr:Usage/Cap|         Memory-Usage | GPU-Util  Compute M. |\n",
            "|                               |                      |               MIG M. |\n",
            "|===============================+======================+======================|\n",
            "|   0  Tesla P4            Off  | 00000000:00:04.0 Off |                    0 |\n",
            "| N/A   36C    P8     7W /  75W |      0MiB /  7611MiB |      0%      Default |\n",
            "|                               |                      |                 ERR! |\n",
            "+-------------------------------+----------------------+----------------------+\n",
            "                                                                               \n",
            "+-----------------------------------------------------------------------------+\n",
            "| Processes:                                                                  |\n",
            "|  GPU   GI   CI        PID   Type   Process name                  GPU Memory |\n",
            "|        ID   ID                                                   Usage      |\n",
            "|=============================================================================|\n",
            "|  No running processes found                                                 |\n",
            "+-----------------------------------------------------------------------------+\n"
          ],
          "name": "stdout"
        }
      ]
    },
    {
      "cell_type": "markdown",
      "metadata": {
        "id": "s7VKK55goGaA"
      },
      "source": [
        "# Data"
      ]
    },
    {
      "cell_type": "markdown",
      "metadata": {
        "id": "ZZocTJOVwLk9"
      },
      "source": [
        "First we'll install the necessary packages and download our data!"
      ]
    },
    {
      "cell_type": "code",
      "metadata": {
        "id": "BrQQV4fTFbEm"
      },
      "source": [
        "# collapse\n",
        "# Download and install the necessary dependencies\n",
        "! pip install -q torch==1.4.0 -f https://download.pytorch.org/whl/cu101/torch_stable.html\n",
        "! pip install -q transformers==3.5.0 fast-trees\n",
        "\n",
        "! git clone -q https://github.com/microsoft/CodeXGLUE.git\n",
        "\n",
        "# Download the CodeSearchNet Challenge dataset for the Java programming language\n",
        "! wget -q https://s3.amazonaws.com/code-search-net/CodeSearchNet/v2/java.zip\n",
        "! unzip -qq java.zip"
      ],
      "execution_count": null,
      "outputs": []
    },
    {
      "cell_type": "markdown",
      "metadata": {
        "id": "wnvMOV8RwUgX"
      },
      "source": [
        "Next let's read in our data and since these models take a long time to train, we will only select a subset of the data."
      ]
    },
    {
      "cell_type": "code",
      "metadata": {
        "id": "rmikS-rhHRJI",
        "colab": {
          "base_uri": "https://localhost:8080/"
        },
        "outputId": "0f670807-a1af-4569-89f0-9a8ac3888909"
      },
      "source": [
        "# collapse\n",
        "import pandas as pd\n",
        "\n",
        "from pathlib import Path\n",
        "from typing import List, Optional\n",
        "\n",
        "# Code from CodeSearchNetChallenge: https://github.com/github/CodeSearchNet/blob/master/notebooks/ExploreData.ipynb\n",
        "def jsonl_list_to_dataframe(file_list, columns=['code', 'docstring']):\n",
        "    \"\"\"Load a list of jsonl.gz files into a pandas DataFrame.\"\"\"\n",
        "    return pd.concat([pd.read_json(f,\n",
        "                                   orient='records', \n",
        "                                   compression='gzip',\n",
        "                                   lines=True)[columns] \n",
        "                      for f in file_list], sort=False)\n",
        "\n",
        "def get_dfs(path: Path) -> List[pd.DataFrame]:\n",
        "    \"\"\"Grabs the different data splits and converts them into dataframes\"\"\"\n",
        "    dfs = []\n",
        "    for split in [\"train\", \"valid\", \"test\"]:\n",
        "        files = sorted((path/split).glob(\"**/*.gz\"))\n",
        "        df = jsonl_list_to_dataframe(files).rename(columns = {'code': 'mthd', 'docstring': 'cmt'})\n",
        "        dfs.append(df)\n",
        "        \n",
        "    return dfs\n",
        "\n",
        "path = Path('.')\n",
        "df_trn, df_val, df_tst = get_dfs(path/\"java/final/jsonl\")\n",
        "sample = 0.01\n",
        "df_trn = df_trn.sample(frac = sample)\n",
        "df_val = df_val.sample(frac = sample)\n",
        "df_tst = df_tst.sample(frac = sample)\n",
        "\n",
        "len(df_trn), len(df_val), len(df_tst)"
      ],
      "execution_count": null,
      "outputs": [
        {
          "output_type": "execute_result",
          "data": {
            "text/plain": [
              "(4545, 153, 269)"
            ]
          },
          "metadata": {
            "tags": []
          },
          "execution_count": 3
        }
      ]
    },
    {
      "cell_type": "markdown",
      "metadata": {
        "id": "3HAkOE8Ohf2P"
      },
      "source": [
        "Let's see how the data looks. As shown, we have the data in a good format with one column all of the methods (input into the model) and the other all of the comments (output of the model)."
      ]
    },
    {
      "cell_type": "code",
      "metadata": {
        "id": "XcfrJ_vF7Xxf",
        "colab": {
          "base_uri": "https://localhost:8080/",
          "height": 195
        },
        "outputId": "2568f4ab-a40e-4d27-a193-21b45060dfcf"
      },
      "source": [
        "df_trn.head()"
      ],
      "execution_count": null,
      "outputs": [
        {
          "output_type": "execute_result",
          "data": {
            "text/html": [
              "<div>\n",
              "<style scoped>\n",
              "    .dataframe tbody tr th:only-of-type {\n",
              "        vertical-align: middle;\n",
              "    }\n",
              "\n",
              "    .dataframe tbody tr th {\n",
              "        vertical-align: top;\n",
              "    }\n",
              "\n",
              "    .dataframe thead th {\n",
              "        text-align: right;\n",
              "    }\n",
              "</style>\n",
              "<table border=\"1\" class=\"dataframe\">\n",
              "  <thead>\n",
              "    <tr style=\"text-align: right;\">\n",
              "      <th></th>\n",
              "      <th>mthd</th>\n",
              "      <th>cmt</th>\n",
              "    </tr>\n",
              "  </thead>\n",
              "  <tbody>\n",
              "    <tr>\n",
              "      <th>1686</th>\n",
              "      <td>public static String reduceSurtToAssignmentLev...</td>\n",
              "      <td>Truncate SURT to its topmost assigned domain s...</td>\n",
              "    </tr>\n",
              "    <tr>\n",
              "      <th>2593</th>\n",
              "      <td>@Override\\n    public DeleteGroupResult delete...</td>\n",
              "      <td>&lt;p&gt;\\nDeletes a group. Currently only groups wi...</td>\n",
              "    </tr>\n",
              "    <tr>\n",
              "      <th>29260</th>\n",
              "      <td>public void Not()\\n\\t{\\n\\t\\tif( periods == nul...</td>\n",
              "      <td>NOT operator</td>\n",
              "    </tr>\n",
              "    <tr>\n",
              "      <th>16350</th>\n",
              "      <td>public static File createDirectory(File parent...</td>\n",
              "      <td>Create directory with given name in specified ...</td>\n",
              "    </tr>\n",
              "    <tr>\n",
              "      <th>22970</th>\n",
              "      <td>public final void ruleTerminalTokenElement() t...</td>\n",
              "      <td>InternalXtext.g:1204:1: ruleTerminalTokenEleme...</td>\n",
              "    </tr>\n",
              "  </tbody>\n",
              "</table>\n",
              "</div>"
            ],
            "text/plain": [
              "                                                    mthd                                                cmt\n",
              "1686   public static String reduceSurtToAssignmentLev...  Truncate SURT to its topmost assigned domain s...\n",
              "2593   @Override\\n    public DeleteGroupResult delete...  <p>\\nDeletes a group. Currently only groups wi...\n",
              "29260  public void Not()\\n\\t{\\n\\t\\tif( periods == nul...                                       NOT operator\n",
              "16350  public static File createDirectory(File parent...  Create directory with given name in specified ...\n",
              "22970  public final void ruleTerminalTokenElement() t...  InternalXtext.g:1204:1: ruleTerminalTokenEleme..."
            ]
          },
          "metadata": {
            "tags": []
          },
          "execution_count": 4
        }
      ]
    },
    {
      "cell_type": "markdown",
      "metadata": {
        "id": "bWRs09uzoK7K"
      },
      "source": [
        "## Data Cleaning"
      ]
    },
    {
      "cell_type": "markdown",
      "metadata": {
        "id": "rzNiApmciCwi"
      },
      "source": [
        "Now, that we have the data, let's clean it! First, we'll remove any non-ascii characters to simplify the problem so that the model only has to think about generating English comments."
      ]
    },
    {
      "cell_type": "code",
      "metadata": {
        "id": "M5PNGqi97X-N",
        "colab": {
          "base_uri": "https://localhost:8080/"
        },
        "outputId": "e76ff527-7454-4a12-cbb6-7a679eae3167"
      },
      "source": [
        "# collapse\n",
        "# From https://stackoverflow.com/a/27084708/5768407\n",
        "def is_ascii(s):\n",
        "    '''\n",
        "    Determines if the given string contains only ascii characters\n",
        "\n",
        "    :param s: the string to check\n",
        "    :returns: whether or not the given string contains only ascii characters\n",
        "    '''\n",
        "    try:\n",
        "        s.encode(encoding='utf-8').decode('ascii')\n",
        "    except UnicodeDecodeError:\n",
        "        return False\n",
        "    else:\n",
        "        return True\n",
        "\n",
        "df_trn = df_trn[df_trn['mthd'].apply(lambda x: is_ascii(x))]\n",
        "df_val = df_val[df_val['mthd'].apply(lambda x: is_ascii(x))]\n",
        "df_tst = df_tst[df_tst['mthd'].apply(lambda x: is_ascii(x))]\n",
        "\n",
        "df_trn = df_trn[df_trn['cmt'].apply(lambda x: is_ascii(x))]\n",
        "df_val = df_val[df_val['cmt'].apply(lambda x: is_ascii(x))]\n",
        "df_tst = df_tst[df_tst['cmt'].apply(lambda x: is_ascii(x))]\n",
        "\n",
        "len(df_trn), len(df_val), len(df_tst)"
      ],
      "execution_count": null,
      "outputs": [
        {
          "output_type": "execute_result",
          "data": {
            "text/plain": [
              "(4417, 143, 263)"
            ]
          },
          "metadata": {
            "tags": []
          },
          "execution_count": 5
        }
      ]
    },
    {
      "cell_type": "markdown",
      "metadata": {
        "id": "zM6LZm7oiXUD"
      },
      "source": [
        "Next, we'll remove any outdated comments by checking to see if the [JavaDoc](https://www.oracle.com/java/technologies/javase/javadoc.html)'s parameter list is different from the method's parameter list. This also will remove pairs where the docstring doesn't actually document the parameters, which probably means the pairs are poor quality (you should always properly document your code :) )."
      ]
    },
    {
      "cell_type": "code",
      "metadata": {
        "id": "HmyhHIQjY9IE",
        "colab": {
          "base_uri": "https://localhost:8080/"
        },
        "outputId": "efe3b2aa-69d1-4cd0-e250-82959964c809"
      },
      "source": [
        "# collapse\n",
        "import re\n",
        "\n",
        "from fast_trees.core import FastParser\n",
        "\n",
        "parser = FastParser('java')\n",
        "\n",
        "def get_cmt_params(cmt: str) -> List[str]:\n",
        "    '''\n",
        "    Grabs the parameter identifier names from a JavaDoc comment\n",
        "\n",
        "    :param cmt: the comment to extract the parameter identifier names from\n",
        "    :returns: an array of the parameter identifier names found in the given comment\n",
        "    '''\n",
        "    params = re.findall('@param+\\s+\\w+', cmt)\n",
        "    param_names = []\n",
        "    for param in params:\n",
        "        param_names.append(param.split()[1])\n",
        "    \n",
        "    return param_names\n",
        "\n",
        "def is_outdated(mthd: str, cmt: str, parser: FastParser) -> bool:\n",
        "    '''\n",
        "    Determines if a given method and comment are outdated by checking\n",
        "    if the method's parameter identifier names match the comment's\n",
        "\n",
        "    :param mthd: the method to compare against its corresponding comment\n",
        "    :param cmt: the comment to compare against its corresponding method\n",
        "    :param parser: parser for easily getting the parameter identifier names from a given method\n",
        "    :returns: wheather or not a given comment is outdated compared to its corresponding method\n",
        "    '''\n",
        "    try:\n",
        "        mthd_params = parser.get_params(mthd)\n",
        "    except:\n",
        "        return False\n",
        "    \n",
        "    cmt_params = get_cmt_params(cmt)\n",
        "\n",
        "    return mthd_params != cmt_params\n",
        "\n",
        "df_trn = df_trn[\n",
        "    ~df_trn.apply(\n",
        "        lambda x: is_outdated(x.mthd, x.cmt, parser), axis = 1\n",
        "    )\n",
        "]\n",
        "df_val = df_val[\n",
        "    ~df_val.apply(\n",
        "        lambda x: is_outdated(x.mthd, x.cmt, parser), axis = 1\n",
        "    )\n",
        "]\n",
        "df_tst = df_tst[\n",
        "    ~df_tst.apply(\n",
        "        lambda x: is_outdated(x.mthd, x.cmt, parser), axis = 1\n",
        "    )\n",
        "]\n",
        "\n",
        "len(df_trn), len(df_val), len(df_tst)"
      ],
      "execution_count": null,
      "outputs": [
        {
          "output_type": "stream",
          "text": [
            "Downloading repo https://github.com/tree-sitter/tree-sitter-java to /usr/local/lib/python3.6/dist-packages/fast_trees/tree-sitter-java.\n"
          ],
          "name": "stdout"
        },
        {
          "output_type": "execute_result",
          "data": {
            "text/plain": [
              "(4417, 143, 263)"
            ]
          },
          "metadata": {
            "tags": []
          },
          "execution_count": 6
        }
      ]
    },
    {
      "cell_type": "markdown",
      "metadata": {
        "id": "4gBjJv7ckXfK"
      },
      "source": [
        "Now we'll add in the additional pairs of code snippets/inline comments.\n",
        "\n",
        "P.S. One thing to note with adding these pairs is that the inline comments will appear twice in the datasets. The first in the method where the inline comment came from and the second in the target for the code snippet. This is only a problem for the training set since it allows for the model to cheat by simply remembering the inline comment from the example method it came from. However, in my testing, I found this to not be an issue and the model seems to still work well despite this problem. Just thought ya should know :)."
      ]
    },
    {
      "cell_type": "code",
      "metadata": {
        "id": "ipNqZlTttNBY",
        "colab": {
          "base_uri": "https://localhost:8080/",
          "height": 180,
          "referenced_widgets": [
            "80dcfba514a94bff85cf7a59a7eeb6d0",
            "8f6383bba10f4736b6599a5dd9725098",
            "9cd316da3c064e12be791669a3d890bc",
            "272b56b5c5f14ef28b1f0fc821b546b4",
            "172bcedc885c4567a5883c5fe13001f4",
            "ae777bf338304e4ebf313e2aab6c52ec",
            "3d2805901947448e8285b42120dda847",
            "90f9dc0832a8436aafe9fefe9dedc861",
            "42c77b7cb95d447ea873388fe74ebc36",
            "0f665df7aee643428799b74e4cf03952",
            "494120ba46fa4b1ab2904b61a83c96c1",
            "76592bff61cd4354baab875b888f40e3",
            "e59610cd1b984138bc10f95c1384a033",
            "caa1fb181b6c402986c11c090a899786",
            "d71c92331e354acc9e8754c421782247",
            "947e4d74505444e79b3affd3f1985f30",
            "444c12386e2a4d63a269f90973d1673e",
            "03cf7df7fadb4bd698eac6b87e9bcf1e",
            "42bb73fb0c0845119b1c474dd6f6cbf4",
            "8ce55c323ba14fa397ed477f0cbcbffd",
            "f554f66c6b8b436fbb68f2c29d83c0e6",
            "bfe636fcd0be4fe5927f722d85df5a9e",
            "cfef7cdae0424f31b2503c178b7513dd",
            "378c40542be64834a5567ae728f102e6"
          ]
        },
        "outputId": "e53fbc59-45ad-4f87-b616-b5ecaaa2f17b"
      },
      "source": [
        "# collapse\n",
        "from tqdm.auto import tqdm\n",
        "\n",
        "def get_inline_pairs(mthd):\n",
        "    '''\n",
        "    Get all pairs of inline comments and corresponding code snippets\n",
        "\n",
        "    :param mthd: the method to retrieve the pairs of comments and corresponding\n",
        "    code snippets from\n",
        "    :returns: all pairs of comments and corresponding code snippets\n",
        "    '''\n",
        "    pairs = [[]]\n",
        "\n",
        "    comment = False\n",
        "    bracket = False\n",
        "    indent_lvl = -1\n",
        "    lines = mthd.split(\"\\n\")\n",
        "    for line in lines:\n",
        "        if \"//\" in line and not bracket and not \"://\" in line:\n",
        "            pairs[-1].append(line)\n",
        "            if '\\t' in line:\n",
        "                indent_lvl = line.count('\\t')\n",
        "            else:\n",
        "                indent_lvl = line.split(\"//\")[0].count(' ')\n",
        "            comment = True\n",
        "            bracket = False\n",
        "        elif comment:\n",
        "            if '{' in line and not bracket:\n",
        "                bracket = True\n",
        "                pairs[-1].append(line)\n",
        "            elif '}' in line:\n",
        "                line_indent = -1\n",
        "                if '\\t' in line:\n",
        "                    line_indent = line.count('\\t')\n",
        "                else:\n",
        "                    line_indent = line.split(\"//\")[0].count(' ')\n",
        "                if indent_lvl == line_indent:\n",
        "                    pairs[-1].append(line)\n",
        "                if not bracket:\n",
        "                    pairs.append([])\n",
        "                    comment = False\n",
        "                    bracket = False\n",
        "            elif line.isspace() or line == '' and not bracket:\n",
        "                pairs.append([])\n",
        "                comment = False\n",
        "            else:\n",
        "                pairs[-1].append(line)\n",
        "    \n",
        "    # Convert pairs into proper format of (code snippet, inline comment) dataframe\n",
        "    code_snippets   = []\n",
        "    comments        = []\n",
        "    for pair in pairs:\n",
        "        if pair and len(pair) < 5:\n",
        "            code    = []\n",
        "            comment = []\n",
        "            skip = False\n",
        "            for line in pair:\n",
        "                if \"TODO\" in line: break\n",
        "                if \"//\" in line:\n",
        "                    comment.append(line.replace('//', ''))\n",
        "                else:\n",
        "                    code.append(line)\n",
        "            if len(code) > 1 and len(comment) > 0:\n",
        "                        code_snippets.append('\\n'.join(code))\n",
        "                        comments.append('\\n'.join(comment))\n",
        "\n",
        "    pairs = pd.DataFrame(zip(code_snippets, comments), columns = [\"mthd\", \"cmt\"])\n",
        "    return pairs\n",
        "\n",
        "\n",
        "def add_inline(df: pd.DataFrame) -> pd.DataFrame:\n",
        "    '''\n",
        "    Helper function to go through all methods in a given dataframe and add all\n",
        "    pairs of inline comments and corresponding code snippets\n",
        "\n",
        "    :param df: the dataframe to retrieve and add all pairs of inline comments\n",
        "    and corresponding code snippets to\n",
        "    :returns: a new dataframe with the newly added pairs of inline comments and\n",
        "    corresponding code snippets\n",
        "    '''\n",
        "    new_df = df[df['mthd'].str.contains(\"//\")]\n",
        "    all_pairs = []\n",
        "    for mthd in tqdm(new_df.mthd.values):\n",
        "        pairs = get_inline_pairs(mthd)\n",
        "        all_pairs.append(pairs)\n",
        "\n",
        "    df_pairs = pd.concat([pairs for pairs in all_pairs])\n",
        "    return pd.concat([df, df_pairs])\n",
        "\n",
        "df_trn = add_inline(df_trn)\n",
        "df_val = add_inline(df_val)\n",
        "df_tst = add_inline(df_tst)\n",
        "\n",
        "len(df_trn), len(df_val), len(df_tst)"
      ],
      "execution_count": null,
      "outputs": [
        {
          "output_type": "display_data",
          "data": {
            "application/vnd.jupyter.widget-view+json": {
              "model_id": "80dcfba514a94bff85cf7a59a7eeb6d0",
              "version_minor": 0,
              "version_major": 2
            },
            "text/plain": [
              "HBox(children=(FloatProgress(value=0.0, max=999.0), HTML(value='')))"
            ]
          },
          "metadata": {
            "tags": []
          }
        },
        {
          "output_type": "stream",
          "text": [
            "\n"
          ],
          "name": "stdout"
        },
        {
          "output_type": "display_data",
          "data": {
            "application/vnd.jupyter.widget-view+json": {
              "model_id": "42c77b7cb95d447ea873388fe74ebc36",
              "version_minor": 0,
              "version_major": 2
            },
            "text/plain": [
              "HBox(children=(FloatProgress(value=0.0, max=25.0), HTML(value='')))"
            ]
          },
          "metadata": {
            "tags": []
          }
        },
        {
          "output_type": "stream",
          "text": [
            "\n"
          ],
          "name": "stdout"
        },
        {
          "output_type": "display_data",
          "data": {
            "application/vnd.jupyter.widget-view+json": {
              "model_id": "444c12386e2a4d63a269f90973d1673e",
              "version_minor": 0,
              "version_major": 2
            },
            "text/plain": [
              "HBox(children=(FloatProgress(value=0.0, max=62.0), HTML(value='')))"
            ]
          },
          "metadata": {
            "tags": []
          }
        },
        {
          "output_type": "stream",
          "text": [
            "\n"
          ],
          "name": "stdout"
        },
        {
          "output_type": "execute_result",
          "data": {
            "text/plain": [
              "(4593, 146, 272)"
            ]
          },
          "metadata": {
            "tags": []
          },
          "execution_count": 7
        }
      ]
    },
    {
      "cell_type": "markdown",
      "metadata": {
        "id": "cOKophp1lz0A"
      },
      "source": [
        "We'll also remove pairs where the size of the code is smaller than the comment. This is because I found that in these cases the comments contain a bunch of extra information that the model won't have access to such as how the method is being used by other methods in the software system."
      ]
    },
    {
      "cell_type": "code",
      "metadata": {
        "id": "unNAIssVonyQ",
        "colab": {
          "base_uri": "https://localhost:8080/"
        },
        "outputId": "1e4a66d6-0350-48af-8e07-541e0b0e8b6d"
      },
      "source": [
        "# collapse\n",
        "df_trn = df_trn[df_trn.apply(lambda row: len(row.mthd) > len(row.cmt), axis = 1)]\n",
        "df_val = df_val[df_val.apply(lambda row: len(row.mthd) > len(row.cmt), axis = 1)]\n",
        "df_tst = df_tst[df_tst.apply(lambda row: len(row.mthd) > len(row.cmt), axis = 1)]\n",
        "\n",
        "len(df_trn), len(df_val), len(df_tst)"
      ],
      "execution_count": null,
      "outputs": [
        {
          "output_type": "execute_result",
          "data": {
            "text/plain": [
              "(3695, 114, 226)"
            ]
          },
          "metadata": {
            "tags": []
          },
          "execution_count": 8
        }
      ]
    },
    {
      "cell_type": "markdown",
      "metadata": {
        "id": "Qi6PmXWTmciN"
      },
      "source": [
        "Next, we'll remove any examples that have the special \\<code> tag since these also tend to contain extra information that the model doesn't have a good hope of generating."
      ]
    },
    {
      "cell_type": "code",
      "metadata": {
        "id": "31b4w_4poRLJ",
        "colab": {
          "base_uri": "https://localhost:8080/"
        },
        "outputId": "959bd6ad-6320-46fa-dbc2-bf8166aed24f"
      },
      "source": [
        "# collapse\n",
        "def has_code(cmt: str) -> bool:\n",
        "    '''\n",
        "    Determinine if the given comment contains the HTML <code> tag\n",
        "\n",
        "    :param cmt: the comment to check whether it contains the HTML <code> tag\n",
        "    :returns: whether or not the given comment contains the HTML <code> tag\n",
        "    '''\n",
        "    if '<code>' in cmt: return True\n",
        "    else: return False\n",
        "\n",
        "df_trn = df_trn[~df_trn['cmt'].apply(lambda x: has_code(x))]\n",
        "df_val = df_val[~df_val['cmt'].apply(lambda x: has_code(x))]\n",
        "df_tst = df_tst[~df_tst['cmt'].apply(lambda x: has_code(x))]\n",
        "\n",
        "len(df_trn), len(df_val), len(df_tst)"
      ],
      "execution_count": null,
      "outputs": [
        {
          "output_type": "execute_result",
          "data": {
            "text/plain": [
              "(3544, 103, 214)"
            ]
          },
          "metadata": {
            "tags": []
          },
          "execution_count": 9
        }
      ]
    },
    {
      "cell_type": "markdown",
      "metadata": {
        "id": "e73jhAUVmwrH"
      },
      "source": [
        "Lastly, we're gonna remove the JavaDoc parts of the comments other than the description since that is really all we care about. The other pieces of information can usually be autogenerated or may require external knowledge to document them."
      ]
    },
    {
      "cell_type": "code",
      "metadata": {
        "id": "XD8653zm7khU",
        "colab": {
          "base_uri": "https://localhost:8080/",
          "height": 163,
          "referenced_widgets": [
            "6e8a4b66e8764dfd9246eb5363cb313c",
            "5aa7fae424ad49bd9def9153666028ce",
            "27204df4dbc149ca81a97a98ca6250e5",
            "02be66b10fa74ec2bb8b94a40cd68f95",
            "4a6c04680001487996302a3c1ef65846",
            "615919e839254f01ac9926b49ba8af6e",
            "0f5eab767596446fba5f9534439a944b",
            "c9aef6638bc34b05b6b51a4a424153e7",
            "911c8bab717d4771ab996f4c55430198",
            "65d1e63571e14a4f8178cad7293842b3",
            "9be5b4fe93474b4480740f38f18e33a3",
            "17ef479284374efd93a8513b645cd519",
            "24bd0883fc97484c8dbef476b8453fea",
            "d7036120c4404c669e6bce76131e8e51",
            "d765d85739e3461db4650edb81b8a152",
            "ee84a2d898b94873ae7e1e8176256001",
            "cab5638ad2334f78b11d17121aaf3574",
            "daaf75f8a8764c9e861d8a343cd0e1b6",
            "5377646d66e444ceb7f46b0d1bd4dedd",
            "126b6ceaca2a4314861921a76c4ebece",
            "6abe1a06eb614dd582f980552e9333ed",
            "a70c19e473254c2eadee568d8bfd550f",
            "e352f902b9a44b46a6b5995188bbdb4e",
            "2090f8b093774228be3f7d5b82dbf026"
          ]
        },
        "outputId": "7e68d8d9-644e-4b31-c26b-2198cbe2f25b"
      },
      "source": [
        "# collapse\n",
        "def remove_jdocs(df: pd.DataFrame) -> pd.DataFrame:\n",
        "    '''\n",
        "    Remove the JavaDocs leaving only the description of the comment\n",
        "\n",
        "    :param df: the pandas dataframe to remove the JavaDocs from\n",
        "    :returns: a new pandas dataframe with the JavaDocs removed\n",
        "    '''\n",
        "    methods = []\n",
        "    comments = []\n",
        "    for i, row in tqdm(list(df.iterrows())):\n",
        "        comment = row[\"cmt\"]\n",
        "        # Remove {} text in comments from https://stackoverflow.com/questions/14596884/remove-text-between-and-in-python/14598135\n",
        "        comment = re.sub(\"([\\{\\[]).*?([\\)\\}])\", '', comment)\n",
        "        \n",
        "        \n",
        "        cleaned = []\n",
        "        for line in comment.split('\\n'):\n",
        "            if \"@\" in line: break\n",
        "            cleaned.append(line)\n",
        "        comments.append('\\n'.join(cleaned))\n",
        "        methods.append(row[\"mthd\"])\n",
        "    new_df = pd.DataFrame(zip(methods, comments), columns = [\"mthd\", \"cmt\"])\n",
        "\n",
        "    return new_df\n",
        "\n",
        "df_trn = remove_jdocs(df_trn);\n",
        "df_val = remove_jdocs(df_val);\n",
        "df_tst = remove_jdocs(df_tst);"
      ],
      "execution_count": null,
      "outputs": [
        {
          "output_type": "display_data",
          "data": {
            "application/vnd.jupyter.widget-view+json": {
              "model_id": "6e8a4b66e8764dfd9246eb5363cb313c",
              "version_minor": 0,
              "version_major": 2
            },
            "text/plain": [
              "HBox(children=(FloatProgress(value=0.0, max=3544.0), HTML(value='')))"
            ]
          },
          "metadata": {
            "tags": []
          }
        },
        {
          "output_type": "stream",
          "text": [
            "\n"
          ],
          "name": "stdout"
        },
        {
          "output_type": "display_data",
          "data": {
            "application/vnd.jupyter.widget-view+json": {
              "model_id": "911c8bab717d4771ab996f4c55430198",
              "version_minor": 0,
              "version_major": 2
            },
            "text/plain": [
              "HBox(children=(FloatProgress(value=0.0, max=103.0), HTML(value='')))"
            ]
          },
          "metadata": {
            "tags": []
          }
        },
        {
          "output_type": "stream",
          "text": [
            "\n"
          ],
          "name": "stdout"
        },
        {
          "output_type": "display_data",
          "data": {
            "application/vnd.jupyter.widget-view+json": {
              "model_id": "cab5638ad2334f78b11d17121aaf3574",
              "version_minor": 0,
              "version_major": 2
            },
            "text/plain": [
              "HBox(children=(FloatProgress(value=0.0, max=214.0), HTML(value='')))"
            ]
          },
          "metadata": {
            "tags": []
          }
        },
        {
          "output_type": "stream",
          "text": [
            "\n"
          ],
          "name": "stdout"
        }
      ]
    },
    {
      "cell_type": "markdown",
      "metadata": {
        "id": "VLozIEE7ndJF"
      },
      "source": [
        "Almost there! In this step, we'll remove any HTML tags from the comments so the model doesn't have to also learn HTML. Bless those that do..."
      ]
    },
    {
      "cell_type": "code",
      "metadata": {
        "id": "rbNd6U1_zQuv"
      },
      "source": [
        "# collapse\n",
        "def clean_html(cmt: str) -> str:\n",
        "    '''\n",
        "    Remove any HTML tags from a given comment\n",
        "\n",
        "    :param cmt: the comment to remove any HTML tags from\n",
        "    :returns: the comment with any HTML tags removed\n",
        "    '''\n",
        "    result = re.sub(r\"<.?span[^>]*>|<.?code[^>]*>|<.?p[^>]*>|<.?hr[^>]*>|<.?h[1-3][^>]*>|<.?a[^>]*>|<.?b[^>]*>|<.?blockquote[^>]*>|<.?del[^>]*>|<.?dd[^>]*>|<.?dl[^>]*>|<.?dt[^>]*>|<.?em[^>]*>|<.?i[^>]*>|<.?img[^>]*>|<.?kbd[^>]*>|<.?li[^>]*>|<.?ol[^>]*>|<.?pre[^>]*>|<.?s[^>]*>|<.?sup[^>]*>|<.?sub[^>]*>|<.?strong[^>]*>|<.?strike[^>]*>|<.?ul[^>]*>|<.?br[^>]*>\", \"\", cmt)\n",
        "    return result\n",
        "\n",
        "df_trn.cmt = df_trn.cmt.apply(clean_html)\n",
        "df_val.cmt = df_val.cmt.apply(clean_html)\n",
        "df_tst.cmt = df_tst.cmt.apply(clean_html)"
      ],
      "execution_count": null,
      "outputs": []
    },
    {
      "cell_type": "markdown",
      "metadata": {
        "id": "7kv9WfBLnpx7"
      },
      "source": [
        "FINALLY!! We'll make everything lower case, remove extra whitespace, remove empty comments, and remove duplicates."
      ]
    },
    {
      "cell_type": "code",
      "metadata": {
        "id": "CLtaH4kZ7yqE",
        "colab": {
          "base_uri": "https://localhost:8080/"
        },
        "outputId": "1646e89d-787c-44d3-9ceb-f972dca0b261"
      },
      "source": [
        "# collapse\n",
        "df_trn = df_trn.applymap(lambda x: ' '.join(x.split()).lower())\n",
        "df_val = df_val.applymap(lambda x: ' '.join(x.split()).lower())\n",
        "df_tst = df_tst.applymap(lambda x: ' '.join(x.split()).lower())\n",
        "\n",
        "df_trn = df_trn[~(df_trn['cmt'] == '')]\n",
        "df_val = df_val[~(df_val['cmt'] == '')]\n",
        "df_tst = df_tst[~(df_tst['cmt'] == '')]\n",
        "\n",
        "df_trn = df_trn[~df_trn['cmt'].duplicated()]\n",
        "df_val = df_val[~df_val['cmt'].duplicated()]\n",
        "df_tst = df_tst[~df_tst['cmt'].duplicated()]\n",
        "\n",
        "len(df_trn), len(df_val), len(df_tst)"
      ],
      "execution_count": null,
      "outputs": [
        {
          "output_type": "execute_result",
          "data": {
            "text/plain": [
              "(3044, 93, 195)"
            ]
          },
          "metadata": {
            "tags": []
          },
          "execution_count": 12
        }
      ]
    },
    {
      "cell_type": "markdown",
      "metadata": {
        "id": "V8iFdSL8n2MQ"
      },
      "source": [
        "Now let's see what the data looks like."
      ]
    },
    {
      "cell_type": "code",
      "metadata": {
        "id": "6aDzQTaf7zdS",
        "colab": {
          "base_uri": "https://localhost:8080/",
          "height": 195
        },
        "outputId": "4ef738f4-301f-46ff-de1c-2f93a548338d"
      },
      "source": [
        "df_trn.head()"
      ],
      "execution_count": null,
      "outputs": [
        {
          "output_type": "execute_result",
          "data": {
            "text/html": [
              "<div>\n",
              "<style scoped>\n",
              "    .dataframe tbody tr th:only-of-type {\n",
              "        vertical-align: middle;\n",
              "    }\n",
              "\n",
              "    .dataframe tbody tr th {\n",
              "        vertical-align: top;\n",
              "    }\n",
              "\n",
              "    .dataframe thead th {\n",
              "        text-align: right;\n",
              "    }\n",
              "</style>\n",
              "<table border=\"1\" class=\"dataframe\">\n",
              "  <thead>\n",
              "    <tr style=\"text-align: right;\">\n",
              "      <th></th>\n",
              "      <th>mthd</th>\n",
              "      <th>cmt</th>\n",
              "    </tr>\n",
              "  </thead>\n",
              "  <tbody>\n",
              "    <tr>\n",
              "      <th>0</th>\n",
              "      <td>public static string reducesurttoassignmentlev...</td>\n",
              "      <td>truncate surt to its topmost assigned domain s...</td>\n",
              "    </tr>\n",
              "    <tr>\n",
              "      <th>1</th>\n",
              "      <td>public void not() { if( periods == null ) { if...</td>\n",
              "      <td>not operator</td>\n",
              "    </tr>\n",
              "    <tr>\n",
              "      <th>2</th>\n",
              "      <td>public final void ruleterminaltokenelement() t...</td>\n",
              "      <td>internalxtext.g:1204:1: ruleterminaltokeneleme...</td>\n",
              "    </tr>\n",
              "    <tr>\n",
              "      <th>3</th>\n",
              "      <td>public void placefusedring(iring ring, iatomco...</td>\n",
              "      <td>generated coordinates for a given ring, which ...</td>\n",
              "    </tr>\n",
              "    <tr>\n",
              "      <th>4</th>\n",
              "      <td>@override public signaturevisitor visitparamet...</td>\n",
              "      <td>method signatures</td>\n",
              "    </tr>\n",
              "  </tbody>\n",
              "</table>\n",
              "</div>"
            ],
            "text/plain": [
              "                                                mthd                                                cmt\n",
              "0  public static string reducesurttoassignmentlev...  truncate surt to its topmost assigned domain s...\n",
              "1  public void not() { if( periods == null ) { if...                                       not operator\n",
              "2  public final void ruleterminaltokenelement() t...  internalxtext.g:1204:1: ruleterminaltokeneleme...\n",
              "3  public void placefusedring(iring ring, iatomco...  generated coordinates for a given ring, which ...\n",
              "4  @override public signaturevisitor visitparamet...                                  method signatures"
            ]
          },
          "metadata": {
            "tags": []
          },
          "execution_count": 13
        }
      ]
    },
    {
      "cell_type": "markdown",
      "metadata": {
        "id": "kdpYqEe9oRFh"
      },
      "source": [
        "## Data Exploring\n",
        "\n",
        "As good Data Scientists, we will also explore our data to uncover any secrets. Data can be sneaky like that :)."
      ]
    },
    {
      "cell_type": "code",
      "metadata": {
        "id": "1PDa2cFh3PWB",
        "colab": {
          "base_uri": "https://localhost:8080/",
          "height": 261,
          "referenced_widgets": [
            "183dd370514049b4a4c1c387ecffca0d",
            "f0007c1a8db24fa09146c7f887d65a8d",
            "35e4a1c1893b4c65a7e913fd7b0c25c3",
            "2c0950a2d686446782b6d7bb210bbec9",
            "0789f6159e6f43ab8bd9f5e3a9f20acb",
            "0ff294ad215348eca4b1f80e0e41fbc0",
            "b6d3289edf29417a814688c35d829ba1",
            "dee95bfa82524e0392189c88571228d8",
            "46590b1de6664e36a029bb17b1b8b73d",
            "cb6e21d67d4a4fdfa518a9391034e406",
            "f1423edf5bdf42baa5069197e0d9a9d7",
            "61d19785208d4d759505f07cc6d152c1",
            "0f6737a4c22a4c02a285ede85bee2696",
            "b847783b4cab422aad6fcd17048799cf",
            "922f79fbc7a844ffb2694145072e386f",
            "b17fb6eb5e05423dbe25fac6207fd502",
            "9d88309440e446e69d0cd9ae9d54b25b",
            "c851cca842794bb4b3123f4323ddc362",
            "d5d5cb608efe4a479a0d5bab79d19bbe",
            "562ae08791644807a542d72b29dd3b9d",
            "4f9ec405791e41b5a5853d84bc2c4559",
            "bd8e967bac3c4488b60b4edcd211ed0e",
            "6aa6b47ba3c54b8fa4bb683cff32472c",
            "c1d42558d20744cdb4427014e71c21b9",
            "6cff540d941b4f44836cc785a9673f34",
            "4a35a18a2b1545e2be3a376168b18b7a",
            "ff6983f9b37a48f8b072a9000d6bd9d2",
            "e4d564a68c62434bb7d522e81cf105cb",
            "9f4242787e94425f9123b25bd19d29bb",
            "e015ddf3a5e14858affdba68765c09c2",
            "56aa74932d5d498b9422178c3191e705",
            "d76ca9e6813c4a3aa0248a68c36c1113",
            "6cc7d0bf9a4345ce8e5121d6d4a73c09",
            "7cc378137a4e4751a802b76b0a232a67",
            "e3a4b402a3bd4397b4b9d85186ef2638",
            "1f9fcd147bc24709a551148390f4e6b7",
            "aa6bfa9b183a409abcb83cee22c051a8",
            "a85268efcdaf4f1b984777bd572ba9d4",
            "311f8ae2e0f04c21901835f312b1fb46",
            "b0f34570cb50462a870178bffc7e14be"
          ]
        },
        "outputId": "a68e4ac8-9fe8-4f88-9b9b-5e1bb1cd634c"
      },
      "source": [
        "# collapse\n",
        "import numpy as np\n",
        "\n",
        "from collections import Counter\n",
        "from statistics import mean, median, stdev\n",
        "from transformers import AutoTokenizer\n",
        "\n",
        "def get_counter(df: pd.DataFrame, tokenizer: AutoTokenizer, col: str) -> Counter:\n",
        "    '''\n",
        "    Get the counts for each token in a given pandas dataframe column\n",
        "\n",
        "    :param df: the pandas dataframe to get the counts of tokens from\n",
        "    :param tokenizer: the tokenizer to use for tokenizing the rows in the pandas\n",
        "    dataframe\n",
        "    :param col: the column to grab rows from when tokenizing\n",
        "    :returns: the counts of each token in the given pandas dataframe\n",
        "    column\n",
        "    '''\n",
        "    toks = []\n",
        "    for i, row in df.iterrows():\n",
        "        toks.extend(tokenizer.tokenize(row[col]))\n",
        "            \n",
        "    cnt = Counter()\n",
        "    for tok in toks:\n",
        "        cnt[tok] += 1  \n",
        "    return cnt\n",
        "\n",
        "tokenizer = AutoTokenizer.from_pretrained('microsoft/codebert-base')\n",
        "mthd_cnt = get_counter(df_trn, tokenizer, 'mthd')\n",
        "cmt_cnt = get_counter(df_trn, tokenizer, 'cmt')\n",
        "mthd_lens = df_trn.mthd.apply(lambda x: len(tokenizer.tokenize(x))).values\n",
        "cmt_lens = df_trn.cmt.apply(lambda x: len(tokenizer.tokenize(x))).values\n",
        "max_mthd_len = int(np.quantile(mthd_lens, 0.95))\n",
        "max_cmt_len = int(np.quantile(cmt_lens, 0.95))"
      ],
      "execution_count": null,
      "outputs": [
        {
          "output_type": "display_data",
          "data": {
            "application/vnd.jupyter.widget-view+json": {
              "model_id": "183dd370514049b4a4c1c387ecffca0d",
              "version_minor": 0,
              "version_major": 2
            },
            "text/plain": [
              "HBox(children=(FloatProgress(value=0.0, description='Downloading', max=498.0, style=ProgressStyle(description_…"
            ]
          },
          "metadata": {
            "tags": []
          }
        },
        {
          "output_type": "stream",
          "text": [
            "\n"
          ],
          "name": "stdout"
        },
        {
          "output_type": "display_data",
          "data": {
            "application/vnd.jupyter.widget-view+json": {
              "model_id": "46590b1de6664e36a029bb17b1b8b73d",
              "version_minor": 0,
              "version_major": 2
            },
            "text/plain": [
              "HBox(children=(FloatProgress(value=0.0, description='Downloading', max=898822.0, style=ProgressStyle(descripti…"
            ]
          },
          "metadata": {
            "tags": []
          }
        },
        {
          "output_type": "stream",
          "text": [
            "\n"
          ],
          "name": "stdout"
        },
        {
          "output_type": "display_data",
          "data": {
            "application/vnd.jupyter.widget-view+json": {
              "model_id": "9d88309440e446e69d0cd9ae9d54b25b",
              "version_minor": 0,
              "version_major": 2
            },
            "text/plain": [
              "HBox(children=(FloatProgress(value=0.0, description='Downloading', max=456318.0, style=ProgressStyle(descripti…"
            ]
          },
          "metadata": {
            "tags": []
          }
        },
        {
          "output_type": "stream",
          "text": [
            "\n"
          ],
          "name": "stdout"
        },
        {
          "output_type": "display_data",
          "data": {
            "application/vnd.jupyter.widget-view+json": {
              "model_id": "6cff540d941b4f44836cc785a9673f34",
              "version_minor": 0,
              "version_major": 2
            },
            "text/plain": [
              "HBox(children=(FloatProgress(value=0.0, description='Downloading', max=150.0, style=ProgressStyle(description_…"
            ]
          },
          "metadata": {
            "tags": []
          }
        },
        {
          "output_type": "stream",
          "text": [
            "\n"
          ],
          "name": "stdout"
        },
        {
          "output_type": "display_data",
          "data": {
            "application/vnd.jupyter.widget-view+json": {
              "model_id": "6cc7d0bf9a4345ce8e5121d6d4a73c09",
              "version_minor": 0,
              "version_major": 2
            },
            "text/plain": [
              "HBox(children=(FloatProgress(value=0.0, description='Downloading', max=25.0, style=ProgressStyle(description_w…"
            ]
          },
          "metadata": {
            "tags": []
          }
        },
        {
          "output_type": "stream",
          "text": [
            "\n"
          ],
          "name": "stdout"
        }
      ]
    },
    {
      "cell_type": "code",
      "metadata": {
        "id": "lNa85bDI6ykG"
      },
      "source": [
        "# collapse\n",
        "import matplotlib.pyplot as plt\n",
        "\n",
        "def plot_counts(counts:Counter, top_k: Optional[int] = 30):\n",
        "    '''\n",
        "    Plot a bar chart of the most common tokens\n",
        "\n",
        "    :param counts: the counts of each token\n",
        "    :param top_k: the number of tokens to display in the plot\n",
        "    '''\n",
        "    labels, values = zip(*counts.most_common()[:top_k])\n",
        "\n",
        "    indexes = np.arange(len(labels))\n",
        "    width = 1\n",
        "    plt.figure(num=None, figsize=(22, 4), dpi=60, facecolor='w', edgecolor='k')\n",
        "    plt.bar(indexes, values, width)\n",
        "    plt.xticks(indexes + width * 0.5, labels)\n",
        "    plt.show()"
      ],
      "execution_count": null,
      "outputs": []
    },
    {
      "cell_type": "markdown",
      "metadata": {
        "id": "Dh2SvpxkoeGF"
      },
      "source": [
        "Let's look at the most common tokens in our methods and comments."
      ]
    },
    {
      "cell_type": "code",
      "metadata": {
        "id": "Q423l0X96-QW",
        "colab": {
          "base_uri": "https://localhost:8080/",
          "height": 434
        },
        "outputId": "279bcbf1-ea86-409f-c1fb-697a7fd44d87"
      },
      "source": [
        "plot_counts(mthd_cnt, top_k = 30)\n",
        "plot_counts(cmt_cnt, top_k = 30)"
      ],
      "execution_count": null,
      "outputs": [
        {
          "output_type": "display_data",
          "data": {
            "image/png": "[encoded data removed]",
            "text/plain": [
              "<Figure size 1320x240 with 1 Axes>"
            ]
          },
          "metadata": {
            "tags": []
          }
        },
        {
          "output_type": "display_data",
          "data": {
            "image/png": "[encoded data removed]",
            "text/plain": [
              "<Figure size 1320x240 with 1 Axes>"
            ]
          },
          "metadata": {
            "tags": []
          }
        }
      ]
    },
    {
      "cell_type": "code",
      "metadata": {
        "id": "iyQ9rprv5mba"
      },
      "source": [
        "# collapse\n",
        "def plot_hist(lens: List[int], n_bins: Optional[int] = 50):\n",
        "    '''\n",
        "    Plot a histogram of the given number of tokens in a column \n",
        "\n",
        "    :param lens: the number of tokens in a column\n",
        "    :param n_bins: the number of bins to sort the number of tokens into\n",
        "    '''\n",
        "    n, bins, patches = plt.hist(lens, n_bins, facecolor='blue', alpha=0.9)\n",
        "    plt.show()"
      ],
      "execution_count": null,
      "outputs": []
    },
    {
      "cell_type": "markdown",
      "metadata": {
        "id": "BaNPF2liokEl"
      },
      "source": [
        "Now, let's look at the distribution of method and comment lengths."
      ]
    },
    {
      "cell_type": "code",
      "metadata": {
        "id": "EkrR4xAq7mu3",
        "colab": {
          "base_uri": "https://localhost:8080/",
          "height": 546
        },
        "outputId": "3f3466e2-758e-4bfb-989a-7978d6b0c0c4"
      },
      "source": [
        "print(mean(mthd_lens), median(mthd_lens), stdev(mthd_lens))\n",
        "plot_hist(mthd_lens)\n",
        "print(mean(cmt_lens), median(cmt_lens), stdev(cmt_lens))\n",
        "plot_hist(cmt_lens)"
      ],
      "execution_count": null,
      "outputs": [
        {
          "output_type": "stream",
          "text": [
            "184 104.0 325.0169226363452\n"
          ],
          "name": "stdout"
        },
        {
          "output_type": "display_data",
          "data": {
            "image/png": "[encoded data removed]",
            "text/plain": [
              "<Figure size 432x288 with 1 Axes>"
            ]
          },
          "metadata": {
            "tags": [],
            "needs_background": "light"
          }
        },
        {
          "output_type": "stream",
          "text": [
            "17 12.0 19.078784028338912\n"
          ],
          "name": "stdout"
        },
        {
          "output_type": "display_data",
          "data": {
            "image/png": "[encoded data removed]",
            "text/plain": [
              "<Figure size 432x288 with 1 Axes>"
            ]
          },
          "metadata": {
            "tags": [],
            "needs_background": "light"
          }
        }
      ]
    },
    {
      "cell_type": "markdown",
      "metadata": {
        "id": "fic4R6CgopnK"
      },
      "source": [
        "Using this new information on the length distribution, we can remove outliers by filter by lengths of methods that fall outside of 95th percentile (chosen for completely arbitrary reasons)!"
      ]
    },
    {
      "cell_type": "code",
      "metadata": {
        "id": "ZjM35bsYGhxB",
        "colab": {
          "base_uri": "https://localhost:8080/"
        },
        "outputId": "1a7388df-3e73-434c-abf5-09abb2463000"
      },
      "source": [
        "# collapse\n",
        "def filter_len(\n",
        "    row: pd.Series, tokenizer: AutoTokenizer, mthd_len: int, cmt_len: int\n",
        "    ) -> bool:\n",
        "    '''\n",
        "    Determine if a given panda dataframe row has a method or comment that has\n",
        "    more tokens than max length\n",
        "\n",
        "    :param row: the row to check if it has a method or comment that is too long\n",
        "    :param tokenizer: the tokenizer to tokenize a method or comment\n",
        "    :param mthd_len: the max number of tokens a method can have\n",
        "    :param cmt_len: the max number of tokens a comment can have\n",
        "    :returns: whether or not the given row have a method or comment that have\n",
        "    more tokens than a max length\n",
        "    '''\n",
        "    return len(tokenizer.tokenize(row.mthd)) < mthd_len and len(tokenizer.tokenize(row.cmt)) < cmt_len\n",
        "\n",
        "df_trn = df_trn[df_trn.apply(\n",
        "    lambda row: filter_len(\n",
        "        row, tokenizer, max_mthd_len,\n",
        "        max_cmt_len\n",
        "    ), axis = 1\n",
        ")]\n",
        "df_val = df_val[df_val.apply(\n",
        "    lambda row: filter_len(\n",
        "        row, tokenizer, max_mthd_len,\n",
        "        max_cmt_len\n",
        "    ), axis = 1\n",
        ")]\n",
        "df_tst = df_tst[df_tst.apply(\n",
        "    lambda row: filter_len(\n",
        "        row, tokenizer, max_mthd_len,\n",
        "        max_cmt_len\n",
        "    ), axis = 1\n",
        ")]\n",
        "\n",
        "len(df_trn), len(df_val), len(df_tst)"
      ],
      "execution_count": null,
      "outputs": [
        {
          "output_type": "execute_result",
          "data": {
            "text/plain": [
              "(2770, 89, 178)"
            ]
          },
          "metadata": {
            "tags": []
          },
          "execution_count": 19
        }
      ]
    },
    {
      "cell_type": "code",
      "metadata": {
        "id": "sAf8tWeQoMZ1",
        "colab": {
          "base_uri": "https://localhost:8080/"
        },
        "outputId": "de103ac6-89c5-47c2-966c-bc2ed6332093"
      },
      "source": [
        "max_mthd_len, max_cmt_len"
      ],
      "execution_count": null,
      "outputs": [
        {
          "output_type": "execute_result",
          "data": {
            "text/plain": [
              "(568, 49)"
            ]
          },
          "metadata": {
            "tags": []
          },
          "execution_count": 20
        }
      ]
    },
    {
      "cell_type": "markdown",
      "metadata": {
        "id": "y-tO34cBo6zW"
      },
      "source": [
        "We could do a lot more exploring of our data as the above exploration was the bare minimum. As an exercise, I suggest for you to explore the data on your own using whatever means necessary!"
      ]
    },
    {
      "cell_type": "markdown",
      "metadata": {
        "id": "QUU6Z2NhpJ8Z"
      },
      "source": [
        "# Training\n",
        "\n",
        "Now that we have our data processed and in a format we like, let's go ahead and start training! To accomplish this we will be using code from the awesome [CodeXGLUE](https://github.com/microsoft/CodeXGLUE) repository. This repository is similar to the NLP equivalent GLUE benchmarks where a ton of awesome code related benchmarks are standardized and put into one place for the community to use! They have a ton of interesting ones and I highly suggest looking through their repo if you are interested in other code related tasks."
      ]
    },
    {
      "cell_type": "code",
      "metadata": {
        "id": "vkF20u0gJW5s",
        "colab": {
          "base_uri": "https://localhost:8080/"
        },
        "outputId": "7ea83e42-cc83-4534-b736-c72d71252108"
      },
      "source": [
        "cd ./CodeXGLUE/Code-Text/code-to-text/code"
      ],
      "execution_count": null,
      "outputs": [
        {
          "output_type": "stream",
          "text": [
            "/content/CodeXGLUE/Code-Text/code-to-text/code\n"
          ],
          "name": "stdout"
        }
      ]
    },
    {
      "cell_type": "code",
      "metadata": {
        "id": "2iGgeiXHJmka"
      },
      "source": [
        "# hide\n",
        "! mkdir java"
      ],
      "execution_count": null,
      "outputs": []
    },
    {
      "cell_type": "markdown",
      "metadata": {
        "id": "1wavqOsnyqYW"
      },
      "source": [
        "Okay, I lied, sorry :(. One last processing step is required of our data, which is to just output the data into the structure that the awesome CodeXGLUE Code-Text benchmark expects."
      ]
    },
    {
      "cell_type": "code",
      "metadata": {
        "id": "zAuMnMVRw1u4"
      },
      "source": [
        "# collapse\n",
        "import json\n",
        "\n",
        "df_trn['code_tokens'] = df_trn.mthd.apply(lambda x: x.split())\n",
        "df_trn['docstring_tokens'] = df_trn.cmt.apply(lambda x: x.split())\n",
        "with open('java/train.jsonl','w') as f:\n",
        "    for _, row in df_trn.iterrows():\n",
        "        f.write(json.dumps(row.to_dict()) + '\\n')\n",
        "\n",
        "df_val['code_tokens'] = df_val.mthd.apply(lambda x: x.split())\n",
        "df_val['docstring_tokens'] = df_val.cmt.apply(lambda x: x.split())\n",
        "with open('java/valid.jsonl','w') as f:\n",
        "    for _, row in df_val.iterrows():\n",
        "        f.write(json.dumps(row.to_dict()) + '\\n')\n",
        "\n",
        "df_tst['code_tokens'] = df_tst.mthd.apply(lambda x: x.split())\n",
        "df_tst['docstring_tokens'] = df_tst.cmt.apply(lambda x: x.split())\n",
        "with open('java/test.jsonl','w') as f:\n",
        "    for _, row in df_tst.iterrows():\n",
        "        f.write(json.dumps(row.to_dict()) + '\\n')"
      ],
      "execution_count": null,
      "outputs": []
    },
    {
      "cell_type": "code",
      "metadata": {
        "id": "iIU9oH7AzxbH"
      },
      "source": [
        "lang = 'java' # programming language\n",
        "lr = 5e-5\n",
        "batch_size = 8 # change depending on the GPU Colab gives you\n",
        "beam_size = 10\n",
        "source_length = 256\n",
        "target_length = max_cmt_len\n",
        "data_dir = '.'\n",
        "output_dir = f'model/{lang}'\n",
        "train_file = f'{data_dir}/{lang}/train.jsonl'\n",
        "dev_file = f'{data_dir}/{lang}/valid.jsonl'\n",
        "epochs = 10 \n",
        "pretrained_model = 'microsoft/codebert-base'\n",
        "\n",
        "! python run.py \\\n",
        "    --do_train \\\n",
        "    --do_eval \\\n",
        "    --do_lower_case \\\n",
        "    --model_type roberta \\\n",
        "    --model_name_or_path {pretrained_model} \\\n",
        "    --train_filename {train_file} \\\n",
        "    --dev_filename {dev_file} \\\n",
        "    --output_dir {output_dir} \\\n",
        "    --max_source_length {source_length} \\\n",
        "    --max_target_length {target_length} \\\n",
        "    --beam_size {beam_size} \\\n",
        "    --train_batch_size {batch_size} \\\n",
        "    --eval_batch_size {batch_size} \\\n",
        "    --learning_rate {lr} \\\n",
        "    --num_train_epochs {epochs}"
      ],
      "execution_count": null,
      "outputs": []
    },
    {
      "cell_type": "markdown",
      "metadata": {
        "id": "UnlL4Y8O0UJe"
      },
      "source": [
        "Yay! Our model has finished baking and we can now see how well it turned out by evaluating it!"
      ]
    },
    {
      "cell_type": "code",
      "metadata": {
        "id": "8H5SY3K10TRU"
      },
      "source": [
        "batch_size=64\n",
        "dev_file=f\"{data_dir}/{lang}/valid.jsonl\"\n",
        "test_file=f\"{data_dir}/{lang}/test.jsonl\"\n",
        "test_model=f\"{output_dir}/checkpoint-best-bleu/pytorch_model.bin\" #checkpoint for test\n",
        "\n",
        "! python run.py \\\n",
        "    --do_test \\\n",
        "    --model_type roberta \\\n",
        "    --model_name_or_path microsoft/codebert-base \\\n",
        "    --load_model_path {test_model} \\\n",
        "    --dev_filename {dev_file} \\\n",
        "    --test_filename {test_file} \\\n",
        "    --output_dir {output_dir} \\\n",
        "    --max_source_length {source_length} \\\n",
        "    --max_target_length {target_length} \\\n",
        "    --beam_size {beam_size} \\\n",
        "    --eval_batch_size {batch_size}"
      ],
      "execution_count": null,
      "outputs": []
    },
    {
      "cell_type": "markdown",
      "metadata": {
        "id": "74B2HOqAsAQv"
      },
      "source": [
        "Let's now load up our model and take it for a spin!"
      ]
    },
    {
      "cell_type": "code",
      "metadata": {
        "colab": {
          "base_uri": "https://localhost:8080/"
        },
        "id": "_flZaSvqyRn0",
        "outputId": "768628d1-2e42-4d99-c1a6-8ea3f0ab50ae"
      },
      "source": [
        "# collapse\n",
        "import torch\n",
        "\n",
        "import torch.nn as nn\n",
        "\n",
        "from model import Seq2Seq\n",
        "from transformers import RobertaConfig, RobertaModel\n",
        "\n",
        "config = RobertaConfig.from_pretrained(pretrained_model)\n",
        "encoder = RobertaModel.from_pretrained(pretrained_model, config = config)    \n",
        "decoder_layer = nn.TransformerDecoderLayer(d_model=config.hidden_size, nhead=config.num_attention_heads)\n",
        "decoder = nn.TransformerDecoder(decoder_layer, num_layers=6)\n",
        "model = Seq2Seq(encoder = encoder,decoder = decoder,config=config,\n",
        "                beam_size=beam_size,max_length=target_length,\n",
        "                sos_id=tokenizer.cls_token_id,eos_id=tokenizer.sep_token_id)\n",
        "model.load_state_dict(torch.load(Path(output_dir)/\"checkpoint-last/pytorch_model.bin\"))\n",
        "model.to('cuda')"
      ],
      "execution_count": null,
      "outputs": [
        {
          "output_type": "execute_result",
          "data": {
            "text/plain": [
              "<All keys matched successfully>"
            ]
          },
          "metadata": {
            "tags": []
          },
          "execution_count": 29
        }
      ]
    },
    {
      "cell_type": "code",
      "metadata": {
        "colab": {
          "base_uri": "https://localhost:8080/"
        },
        "id": "ll3FSNr37KJ8",
        "outputId": "e4881036-d579-4b4b-98ff-0005e17d7eaf"
      },
      "source": [
        "idx = 0\n",
        "TEXT_TO_SUMMARIZE = df_val.mthd.values[idx]\n",
        "print('Code:', TEXT_TO_SUMMARIZE)\n",
        "print('Original Comment:', df_val.cmt.values[idx])"
      ],
      "execution_count": null,
      "outputs": [
        {
          "output_type": "stream",
          "text": [
            "Code: @override public void oncomponenttag(final component _component, final componenttag _tag) { super.oncomponenttag(_component, _tag); _tag.put(\"data-dojo-type\", \"dijit/layout/bordercontainer\"); _tag.append(\"data-dojo-props\", \"design: '\" + this.design.key + \"'\", \",\"); _tag.append(\"class\", \"tundra efapsbordercontainer\", \" \"); }\n",
            "Original Comment: the tag of the related component must be set, so that a dojo bordercontainer will be rendered.\n"
          ],
          "name": "stdout"
        }
      ]
    },
    {
      "cell_type": "code",
      "metadata": {
        "id": "as4ypruA9WkD"
      },
      "source": [
        "# collapse\n",
        "from run import convert_examples_to_features, Example\n",
        "\n",
        "class Args:\n",
        "    max_source_length = source_length\n",
        "    max_target_length = target_length\n",
        "\n",
        "args = Args()\n",
        "\n",
        "def get_preds(df: pd.DataFrame):\n",
        "    ps = []\n",
        "    for idx, row in tqdm(df.iterrows(), total=len(df)):\n",
        "        examples = [\n",
        "            Example(idx, source = row.mthd, target = row.cmt)\n",
        "        ]\n",
        "        eval_features = convert_examples_to_features(\n",
        "            examples, tokenizer, args, stage='test'\n",
        "        )\n",
        "        source_ids = torch.tensor(eval_features[0].source_ids, dtype = torch.long).unsqueeze(0).to('cuda')\n",
        "        source_mask = torch.tensor(eval_features[0].source_mask, dtype = torch.long).unsqueeze(0).to('cuda')\n",
        "\n",
        "        with torch.no_grad():\n",
        "            preds = model(source_ids = source_ids, source_mask = source_mask)  \n",
        "            for pred in preds:\n",
        "                t = pred[0].cpu().numpy()\n",
        "                t = list(t)\n",
        "                if 0 in t:\n",
        "                    t = t[:t.index(0)]\n",
        "                text = tokenizer.decode(t,clean_up_tokenization_spaces=False)\n",
        "                ps.append(text)\n",
        "    \n",
        "    return ps"
      ],
      "execution_count": null,
      "outputs": []
    },
    {
      "cell_type": "code",
      "metadata": {
        "colab": {
          "base_uri": "https://localhost:8080/",
          "height": 35
        },
        "id": "AKK8rYya-VCc",
        "outputId": "a1704b2e-e414-47c6-9e92-d73e910acaff"
      },
      "source": [
        "preds = get_preds(df_val.head(10))\n",
        "for idx, row in df_val.head(10).iterrows():\n",
        "    print('Code:', row.mthd)\n",
        "    print('Original Comment:', row.cmt)\n",
        "    print('Generated Comment:', preds[idx])\n",
        "    print(row.loss)\n",
        "    print('='*40)"
      ],
      "execution_count": null,
      "outputs": [
        {
          "output_type": "execute_result",
          "data": {
            "application/vnd.google.colaboratory.intrinsic+json": {
              "type": "string"
            },
            "text/plain": [
              "'returns the given object.'"
            ]
          },
          "metadata": {
            "tags": []
          },
          "execution_count": 62
        }
      ]
    },
    {
      "cell_type": "markdown",
      "metadata": {
        "id": "DpJ_dJ5qbHEi"
      },
      "source": [
        "The model seems to be doing a good job, but if you play with it some more you'll realize it is mostly taking the name of the method and using that to guide the comment. This makes sense, but it probably isn't learning much more than this association, at least with this small model. Let's explore it a bit more by looking at all the examples in the validation set it is failing the most on."
      ]
    },
    {
      "cell_type": "code",
      "metadata": {
        "id": "9UZZmpkr-3OC"
      },
      "source": [
        "def get_preds_losses(df: pd.DataFrame):\n",
        "    ps = []\n",
        "    losses = []\n",
        "    for idx, row in tqdm(df.iterrows(), total=len(df)):\n",
        "        examples = [\n",
        "            Example(idx, source = row.mthd, target = row.cmt)\n",
        "        ]\n",
        "        eval_features = convert_examples_to_features(\n",
        "            examples, tokenizer, args, stage='test'\n",
        "        )\n",
        "        source_ids = torch.tensor([f.source_ids for f in eval_features], dtype = torch.long).to('cuda')\n",
        "        source_mask = torch.tensor([f.source_mask for f in eval_features], dtype = torch.long).to('cuda')\n",
        "        target_ids = torch.tensor([f.target_ids for f in eval_features], dtype = torch.long).to('cuda')\n",
        "        target_mask = torch.tensor([f.target_mask for f in eval_features], dtype = torch.long).to('cuda')\n",
        "\n",
        "        with torch.no_grad():\n",
        "            _, loss, _ = model(\n",
        "                source_ids = source_ids, source_mask = source_mask,\n",
        "                target_ids = target_ids, target_mask = target_mask\n",
        "            )\n",
        "            preds = model(source_ids = source_ids, source_mask = source_mask)  \n",
        "            for pred in preds:\n",
        "                t = pred[0].cpu().numpy()\n",
        "                t = list(t)\n",
        "                if 0 in t:\n",
        "                    t = t[:t.index(0)]\n",
        "                text = tokenizer.decode(t,clean_up_tokenization_spaces=False)\n",
        "                ps.append(text)\n",
        "                losses.append(loss.item())\n",
        "    \n",
        "    return ps, losses"
      ],
      "execution_count": null,
      "outputs": []
    },
    {
      "cell_type": "code",
      "metadata": {
        "colab": {
          "base_uri": "https://localhost:8080/",
          "height": 926,
          "referenced_widgets": [
            "31aa8283c4ec41ffaf735a18e7e07f9d",
            "b381a9bcbd1b49ae88cea0b80e4b57cf",
            "4c047cb266a149e4875ec3b55be2575c",
            "e5d40335a1e54d4a9fdebd9645df183e",
            "e07f3357840142b18a315578aa0a0d3c",
            "d32caf0695b240509949728eeb7f4bdc",
            "6a987ef5d8604374bc1457e2bfc113c1",
            "43fcd562296c46f88aec19977a9b26b5"
          ]
        },
        "id": "ZMMou3SeBlgv",
        "outputId": "e70a7966-6da6-4792-e38d-40339bc86cc6"
      },
      "source": [
        "df_head = df_val.copy()\n",
        "ps, losses = get_preds_losses(df_head)\n",
        "df_head['pred'] = ps\n",
        "df_head['loss'] = losses\n",
        "df_sorted_losses = df_head.sort_values('loss', ascending = False)\n",
        "\n",
        "for _, row in df_sorted_losses.head(10).iterrows():\n",
        "    print('Code:', row.mthd)\n",
        "    print('Original Comment:', row.cmt)\n",
        "    print('Generated Comment:', row.pred)\n",
        "    print(row.loss)\n",
        "    print('='*40)"
      ],
      "execution_count": null,
      "outputs": [
        {
          "output_type": "display_data",
          "data": {
            "application/vnd.jupyter.widget-view+json": {
              "model_id": "31aa8283c4ec41ffaf735a18e7e07f9d",
              "version_minor": 0,
              "version_major": 2
            },
            "text/plain": [
              "HBox(children=(FloatProgress(value=0.0, max=10.0), HTML(value='')))"
            ]
          },
          "metadata": {
            "tags": []
          }
        },
        {
          "output_type": "stream",
          "text": [
            "\n",
            "Code: protected browsercanvas renderurl(url url, dimension pagesize) throws ioexception, saxexception { documentsource src = new defaultdocumentsource(url); pageurl = src.geturl(); inputstream is = src.getinputstream(); string mime = src.getcontenttype(); if (mime == null) mime = \"text/html\"; int p = mime.indexof(';'); if (p != -1) mime = mime.substring(0, p).trim(); log.info(\"file type: \" + mime); if (mime.equals(\"application/pdf\")) { pddocument doc = loadpdf(is); browsercanvas canvas = new pdfbrowsercanvas(doc, null, pagesize, src.geturl()); doc.close(); pagetitle = \"\"; return canvas; } else { domsource parser = new defaultdomsource(src); document doc = parser.parse(); pagetitle = findpagetitle(doc); string encoding = parser.getcharset(); mediaspec media = new mediaspec(\"screen\"); //updatecurrentmedia(media); domanalyzer da = new domanalyzer(doc, src.geturl()); if (encoding == null) encoding = da.getcharacterencoding(); da.setdefaultencoding(encoding); da.setmediaspec(media); da.attributestostyles(); da.addstylesheet(null, cssnorm.stdstylesheet(), domanalyzer.origin.agent); da.addstylesheet(null, cssnorm.userstylesheet(), domanalyzer.origin.agent); da.addstylesheet(null, cssnorm.formsstylesheet(), domanalyzer.origin.agent); da.getstylesheets(); browsercanvas contentcanvas = new browsercanvas(da.getroot(), da, src.geturl()); contentcanvas.getconfig().setloadimages(false); contentcanvas.getconfig().setloadbackgroundimages(false); contentcanvas.getconfig().setloadfonts(false); contentcanvas.getconfig().setreplaceimageswithalt(replaceimageswithalt); contentcanvas.createlayout(pagesize); src.close(); return contentcanvas; } }\n",
            "Original Comment: ===================================================================\n",
            "Generated Comment: creates a new object.\n",
            "19.359130859375\n",
            "========================================\n",
            "Code: public void execute(string[] args, boolean debugenabled, boolean quiet) { try { this.debugenabled = debugenabled; debug(\"checkreplicationtool#execute(string[]): args = \" + arrays.aslist(args)); parsecommandlinearguments(args); system.out.println(\"connecting...\"); debug(\"checkreplicationtool#execute(string[]): creating checkreplicationtool.processortask with parameters: clustersproperties = \" + clustersproperties + \", timeout = \" + timeout + \", regionname = \" + regionname); processortask task = new processortask(clustersproperties, timeout, regionname, debugenabled, quiet); debug(\"checkreplicationtool#execute(string[]): starting checkreplicationtool.processortask\"); utils.execute(task, timeout + delta_timeout); int exitcode = task.getexitcode(); debug(\"checkreplicationtool#execute(string[]): checkreplicationtool.processortask finished with exitcode = \" + exitcode); if (exitcode == 0) { utils.exitwithsuccess(); } utils.exitwithfailure(); } catch (throwable t) { debug( \"checkreplicationtool#execute(string[]): throwable caught with message = \" + t.getmessage(), t); utils.exitwithfailure(\"unexpected throwable\", t); } }\n",
            "Original Comment: runs the tool. all the tools run in this way.\n",
            "Generated Comment: creates a new object.\n",
            "18.94735336303711\n",
            "========================================\n",
            "Code: public bsondocument asdocument() { bsondocument readconcern = new bsondocument(); if (level != null) { readconcern.put(\"level\", new bsonstring(level.getvalue())); } return readconcern; }\n",
            "Original Comment: gets this read concern as a document.\n",
            "Generated Comment: returns the given object.\n",
            "18.77771759033203\n",
            "========================================\n",
            "Code: public void reset() { if (getlistviewwrapper() == null) { throw new illegalstateexception(\"call setabslistview() on this animationadapter first!\"); } assert mviewanimator != null; mviewanimator.reset(); mgridviewpossiblymeasuring = true; mgridviewmeasuringposition = -1; if (getdecoratedbaseadapter() instanceof animationadapter) { ((animationadapter) getdecoratedbaseadapter()).reset(); } }\n",
            "Original Comment: call this method to reset animation status on all views. the next time } is called on the base adapter, all views will animate again.\n",
            "Generated Comment: returns the given object.\n",
            "18.72751235961914\n",
            "========================================\n",
            "Code: public <databaseobjecttype extends databaseobject> set<databaseobjecttype> get(class<databaseobjecttype> type) { return allfound.get(type); }\n",
            "Original Comment: returns all objects of the given type that are already included in this snapshot.\n",
            "Generated Comment: returns the object.\n",
            "18.644784927368164\n",
            "========================================\n",
            "Code: public mustacheenginebuilder addtemplatelocator(templatelocator locator) { checkargumentnotnull(locator); checknotbuilt(); this.templatelocators.add(locator); return this; }\n",
            "Original Comment: adds a template locator.\n",
            "Generated Comment: returns the list.\n",
            "18.576839447021484\n",
            "========================================\n",
            "Code: public string toquerystring(criteria criteria, criteriaquerybuilder querybuilder) { stringbuilder builder = new stringbuilder(); builder.append( querybuilder.createpositionalparameter() ); if( negate ) { builder.append(\" not\"); } builder.append( \" member of \" ); builder.append( querybuilder.getabsolutepath(criteria, relativepath) ); return builder.tostring(); }\n",
            "Original Comment: /*\n",
            "Generated Comment: returns the given object.\n",
            "18.488502502441406\n",
            "========================================\n",
            "Code: @override public void oncomponenttag(final component _component, final componenttag _tag) { super.oncomponenttag(_component, _tag); _tag.put(\"data-dojo-type\", \"dijit/layout/bordercontainer\"); _tag.append(\"data-dojo-props\", \"design: '\" + this.design.key + \"'\", \",\"); _tag.append(\"class\", \"tundra efapsbordercontainer\", \" \"); }\n",
            "Original Comment: the tag of the related component must be set, so that a dojo bordercontainer will be rendered.\n",
            "Generated Comment: returns the given object.\n",
            "18.482847213745117\n",
            "========================================\n",
            "Code: public indexrequest sphereversion(final integer sphereversion) { if (sphereversion != null) { istrueargument(\"sphereindexversion must be 1, 2 or 3\", valid_sphere_index_versions.contains(sphereversion)); } this.sphereversion = sphereversion; return this; }\n",
            "Original Comment: sets the 2dsphere index version number.\n",
            "Generated Comment: returns the given object.\n",
            "18.472774505615234\n",
            "========================================\n",
            "Code: public void update(final dbobject update) { bulkwriteoperation.addrequest(new updaterequest(query, update, true, upsert, querycodec, collation, arrayfilters)); }\n",
            "Original Comment: adds a request to update all documents in the collection that match the query with which this builder was created.\n",
            "Generated Comment: returns the value.\n",
            "17.62411880493164\n",
            "========================================\n"
          ],
          "name": "stdout"
        }
      ]
    },
    {
      "cell_type": "markdown",
      "metadata": {
        "id": "v5zyf5LjLMxf"
      },
      "source": [
        "# What's Next?\n",
        "\n",
        "If you'd like to see how you can integrate this code comment summarizer model into the popular VSCode IDE, check out my video that goes over just that!\n",
        "\n",
        "> youtube"
      ]
    }
  ]
}